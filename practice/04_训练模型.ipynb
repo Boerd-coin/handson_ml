{
 "cells": [
  {
   "cell_type": "code",
   "execution_count": 1,
   "id": "1b6c0219-c6b4-429a-84b0-4be3679711ff",
   "metadata": {},
   "outputs": [],
   "source": [
    "import sys\n",
    "import sklearn\n",
    "import numpy as np\n",
    "import os\n",
    "import matplotlib as mpl\n",
    "import matplotlib.pyplot as plt\n",
    "mpl.rc('axes', labelsize=14)\n",
    "mpl.rc('xtick', labelsize=12)\n",
    "mpl.rc('ytick', labelsize=12)\n",
    "mpl.rc('font', family = 'simhei')\n",
    "mpl.rc('axes', unicode_minus = False)\n",
    "%matplotlib inline\n",
    "\n",
    "# 项目文件保存目录\n",
    "PROJECT_ROOT_DIR = \".\"\n",
    "CHAPTER_ID = \"training_linear_models\"\n",
    "IMAGES_PATH = os.path.join(PROJECT_ROOT_DIR, \"images\", CHAPTER_ID)\n",
    "os.makedirs(IMAGES_PATH, exist_ok=True)\n",
    "\n",
    "def save_fig(fig, fig_id, tight_layout=True, fig_extension=\"png\", resolution=300):\n",
    "    path = os.path.join(IMAGES_PATH, fig_id + \".\" + fig_extension)\n",
    "    print(\"Saving figure\", fig_id)\n",
    "    fig.savefig(path, format=fig_extension, dpi=resolution)"
   ]
  },
  {
   "cell_type": "markdown",
   "id": "e0cf7c4b-5dfb-42be-9da8-274ed498972e",
   "metadata": {
    "jp-MarkdownHeadingCollapsed": true,
    "tags": []
   },
   "source": [
    "# 4.1 线性回归"
   ]
  },
  {
   "cell_type": "markdown",
   "id": "5fdf03bf-5f47-4670-9738-ac4c5c2a9575",
   "metadata": {
    "tags": []
   },
   "source": [
    "## 4.1.1. 标准方程"
   ]
  },
  {
   "cell_type": "raw",
   "id": "ef80cf2c-988e-4088-8279-de5344b0922a",
   "metadata": {},
   "source": [
    "对的，就是线性代数里那个算最小二乘的那个方程"
   ]
  },
  {
   "cell_type": "code",
   "execution_count": 2,
   "id": "ed3dbc97-226b-42b4-a02b-5c8740d10e61",
   "metadata": {},
   "outputs": [],
   "source": [
    "# 先简单试一下标准方程在拟合直线的表现\n",
    "import numpy as np\n",
    "\n",
    "X = 2 * np.random.rand(100, 1)\n",
    "# 不难看出，拟合出的两个直线的参数应该接近于4和3\n",
    "y = 4 + 3 * X + np.random.randn(100, 1)"
   ]
  },
  {
   "cell_type": "code",
   "execution_count": 3,
   "id": "c2c98492-0745-4bc0-b6fb-66d9201b82be",
   "metadata": {
    "tags": []
   },
   "outputs": [
    {
     "name": "stdout",
     "output_type": "stream",
     "text": [
      "Saving figure 411随机生成数据\n"
     ]
    },
    {
     "data": {
      "image/png": "[encoded data removed]",
      "text/plain": [
       "<Figure size 432x288 with 1 Axes>"
      ]
     },
     "metadata": {
      "needs_background": "light"
     },
     "output_type": "display_data"
    }
   ],
   "source": [
    "fig, ax = plt.subplots()\n",
    "\n",
    "ax.scatter(X, y, c = 'b', marker = '.')\n",
    "ax.set_xlabel(\"$x_1$\", fontsize=18)\n",
    "ax.set_ylabel(\"$y$\", rotation=0, fontsize=18)\n",
    "ax.axis([0, 2, 0, 15])\n",
    "save_fig(fig, '411随机生成数据')"
   ]
  },
  {
   "cell_type": "code",
   "execution_count": 4,
   "id": "56368e14-330c-41de-a333-8eb5affb557c",
   "metadata": {},
   "outputs": [],
   "source": [
    "# 开算，算之前别忘了在第一列添加一列1\n",
    "X_b = np.c_[np.ones((100, 1)), X]\n",
    "theta_best = np.linalg.inv(X_b.T.dot(X_b)).dot(X_b.T).dot(y)"
   ]
  },
  {
   "cell_type": "code",
   "execution_count": 5,
   "id": "066d243c-4afa-4b65-9083-b7ecf4223097",
   "metadata": {},
   "outputs": [
    {
     "data": {
      "text/plain": [
       "array([[3.72569091],\n",
       "       [2.99531465]])"
      ]
     },
     "execution_count": 5,
     "metadata": {},
     "output_type": "execute_result"
    }
   ],
   "source": [
    "# 可以看到，最优解虽然不是4和3，但是和真实值也相当接近了，毕竟有噪音嘛，不可能直接算出4和3的\n",
    "theta_best"
   ]
  },
  {
   "cell_type": "code",
   "execution_count": 6,
   "id": "fa2acf8c-c41e-41fb-86ed-50e5a41d1367",
   "metadata": {
    "tags": []
   },
   "outputs": [
    {
     "data": {
      "image/png": "[encoded data removed]",
      "text/plain": [
       "<Figure size 432x288 with 1 Axes>"
      ]
     },
     "metadata": {
      "needs_background": "light"
     },
     "output_type": "display_data"
    }
   ],
   "source": [
    "X_new = np.array([[0], [2]])\n",
    "X_new_b = np.c_[np.ones((2, 1)), X_new]  # add x0 = 1 to each instance\n",
    "y_predict = X_new_b.dot(theta_best)\n",
    "y_predict\n",
    "plt.plot(X_new, y_predict, \"r-\")\n",
    "plt.plot(X, y, \"b.\")\n",
    "plt.axis([0, 2, 0, 15])\n",
    "plt.title('标准方程拟合的直线')\n",
    "plt.show()"
   ]
  },
  {
   "cell_type": "code",
   "execution_count": 7,
   "id": "fad50a6b-515c-4a9e-b6e1-b3e003d63538",
   "metadata": {},
   "outputs": [
    {
     "data": {
      "text/plain": [
       "(array([3.72569091]), array([[2.99531465]]))"
      ]
     },
     "execution_count": 7,
     "metadata": {},
     "output_type": "execute_result"
    }
   ],
   "source": [
    "# 在sklearn中使用线性回归就非常简单了\n",
    "from sklearn.linear_model import LinearRegression\n",
    "\n",
    "lin_reg = LinearRegression()\n",
    "lin_reg.fit(X, y)\n",
    "lin_reg.intercept_, lin_reg.coef_"
   ]
  },
  {
   "cell_type": "markdown",
   "id": "7be73832-d1a1-4aac-bf07-8c8038d8a22f",
   "metadata": {},
   "source": [
    "要注意的是，sklearn的`LinearRegression`类其实就是对`scipy.linalg.lstsq()` 函数的一个包装  \n",
    "也就是说可以直接使用`scipy.linalg.lstsq()`函数进行最小二乘回归"
   ]
  },
  {
   "cell_type": "code",
   "execution_count": 8,
   "id": "87278919-0c6c-4443-83ec-c6160292fc66",
   "metadata": {},
   "outputs": [
    {
     "data": {
      "text/plain": [
       "array([[3.72569091],\n",
       "       [2.99531465]])"
      ]
     },
     "execution_count": 8,
     "metadata": {},
     "output_type": "execute_result"
    }
   ],
   "source": [
    "theta_best_svd, residuals, rank, s = np.linalg.lstsq(X_b, y, rcond=1e-6)\n",
    "theta_best_svd"
   ]
  },
  {
   "cell_type": "markdown",
   "id": "3ec6a22b-6eea-47f4-a001-8f69f7dcc586",
   "metadata": {},
   "source": [
    "再往深了说，`np.linalg.lstsq`用的其实是$\\mathbf{X}^+\\mathbf{y}$方程，而不是标准方程算的  \n",
    "$\\mathbf{X}^+$就是$\\mathbf{X}$的伪逆，准确来说是Moore-Penrose伪逆  \n",
    "这么算比使用标准方程更快且更方便  \n",
    "可以使用`np.linalg.pinv`来实现"
   ]
  },
  {
   "cell_type": "code",
   "execution_count": 9,
   "id": "35e4ff55-dded-4891-90cc-0dfc05e66649",
   "metadata": {},
   "outputs": [
    {
     "data": {
      "text/plain": [
       "array([[3.72569091],\n",
       "       [2.99531465]])"
      ]
     },
     "execution_count": 9,
     "metadata": {},
     "output_type": "execute_result"
    }
   ],
   "source": [
    "np.linalg.pinv(X_b).dot(y)"
   ]
  },
  {
   "cell_type": "markdown",
   "id": "f89d3614-0ff7-4ea2-8066-f76998171924",
   "metadata": {},
   "source": [
    "# 4.2. 梯度下降"
   ]
  },
  {
   "cell_type": "markdown",
   "id": "e5e70891-b511-438e-a7ea-7c4b944835e9",
   "metadata": {
    "jp-MarkdownHeadingCollapsed": true,
    "tags": []
   },
   "source": [
    "## 4.2.1. 批量梯度下降"
   ]
  },
  {
   "cell_type": "code",
   "execution_count": 10,
   "id": "96f5284a-3840-4064-a4af-4d497e095809",
   "metadata": {},
   "outputs": [],
   "source": [
    "eta = 0.1  # 学习率\n",
    "# 梯度下降1000次\n",
    "n_iterations = 1000\n",
    "# 数据集的行数\n",
    "m = 100\n",
    "\n",
    "theta = np.random.randn(2,1)  # random initialization\n",
    "\n",
    "for iteration in range(n_iterations):\n",
    "    gradients = 2/m * X_b.T.dot(X_b.dot(theta) - y)\n",
    "    theta = theta - eta * gradients"
   ]
  },
  {
   "cell_type": "code",
   "execution_count": 11,
   "id": "d881090e-e81b-48c3-bec8-23f5fe960756",
   "metadata": {},
   "outputs": [
    {
     "data": {
      "text/plain": [
       "array([[3.72569091],\n",
       "       [2.99531465]])"
      ]
     },
     "execution_count": 11,
     "metadata": {},
     "output_type": "execute_result"
    }
   ],
   "source": [
    "# 可以发现，这与之前标准方程计算的结果一致\n",
    "theta"
   ]
  },
  {
   "cell_type": "markdown",
   "id": "4439363b-8eca-44ed-9aca-6a0baa453ec5",
   "metadata": {},
   "source": [
    "顺便看看不同学习率下的表现"
   ]
  },
  {
   "cell_type": "code",
   "execution_count": 14,
   "id": "77075581-2499-4ec9-9739-a4eb3daae3b6",
   "metadata": {
    "jupyter": {
     "source_hidden": true
    },
    "tags": []
   },
   "outputs": [],
   "source": [
    "theta_path_bgd = []\n",
    "\n",
    "def plot_gradient_descent(theta, eta, theta_path=None):\n",
    "    m = len(X_b)\n",
    "    plt.plot(X, y, \"b.\")\n",
    "    n_iterations = 1000\n",
    "    for iteration in range(n_iterations):\n",
    "        if iteration < 10:\n",
    "            y_predict = X_new_b.dot(theta)\n",
    "            style = \"b-\" if iteration > 0 else \"r--\"\n",
    "            plt.plot(X_new, y_predict, style)\n",
    "        gradients = 2/m * X_b.T.dot(X_b.dot(theta) - y)\n",
    "        theta = theta - eta * gradients\n",
    "        if theta_path is not None:\n",
    "            theta_path.append(theta)\n",
    "    plt.xlabel(\"$x_1$\", fontsize=18)\n",
    "    plt.axis([0, 2, 0, 15])\n",
    "    plt.title(r\"$\\eta = {}$\".format(eta), fontsize=16)"
   ]
  },
  {
   "cell_type": "code",
   "execution_count": 16,
   "id": "e877eb10-7702-4002-894a-5c519366ceae",
   "metadata": {
    "jupyter": {
     "source_hidden": true
    },
    "tags": []
   },
   "outputs": [
    {
     "name": "stdout",
     "output_type": "stream",
     "text": [
      "Saving figure gradient_descent_plot\n"
     ]
    },
    {
     "data": {
      "image/png": "[encoded data removed]",
      "text/plain": [
       "<Figure size 720x288 with 3 Axes>"
      ]
     },
     "metadata": {
      "needs_background": "light"
     },
     "output_type": "display_data"
    }
   ],
   "source": [
    "np.random.seed(42)\n",
    "theta = np.random.randn(2,1)  # random initialization\n",
    "\n",
    "plt.figure(figsize=(10,4))\n",
    "plt.subplot(131); plot_gradient_descent(theta, eta=0.02)\n",
    "plt.ylabel(\"$y$\", rotation=0, fontsize=18)\n",
    "plt.subplot(132); plot_gradient_descent(theta, eta=0.1, theta_path=theta_path_bgd)\n",
    "plt.subplot(133); plot_gradient_descent(theta, eta=0.5)\n",
    "\n",
    "save_fig(plt.gcf(), \"gradient_descent_plot\")"
   ]
  },
  {
   "cell_type": "markdown",
   "id": "5ea5c940-5101-40be-8c62-6f0f9dec720d",
   "metadata": {
    "jp-MarkdownHeadingCollapsed": true,
    "tags": []
   },
   "source": [
    "## 4.2.2. 随机梯度下降"
   ]
  },
  {
   "cell_type": "code",
   "execution_count": 23,
   "id": "da72c83f-a43e-4785-a2c3-6b7af2bdcaa6",
   "metadata": {},
   "outputs": [
    {
     "name": "stdout",
     "output_type": "stream",
     "text": [
      "Saving figure sgd_plot\n"
     ]
    },
    {
     "data": {
      "image/png": "[encoded data removed]",
      "text/plain": [
       "<Figure size 432x288 with 1 Axes>"
      ]
     },
     "metadata": {
      "needs_background": "light"
     },
     "output_type": "display_data"
    }
   ],
   "source": [
    "theta_path_sgd = []\n",
    "m = len(X_b)\n",
    "#np.random.seed(42)\n",
    "\n",
    "n_epochs = 50\n",
    "t0, t1 = 5, 50  # learning schedule hyperparameters\n",
    "\n",
    "# 学习调度函数，来模拟退火\n",
    "def learning_schedule(t):\n",
    "    return t0 / (t + t1)\n",
    "\n",
    "theta = np.random.randn(2,1)  # random initialization\n",
    "\n",
    "for epoch in range(n_epochs):\n",
    "    for i in range(m):\n",
    "        if epoch == 0 and i < 20:                    # not shown in the book\n",
    "            y_predict = X_new_b.dot(theta)           # not shown\n",
    "            style = \"b-\" if i > 0 else \"r--\"         # not shown\n",
    "            plt.plot(X_new, y_predict, style)        # not shown\n",
    "        random_index = np.random.randint(m)\n",
    "        xi = X_b[random_index:random_index+1]\n",
    "        yi = y[random_index:random_index+1]\n",
    "        gradients = 2 * xi.T.dot(xi.dot(theta) - yi)\n",
    "        eta = learning_schedule(epoch * m + i)\n",
    "        theta = theta - eta * gradients\n",
    "        theta_path_sgd.append(theta)                 # not shown\n",
    "\n",
    "plt.plot(X, y, \"b.\")                                 # not shown\n",
    "plt.xlabel(\"$x_1$\", fontsize=18)                     # not shown\n",
    "plt.ylabel(\"$y$\", rotation=0, fontsize=18)           # not shown\n",
    "plt.axis([0, 2, 0, 15])                              # not shown\n",
    "save_fig(plt.gcf(), \"sgd_plot\")                                 # not shown\n",
    "plt.show()                                           # not shown"
   ]
  },
  {
   "cell_type": "code",
   "execution_count": 26,
   "id": "55cc5c6d-cda6-46b9-a6a7-be20d99110b1",
   "metadata": {},
   "outputs": [
    {
     "data": {
      "text/plain": [
       "array([[3.75646142],\n",
       "       [3.01037747]])"
      ]
     },
     "execution_count": 26,
     "metadata": {},
     "output_type": "execute_result"
    }
   ],
   "source": [
    "# 相比批量梯度下降，随机梯度只对整个训练集进行了50次(n_epochs)的遍历\n",
    "# 效率还是挺高的\n",
    "theta"
   ]
  },
  {
   "cell_type": "code",
   "execution_count": 27,
   "id": "82686881-b629-457a-b570-289ba7a2e23d",
   "metadata": {},
   "outputs": [
    {
     "data": {
      "text/plain": [
       "SGDRegressor(eta0=0.1, penalty=None, random_state=42)"
      ]
     },
     "execution_count": 27,
     "metadata": {},
     "output_type": "execute_result"
    }
   ],
   "source": [
    "# sklearn中的SGDRegressor自带模拟退火的功能，eta0参数就是学习率初始值\n",
    "from sklearn.linear_model import SGDRegressor\n",
    "\n",
    "sgd_reg = SGDRegressor(max_iter=1000, tol=1e-3, penalty=None, eta0=0.1, random_state=42)\n",
    "sgd_reg.fit(X, y.ravel())"
   ]
  },
  {
   "cell_type": "code",
   "execution_count": 30,
   "id": "f5178f28-3c69-4225-9bd3-1fe0046c495e",
   "metadata": {},
   "outputs": [
    {
     "data": {
      "text/plain": [
       "(array([3.70960493]), array([2.99116845]))"
      ]
     },
     "execution_count": 30,
     "metadata": {},
     "output_type": "execute_result"
    }
   ],
   "source": [
    "# 可得到截距和斜率，看着还行吼\n",
    "sgd_reg.intercept_, sgd_reg.coef_"
   ]
  }
 ],
 "metadata": {
  "kernelspec": {
   "display_name": "Python 3 (ipykernel)",
   "language": "python",
   "name": "python3"
  },
  "language_info": {
   "codemirror_mode": {
    "name": "ipython",
    "version": 3
   },
   "file_extension": ".py",
   "mimetype": "text/x-python",
   "name": "python",
   "nbconvert_exporter": "python",
   "pygments_lexer": "ipython3",
   "version": "3.8.12"
  }
 },
 "nbformat": 4,
 "nbformat_minor": 5
}
