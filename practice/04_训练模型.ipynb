{
 "cells": [
  {
   "cell_type": "code",
   "execution_count": 1,
   "id": "1b6c0219-c6b4-429a-84b0-4be3679711ff",
   "metadata": {},
   "outputs": [],
   "source": [
    "import sys\n",
    "import sklearn\n",
    "import numpy as np\n",
    "import os\n",
    "import matplotlib as mpl\n",
    "import matplotlib.pyplot as plt\n",
    "mpl.rc('axes', labelsize=14)\n",
    "mpl.rc('xtick', labelsize=12)\n",
    "mpl.rc('ytick', labelsize=12)\n",
    "mpl.rc('font', family = 'simhei')\n",
    "mpl.rc('axes', unicode_minus = False)\n",
    "%matplotlib inline\n",
    "\n",
    "# 项目文件保存目录\n",
    "PROJECT_ROOT_DIR = \".\"\n",
    "CHAPTER_ID = \"training_linear_models\"\n",
    "IMAGES_PATH = os.path.join(PROJECT_ROOT_DIR, \"images\", CHAPTER_ID)\n",
    "os.makedirs(IMAGES_PATH, exist_ok=True)\n",
    "\n",
    "def save_fig(fig, fig_id, tight_layout=True, fig_extension=\"png\", resolution=300):\n",
    "    path = os.path.join(IMAGES_PATH, fig_id + \".\" + fig_extension)\n",
    "    print(\"Saving figure\", fig_id)\n",
    "    fig.savefig(path, format=fig_extension, dpi=resolution)"
   ]
  },
  {
   "cell_type": "markdown",
   "id": "e0cf7c4b-5dfb-42be-9da8-274ed498972e",
   "metadata": {
    "tags": []
   },
   "source": [
    "# 4.1 线性回归"
   ]
  },
  {
   "cell_type": "markdown",
   "id": "5fdf03bf-5f47-4670-9738-ac4c5c2a9575",
   "metadata": {
    "tags": []
   },
   "source": [
    "## 4.1.1. 标准方程"
   ]
  },
  {
   "cell_type": "raw",
   "id": "ef80cf2c-988e-4088-8279-de5344b0922a",
   "metadata": {},
   "source": [
    "对的，就是线性代数里那个算最小二乘的那个方程"
   ]
  },
  {
   "cell_type": "code",
   "execution_count": 2,
   "id": "ed3dbc97-226b-42b4-a02b-5c8740d10e61",
   "metadata": {},
   "outputs": [],
   "source": [
    "# 先简单试一下标准方程在拟合直线的表现\n",
    "import numpy as np\n",
    "\n",
    "X = 2 * np.random.rand(100, 1)\n",
    "# 不难看出，拟合出的两个直线的参数应该接近于4和3\n",
    "y = 4 + 3 * X + np.random.randn(100, 1)"
   ]
  },
  {
   "cell_type": "code",
   "execution_count": 3,
   "id": "c2c98492-0745-4bc0-b6fb-66d9201b82be",
   "metadata": {
    "tags": []
   },
   "outputs": [
    {
     "name": "stdout",
     "output_type": "stream",
     "text": [
      "Saving figure 411随机生成数据\n"
     ]
    },
    {
     "data": {
      "image/png": "[encoded data removed]",
      "text/plain": [
       "<Figure size 432x288 with 1 Axes>"
      ]
     },
     "metadata": {
      "needs_background": "light"
     },
     "output_type": "display_data"
    }
   ],
   "source": [
    "fig, ax = plt.subplots()\n",
    "\n",
    "ax.scatter(X, y, c = 'b', marker = '.')\n",
    "ax.set_xlabel(\"$x_1$\", fontsize=18)\n",
    "ax.set_ylabel(\"$y$\", rotation=0, fontsize=18)\n",
    "ax.axis([0, 2, 0, 15])\n",
    "save_fig(fig, '411随机生成数据')"
   ]
  },
  {
   "cell_type": "code",
   "execution_count": 4,
   "id": "56368e14-330c-41de-a333-8eb5affb557c",
   "metadata": {},
   "outputs": [],
   "source": [
    "# 开算，算之前别忘了在第一列添加一列1\n",
    "X_b = np.c_[np.ones((100, 1)), X]\n",
    "theta_best = np.linalg.inv(X_b.T.dot(X_b)).dot(X_b.T).dot(y)"
   ]
  },
  {
   "cell_type": "code",
   "execution_count": 5,
   "id": "c561225e-3930-465b-81cc-b68abf914cfd",
   "metadata": {},
   "outputs": [
    {
     "data": {
      "text/plain": [
       "array([[100.        , 105.33417026],\n",
       "       [105.33417026, 146.83043627]])"
      ]
     },
     "execution_count": 5,
     "metadata": {},
     "output_type": "execute_result"
    }
   ],
   "source": [
    "X_b.T.dot(X_b)"
   ]
  },
  {
   "cell_type": "code",
   "execution_count": 6,
   "id": "066d243c-4afa-4b65-9083-b7ecf4223097",
   "metadata": {},
   "outputs": [
    {
     "data": {
      "text/plain": [
       "array([[4.01896609],\n",
       "       [2.97525083]])"
      ]
     },
     "execution_count": 6,
     "metadata": {},
     "output_type": "execute_result"
    }
   ],
   "source": [
    "# 可以看到，最优解虽然不是4和3，但是和真实值也相当接近了，毕竟有噪音嘛，不可能直接算出4和3的\n",
    "theta_best"
   ]
  },
  {
   "cell_type": "code",
   "execution_count": 7,
   "id": "fa2acf8c-c41e-41fb-86ed-50e5a41d1367",
   "metadata": {
    "tags": []
   },
   "outputs": [
    {
     "data": {
      "image/png": "[encoded data removed]",
      "text/plain": [
       "<Figure size 432x288 with 1 Axes>"
      ]
     },
     "metadata": {
      "needs_background": "light"
     },
     "output_type": "display_data"
    }
   ],
   "source": [
    "X_new = np.array([[0], [2]])\n",
    "X_new_b = np.c_[np.ones((2, 1)), X_new]  # add x0 = 1 to each instance\n",
    "y_predict = X_new_b.dot(theta_best)\n",
    "y_predict\n",
    "plt.plot(X_new, y_predict, \"r-\")\n",
    "plt.plot(X, y, \"b.\")\n",
    "plt.axis([0, 2, 0, 15])\n",
    "plt.title('标准方程拟合的直线')\n",
    "plt.show()"
   ]
  },
  {
   "cell_type": "code",
   "execution_count": 8,
   "id": "fad50a6b-515c-4a9e-b6e1-b3e003d63538",
   "metadata": {},
   "outputs": [
    {
     "data": {
      "text/plain": [
       "(array([4.01896609]), array([[2.97525083]]))"
      ]
     },
     "execution_count": 8,
     "metadata": {},
     "output_type": "execute_result"
    }
   ],
   "source": [
    "# 在sklearn中使用线性回归就非常简单了\n",
    "from sklearn.linear_model import LinearRegression\n",
    "\n",
    "lin_reg = LinearRegression()\n",
    "lin_reg.fit(X, y)\n",
    "lin_reg.intercept_, lin_reg.coef_"
   ]
  },
  {
   "cell_type": "markdown",
   "id": "7be73832-d1a1-4aac-bf07-8c8038d8a22f",
   "metadata": {},
   "source": [
    "要注意的是，sklearn的`LinearRegression`类其实就是对`scipy.linalg.lstsq()` 函数的一个包装  \n",
    "也就是说可以直接使用`scipy.linalg.lstsq()`函数进行最小二乘回归"
   ]
  },
  {
   "cell_type": "code",
   "execution_count": 9,
   "id": "87278919-0c6c-4443-83ec-c6160292fc66",
   "metadata": {},
   "outputs": [
    {
     "data": {
      "text/plain": [
       "array([[4.01896609],\n",
       "       [2.97525083]])"
      ]
     },
     "execution_count": 9,
     "metadata": {},
     "output_type": "execute_result"
    }
   ],
   "source": [
    "theta_best_svd, residuals, rank, s = np.linalg.lstsq(X_b, y, rcond=1e-6)\n",
    "theta_best_svd"
   ]
  },
  {
   "cell_type": "markdown",
   "id": "3ec6a22b-6eea-47f4-a001-8f69f7dcc586",
   "metadata": {},
   "source": [
    "再往深了说，`np.linalg.lstsq`用的其实是$\\mathbf{X}^+\\mathbf{y}$方程，而不是标准方程算的  \n",
    "$\\mathbf{X}^+$就是$\\mathbf{X}$的伪逆，准确来说是Moore-Penrose伪逆  \n",
    "这么算比使用标准方程更快且更方便  \n",
    "可以使用`np.linalg.pinv`来实现"
   ]
  },
  {
   "cell_type": "code",
   "execution_count": 10,
   "id": "35e4ff55-dded-4891-90cc-0dfc05e66649",
   "metadata": {},
   "outputs": [
    {
     "data": {
      "text/plain": [
       "array([[4.01896609],\n",
       "       [2.97525083]])"
      ]
     },
     "execution_count": 10,
     "metadata": {},
     "output_type": "execute_result"
    }
   ],
   "source": [
    "np.linalg.pinv(X_b).dot(y)"
   ]
  },
  {
   "cell_type": "markdown",
   "id": "f89d3614-0ff7-4ea2-8066-f76998171924",
   "metadata": {},
   "source": [
    "# 4.2. 梯度下降"
   ]
  },
  {
   "cell_type": "markdown",
   "id": "e5e70891-b511-438e-a7ea-7c4b944835e9",
   "metadata": {
    "jp-MarkdownHeadingCollapsed": true,
    "tags": []
   },
   "source": [
    "## 4.2.1. 批量梯度下降"
   ]
  },
  {
   "cell_type": "code",
   "execution_count": 11,
   "id": "96f5284a-3840-4064-a4af-4d497e095809",
   "metadata": {},
   "outputs": [],
   "source": [
    "eta = 0.1  # 学习率\n",
    "# 梯度下降1000次\n",
    "n_iterations = 1000\n",
    "# 数据集的行数\n",
    "m = 100\n",
    "\n",
    "theta = np.random.randn(2,1)  # random initialization\n",
    "\n",
    "for iteration in range(n_iterations):\n",
    "    gradients = 2/m * X_b.T.dot(X_b.dot(theta) - y)\n",
    "    theta = theta - eta * gradients"
   ]
  },
  {
   "cell_type": "code",
   "execution_count": 12,
   "id": "d881090e-e81b-48c3-bec8-23f5fe960756",
   "metadata": {},
   "outputs": [
    {
     "data": {
      "text/plain": [
       "array([[4.01896609],\n",
       "       [2.97525083]])"
      ]
     },
     "execution_count": 12,
     "metadata": {},
     "output_type": "execute_result"
    }
   ],
   "source": [
    "# 可以发现，这与之前标准方程计算的结果一致\n",
    "theta"
   ]
  },
  {
   "cell_type": "markdown",
   "id": "4439363b-8eca-44ed-9aca-6a0baa453ec5",
   "metadata": {},
   "source": [
    "顺便看看不同学习率下的表现"
   ]
  },
  {
   "cell_type": "code",
   "execution_count": 13,
   "id": "77075581-2499-4ec9-9739-a4eb3daae3b6",
   "metadata": {
    "tags": []
   },
   "outputs": [],
   "source": [
    "theta_path_bgd = []\n",
    "\n",
    "def plot_gradient_descent(theta, eta, theta_path=None):\n",
    "    m = len(X_b)\n",
    "    plt.plot(X, y, \"b.\")\n",
    "    n_iterations = 1000\n",
    "    for iteration in range(n_iterations):\n",
    "        if iteration < 10:\n",
    "            y_predict = X_new_b.dot(theta)\n",
    "            style = \"b-\" if iteration > 0 else \"r--\"\n",
    "            plt.plot(X_new, y_predict, style)\n",
    "        gradients = 2/m * X_b.T.dot(X_b.dot(theta) - y)\n",
    "        theta = theta - eta * gradients\n",
    "        if theta_path is not None:\n",
    "            theta_path.append(theta)\n",
    "    plt.xlabel(\"$x_1$\", fontsize=18)\n",
    "    plt.axis([0, 2, 0, 15])\n",
    "    plt.title(r\"$\\eta = {}$\".format(eta), fontsize=16)"
   ]
  },
  {
   "cell_type": "code",
   "execution_count": 14,
   "id": "e877eb10-7702-4002-894a-5c519366ceae",
   "metadata": {
    "tags": []
   },
   "outputs": [
    {
     "name": "stdout",
     "output_type": "stream",
     "text": [
      "Saving figure gradient_descent_plot\n"
     ]
    },
    {
     "data": {
      "image/png": "[encoded data removed]",
      "text/plain": [
       "<Figure size 720x288 with 3 Axes>"
      ]
     },
     "metadata": {
      "needs_background": "light"
     },
     "output_type": "display_data"
    }
   ],
   "source": [
    "np.random.seed(42)\n",
    "theta = np.random.randn(2,1)  # random initialization\n",
    "\n",
    "plt.figure(figsize=(10,4))\n",
    "plt.subplot(131); plot_gradient_descent(theta, eta=0.02)\n",
    "plt.ylabel(\"$y$\", rotation=0, fontsize=18)\n",
    "plt.subplot(132); plot_gradient_descent(theta, eta=0.1, theta_path=theta_path_bgd)\n",
    "plt.subplot(133); plot_gradient_descent(theta, eta=0.5)\n",
    "\n",
    "save_fig(plt.gcf(), \"gradient_descent_plot\")"
   ]
  },
  {
   "cell_type": "markdown",
   "id": "5ea5c940-5101-40be-8c62-6f0f9dec720d",
   "metadata": {
    "jp-MarkdownHeadingCollapsed": true,
    "tags": []
   },
   "source": [
    "## 4.2.2. 随机梯度下降"
   ]
  },
  {
   "cell_type": "code",
   "execution_count": 15,
   "id": "da72c83f-a43e-4785-a2c3-6b7af2bdcaa6",
   "metadata": {},
   "outputs": [
    {
     "name": "stdout",
     "output_type": "stream",
     "text": [
      "Saving figure sgd_plot\n"
     ]
    },
    {
     "data": {
      "image/png": "[encoded data removed]",
      "text/plain": [
       "<Figure size 432x288 with 1 Axes>"
      ]
     },
     "metadata": {
      "needs_background": "light"
     },
     "output_type": "display_data"
    }
   ],
   "source": [
    "theta_path_sgd = []\n",
    "m = len(X_b)\n",
    "#np.random.seed(42)\n",
    "\n",
    "n_epochs = 50\n",
    "t0, t1 = 5, 50  # learning schedule hyperparameters\n",
    "\n",
    "# 学习调度函数，来模拟退火\n",
    "def learning_schedule(t):\n",
    "    return t0 / (t + t1)\n",
    "\n",
    "theta = np.random.randn(2,1)  # random initialization\n",
    "\n",
    "for epoch in range(n_epochs):\n",
    "    for i in range(m):\n",
    "        if epoch == 0 and i < 20:                    # not shown in the book\n",
    "            y_predict = X_new_b.dot(theta)           # not shown\n",
    "            style = \"b-\" if i > 0 else \"r--\"         # not shown\n",
    "            plt.plot(X_new, y_predict, style)        # not shown\n",
    "        random_index = np.random.randint(m)\n",
    "        xi = X_b[random_index:random_index+1]\n",
    "        yi = y[random_index:random_index+1]\n",
    "        gradients = 2 * xi.T.dot(xi.dot(theta) - yi)\n",
    "        eta = learning_schedule(epoch * m + i)\n",
    "        theta = theta - eta * gradients\n",
    "        theta_path_sgd.append(theta)                 # not shown\n",
    "\n",
    "plt.plot(X, y, \"b.\")                                 # not shown\n",
    "plt.xlabel(\"$x_1$\", fontsize=18)                     # not shown\n",
    "plt.ylabel(\"$y$\", rotation=0, fontsize=18)           # not shown\n",
    "plt.axis([0, 2, 0, 15])                              # not shown\n",
    "save_fig(plt.gcf(), \"sgd_plot\")                                 # not shown\n",
    "plt.show()                                           # not shown"
   ]
  },
  {
   "cell_type": "code",
   "execution_count": 16,
   "id": "55cc5c6d-cda6-46b9-a6a7-be20d99110b1",
   "metadata": {},
   "outputs": [
    {
     "data": {
      "text/plain": [
       "array([[4.0511134 ],\n",
       "       [2.94987513]])"
      ]
     },
     "execution_count": 16,
     "metadata": {},
     "output_type": "execute_result"
    }
   ],
   "source": [
    "# 相比批量梯度下降，随机梯度只对整个训练集进行了50次(n_epochs)的遍历\n",
    "# 效率还是挺高的\n",
    "theta"
   ]
  },
  {
   "cell_type": "code",
   "execution_count": 17,
   "id": "82686881-b629-457a-b570-289ba7a2e23d",
   "metadata": {},
   "outputs": [
    {
     "data": {
      "text/plain": [
       "SGDRegressor(eta0=0.1, penalty=None, random_state=42)"
      ]
     },
     "execution_count": 17,
     "metadata": {},
     "output_type": "execute_result"
    }
   ],
   "source": [
    "# sklearn中的SGDRegressor自带模拟退火的功能，eta0参数就是学习率初始值\n",
    "from sklearn.linear_model import SGDRegressor\n",
    "\n",
    "sgd_reg = SGDRegressor(max_iter=1000, tol=1e-3, penalty=None, eta0=0.1, random_state=42)\n",
    "sgd_reg.fit(X, y.ravel())"
   ]
  },
  {
   "cell_type": "code",
   "execution_count": 18,
   "id": "f5178f28-3c69-4225-9bd3-1fe0046c495e",
   "metadata": {},
   "outputs": [
    {
     "data": {
      "text/plain": [
       "(array([3.95101922]), array([3.01633549]))"
      ]
     },
     "execution_count": 18,
     "metadata": {},
     "output_type": "execute_result"
    }
   ],
   "source": [
    "# 可得到截距和斜率，看着还行吼\n",
    "sgd_reg.intercept_, sgd_reg.coef_"
   ]
  },
  {
   "cell_type": "markdown",
   "id": "7dc70c20-cfad-403f-a750-eb894ed6f155",
   "metadata": {},
   "source": [
    "## 4.2.3. 小批量梯度下降"
   ]
  },
  {
   "cell_type": "markdown",
   "id": "e080560d-5308-4007-9985-f4d5da9fb7b7",
   "metadata": {},
   "source": [
    "小批量梯度下降不是使用全部数据或仅使用一行数据计算梯度，而是使用一部分数据计算梯度  \n",
    "相比随机梯度的优势是可以更稳定地梯度下降，不像随机梯度下降，迭代到最小值附近后还会来回变化  \n",
    "而且小批量梯度下降可以在GPU参与的情况下算得更快  "
   ]
  },
  {
   "cell_type": "code",
   "execution_count": 19,
   "id": "b2a1941b-0eab-441f-aec5-b4b45545902a",
   "metadata": {},
   "outputs": [],
   "source": [
    "# 随着梯度下降，的参数轨迹图\n",
    "theta_path_mgd = []\n",
    "\n",
    "n_iterations = 50\n",
    "minibatch_size = 20\n",
    "\n",
    "#np.random.seed(42)\n",
    "theta = np.random.randn(2,1)  # random initialization\n",
    "\n",
    "t0, t1 = 200, 1000\n",
    "def learning_schedule(t):\n",
    "    return t0 / (t + t1)\n",
    "\n",
    "t = 0\n",
    "for epoch in range(n_iterations):\n",
    "    # 对数据集进行随机混洗\n",
    "    shuffled_indices = np.random.permutation(m)\n",
    "    X_b_shuffled = X_b[shuffled_indices]\n",
    "    y_shuffled = y[shuffled_indices]\n",
    "    for i in range(0, m, minibatch_size):\n",
    "        t += 1\n",
    "        xi = X_b_shuffled[i:i+minibatch_size]\n",
    "        yi = y_shuffled[i:i+minibatch_size]\n",
    "        gradients = 2/minibatch_size * xi.T.dot(xi.dot(theta) - yi)\n",
    "        eta = learning_schedule(t)\n",
    "        theta = theta - eta * gradients\n",
    "        theta_path_mgd.append(theta)"
   ]
  },
  {
   "cell_type": "code",
   "execution_count": 20,
   "id": "c1da7c4b-4518-45e1-a43c-0d8132c7fe7d",
   "metadata": {},
   "outputs": [
    {
     "data": {
      "text/plain": [
       "array([[3.99450556],\n",
       "       [2.91625233]])"
      ]
     },
     "execution_count": 20,
     "metadata": {},
     "output_type": "execute_result"
    }
   ],
   "source": [
    "theta"
   ]
  },
  {
   "cell_type": "code",
   "execution_count": 21,
   "id": "98d59e2c-07ae-40bc-a7ce-5e4912fb0851",
   "metadata": {},
   "outputs": [],
   "source": [
    "# 记录三种随机梯度下降的参数轨迹\n",
    "theta_path_bgd = np.array(theta_path_bgd)\n",
    "theta_path_sgd = np.array(theta_path_sgd)\n",
    "theta_path_mgd = np.array(theta_path_mgd)"
   ]
  },
  {
   "cell_type": "markdown",
   "id": "49d70a50-c69f-4c14-b494-bce888d46b10",
   "metadata": {},
   "source": [
    "可以看到，正如之前所说，小批量梯度下降可以直抵最小值，不会像另外两种梯度下降来回踱步  \n",
    "但是要注意的是，小批量梯度下降也容易取得局部最小值而出不来"
   ]
  },
  {
   "cell_type": "code",
   "execution_count": 22,
   "id": "bf2bab1a-be16-4219-92f9-be7449811e34",
   "metadata": {
    "tags": []
   },
   "outputs": [
    {
     "name": "stdout",
     "output_type": "stream",
     "text": [
      "Saving figure gradient_descent_paths_plot\n"
     ]
    },
    {
     "data": {
      "image/png": "[encoded data removed]",
      "text/plain": [
       "<Figure size 504x288 with 1 Axes>"
      ]
     },
     "metadata": {
      "needs_background": "light"
     },
     "output_type": "display_data"
    }
   ],
   "source": [
    "plt.figure(figsize=(7,4))\n",
    "plt.plot(theta_path_sgd[:, 0], theta_path_sgd[:, 1], \"r-s\", linewidth=1, label=\"Stochastic\")\n",
    "plt.plot(theta_path_mgd[:, 0], theta_path_mgd[:, 1], \"g-+\", linewidth=2, label=\"Mini-batch\")\n",
    "plt.plot(theta_path_bgd[:, 0], theta_path_bgd[:, 1], \"b-o\", linewidth=3, label=\"Batch\")\n",
    "plt.legend(loc=\"upper left\", fontsize=16)\n",
    "plt.xlabel(r\"$\\theta_0$\", fontsize=20)\n",
    "plt.ylabel(r\"$\\theta_1$   \", fontsize=20, rotation=0)\n",
    "plt.axis([2.5, 4.5, 2.3, 3.9])\n",
    "save_fig(plt.gcf(), \"gradient_descent_paths_plot\")\n",
    "plt.show()"
   ]
  },
  {
   "cell_type": "markdown",
   "id": "80bfadd1-1b5d-46a0-8d61-0e87e3bb0be2",
   "metadata": {},
   "source": [
    "# 4.3. 多项式回归"
   ]
  },
  {
   "cell_type": "markdown",
   "id": "3673bfcd-c017-4906-aa6f-1b411455febc",
   "metadata": {},
   "source": [
    "额，这个我觉得就可以跳过了，简单记录一下就行"
   ]
  },
  {
   "cell_type": "code",
   "execution_count": 23,
   "id": "b09568ab-8379-4c66-8391-5db9dacca7e7",
   "metadata": {},
   "outputs": [],
   "source": [
    "import numpy as np\n",
    "import numpy.random as rnd\n",
    "\n",
    "m = 100\n",
    "X = 6 * np.random.rand(m, 1) - 3\n",
    "y = 0.5 * X**2 + X + 2 + np.random.randn(m, 1)"
   ]
  },
  {
   "cell_type": "markdown",
   "id": "e68eb7c1-bf9f-49d0-8104-a1f794bed527",
   "metadata": {},
   "source": [
    "用来进行拟合操作的带噪声的抛物线数据"
   ]
  },
  {
   "cell_type": "code",
   "execution_count": 24,
   "id": "054ef73e-3231-4604-85c9-b924e30f6b29",
   "metadata": {
    "tags": []
   },
   "outputs": [
    {
     "name": "stdout",
     "output_type": "stream",
     "text": [
      "Saving figure quadratic_data_plot\n"
     ]
    },
    {
     "data": {
      "image/png": "[encoded data removed]",
      "text/plain": [
       "<Figure size 432x288 with 1 Axes>"
      ]
     },
     "metadata": {
      "needs_background": "light"
     },
     "output_type": "display_data"
    }
   ],
   "source": [
    "plt.plot(X, y, \"b.\")\n",
    "plt.xlabel(\"$x_1$\", fontsize=18)\n",
    "plt.ylabel(\"$y$\", rotation=0, fontsize=18)\n",
    "plt.axis([-3, 3, 0, 10])\n",
    "save_fig(plt.gcf(), \"quadratic_data_plot\")\n",
    "plt.show()"
   ]
  },
  {
   "cell_type": "code",
   "execution_count": 25,
   "id": "af229db5-63d2-4013-b6ea-e0e14fbf462e",
   "metadata": {},
   "outputs": [
    {
     "data": {
      "text/plain": [
       "array([-2.46208661])"
      ]
     },
     "execution_count": 25,
     "metadata": {},
     "output_type": "execute_result"
    }
   ],
   "source": [
    "# 多项式前处理\n",
    "from sklearn.preprocessing import PolynomialFeatures\n",
    "poly_features = PolynomialFeatures(degree=2, include_bias=False)\n",
    "X_poly = poly_features.fit_transform(X)\n",
    "X[0]"
   ]
  },
  {
   "cell_type": "code",
   "execution_count": 26,
   "id": "42cc21bb-747f-4731-aa55-c4bc8aa5e3bf",
   "metadata": {},
   "outputs": [
    {
     "data": {
      "text/plain": [
       "(array([1.7594576]), array([[1.01802176, 0.50874904]]))"
      ]
     },
     "execution_count": 26,
     "metadata": {},
     "output_type": "execute_result"
    }
   ],
   "source": [
    "# 拟合多项式特征\n",
    "lin_reg = LinearRegression()\n",
    "lin_reg.fit(X_poly, y)\n",
    "lin_reg.intercept_, lin_reg.coef_"
   ]
  },
  {
   "cell_type": "markdown",
   "id": "17e1a326-5f5f-40a4-916a-3101b0c4a808",
   "metadata": {},
   "source": [
    "拟合后的效果"
   ]
  },
  {
   "cell_type": "code",
   "execution_count": 27,
   "id": "b90bb146-e46c-45aa-8f53-84807297c573",
   "metadata": {
    "tags": []
   },
   "outputs": [
    {
     "name": "stdout",
     "output_type": "stream",
     "text": [
      "Saving figure quadratic_predictions_plot\n"
     ]
    },
    {
     "data": {
      "image/png": "[encoded data removed]",
      "text/plain": [
       "<Figure size 432x288 with 1 Axes>"
      ]
     },
     "metadata": {
      "needs_background": "light"
     },
     "output_type": "display_data"
    }
   ],
   "source": [
    "X_new=np.linspace(-3, 3, 100).reshape(100, 1)\n",
    "X_new_poly = poly_features.transform(X_new)\n",
    "y_new = lin_reg.predict(X_new_poly)\n",
    "plt.plot(X, y, \"b.\")\n",
    "plt.plot(X_new, y_new, \"r-\", linewidth=2, label=\"Predictions\")\n",
    "plt.xlabel(\"$x_1$\", fontsize=18)\n",
    "plt.ylabel(\"$y$\", rotation=0, fontsize=18)\n",
    "plt.legend(loc=\"upper left\", fontsize=14)\n",
    "plt.axis([-3, 3, 0, 10])\n",
    "save_fig(plt.gcf(), \"quadratic_predictions_plot\")\n",
    "plt.show()"
   ]
  },
  {
   "cell_type": "markdown",
   "id": "c4f75a73-0ff6-48c5-8f2a-1a0010e9a91c",
   "metadata": {},
   "source": [
    "不同阶数的多项式拟合"
   ]
  },
  {
   "cell_type": "code",
   "execution_count": 28,
   "id": "f37eead1-4123-4d25-ab4e-e462f646f22d",
   "metadata": {
    "tags": []
   },
   "outputs": [
    {
     "name": "stdout",
     "output_type": "stream",
     "text": [
      "Saving figure high_degree_polynomials_plot\n"
     ]
    },
    {
     "data": {
      "image/png": "[encoded data removed]",
      "text/plain": [
       "<Figure size 432x288 with 1 Axes>"
      ]
     },
     "metadata": {
      "needs_background": "light"
     },
     "output_type": "display_data"
    }
   ],
   "source": [
    "from sklearn.preprocessing import StandardScaler\n",
    "from sklearn.pipeline import Pipeline\n",
    "\n",
    "for style, width, degree in ((\"g-\", 1, 300), (\"b--\", 2, 2), (\"r-+\", 2, 1)):\n",
    "    polybig_features = PolynomialFeatures(degree=degree, include_bias=False)\n",
    "    std_scaler = StandardScaler()\n",
    "    lin_reg = LinearRegression()\n",
    "    polynomial_regression = Pipeline([\n",
    "            (\"poly_features\", polybig_features),\n",
    "            (\"std_scaler\", std_scaler),\n",
    "            (\"lin_reg\", lin_reg),\n",
    "        ])\n",
    "    polynomial_regression.fit(X, y)\n",
    "    y_newbig = polynomial_regression.predict(X_new)\n",
    "    plt.plot(X_new, y_newbig, style, label=str(degree), linewidth=width)\n",
    "\n",
    "plt.plot(X, y, \"b.\", linewidth=3)\n",
    "plt.legend(loc=\"upper left\")\n",
    "plt.xlabel(\"$x_1$\", fontsize=18)\n",
    "plt.ylabel(\"$y$\", rotation=0, fontsize=18)\n",
    "plt.axis([-3, 3, 0, 10])\n",
    "save_fig(plt.gcf(), \"high_degree_polynomials_plot\")\n",
    "plt.show()"
   ]
  },
  {
   "cell_type": "markdown",
   "id": "c63f6ae1-6df2-4478-b53b-c4b6f1b8b0af",
   "metadata": {},
   "source": [
    "# 4.4. 学习曲线"
   ]
  },
  {
   "cell_type": "markdown",
   "id": "cb710845-5900-4549-838e-17ac34f8ac59",
   "metadata": {},
   "source": [
    "就是随着训练集数据的增加，模型在训练集上和验证集上的误差变化  \n",
    "看看代码就一目了然了  "
   ]
  },
  {
   "cell_type": "code",
   "execution_count": 29,
   "id": "814aaf87-1fd0-4e30-b015-37bb17bfa87c",
   "metadata": {},
   "outputs": [],
   "source": [
    "from sklearn.metrics import mean_squared_error\n",
    "from sklearn.model_selection import train_test_split\n",
    "\n",
    "def plot_learning_curves(model, X, y):\n",
    "    X_train, X_val, y_train, y_val = train_test_split(X, y, test_size=0.2, random_state=10)\n",
    "    train_errors, val_errors = [], []\n",
    "    for m in range(1, len(X_train) + 1):\n",
    "        model.fit(X_train[:m], y_train[:m])\n",
    "        y_train_predict = model.predict(X_train[:m])\n",
    "        y_val_predict = model.predict(X_val)\n",
    "        train_errors.append(mean_squared_error(y_train[:m], y_train_predict))\n",
    "        val_errors.append(mean_squared_error(y_val, y_val_predict))\n",
    "\n",
    "    plt.plot(np.sqrt(train_errors), \"r-+\", linewidth=2, label=\"train\")\n",
    "    plt.plot(np.sqrt(val_errors), \"b-\", linewidth=3, label=\"val\")\n",
    "    plt.legend(loc=\"upper right\", fontsize=14)   # not shown in the book\n",
    "    plt.xlabel(\"Training set size\", fontsize=14) # not shown\n",
    "    plt.ylabel(\"RMSE\", fontsize=14)              # not shown"
   ]
  },
  {
   "cell_type": "markdown",
   "id": "da6eb47e-27b3-4dac-81c8-4516914a4536",
   "metadata": {},
   "source": [
    "这是一个线性回归的学习曲线"
   ]
  },
  {
   "cell_type": "code",
   "execution_count": 30,
   "id": "13119c0a-b008-440b-8246-253222ce104e",
   "metadata": {
    "tags": []
   },
   "outputs": [
    {
     "name": "stdout",
     "output_type": "stream",
     "text": [
      "Saving figure underfitting_learning_curves_plot\n"
     ]
    },
    {
     "data": {
      "image/png": "[encoded data removed]",
      "text/plain": [
       "<Figure size 432x288 with 1 Axes>"
      ]
     },
     "metadata": {
      "needs_background": "light"
     },
     "output_type": "display_data"
    }
   ],
   "source": [
    "lin_reg = LinearRegression()\n",
    "plot_learning_curves(lin_reg, X, y)\n",
    "plt.axis([0, 80, 0, 3])                         # not shown in the book\n",
    "save_fig(plt.gcf(), \"underfitting_learning_curves_plot\")   # not shown\n",
    "plt.show()                                      # not shown"
   ]
  },
  {
   "cell_type": "markdown",
   "id": "b8087e35-3c17-4edd-b5aa-20eb8bb7f968",
   "metadata": {},
   "source": [
    "这是多项式回归在同一个数据集上的学习曲线"
   ]
  },
  {
   "cell_type": "code",
   "execution_count": 31,
   "id": "e161924d-4c8d-49e4-9970-620a4cc29ad5",
   "metadata": {
    "tags": []
   },
   "outputs": [
    {
     "name": "stdout",
     "output_type": "stream",
     "text": [
      "Saving figure learning_curves_plot\n"
     ]
    },
    {
     "data": {
      "image/png": "[encoded data removed]",
      "text/plain": [
       "<Figure size 432x288 with 1 Axes>"
      ]
     },
     "metadata": {
      "needs_background": "light"
     },
     "output_type": "display_data"
    }
   ],
   "source": [
    "from sklearn.pipeline import Pipeline\n",
    "\n",
    "polynomial_regression = Pipeline([\n",
    "        (\"poly_features\", PolynomialFeatures(degree=10, include_bias=False)),\n",
    "        (\"lin_reg\", LinearRegression()),\n",
    "    ])\n",
    "\n",
    "plot_learning_curves(polynomial_regression, X, y)\n",
    "plt.axis([0, 80, 0, 3])           # not shown\n",
    "save_fig(plt.gcf(), \"learning_curves_plot\")  # not shown\n",
    "plt.show()                        # not shown"
   ]
  },
  {
   "cell_type": "markdown",
   "id": "99f1eae9-b186-427f-a844-54e19bd2238a",
   "metadata": {},
   "source": [
    "# 4.5. 正则化线性模型"
   ]
  },
  {
   "cell_type": "markdown",
   "id": "cacd967c-784f-46a2-bdff-d85de773e689",
   "metadata": {},
   "source": [
    "## 4.5.1. 岭回归"
   ]
  },
  {
   "cell_type": "markdown",
   "id": "fc2da5c2-5756-4632-951e-d2995b408615",
   "metadata": {},
   "source": [
    "这个不用太仔细说了，简单过一遍就行了"
   ]
  },
  {
   "cell_type": "code",
   "execution_count": 32,
   "id": "035e3981-1d0c-4d48-b875-91767a5e3ff5",
   "metadata": {},
   "outputs": [],
   "source": [
    "# 生成数据\n",
    "m = 20\n",
    "X = 3 * np.random.rand(m, 1)\n",
    "y = 1 + 0.5 * X + np.random.randn(m, 1) / 1.5\n",
    "X_new = np.linspace(0, 3, 100).reshape(100, 1)"
   ]
  },
  {
   "cell_type": "code",
   "execution_count": 33,
   "id": "340825e2-3e3a-4efe-a93d-5bc31c95f647",
   "metadata": {},
   "outputs": [
    {
     "data": {
      "text/plain": [
       "array([[1.64129117]])"
      ]
     },
     "execution_count": 33,
     "metadata": {},
     "output_type": "execute_result"
    }
   ],
   "source": [
    "# 基于最小二乘的岭回归\n",
    "from sklearn.linear_model import Ridge\n",
    "ridge_reg = Ridge(alpha=1, solver=\"cholesky\", random_state=42)\n",
    "ridge_reg.fit(X, y)\n",
    "ridge_reg.predict([[1.5]])"
   ]
  },
  {
   "cell_type": "code",
   "execution_count": 34,
   "id": "9df9ea54-13ce-4926-88c2-a1c12910533c",
   "metadata": {},
   "outputs": [
    {
     "data": {
      "text/plain": [
       "array([1.53835846])"
      ]
     },
     "execution_count": 34,
     "metadata": {},
     "output_type": "execute_result"
    }
   ],
   "source": [
    "# 基于随机梯度下降的岭回归\n",
    "sgd_reg = SGDRegressor(penalty=\"l2\", max_iter=1000, tol=1e-3, random_state=42)\n",
    "sgd_reg.fit(X, y.ravel())\n",
    "sgd_reg.predict([[1.5]])"
   ]
  },
  {
   "cell_type": "markdown",
   "id": "13fe5818-3a7f-43f4-bbd7-10ef63c964d4",
   "metadata": {},
   "source": [
    "## 4.5.2. Lasso回归"
   ]
  },
  {
   "cell_type": "markdown",
   "id": "7abc84cc-4508-4a86-a7f5-4cad37783a29",
   "metadata": {},
   "source": [
    "当几个特征强相关时或数据量很小时，Lasso的效果不好"
   ]
  },
  {
   "cell_type": "code",
   "execution_count": 36,
   "id": "0ba207ca-1463-41d2-a7cc-b3ce31c5c1c1",
   "metadata": {},
   "outputs": [
    {
     "data": {
      "text/plain": [
       "array([1.63550962])"
      ]
     },
     "execution_count": 36,
     "metadata": {},
     "output_type": "execute_result"
    }
   ],
   "source": [
    "from sklearn.linear_model import Lasso\n",
    "lasso_reg = Lasso(alpha=0.1)\n",
    "lasso_reg.fit(X, y)\n",
    "lasso_reg.predict([[1.5]])"
   ]
  },
  {
   "cell_type": "markdown",
   "id": "c250e6b2-e10d-476b-85f4-632df18324ed",
   "metadata": {},
   "source": [
    "## 4.5.3 弹性网络"
   ]
  },
  {
   "cell_type": "code",
   "execution_count": 37,
   "id": "5a5bc338-789b-49ea-b8db-9ee68bc533f5",
   "metadata": {},
   "outputs": [
    {
     "data": {
      "text/plain": [
       "array([1.63813146])"
      ]
     },
     "execution_count": 37,
     "metadata": {},
     "output_type": "execute_result"
    }
   ],
   "source": [
    "from sklearn.linear_model import ElasticNet\n",
    "elastic_net = ElasticNet(alpha=0.1, l1_ratio=0.5, random_state=42)\n",
    "elastic_net.fit(X, y)\n",
    "elastic_net.predict([[1.5]])"
   ]
  },
  {
   "cell_type": "markdown",
   "id": "2731abc6-9880-49e0-80c4-8aa278d830ef",
   "metadata": {},
   "source": [
    "## 4.5.4. 早停法"
   ]
  },
  {
   "cell_type": "markdown",
   "id": "4d0faea3-9ec8-4318-a5a0-078117916d9b",
   "metadata": {},
   "source": [
    "对于梯度下降这一类迭代算法来说，早停法是一个很有效的正则方法"
   ]
  },
  {
   "cell_type": "markdown",
   "id": "9a763177-b7da-4b04-a157-69f27777e4ea",
   "metadata": {},
   "source": [
    "# 4.6. 逻辑回归"
   ]
  },
  {
   "cell_type": "markdown",
   "id": "6e5ed9ae-5699-4ad2-970e-4877f5bc3409",
   "metadata": {},
   "source": [
    "这个是分类的，暂时不看"
   ]
  }
 ],
 "metadata": {
  "kernelspec": {
   "display_name": "Python 3 (ipykernel)",
   "language": "python",
   "name": "python3"
  },
  "language_info": {
   "codemirror_mode": {
    "name": "ipython",
    "version": 3
   },
   "file_extension": ".py",
   "mimetype": "text/x-python",
   "name": "python",
   "nbconvert_exporter": "python",
   "pygments_lexer": "ipython3",
   "version": "3.8.12"
  }
 },
 "nbformat": 4,
 "nbformat_minor": 5
}
