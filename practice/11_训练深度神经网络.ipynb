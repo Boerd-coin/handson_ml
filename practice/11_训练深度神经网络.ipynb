{
 "cells": [
  {
   "cell_type": "code",
   "execution_count": 1,
   "id": "0842223c-c88a-46b8-94af-a8663e81aa59",
   "metadata": {
    "tags": []
   },
   "outputs": [],
   "source": [
    "# Python ≥3.5 is required\n",
    "import sys\n",
    "assert sys.version_info >= (3, 5)\n",
    "\n",
    "# Scikit-Learn ≥0.20 is required\n",
    "import sklearn\n",
    "assert sklearn.__version__ >= \"0.20\"\n",
    "\n",
    "try:\n",
    "    # %tensorflow_version only exists in Colab.\n",
    "    %tensorflow_version 2.x\n",
    "except Exception:\n",
    "    pass\n",
    "\n",
    "# TensorFlow ≥2.0 is required\n",
    "import tensorflow as tf\n",
    "from tensorflow import keras\n",
    "assert tf.__version__ >= \"2.0\"\n",
    "\n",
    "%load_ext tensorboard\n",
    "\n",
    "# Common imports\n",
    "import numpy as np\n",
    "import os\n",
    "\n",
    "# to make this notebook's output stable across runs\n",
    "np.random.seed(42)\n",
    "\n",
    "# To plot pretty figures\n",
    "%matplotlib inline\n",
    "import matplotlib as mpl\n",
    "import matplotlib.pyplot as plt\n",
    "mpl.rc('axes', labelsize=14)\n",
    "mpl.rc('xtick', labelsize=12)\n",
    "mpl.rc('ytick', labelsize=12)\n",
    "\n",
    "# Where to save the figures\n",
    "PROJECT_ROOT_DIR = \".\"\n",
    "CHAPTER_ID = \"deep\"\n",
    "IMAGES_PATH = os.path.join(PROJECT_ROOT_DIR, \"images\", CHAPTER_ID)\n",
    "os.makedirs(IMAGES_PATH, exist_ok=True)\n",
    "\n",
    "def save_fig(fig_id, tight_layout=True, fig_extension=\"png\", resolution=300):\n",
    "    path = os.path.join(IMAGES_PATH, fig_id + \".\" + fig_extension)\n",
    "    print(\"Saving figure\", fig_id)\n",
    "    if tight_layout:\n",
    "        plt.tight_layout()\n",
    "    plt.savefig(path, format=fig_extension, dpi=resolution)"
   ]
  },
  {
   "cell_type": "markdown",
   "id": "23cc7ebb-a851-4e82-9cb2-a58ff149eaf8",
   "metadata": {},
   "source": [
    "# 梯度消失或梯度爆炸"
   ]
  },
  {
   "cell_type": "code",
   "execution_count": 2,
   "id": "0b806820-cd07-4acd-8365-500b79ae1fae",
   "metadata": {},
   "outputs": [],
   "source": [
    "# Sigmoid激活函数\n",
    "def logit(z):\n",
    "    return 1 / (1 + np.exp(-z))"
   ]
  },
  {
   "cell_type": "code",
   "execution_count": 3,
   "id": "f76bba1f-86bd-44f7-9c72-e53b5d5b44ec",
   "metadata": {
    "tags": []
   },
   "outputs": [
    {
     "name": "stdout",
     "output_type": "stream",
     "text": [
      "Saving figure sigmoid_saturation_plot\n"
     ]
    },
    {
     "data": {
      "image/png": "[encoded data removed]",
      "text/plain": [
       "<Figure size 432x288 with 1 Axes>"
      ]
     },
     "metadata": {
      "needs_background": "light"
     },
     "output_type": "display_data"
    }
   ],
   "source": [
    "z = np.linspace(-5, 5, 200)\n",
    "\n",
    "plt.plot([-5, 5], [0, 0], 'k-')\n",
    "plt.plot([-5, 5], [1, 1], 'k--')\n",
    "plt.plot([0, 0], [-0.2, 1.2], 'k-')\n",
    "plt.plot([-5, 5], [-3/4, 7/4], 'g--')\n",
    "plt.plot(z, logit(z), \"b-\", linewidth=2)\n",
    "props = dict(facecolor='black', shrink=0.1)\n",
    "plt.annotate('Saturating', xytext=(3.5, 0.7), xy=(5, 1), arrowprops=props, fontsize=14, ha=\"center\")\n",
    "plt.annotate('Saturating', xytext=(-3.5, 0.3), xy=(-5, 0), arrowprops=props, fontsize=14, ha=\"center\")\n",
    "plt.annotate('Linear', xytext=(2, 0.2), xy=(0, 0.5), arrowprops=props, fontsize=14, ha=\"center\")\n",
    "plt.grid(True)\n",
    "plt.title(\"Sigmoid activation function\", fontsize=14)\n",
    "plt.axis([-5, 5, -0.2, 1.2])\n",
    "\n",
    "save_fig(\"sigmoid_saturation_plot\")\n",
    "plt.show()"
   ]
  },
  {
   "cell_type": "markdown",
   "id": "c2653ab3-51c8-40b1-a5e0-519e096955d7",
   "metadata": {},
   "source": [
    "## Xavier 和 He 权重初始化方法"
   ]
  },
  {
   "cell_type": "code",
   "execution_count": 4,
   "id": "a51442d2-690d-4cf1-aa24-eb6a6fb2d220",
   "metadata": {
    "tags": []
   },
   "outputs": [
    {
     "data": {
      "text/plain": [
       "['Constant',\n",
       " 'GlorotNormal',\n",
       " 'GlorotUniform',\n",
       " 'HeNormal',\n",
       " 'HeUniform',\n",
       " 'Identity',\n",
       " 'Initializer',\n",
       " 'LecunNormal',\n",
       " 'LecunUniform',\n",
       " 'Ones',\n",
       " 'Orthogonal',\n",
       " 'RandomNormal',\n",
       " 'RandomUniform',\n",
       " 'TruncatedNormal',\n",
       " 'VarianceScaling',\n",
       " 'Zeros',\n",
       " 'constant',\n",
       " 'deserialize',\n",
       " 'get',\n",
       " 'glorot_normal',\n",
       " 'glorot_uniform',\n",
       " 'he_normal',\n",
       " 'he_uniform',\n",
       " 'identity',\n",
       " 'lecun_normal',\n",
       " 'lecun_uniform',\n",
       " 'ones',\n",
       " 'orthogonal',\n",
       " 'random_normal',\n",
       " 'random_uniform',\n",
       " 'serialize',\n",
       " 'truncated_normal',\n",
       " 'variance_scaling',\n",
       " 'zeros']"
      ]
     },
     "execution_count": 4,
     "metadata": {},
     "output_type": "execute_result"
    }
   ],
   "source": [
    "# 先看看目前keras中支持的所有的初始化方法\n",
    "[name for name in dir(keras.initializers) if not name.startswith(\"_\")]"
   ]
  },
  {
   "cell_type": "code",
   "execution_count": 5,
   "id": "05d283e6-4371-448e-a97e-0d2344f44247",
   "metadata": {},
   "outputs": [
    {
     "data": {
      "text/plain": [
       "<keras.layers.core.dense.Dense at 0x2905667c190>"
      ]
     },
     "execution_count": 5,
     "metadata": {},
     "output_type": "execute_result"
    }
   ],
   "source": [
    "# 使用特定初始化方法的示例，使用kernel_initializer参数\n",
    "keras.layers.Dense(10, activation=\"relu\", kernel_initializer=\"he_normal\")"
   ]
  },
  {
   "cell_type": "code",
   "execution_count": 6,
   "id": "b228eaf9-3859-48ea-a774-e4b01b99ef02",
   "metadata": {},
   "outputs": [
    {
     "data": {
      "text/plain": [
       "<keras.layers.core.dense.Dense at 0x290628c3ee0>"
      ]
     },
     "execution_count": 6,
     "metadata": {},
     "output_type": "execute_result"
    }
   ],
   "source": [
    "# 对初始化方法进行一些自定义\n",
    "init = keras.initializers.VarianceScaling(scale=2., mode='fan_avg',\n",
    "                                          distribution='uniform')\n",
    "keras.layers.Dense(10, activation=\"relu\", kernel_initializer=init)"
   ]
  },
  {
   "cell_type": "markdown",
   "id": "7ce91248-0847-4f71-bc06-857dc1eeb792",
   "metadata": {},
   "source": [
    "## 非饱和激活函数"
   ]
  },
  {
   "cell_type": "markdown",
   "id": "55d0679c-1424-4528-a476-9c51cbcc9f28",
   "metadata": {},
   "source": [
    "### Leaky ReLU"
   ]
  },
  {
   "cell_type": "code",
   "execution_count": 7,
   "id": "e64e2b21-2ae5-4024-883d-79ab7fb38ee3",
   "metadata": {},
   "outputs": [],
   "source": [
    "def leaky_relu(z, alpha=0.01):\n",
    "    return np.maximum(alpha*z, z)"
   ]
  },
  {
   "cell_type": "code",
   "execution_count": 8,
   "id": "a351bc03-bbe9-4ed0-acc7-9ba97881ce01",
   "metadata": {
    "tags": []
   },
   "outputs": [
    {
     "name": "stdout",
     "output_type": "stream",
     "text": [
      "Saving figure leaky_relu_plot\n"
     ]
    },
    {
     "data": {
      "image/png": "[encoded data removed]",
      "text/plain": [
       "<Figure size 432x288 with 1 Axes>"
      ]
     },
     "metadata": {
      "needs_background": "light"
     },
     "output_type": "display_data"
    }
   ],
   "source": [
    "plt.plot(z, leaky_relu(z, 0.05), \"b-\", linewidth=2)\n",
    "plt.plot([-5, 5], [0, 0], 'k-')\n",
    "plt.plot([0, 0], [-0.5, 4.2], 'k-')\n",
    "plt.grid(True)\n",
    "props = dict(facecolor='black', shrink=0.1)\n",
    "plt.annotate('Leak', xytext=(-3.5, 0.5), xy=(-5, -0.2), arrowprops=props, fontsize=14, ha=\"center\")\n",
    "plt.title(\"Leaky ReLU activation function\", fontsize=14)\n",
    "plt.axis([-5, 5, -0.5, 4.2])\n",
    "\n",
    "save_fig(\"leaky_relu_plot\")\n",
    "plt.show()"
   ]
  },
  {
   "cell_type": "code",
   "execution_count": 9,
   "id": "ca6b6fda-4bbe-4613-85d1-6ddd2c99722d",
   "metadata": {},
   "outputs": [
    {
     "data": {
      "text/plain": [
       "['deserialize',\n",
       " 'elu',\n",
       " 'exponential',\n",
       " 'gelu',\n",
       " 'get',\n",
       " 'hard_sigmoid',\n",
       " 'linear',\n",
       " 'relu',\n",
       " 'selu',\n",
       " 'serialize',\n",
       " 'sigmoid',\n",
       " 'softmax',\n",
       " 'softplus',\n",
       " 'softsign',\n",
       " 'swish',\n",
       " 'tanh']"
      ]
     },
     "execution_count": 9,
     "metadata": {},
     "output_type": "execute_result"
    }
   ],
   "source": [
    "# 看看现在keras中能用的所有激活函数\n",
    "[m for m in dir(keras.activations) if not m.startswith(\"_\")]"
   ]
  },
  {
   "cell_type": "code",
   "execution_count": 10,
   "id": "4cfc6033-9260-4944-b073-c276832ab644",
   "metadata": {},
   "outputs": [
    {
     "data": {
      "text/plain": [
       "['LeakyReLU', 'PReLU', 'ReLU', 'ThresholdedReLU']"
      ]
     },
     "execution_count": 10,
     "metadata": {},
     "output_type": "execute_result"
    }
   ],
   "source": [
    "# 有些激活函数需要特定的层对象\n",
    "[m for m in dir(keras.layers) if \"relu\" in m.lower()]"
   ]
  },
  {
   "cell_type": "markdown",
   "id": "82c33b9c-924b-438e-a947-ea279ae8e9b7",
   "metadata": {},
   "source": [
    "Leaky ReLU激活函数使用实例"
   ]
  },
  {
   "cell_type": "code",
   "execution_count": 11,
   "id": "269759a3-83d5-4e75-be62-2c47b2daaa17",
   "metadata": {},
   "outputs": [],
   "source": [
    "# 还是使用fashion_mnist数据集\n",
    "(X_train_full, y_train_full), (X_test, y_test) = keras.datasets.fashion_mnist.load_data()\n",
    "X_train_full = X_train_full / 255.0\n",
    "X_test = X_test / 255.0\n",
    "X_valid, X_train = X_train_full[:5000], X_train_full[5000:]\n",
    "y_valid, y_train = y_train_full[:5000], y_train_full[5000:]"
   ]
  },
  {
   "cell_type": "code",
   "execution_count": 12,
   "id": "4d364d02-e2ca-4c24-a46a-9570829ae3d8",
   "metadata": {},
   "outputs": [],
   "source": [
    "tf.random.set_seed(42)\n",
    "np.random.seed(42)\n",
    "\n",
    "model = keras.models.Sequential([\n",
    "    keras.layers.Flatten(input_shape=[28, 28]),\n",
    "    # 若想要使用Leaky ReLU激活函数，就需要将LeakyReLU层添加到想要应用的层后面，如下\n",
    "    keras.layers.Dense(300, kernel_initializer=\"he_normal\"), # 要应用Leaky ReLU的层\n",
    "    keras.layers.LeakyReLU(), # 添加到目标应用层的后面\n",
    "    \n",
    "    keras.layers.Dense(100, kernel_initializer=\"he_normal\"),\n",
    "    keras.layers.LeakyReLU(),\n",
    "    keras.layers.Dense(10, activation=\"softmax\")\n",
    "])"
   ]
  },
  {
   "cell_type": "code",
   "execution_count": 13,
   "id": "f0fc0c66-edbd-49ea-b62e-1db0ae9b0ee5",
   "metadata": {
    "tags": []
   },
   "outputs": [
    {
     "data": {
      "image/png": "[encoded data removed]",
      "text/plain": [
       "<IPython.core.display.Image object>"
      ]
     },
     "execution_count": 13,
     "metadata": {},
     "output_type": "execute_result"
    }
   ],
   "source": [
    "keras.utils.plot_model(model, \"使用Leaky ReLU实例.png\", show_shapes=True)"
   ]
  },
  {
   "cell_type": "code",
   "execution_count": 14,
   "id": "5c816e7c-aef8-4e64-a9e1-ea36db49debd",
   "metadata": {},
   "outputs": [
    {
     "name": "stdout",
     "output_type": "stream",
     "text": [
      "Epoch 1/10\n",
      "1719/1719 [==============================] - 4s 2ms/step - loss: 1.2819 - accuracy: 0.6229 - val_loss: 0.8886 - val_accuracy: 0.7160\n",
      "Epoch 2/10\n",
      "1719/1719 [==============================] - 3s 2ms/step - loss: 0.7955 - accuracy: 0.7361 - val_loss: 0.7130 - val_accuracy: 0.7656\n",
      "Epoch 3/10\n",
      "1719/1719 [==============================] - 3s 2ms/step - loss: 0.6816 - accuracy: 0.7721 - val_loss: 0.6426 - val_accuracy: 0.7894\n",
      "Epoch 4/10\n",
      "1719/1719 [==============================] - 3s 2ms/step - loss: 0.6217 - accuracy: 0.7944 - val_loss: 0.5900 - val_accuracy: 0.8062\n",
      "Epoch 5/10\n",
      "1719/1719 [==============================] - 3s 2ms/step - loss: 0.5832 - accuracy: 0.8074 - val_loss: 0.5582 - val_accuracy: 0.8204\n",
      "Epoch 6/10\n",
      "1719/1719 [==============================] - 3s 2ms/step - loss: 0.5553 - accuracy: 0.8157 - val_loss: 0.5350 - val_accuracy: 0.8238\n",
      "Epoch 7/10\n",
      "1719/1719 [==============================] - 3s 2ms/step - loss: 0.5339 - accuracy: 0.8225 - val_loss: 0.5157 - val_accuracy: 0.8306\n",
      "Epoch 8/10\n",
      "1719/1719 [==============================] - 3s 2ms/step - loss: 0.5173 - accuracy: 0.8272 - val_loss: 0.5079 - val_accuracy: 0.8286\n",
      "Epoch 9/10\n",
      "1719/1719 [==============================] - 3s 2ms/step - loss: 0.5040 - accuracy: 0.8289 - val_loss: 0.4895 - val_accuracy: 0.8386\n",
      "Epoch 10/10\n",
      "1719/1719 [==============================] - 3s 2ms/step - loss: 0.4924 - accuracy: 0.8320 - val_loss: 0.4817 - val_accuracy: 0.8396\n"
     ]
    }
   ],
   "source": [
    "model.compile(loss=\"sparse_categorical_crossentropy\",\n",
    "              optimizer=keras.optimizers.SGD(learning_rate=1e-3),\n",
    "              metrics=[\"accuracy\"])\n",
    "\n",
    "history = model.fit(X_train, y_train, epochs=10,\n",
    "                    validation_data=(X_valid, y_valid))"
   ]
  },
  {
   "cell_type": "markdown",
   "id": "b29c1e9e-acb0-463f-8ade-3d70ec40a7f7",
   "metadata": {},
   "source": [
    "非常滴棒棒，接下来再试试PReLU激活函数"
   ]
  },
  {
   "cell_type": "code",
   "execution_count": 15,
   "id": "25be1d0f-eda4-4a8b-890f-da298079923f",
   "metadata": {
    "tags": []
   },
   "outputs": [
    {
     "data": {
      "image/png": "[encoded data removed]",
      "text/plain": [
       "<IPython.core.display.Image object>"
      ]
     },
     "execution_count": 15,
     "metadata": {},
     "output_type": "execute_result"
    }
   ],
   "source": [
    "tf.random.set_seed(42)\n",
    "np.random.seed(42)\n",
    "\n",
    "model = keras.models.Sequential([\n",
    "    keras.layers.Flatten(input_shape=[28, 28]),\n",
    "    # 和Leaky ReLU激活函数的使用方法差不多嗷，也是在目标应用层下面创建PReLU层\n",
    "    keras.layers.Dense(300, kernel_initializer=\"he_normal\"),\n",
    "    keras.layers.PReLU(),\n",
    "    \n",
    "    keras.layers.Dense(100, kernel_initializer=\"he_normal\"),\n",
    "    keras.layers.PReLU(),\n",
    "    keras.layers.Dense(10, activation=\"softmax\")\n",
    "])\n",
    "\n",
    "keras.utils.plot_model(model, \"使用PReLU实例.png\", show_shapes=True)"
   ]
  },
  {
   "cell_type": "code",
   "execution_count": 16,
   "id": "12af3a10-155b-406c-b547-3a0cbd7c4e44",
   "metadata": {},
   "outputs": [
    {
     "name": "stdout",
     "output_type": "stream",
     "text": [
      "Epoch 1/10\n",
      "1719/1719 [==============================] - 3s 2ms/step - loss: 1.3460 - accuracy: 0.6208 - val_loss: 0.9254 - val_accuracy: 0.7186\n",
      "Epoch 2/10\n",
      "1719/1719 [==============================] - 3s 2ms/step - loss: 0.8196 - accuracy: 0.7355 - val_loss: 0.7305 - val_accuracy: 0.7630\n",
      "Epoch 3/10\n",
      "1719/1719 [==============================] - 3s 2ms/step - loss: 0.6965 - accuracy: 0.7694 - val_loss: 0.6564 - val_accuracy: 0.7878\n",
      "Epoch 4/10\n",
      "1719/1719 [==============================] - 3s 2ms/step - loss: 0.6331 - accuracy: 0.7908 - val_loss: 0.6003 - val_accuracy: 0.8046\n",
      "Epoch 5/10\n",
      "1719/1719 [==============================] - 3s 2ms/step - loss: 0.5917 - accuracy: 0.8057 - val_loss: 0.5656 - val_accuracy: 0.8182\n",
      "Epoch 6/10\n",
      "1719/1719 [==============================] - 3s 2ms/step - loss: 0.5618 - accuracy: 0.8136 - val_loss: 0.5406 - val_accuracy: 0.8242\n",
      "Epoch 7/10\n",
      "1719/1719 [==============================] - 3s 2ms/step - loss: 0.5390 - accuracy: 0.8205 - val_loss: 0.5196 - val_accuracy: 0.8312\n",
      "Epoch 8/10\n",
      "1719/1719 [==============================] - 3s 2ms/step - loss: 0.5213 - accuracy: 0.8257 - val_loss: 0.5113 - val_accuracy: 0.8316\n",
      "Epoch 9/10\n",
      "1719/1719 [==============================] - 3s 2ms/step - loss: 0.5070 - accuracy: 0.8288 - val_loss: 0.4916 - val_accuracy: 0.8374\n",
      "Epoch 10/10\n",
      "1719/1719 [==============================] - 3s 2ms/step - loss: 0.4945 - accuracy: 0.8316 - val_loss: 0.4827 - val_accuracy: 0.8396\n"
     ]
    }
   ],
   "source": [
    "model.compile(loss=\"sparse_categorical_crossentropy\",\n",
    "              optimizer=keras.optimizers.SGD(learning_rate=1e-3),\n",
    "              metrics=[\"accuracy\"])\n",
    "\n",
    "history = model.fit(X_train, y_train, epochs=10,\n",
    "                    validation_data=(X_valid, y_valid))"
   ]
  },
  {
   "cell_type": "markdown",
   "id": "43f10f77-8ea0-4810-9541-a5ac128040b7",
   "metadata": {
    "tags": []
   },
   "source": [
    "### ELU 激活函数"
   ]
  },
  {
   "cell_type": "code",
   "execution_count": 17,
   "id": "19885b23-5226-44af-8281-ab467293e025",
   "metadata": {},
   "outputs": [],
   "source": [
    "def elu(z, alpha=1):\n",
    "    return np.where(z < 0, alpha * (np.exp(z) - 1), z)"
   ]
  },
  {
   "cell_type": "code",
   "execution_count": 18,
   "id": "d4f9ca41-8ffd-42ea-956f-7faf3eeeb723",
   "metadata": {
    "tags": []
   },
   "outputs": [
    {
     "name": "stdout",
     "output_type": "stream",
     "text": [
      "Saving figure elu_plot\n"
     ]
    },
    {
     "data": {
      "image/png": "[encoded data removed]",
      "text/plain": [
       "<Figure size 432x288 with 1 Axes>"
      ]
     },
     "metadata": {
      "needs_background": "light"
     },
     "output_type": "display_data"
    }
   ],
   "source": [
    "plt.plot(z, elu(z), \"b-\", linewidth=2)\n",
    "plt.plot([-5, 5], [0, 0], 'k-')\n",
    "plt.plot([-5, 5], [-1, -1], 'k--')\n",
    "plt.plot([0, 0], [-2.2, 3.2], 'k-')\n",
    "plt.grid(True)\n",
    "plt.title(r\"ELU activation function ($\\alpha=1$)\", fontsize=14)\n",
    "plt.axis([-5, 5, -2.2, 3.2])\n",
    "\n",
    "save_fig(\"elu_plot\")\n",
    "plt.show()"
   ]
  },
  {
   "cell_type": "code",
   "execution_count": 19,
   "id": "bf71523a-d2f2-4735-8774-07630c19ed68",
   "metadata": {},
   "outputs": [
    {
     "data": {
      "text/plain": [
       "<keras.layers.core.dense.Dense at 0x290511338b0>"
      ]
     },
     "execution_count": 19,
     "metadata": {},
     "output_type": "execute_result"
    }
   ],
   "source": [
    "keras.layers.Dense(10, activation=\"elu\")"
   ]
  },
  {
   "cell_type": "markdown",
   "id": "39c710f6-d28e-47ad-beed-56326c5db3b4",
   "metadata": {},
   "source": [
    "### SELU 激活函数"
   ]
  },
  {
   "cell_type": "markdown",
   "id": "32abdd1d-2e28-4f32-a8df-fae33b910035",
   "metadata": {},
   "source": [
    "ELU函数的衍生体(可扩展ELU)，效果据说很好，但是对于使用的限制很多，使用时要注意  \n",
    "比如输入的数据必须是标准化的，即均值为0，标准差为1"
   ]
  },
  {
   "cell_type": "code",
   "execution_count": 20,
   "id": "dcc81887-04a5-4a94-a679-1e9ed0c0202c",
   "metadata": {},
   "outputs": [],
   "source": [
    "from scipy.special import erfc\n",
    "\n",
    "# alpha 和 scale 自归一化， 均值为0，标准差为1\n",
    "# (see equation 14 in the paper):\n",
    "alpha_0_1 = -np.sqrt(2 / np.pi) / (erfc(1/np.sqrt(2)) * np.exp(1/2) - 1)\n",
    "scale_0_1 = (1 - erfc(1 / np.sqrt(2)) * np.sqrt(np.e)) * np.sqrt(2 * np.pi) * (2 * erfc(np.sqrt(2))*np.e**2 + np.pi*erfc(1/np.sqrt(2))**2*np.e - 2*(2+np.pi)*erfc(1/np.sqrt(2))*np.sqrt(np.e)+np.pi+2)**(-1/2)"
   ]
  },
  {
   "cell_type": "code",
   "execution_count": 21,
   "id": "5b781807-14c3-4cf5-9bb9-eb846e35e581",
   "metadata": {},
   "outputs": [],
   "source": [
    "def selu(z, scale=scale_0_1, alpha=alpha_0_1):\n",
    "    return scale * elu(z, alpha)"
   ]
  },
  {
   "cell_type": "code",
   "execution_count": 22,
   "id": "b4115508-1934-49d8-b79d-7121f1f6ec11",
   "metadata": {
    "tags": []
   },
   "outputs": [
    {
     "name": "stdout",
     "output_type": "stream",
     "text": [
      "Saving figure selu_plot\n"
     ]
    },
    {
     "data": {
      "image/png": "[encoded data removed]",
      "text/plain": [
       "<Figure size 432x288 with 1 Axes>"
      ]
     },
     "metadata": {
      "needs_background": "light"
     },
     "output_type": "display_data"
    }
   ],
   "source": [
    "plt.plot(z, selu(z), \"b-\", linewidth=2)\n",
    "plt.plot([-5, 5], [0, 0], 'k-')\n",
    "plt.plot([-5, 5], [-1.758, -1.758], 'k--')\n",
    "plt.plot([0, 0], [-2.2, 3.2], 'k-')\n",
    "plt.grid(True)\n",
    "plt.title(\"SELU activation function\", fontsize=14)\n",
    "plt.axis([-5, 5, -2.2, 3.2])\n",
    "\n",
    "save_fig(\"selu_plot\")\n",
    "plt.show()"
   ]
  },
  {
   "cell_type": "markdown",
   "id": "1f50fa89-3e08-49c2-8771-b89bbac9a174",
   "metadata": {},
   "source": [
    "SELU激活函数的超参数(`scale` and `alpha`)是在保证这个前提下得到的，即：  \n",
    "每个神经元和每层神经元的输出均值都在0左右，标准差都在1左右，即使有一千层神经网络，也不会改变这一特性；  \n",
    "有效避免的梯度爆炸或梯度消失"
   ]
  },
  {
   "cell_type": "code",
   "execution_count": 23,
   "id": "c3353ea2-ed83-4059-addc-2d33b1208ab4",
   "metadata": {},
   "outputs": [
    {
     "name": "stdout",
     "output_type": "stream",
     "text": [
      "Layer 0: mean -0.00, std deviation 1.00\n",
      "Layer 100: mean 0.02, std deviation 0.96\n",
      "Layer 200: mean 0.01, std deviation 0.90\n",
      "Layer 300: mean -0.02, std deviation 0.92\n",
      "Layer 400: mean 0.05, std deviation 0.89\n",
      "Layer 500: mean 0.01, std deviation 0.93\n",
      "Layer 600: mean 0.02, std deviation 0.92\n",
      "Layer 700: mean -0.02, std deviation 0.90\n",
      "Layer 800: mean 0.05, std deviation 0.83\n",
      "Layer 900: mean 0.02, std deviation 1.00\n"
     ]
    }
   ],
   "source": [
    "# 模拟一下一千层神经网络下的使用SELU激活函数的各层的输出值的均值和标准差\n",
    "np.random.seed(42)\n",
    "Z = np.random.normal(size=(500, 100)) # 模拟的标准化的输入值\n",
    "for layer in range(1000):\n",
    "    W = np.random.normal(size=(100, 100), scale=np.sqrt(1 / 100)) # LeCun 初始化方法，假设这是某层各神经元权重\n",
    "    Z = selu(np.dot(Z, W)) # 各神经元权重与输入值的点乘就是下一层神经元输入值的输出值之和\n",
    "    means = np.mean(Z, axis=0).mean()\n",
    "    stds = np.std(Z, axis=0).mean()\n",
    "    if layer % 100 == 0:\n",
    "        print(\"Layer {}: mean {:.2f}, std deviation {:.2f}\".format(layer, means, stds))"
   ]
  },
  {
   "cell_type": "code",
   "execution_count": 24,
   "id": "824c5b1f-1559-449f-9412-91c1fe9e318b",
   "metadata": {},
   "outputs": [
    {
     "data": {
      "text/plain": [
       "<keras.layers.core.dense.Dense at 0x29062b2bc10>"
      ]
     },
     "execution_count": 24,
     "metadata": {},
     "output_type": "execute_result"
    }
   ],
   "source": [
    "# 使用selu激活函数的方法很简单\n",
    "keras.layers.Dense(10, activation=\"selu\",\n",
    "                   kernel_initializer=\"lecun_normal\")"
   ]
  },
  {
   "cell_type": "markdown",
   "id": "e80cd065-40f1-4ee7-a386-b851b07870c7",
   "metadata": {},
   "source": [
    "## 批量归一化"
   ]
  },
  {
   "cell_type": "code",
   "execution_count": 25,
   "id": "63269127-9f6b-4217-8dad-86ab1ede92cc",
   "metadata": {},
   "outputs": [],
   "source": [
    "model = keras.models.Sequential([\n",
    "    keras.layers.Flatten(input_shape=[28, 28]),\n",
    "    # 使用方法很简单，只需要在要应用的层前实例化BatchNormalization对象就行\n",
    "    # 虽说放在应用层之后也行，但是建议放在之前\n",
    "    keras.layers.BatchNormalization(),\n",
    "    keras.layers.Dense(300, activation=\"relu\"),\n",
    "    \n",
    "    keras.layers.BatchNormalization(),\n",
    "    keras.layers.Dense(100, activation=\"relu\"),\n",
    "    keras.layers.BatchNormalization(),\n",
    "    keras.layers.Dense(10, activation=\"softmax\")\n",
    "])"
   ]
  },
  {
   "cell_type": "markdown",
   "id": "7a7e000c-689c-4d01-8be7-a051292049ed",
   "metadata": {},
   "source": [
    "看看加入批量归一化的情况吧，可看到神经网络中的归一化层的参数是前一层的4倍  \n",
    "这是因为批量归一化总共有4个参数用以实现归一化"
   ]
  },
  {
   "cell_type": "code",
   "execution_count": 26,
   "id": "16f99ffa-c714-4e7f-9944-14b2ea06ab10",
   "metadata": {
    "tags": []
   },
   "outputs": [
    {
     "name": "stdout",
     "output_type": "stream",
     "text": [
      "Model: \"sequential_2\"\n",
      "_________________________________________________________________\n",
      " Layer (type)                Output Shape              Param #   \n",
      "=================================================================\n",
      " flatten_2 (Flatten)         (None, 784)               0         \n",
      "                                                                 \n",
      " batch_normalization (BatchN  (None, 784)              3136      \n",
      " ormalization)                                                   \n",
      "                                                                 \n",
      " dense_10 (Dense)            (None, 300)               235500    \n",
      "                                                                 \n",
      " batch_normalization_1 (Batc  (None, 300)              1200      \n",
      " hNormalization)                                                 \n",
      "                                                                 \n",
      " dense_11 (Dense)            (None, 100)               30100     \n",
      "                                                                 \n",
      " batch_normalization_2 (Batc  (None, 100)              400       \n",
      " hNormalization)                                                 \n",
      "                                                                 \n",
      " dense_12 (Dense)            (None, 10)                1010      \n",
      "                                                                 \n",
      "=================================================================\n",
      "Total params: 271,346\n",
      "Trainable params: 268,978\n",
      "Non-trainable params: 2,368\n",
      "_________________________________________________________________\n"
     ]
    }
   ],
   "source": [
    "model.summary()"
   ]
  },
  {
   "cell_type": "markdown",
   "id": "1bcb7889-6c60-47c3-ad6a-ee3b302cf80a",
   "metadata": {},
   "source": [
    "如下是BatchNormalization层在网络中的4个参数的情况  \n",
    "可看见其中有2个参数是不可训练的，这两个参数是由完整训练集的数据决定的，所以不受反向传播的影响"
   ]
  },
  {
   "cell_type": "code",
   "execution_count": 27,
   "id": "ddd92d9d-1c20-4dce-965d-421d96ca1faf",
   "metadata": {
    "tags": []
   },
   "outputs": [
    {
     "data": {
      "text/plain": [
       "[('batch_normalization/gamma:0', True),\n",
       " ('batch_normalization/beta:0', True),\n",
       " ('batch_normalization/moving_mean:0', False),\n",
       " ('batch_normalization/moving_variance:0', False)]"
      ]
     },
     "execution_count": 27,
     "metadata": {},
     "output_type": "execute_result"
    }
   ],
   "source": [
    "# 第二层神经元，即批量归一化层\n",
    "bn1 = model.layers[1]\n",
    "[(var.name, var.trainable) for var in bn1.variables]"
   ]
  },
  {
   "cell_type": "code",
   "execution_count": 28,
   "id": "c33d0290-b5fc-4d27-97b0-138edd5a58a0",
   "metadata": {},
   "outputs": [
    {
     "name": "stdout",
     "output_type": "stream",
     "text": [
      "Epoch 1/10\n",
      "1719/1719 [==============================] - 6s 3ms/step - loss: 0.8293 - accuracy: 0.7219 - val_loss: 0.5539 - val_accuracy: 0.8162\n",
      "Epoch 2/10\n",
      "1719/1719 [==============================] - 5s 3ms/step - loss: 0.5703 - accuracy: 0.8035 - val_loss: 0.4792 - val_accuracy: 0.8376\n",
      "Epoch 3/10\n",
      "1719/1719 [==============================] - 5s 3ms/step - loss: 0.5160 - accuracy: 0.8212 - val_loss: 0.4423 - val_accuracy: 0.8490\n",
      "Epoch 4/10\n",
      "1719/1719 [==============================] - 5s 3ms/step - loss: 0.4788 - accuracy: 0.8315 - val_loss: 0.4213 - val_accuracy: 0.8560\n",
      "Epoch 5/10\n",
      "1719/1719 [==============================] - 5s 3ms/step - loss: 0.4547 - accuracy: 0.8406 - val_loss: 0.4050 - val_accuracy: 0.8620\n",
      "Epoch 6/10\n",
      "1719/1719 [==============================] - 5s 3ms/step - loss: 0.4386 - accuracy: 0.8445 - val_loss: 0.3932 - val_accuracy: 0.8634\n",
      "Epoch 7/10\n",
      "1719/1719 [==============================] - 5s 3ms/step - loss: 0.4253 - accuracy: 0.8505 - val_loss: 0.3829 - val_accuracy: 0.8638\n",
      "Epoch 8/10\n",
      "1719/1719 [==============================] - 5s 3ms/step - loss: 0.4123 - accuracy: 0.8542 - val_loss: 0.3760 - val_accuracy: 0.8674\n",
      "Epoch 9/10\n",
      "1719/1719 [==============================] - 5s 3ms/step - loss: 0.4026 - accuracy: 0.8577 - val_loss: 0.3692 - val_accuracy: 0.8680\n",
      "Epoch 10/10\n",
      "1719/1719 [==============================] - 6s 3ms/step - loss: 0.3924 - accuracy: 0.8612 - val_loss: 0.3630 - val_accuracy: 0.8668\n"
     ]
    }
   ],
   "source": [
    "model.compile(loss=\"sparse_categorical_crossentropy\",\n",
    "              optimizer=keras.optimizers.SGD(learning_rate=1e-3),\n",
    "              metrics=[\"accuracy\"])\n",
    "\n",
    "history = model.fit(X_train, y_train, epochs=10,\n",
    "                    validation_data=(X_valid, y_valid))"
   ]
  },
  {
   "cell_type": "markdown",
   "id": "bebf84e3-3a5f-4fc9-bfd0-15d8fee41ee7",
   "metadata": {},
   "source": [
    "建议使用 `BatchNormalization` 层的时候，隐含层不要有偏置项，因为 `BatchNormalization` 层本身就会提供一个偏置项  \n",
    "在定义神经元层的时候通过传递`use_bias=False` 参数就可以不要偏置项"
   ]
  },
  {
   "cell_type": "code",
   "execution_count": 29,
   "id": "f2ba0aa4-9f26-4928-9ed7-075057998062",
   "metadata": {},
   "outputs": [],
   "source": [
    "model = keras.models.Sequential([\n",
    "    keras.layers.Flatten(input_shape=[28, 28]),\n",
    "    keras.layers.BatchNormalization(),\n",
    "    keras.layers.Dense(300, use_bias=False),\n",
    "    keras.layers.BatchNormalization(),\n",
    "    keras.layers.Activation(\"relu\"),\n",
    "    keras.layers.Dense(100, use_bias=False),\n",
    "    keras.layers.BatchNormalization(),\n",
    "    keras.layers.Activation(\"relu\"),\n",
    "    keras.layers.Dense(10, activation=\"softmax\")\n",
    "])"
   ]
  },
  {
   "cell_type": "code",
   "execution_count": 30,
   "id": "267dc082-3923-464a-8d28-da9761238b03",
   "metadata": {},
   "outputs": [
    {
     "name": "stdout",
     "output_type": "stream",
     "text": [
      "Epoch 1/10\n",
      "1719/1719 [==============================] - 6s 3ms/step - loss: 1.0346 - accuracy: 0.6739 - val_loss: 0.6679 - val_accuracy: 0.7882\n",
      "Epoch 2/10\n",
      "1719/1719 [==============================] - 5s 3ms/step - loss: 0.6757 - accuracy: 0.7819 - val_loss: 0.5537 - val_accuracy: 0.8206\n",
      "Epoch 3/10\n",
      "1719/1719 [==============================] - 5s 3ms/step - loss: 0.5962 - accuracy: 0.8022 - val_loss: 0.4996 - val_accuracy: 0.8352\n",
      "Epoch 4/10\n",
      "1719/1719 [==============================] - 5s 3ms/step - loss: 0.5456 - accuracy: 0.8177 - val_loss: 0.4655 - val_accuracy: 0.8462\n",
      "Epoch 5/10\n",
      "1719/1719 [==============================] - 5s 3ms/step - loss: 0.5140 - accuracy: 0.8249 - val_loss: 0.4420 - val_accuracy: 0.8512\n",
      "Epoch 6/10\n",
      "1719/1719 [==============================] - 5s 3ms/step - loss: 0.4916 - accuracy: 0.8310 - val_loss: 0.4239 - val_accuracy: 0.8536\n",
      "Epoch 7/10\n",
      "1719/1719 [==============================] - 5s 3ms/step - loss: 0.4742 - accuracy: 0.8376 - val_loss: 0.4103 - val_accuracy: 0.8578\n",
      "Epoch 8/10\n",
      "1719/1719 [==============================] - 5s 3ms/step - loss: 0.4604 - accuracy: 0.8407 - val_loss: 0.3995 - val_accuracy: 0.8618\n",
      "Epoch 9/10\n",
      "1719/1719 [==============================] - 5s 3ms/step - loss: 0.4466 - accuracy: 0.8459 - val_loss: 0.3911 - val_accuracy: 0.8640\n",
      "Epoch 10/10\n",
      "1719/1719 [==============================] - 5s 3ms/step - loss: 0.4338 - accuracy: 0.8498 - val_loss: 0.3828 - val_accuracy: 0.8676\n"
     ]
    }
   ],
   "source": [
    "model.compile(loss=\"sparse_categorical_crossentropy\",\n",
    "              optimizer=keras.optimizers.SGD(learning_rate=1e-3),\n",
    "              metrics=[\"accuracy\"])\n",
    "\n",
    "history = model.fit(X_train, y_train, epochs=10,\n",
    "                    validation_data=(X_valid, y_valid))"
   ]
  },
  {
   "cell_type": "markdown",
   "id": "6a9ac21e-743a-454e-929b-ca89e90a92bb",
   "metadata": {},
   "source": [
    "通常来说，实例化 `BatchNormalization` 层的时候只要保持默认参数配置就好，但是也有可能遇到需要调整的情况  \n",
    "比如参数——动量 `momentum` 。动量的值最好接近于1，在数据集较大时，可设置为0.9；在数据集较小时，可尝试设置0.9999999"
   ]
  },
  {
   "cell_type": "markdown",
   "id": "fca5a299-2a00-4d86-bf98-77e94480ef8e",
   "metadata": {},
   "source": [
    "### 梯度裁剪"
   ]
  },
  {
   "cell_type": "markdown",
   "id": "f3e72148-b5d6-40fa-a83f-03a408847cbf",
   "metadata": {},
   "source": [
    "通过限制梯度值的方法来避免梯度爆炸的问题  \n",
    "在优化器中可以设置 `clipnorm` 或 `clipvalue` 参数来分别达到使用l2范数或自定义值来裁剪梯度  \n",
    "这个做法就有点像正则化"
   ]
  },
  {
   "cell_type": "code",
   "execution_count": 31,
   "id": "fc5cf4ce-ba3e-43ee-8275-48d30e7d2a55",
   "metadata": {},
   "outputs": [],
   "source": [
    "optimizer = keras.optimizers.SGD(clipvalue=1.0)"
   ]
  },
  {
   "cell_type": "code",
   "execution_count": 32,
   "id": "8c67ef5a-c26b-4536-b6c1-7838662e6775",
   "metadata": {},
   "outputs": [],
   "source": [
    "optimizer = keras.optimizers.SGD(clipnorm=1.0)"
   ]
  },
  {
   "cell_type": "markdown",
   "id": "b5d55b74-e3bc-4875-bcc2-2612d8764c7b",
   "metadata": {},
   "source": [
    "# 重用预训练层"
   ]
  },
  {
   "cell_type": "markdown",
   "id": "21404a8e-f95b-4c65-8ce0-959127f88999",
   "metadata": {},
   "source": [
    "## 重用Keras模型"
   ]
  },
  {
   "cell_type": "markdown",
   "id": "66e98593-fa5b-440c-9edd-7aa2c68002aa",
   "metadata": {},
   "source": [
    "接下来要使用fashion MNIST数据集  \n",
    "要将训练集分成两部分：  \n",
    "* `X_train_A`: 较大的数据集。所有除了凉鞋和衬衫 (classes 5 and 6)的其他所有的8个类别.\n",
    "* `X_train_B`: 较小的数据集。仅包含200个凉鞋和衬衫的图像.\n",
    "\n",
    "验证集和测试集也这么划分，但是不限制图像的数量\n",
    "\n",
    "首先将会使用数据集A训练出一个模型，然后尝试重用这个模型来处理数据集B(二元分类)。  \n",
    "希望模型从任务A中学到的一些知识能应用到任务B中取，因为A任务的类别划分（运动鞋、踝靴、外套、t恤等）与B任务的类别（凉鞋和衬衫）有些相似。  \n",
    "然而，由于使用的是`Dense`层，所以模型其实只有在模式一致的场景才能重用  \n",
    "相比之下，迁移学习在卷积神经网络中的表现会更好，将在第14章中看到这一点"
   ]
  },
  {
   "cell_type": "code",
   "execution_count": 33,
   "id": "215932bf-5de3-4325-9353-fe2e77728cbc",
   "metadata": {},
   "outputs": [],
   "source": [
    "def split_dataset(X, y):\n",
    "    y_5_or_6 = (y == 5) | (y == 6) # 凉鞋或是衬衫\n",
    "    y_A = y[~y_5_or_6]\n",
    "    y_A[y_A > 6] -= 2 # 7, 8, 9 类别序号将变成 5, 6, 7\n",
    "    y_B = (y[y_5_or_6] == 6).astype(np.float32) # 二元分类: 当前输入是否是衬衫 (class 6)?\n",
    "    return ((X[~y_5_or_6], y_A),\n",
    "            (X[y_5_or_6], y_B))\n",
    "\n",
    "(X_train_A, y_train_A), (X_train_B, y_train_B) = split_dataset(X_train, y_train)\n",
    "(X_valid_A, y_valid_A), (X_valid_B, y_valid_B) = split_dataset(X_valid, y_valid)\n",
    "(X_test_A, y_test_A), (X_test_B, y_test_B) = split_dataset(X_test, y_test)\n",
    "X_train_B = X_train_B[:200]\n",
    "y_train_B = y_train_B[:200]"
   ]
  },
  {
   "cell_type": "code",
   "execution_count": 34,
   "id": "fcdcdb54-2980-42a1-996e-6ac9c517cd2e",
   "metadata": {},
   "outputs": [
    {
     "data": {
      "text/plain": [
       "(43986, 28, 28)"
      ]
     },
     "execution_count": 34,
     "metadata": {},
     "output_type": "execute_result"
    }
   ],
   "source": [
    "X_train_A.shape"
   ]
  },
  {
   "cell_type": "code",
   "execution_count": 35,
   "id": "ceff04ee-0985-4c11-bcb3-7c40ed06c8e4",
   "metadata": {},
   "outputs": [
    {
     "data": {
      "text/plain": [
       "(200, 28, 28)"
      ]
     },
     "execution_count": 35,
     "metadata": {},
     "output_type": "execute_result"
    }
   ],
   "source": [
    "X_train_B.shape"
   ]
  },
  {
   "cell_type": "code",
   "execution_count": 36,
   "id": "3f14d714-52df-46ad-8bc8-15ab4e731beb",
   "metadata": {},
   "outputs": [
    {
     "data": {
      "text/plain": [
       "array([4, 0, 5, 7, 7, 7, 4, 4, 3, 4, 0, 1, 6, 3, 4, 3, 2, 6, 5, 3, 4, 5,\n",
       "       1, 3, 4, 2, 0, 6, 7, 1], dtype=uint8)"
      ]
     },
     "execution_count": 36,
     "metadata": {},
     "output_type": "execute_result"
    }
   ],
   "source": [
    "y_train_A[:30]"
   ]
  },
  {
   "cell_type": "code",
   "execution_count": 37,
   "id": "d05a93ef-49ac-4b96-95ac-46466a39829d",
   "metadata": {},
   "outputs": [
    {
     "data": {
      "text/plain": [
       "array([1., 1., 0., 0., 0., 0., 1., 1., 1., 0., 0., 1., 1., 0., 0., 0., 0.,\n",
       "       0., 0., 1., 1., 0., 0., 1., 1., 0., 1., 1., 1., 1.], dtype=float32)"
      ]
     },
     "execution_count": 37,
     "metadata": {},
     "output_type": "execute_result"
    }
   ],
   "source": [
    "y_train_B[:30]"
   ]
  },
  {
   "cell_type": "code",
   "execution_count": 38,
   "id": "82482ade-edd7-434f-8537-388d8c74e013",
   "metadata": {},
   "outputs": [],
   "source": [
    "tf.random.set_seed(42)\n",
    "np.random.seed(42)"
   ]
  },
  {
   "cell_type": "markdown",
   "id": "cdf8c9a6-9be0-419e-a9b1-051100dee350",
   "metadata": {},
   "source": [
    "先整一个任务A的模型"
   ]
  },
  {
   "cell_type": "code",
   "execution_count": 39,
   "id": "cf67ca8e-b9c9-4b98-acfc-80820dbca198",
   "metadata": {},
   "outputs": [],
   "source": [
    "# 先整一个任务A的模型\n",
    "model_A = keras.models.Sequential()\n",
    "model_A.add(keras.layers.Flatten(input_shape=[28, 28]))\n",
    "for n_hidden in (300, 100, 50, 50, 50):\n",
    "    model_A.add(keras.layers.Dense(n_hidden, activation=\"selu\"))\n",
    "model_A.add(keras.layers.Dense(8, activation=\"softmax\"))"
   ]
  },
  {
   "cell_type": "code",
   "execution_count": 40,
   "id": "907da58e-724e-4590-80df-a4bc6f750c88",
   "metadata": {
    "tags": []
   },
   "outputs": [
    {
     "name": "stdout",
     "output_type": "stream",
     "text": [
      "Epoch 1/20\n",
      "1375/1375 [==============================] - 3s 2ms/step - loss: 0.5926 - accuracy: 0.8106 - val_loss: 0.3894 - val_accuracy: 0.8665\n",
      "Epoch 2/20\n",
      "1375/1375 [==============================] - 3s 2ms/step - loss: 0.3523 - accuracy: 0.8785 - val_loss: 0.3287 - val_accuracy: 0.8832\n",
      "Epoch 3/20\n",
      "1375/1375 [==============================] - 3s 2ms/step - loss: 0.3170 - accuracy: 0.8893 - val_loss: 0.3015 - val_accuracy: 0.8986\n",
      "Epoch 4/20\n",
      "1375/1375 [==============================] - 3s 2ms/step - loss: 0.2973 - accuracy: 0.8974 - val_loss: 0.2894 - val_accuracy: 0.9021\n",
      "Epoch 5/20\n",
      "1375/1375 [==============================] - 2s 2ms/step - loss: 0.2834 - accuracy: 0.9022 - val_loss: 0.2776 - val_accuracy: 0.9066\n",
      "Epoch 6/20\n",
      "1375/1375 [==============================] - 2s 2ms/step - loss: 0.2729 - accuracy: 0.9061 - val_loss: 0.2732 - val_accuracy: 0.9068\n",
      "Epoch 7/20\n",
      "1375/1375 [==============================] - 2s 2ms/step - loss: 0.2641 - accuracy: 0.9090 - val_loss: 0.2721 - val_accuracy: 0.9083\n",
      "Epoch 8/20\n",
      "1375/1375 [==============================] - 2s 2ms/step - loss: 0.2573 - accuracy: 0.9125 - val_loss: 0.2590 - val_accuracy: 0.9133\n",
      "Epoch 9/20\n",
      "1375/1375 [==============================] - 2s 2ms/step - loss: 0.2518 - accuracy: 0.9139 - val_loss: 0.2561 - val_accuracy: 0.9145\n",
      "Epoch 10/20\n",
      "1375/1375 [==============================] - 2s 2ms/step - loss: 0.2469 - accuracy: 0.9151 - val_loss: 0.2543 - val_accuracy: 0.9155\n",
      "Epoch 11/20\n",
      "1375/1375 [==============================] - 2s 2ms/step - loss: 0.2422 - accuracy: 0.9178 - val_loss: 0.2495 - val_accuracy: 0.9153\n",
      "Epoch 12/20\n",
      "1375/1375 [==============================] - 2s 2ms/step - loss: 0.2383 - accuracy: 0.9185 - val_loss: 0.2509 - val_accuracy: 0.9128\n",
      "Epoch 13/20\n",
      "1375/1375 [==============================] - 2s 2ms/step - loss: 0.2350 - accuracy: 0.9197 - val_loss: 0.2445 - val_accuracy: 0.9155\n",
      "Epoch 14/20\n",
      "1375/1375 [==============================] - 3s 2ms/step - loss: 0.2315 - accuracy: 0.9213 - val_loss: 0.2416 - val_accuracy: 0.9175\n",
      "Epoch 15/20\n",
      "1375/1375 [==============================] - 3s 2ms/step - loss: 0.2287 - accuracy: 0.9213 - val_loss: 0.2448 - val_accuracy: 0.9198\n",
      "Epoch 16/20\n",
      "1375/1375 [==============================] - 2s 2ms/step - loss: 0.2254 - accuracy: 0.9225 - val_loss: 0.2387 - val_accuracy: 0.9188\n",
      "Epoch 17/20\n",
      "1375/1375 [==============================] - 2s 2ms/step - loss: 0.2230 - accuracy: 0.9233 - val_loss: 0.2409 - val_accuracy: 0.9178\n",
      "Epoch 18/20\n",
      "1375/1375 [==============================] - 2s 2ms/step - loss: 0.2201 - accuracy: 0.9245 - val_loss: 0.2431 - val_accuracy: 0.9150\n",
      "Epoch 19/20\n",
      "1375/1375 [==============================] - 2s 2ms/step - loss: 0.2178 - accuracy: 0.9251 - val_loss: 0.2329 - val_accuracy: 0.9208\n",
      "Epoch 20/20\n",
      "1375/1375 [==============================] - 2s 2ms/step - loss: 0.2156 - accuracy: 0.9260 - val_loss: 0.2332 - val_accuracy: 0.9200\n"
     ]
    }
   ],
   "source": [
    "model_A.compile(loss=\"sparse_categorical_crossentropy\",\n",
    "                optimizer=keras.optimizers.SGD(learning_rate=1e-3),\n",
    "                metrics=[\"accuracy\"])\n",
    "\n",
    "history = model_A.fit(X_train_A, y_train_A, epochs=20,\n",
    "                    validation_data=(X_valid_A, y_valid_A))"
   ]
  },
  {
   "cell_type": "code",
   "execution_count": 41,
   "id": "8f41e870-ae2d-47dd-8c94-a13b37e2cd75",
   "metadata": {},
   "outputs": [],
   "source": [
    "model_A.save(\"my_model_A.h5\")"
   ]
  },
  {
   "cell_type": "markdown",
   "id": "7a68f925-53c0-4186-8442-9b25c3b78523",
   "metadata": {},
   "source": [
    "再整一个独立的任务B的模型做个对照组，看看复用模型A是否有效果"
   ]
  },
  {
   "cell_type": "code",
   "execution_count": 42,
   "id": "46d1c35e-aead-49d3-adda-dc57bc52cbc5",
   "metadata": {},
   "outputs": [],
   "source": [
    "model_B = keras.models.Sequential()\n",
    "model_B.add(keras.layers.Flatten(input_shape=[28, 28]))\n",
    "for n_hidden in (300, 100, 50, 50, 50):\n",
    "    model_B.add(keras.layers.Dense(n_hidden, activation=\"selu\"))\n",
    "model_B.add(keras.layers.Dense(1, activation=\"sigmoid\"))"
   ]
  },
  {
   "cell_type": "code",
   "execution_count": 43,
   "id": "3ad7703b-e2d1-4db9-8c64-9d73f0243691",
   "metadata": {
    "tags": []
   },
   "outputs": [
    {
     "name": "stdout",
     "output_type": "stream",
     "text": [
      "Epoch 1/20\n",
      "7/7 [==============================] - 0s 24ms/step - loss: 0.9573 - accuracy: 0.4650 - val_loss: 0.6311 - val_accuracy: 0.6004\n",
      "Epoch 2/20\n",
      "7/7 [==============================] - 0s 11ms/step - loss: 0.5692 - accuracy: 0.7500 - val_loss: 0.4784 - val_accuracy: 0.8540\n",
      "Epoch 3/20\n",
      "7/7 [==============================] - 0s 10ms/step - loss: 0.4503 - accuracy: 0.8650 - val_loss: 0.4102 - val_accuracy: 0.8945\n",
      "Epoch 4/20\n",
      "7/7 [==============================] - 0s 11ms/step - loss: 0.3879 - accuracy: 0.8950 - val_loss: 0.3647 - val_accuracy: 0.9178\n",
      "Epoch 5/20\n",
      "7/7 [==============================] - 0s 10ms/step - loss: 0.3434 - accuracy: 0.9250 - val_loss: 0.3300 - val_accuracy: 0.9310\n",
      "Epoch 6/20\n",
      "7/7 [==============================] - 0s 11ms/step - loss: 0.3081 - accuracy: 0.9300 - val_loss: 0.3020 - val_accuracy: 0.9402\n",
      "Epoch 7/20\n",
      "7/7 [==============================] - 0s 11ms/step - loss: 0.2801 - accuracy: 0.9350 - val_loss: 0.2804 - val_accuracy: 0.9422\n",
      "Epoch 8/20\n",
      "7/7 [==============================] - 0s 11ms/step - loss: 0.2564 - accuracy: 0.9450 - val_loss: 0.2607 - val_accuracy: 0.9473\n",
      "Epoch 9/20\n",
      "7/7 [==============================] - 0s 10ms/step - loss: 0.2363 - accuracy: 0.9550 - val_loss: 0.2428 - val_accuracy: 0.9523\n",
      "Epoch 10/20\n",
      "7/7 [==============================] - 0s 10ms/step - loss: 0.2188 - accuracy: 0.9600 - val_loss: 0.2281 - val_accuracy: 0.9544\n",
      "Epoch 11/20\n",
      "7/7 [==============================] - 0s 11ms/step - loss: 0.2036 - accuracy: 0.9700 - val_loss: 0.2150 - val_accuracy: 0.9584\n",
      "Epoch 12/20\n",
      "7/7 [==============================] - 0s 11ms/step - loss: 0.1897 - accuracy: 0.9750 - val_loss: 0.2036 - val_accuracy: 0.9584\n",
      "Epoch 13/20\n",
      "7/7 [==============================] - 0s 10ms/step - loss: 0.1772 - accuracy: 0.9750 - val_loss: 0.1931 - val_accuracy: 0.9615\n",
      "Epoch 14/20\n",
      "7/7 [==============================] - 0s 11ms/step - loss: 0.1668 - accuracy: 0.9800 - val_loss: 0.1837 - val_accuracy: 0.9635\n",
      "Epoch 15/20\n",
      "7/7 [==============================] - 0s 11ms/step - loss: 0.1570 - accuracy: 0.9900 - val_loss: 0.1746 - val_accuracy: 0.9686\n",
      "Epoch 16/20\n",
      "7/7 [==============================] - 0s 11ms/step - loss: 0.1481 - accuracy: 0.9900 - val_loss: 0.1674 - val_accuracy: 0.9686\n",
      "Epoch 17/20\n",
      "7/7 [==============================] - 0s 11ms/step - loss: 0.1406 - accuracy: 0.9900 - val_loss: 0.1604 - val_accuracy: 0.9706\n",
      "Epoch 18/20\n",
      "7/7 [==============================] - 0s 11ms/step - loss: 0.1334 - accuracy: 0.9900 - val_loss: 0.1539 - val_accuracy: 0.9706\n",
      "Epoch 19/20\n",
      "7/7 [==============================] - 0s 11ms/step - loss: 0.1268 - accuracy: 0.9900 - val_loss: 0.1483 - val_accuracy: 0.9716\n",
      "Epoch 20/20\n",
      "7/7 [==============================] - 0s 11ms/step - loss: 0.1208 - accuracy: 0.9900 - val_loss: 0.1432 - val_accuracy: 0.9716\n"
     ]
    }
   ],
   "source": [
    "model_B.compile(loss=\"binary_crossentropy\",\n",
    "                optimizer=keras.optimizers.SGD(learning_rate=1e-3),\n",
    "                metrics=[\"accuracy\"])\n",
    "\n",
    "history = model_B.fit(X_train_B, y_train_B, epochs=20,\n",
    "                      validation_data=(X_valid_B, y_valid_B))"
   ]
  },
  {
   "cell_type": "code",
   "execution_count": 44,
   "id": "2e206156-8688-4eec-b79a-ca18b9e0e0dc",
   "metadata": {},
   "outputs": [
    {
     "name": "stdout",
     "output_type": "stream",
     "text": [
      "Model: \"sequential_5\"\n",
      "_________________________________________________________________\n",
      " Layer (type)                Output Shape              Param #   \n",
      "=================================================================\n",
      " flatten_5 (Flatten)         (None, 784)               0         \n",
      "                                                                 \n",
      " dense_22 (Dense)            (None, 300)               235500    \n",
      "                                                                 \n",
      " dense_23 (Dense)            (None, 100)               30100     \n",
      "                                                                 \n",
      " dense_24 (Dense)            (None, 50)                5050      \n",
      "                                                                 \n",
      " dense_25 (Dense)            (None, 50)                2550      \n",
      "                                                                 \n",
      " dense_26 (Dense)            (None, 50)                2550      \n",
      "                                                                 \n",
      " dense_27 (Dense)            (None, 1)                 51        \n",
      "                                                                 \n",
      "=================================================================\n",
      "Total params: 275,801\n",
      "Trainable params: 275,801\n",
      "Non-trainable params: 0\n",
      "_________________________________________________________________\n"
     ]
    }
   ],
   "source": [
    "model_B.summary()"
   ]
  },
  {
   "cell_type": "markdown",
   "id": "b7ece694-987b-469a-86b8-8d8747b2c49a",
   "metadata": {},
   "source": [
    "现在在模型A的基础上做迁移学习适配任务B  \n",
    "\n",
    "* 注意，当前`model_B_on_A` 和 `model_A` 共享一些相同的层，若对`model_B_on_A` 进行训练，则会同时改变两个模型的权重。要避免这种情况，就需要在迁移学习设置的时候对`model_A` 使用*clone_model*进行深度复制"
   ]
  },
  {
   "cell_type": "code",
   "execution_count": 45,
   "id": "f097eb76-e81d-41b5-9e0b-5b36500aacba",
   "metadata": {},
   "outputs": [],
   "source": [
    "model_A_clone = keras.models.clone_model(model_A)\n",
    "model_A_clone.set_weights(model_A.get_weights())\n",
    "# 除了model_A_clone的输出层之外的层全都要\n",
    "model_B_on_A = keras.models.Sequential(model_A_clone.layers[:-1])\n",
    "model_B_on_A.add(keras.layers.Dense(1, activation=\"sigmoid\"))"
   ]
  },
  {
   "cell_type": "code",
   "execution_count": 46,
   "id": "692dfa4a-b2ad-43c8-ae9f-95dce568e778",
   "metadata": {},
   "outputs": [],
   "source": [
    "# 在编译之前需要将每层都设置为不可训练，这样这些层就不会受反向传播的影响而改变权重了\n",
    "# 在训练的一开始由于model_B_on_A的输出层权重是随机的，所以一开始的梯度下降肯定是非常大的，这有可能会使其他层的权重发生过大的变化\n",
    "# 所以就先保持其它层权重不变的情况下先训练几个轮次让输出层权重调整到适当位置，然后再将其他层设置回可训练\n",
    "for layer in model_B_on_A.layers[:-1]:\n",
    "    layer.trainable = False\n",
    "\n",
    "model_B_on_A.compile(loss=\"binary_crossentropy\",\n",
    "                     optimizer=keras.optimizers.SGD(learning_rate=1e-3),\n",
    "                     metrics=[\"accuracy\"])"
   ]
  },
  {
   "cell_type": "code",
   "execution_count": 47,
   "id": "0d002603-e7e4-48b2-824f-0530232b951d",
   "metadata": {
    "tags": []
   },
   "outputs": [
    {
     "name": "stdout",
     "output_type": "stream",
     "text": [
      "Epoch 1/4\n",
      "7/7 [==============================] - 0s 24ms/step - loss: 0.5739 - accuracy: 0.6550 - val_loss: 0.5793 - val_accuracy: 0.6379\n",
      "Epoch 2/4\n",
      "7/7 [==============================] - 0s 11ms/step - loss: 0.5379 - accuracy: 0.6900 - val_loss: 0.5424 - val_accuracy: 0.6826\n",
      "Epoch 3/4\n",
      "7/7 [==============================] - 0s 10ms/step - loss: 0.5017 - accuracy: 0.7350 - val_loss: 0.5107 - val_accuracy: 0.7160\n",
      "Epoch 4/4\n",
      "7/7 [==============================] - 0s 10ms/step - loss: 0.4706 - accuracy: 0.7550 - val_loss: 0.4824 - val_accuracy: 0.7343\n",
      "Epoch 1/16\n",
      "7/7 [==============================] - 0s 25ms/step - loss: 0.4461 - accuracy: 0.7800 - val_loss: 0.4649 - val_accuracy: 0.7546\n",
      "Epoch 2/16\n",
      "7/7 [==============================] - 0s 12ms/step - loss: 0.4282 - accuracy: 0.8100 - val_loss: 0.4464 - val_accuracy: 0.7667\n",
      "Epoch 3/16\n",
      "7/7 [==============================] - 0s 11ms/step - loss: 0.4096 - accuracy: 0.8150 - val_loss: 0.4302 - val_accuracy: 0.7799\n",
      "Epoch 4/16\n",
      "7/7 [==============================] - 0s 11ms/step - loss: 0.3934 - accuracy: 0.8300 - val_loss: 0.4152 - val_accuracy: 0.7921\n",
      "Epoch 5/16\n",
      "7/7 [==============================] - 0s 11ms/step - loss: 0.3786 - accuracy: 0.8350 - val_loss: 0.4006 - val_accuracy: 0.8093\n",
      "Epoch 6/16\n",
      "7/7 [==============================] - 0s 11ms/step - loss: 0.3640 - accuracy: 0.8450 - val_loss: 0.3868 - val_accuracy: 0.8256\n",
      "Epoch 7/16\n",
      "7/7 [==============================] - 0s 11ms/step - loss: 0.3501 - accuracy: 0.8550 - val_loss: 0.3746 - val_accuracy: 0.8387\n",
      "Epoch 8/16\n",
      "7/7 [==============================] - 0s 11ms/step - loss: 0.3379 - accuracy: 0.8650 - val_loss: 0.3629 - val_accuracy: 0.8489\n",
      "Epoch 9/16\n",
      "7/7 [==============================] - 0s 11ms/step - loss: 0.3262 - accuracy: 0.8800 - val_loss: 0.3510 - val_accuracy: 0.8590\n",
      "Epoch 10/16\n",
      "7/7 [==============================] - 0s 11ms/step - loss: 0.3146 - accuracy: 0.9050 - val_loss: 0.3414 - val_accuracy: 0.8661\n",
      "Epoch 11/16\n",
      "7/7 [==============================] - 0s 11ms/step - loss: 0.3048 - accuracy: 0.9100 - val_loss: 0.3316 - val_accuracy: 0.8763\n",
      "Epoch 12/16\n",
      "7/7 [==============================] - 0s 11ms/step - loss: 0.2952 - accuracy: 0.9200 - val_loss: 0.3223 - val_accuracy: 0.8793\n",
      "Epoch 13/16\n",
      "7/7 [==============================] - 0s 11ms/step - loss: 0.2860 - accuracy: 0.9250 - val_loss: 0.3131 - val_accuracy: 0.8874\n",
      "Epoch 14/16\n",
      "7/7 [==============================] - 0s 11ms/step - loss: 0.2769 - accuracy: 0.9350 - val_loss: 0.3053 - val_accuracy: 0.8915\n",
      "Epoch 15/16\n",
      "7/7 [==============================] - 0s 12ms/step - loss: 0.2692 - accuracy: 0.9450 - val_loss: 0.2975 - val_accuracy: 0.8986\n",
      "Epoch 16/16\n",
      "7/7 [==============================] - 0s 11ms/step - loss: 0.2615 - accuracy: 0.9450 - val_loss: 0.2899 - val_accuracy: 0.9047\n"
     ]
    }
   ],
   "source": [
    "history = model_B_on_A.fit(X_train_B, y_train_B, epochs=4,\n",
    "                           validation_data=(X_valid_B, y_valid_B))\n",
    "\n",
    "# 现在输出层权重应该调整的比一开始好多了，再将所有层设置回可训练，以便反向传播\n",
    "for layer in model_B_on_A.layers[:-1]:\n",
    "    layer.trainable = True\n",
    "\n",
    "# 在此时，建议将学习率调小，以免对权重进行太大的改变——那样就丧失了迁移学习的目的了\n",
    "model_B_on_A.compile(loss=\"binary_crossentropy\",\n",
    "                     optimizer=keras.optimizers.SGD(learning_rate=1e-4),\n",
    "                     metrics=[\"accuracy\"])\n",
    "history = model_B_on_A.fit(X_train_B, y_train_B, epochs=16,\n",
    "                           validation_data=(X_valid_B, y_valid_B))"
   ]
  },
  {
   "cell_type": "markdown",
   "id": "679cfabd-e9f0-4f0a-83db-608039e4fa39",
   "metadata": {},
   "source": [
    "看看迁移学习的效果"
   ]
  },
  {
   "cell_type": "code",
   "execution_count": 48,
   "id": "1c2a3448-ed61-4970-8752-fd38600607c8",
   "metadata": {},
   "outputs": [
    {
     "name": "stdout",
     "output_type": "stream",
     "text": [
      "63/63 [==============================] - 0s 2ms/step - loss: 0.1409 - accuracy: 0.9705\n"
     ]
    },
    {
     "data": {
      "text/plain": [
       "[0.14087332785129547, 0.9704999923706055]"
      ]
     },
     "execution_count": 48,
     "metadata": {},
     "output_type": "execute_result"
    }
   ],
   "source": [
    "model_B.evaluate(X_test_B, y_test_B)"
   ]
  },
  {
   "cell_type": "code",
   "execution_count": 49,
   "id": "e4ab5363-22ec-49dc-8942-919dc950201f",
   "metadata": {},
   "outputs": [
    {
     "name": "stdout",
     "output_type": "stream",
     "text": [
      "63/63 [==============================] - 0s 2ms/step - loss: 0.2887 - accuracy: 0.9065\n"
     ]
    },
    {
     "data": {
      "text/plain": [
       "[0.2887372076511383, 0.906499981880188]"
      ]
     },
     "execution_count": 49,
     "metadata": {},
     "output_type": "execute_result"
    }
   ],
   "source": [
    "model_B_on_A.evaluate(X_test_B, y_test_B)"
   ]
  },
  {
   "cell_type": "markdown",
   "id": "0d13c86a-d8eb-4542-97c7-39a0acba2dbb",
   "metadata": {},
   "source": [
    "可见，迁移学习对于密集层组成的神经网络效果不是很好"
   ]
  },
  {
   "cell_type": "markdown",
   "id": "e02f2418-0d7c-40a2-ab9b-4e19965db1f5",
   "metadata": {},
   "source": [
    "# 更快的优化器"
   ]
  },
  {
   "cell_type": "markdown",
   "id": "3a6285e0-8f04-40a5-8049-df305e8bf9d3",
   "metadata": {},
   "source": [
    "## 动量优化"
   ]
  },
  {
   "cell_type": "code",
   "execution_count": 50,
   "id": "96771f24-66ec-4aee-841b-e6fadf993de9",
   "metadata": {},
   "outputs": [],
   "source": [
    "optimizer = keras.optimizers.SGD(learning_rate=0.001, momentum=0.9)"
   ]
  },
  {
   "cell_type": "markdown",
   "id": "f4ea40ca-a142-453c-b300-75b1b09221f4",
   "metadata": {},
   "source": [
    "## Nesterov 动量加速梯度"
   ]
  },
  {
   "cell_type": "code",
   "execution_count": 51,
   "id": "8395924a-ce8a-48d1-89dd-61629c4f8c9f",
   "metadata": {},
   "outputs": [],
   "source": [
    "optimizer = keras.optimizers.SGD(learning_rate=0.001, momentum=0.9, nesterov=True)"
   ]
  },
  {
   "cell_type": "markdown",
   "id": "41de3b32-a3cb-496a-9ba9-a60f32244cf7",
   "metadata": {
    "tags": []
   },
   "source": [
    "## AdaGrad"
   ]
  },
  {
   "cell_type": "markdown",
   "id": "7870976f-f88f-4a8f-9b08-6fc158e5c42c",
   "metadata": {},
   "source": [
    "自适应。优点是早期梯度下降很快，但是缺点是后期学习率缩小的速度太快，导致经常在到达全局最优解前就停止了  \n",
    "但是在简单的如线性回归的任务中变现一直不错  \n",
    "在各变量数值差别较大的应用中有较好的表现，此时损失函数是个拉长的碗状"
   ]
  },
  {
   "cell_type": "code",
   "execution_count": 52,
   "id": "575db60c-672e-4442-b008-a01e851c9c9b",
   "metadata": {},
   "outputs": [],
   "source": [
    "optimizer = keras.optimizers.Adagrad(learning_rate=0.001) # 初始学习率"
   ]
  },
  {
   "cell_type": "markdown",
   "id": "acd47333-65b5-4756-b0ec-d960b366481f",
   "metadata": {},
   "source": [
    "## RMSProp"
   ]
  },
  {
   "cell_type": "markdown",
   "id": "215b6d65-8750-4164-87c7-c32a8a27e54f",
   "metadata": {},
   "source": [
    "自适应。AdaGrad的改进型，引入了指数衰减（就像动量优化那样，只不过参数名变为了rho）  \n",
    "但是有时对于简单的问题，有时并没有AdaGrad更好"
   ]
  },
  {
   "cell_type": "code",
   "execution_count": 53,
   "id": "02a1a9d7-dab5-4654-8993-353d6c81662c",
   "metadata": {},
   "outputs": [],
   "source": [
    "optimizer = keras.optimizers.RMSprop(learning_rate=0.001, rho=0.9) # 初始学习率"
   ]
  },
  {
   "cell_type": "markdown",
   "id": "74f0255b-c0fe-47ef-bdd1-5857fb8ff6e6",
   "metadata": {},
   "source": [
    "## Adam"
   ]
  },
  {
   "cell_type": "markdown",
   "id": "e5c1f446-f19c-41d4-8c60-13df28b0dc77",
   "metadata": {},
   "source": [
    "自适应矩估计。结合了像动量优化和RMSprop的优点，所以有两个超参数"
   ]
  },
  {
   "cell_type": "code",
   "execution_count": 54,
   "id": "f518ab41-fe7a-4138-a88a-4f5bb912bd0d",
   "metadata": {},
   "outputs": [],
   "source": [
    "optimizer = keras.optimizers.Adam(learning_rate=0.001, beta_1=0.9, beta_2=0.999)"
   ]
  },
  {
   "cell_type": "markdown",
   "id": "b6c37345-97a9-4fb3-9f66-b8eb292b3319",
   "metadata": {},
   "source": [
    "## Adamax"
   ]
  },
  {
   "cell_type": "markdown",
   "id": "900d07ae-4a16-4de7-86b1-5e912249cdec",
   "metadata": {},
   "source": [
    "自适应。Adam的改进型。  \n",
    "若将Adam稍加改造，可看成是Adam按照梯度的l2范数来缩放学习率  \n",
    "Adamax按照这个思路，将l2范数换成了l∞范数来缩放学习率  \n",
    "在某些数据集上，会比Adam更稳定"
   ]
  },
  {
   "cell_type": "code",
   "execution_count": 55,
   "id": "d228e247-64ed-420c-9cfe-1ee10cc8440e",
   "metadata": {},
   "outputs": [],
   "source": [
    "optimizer = keras.optimizers.Adamax(learning_rate=0.001, beta_1=0.9, beta_2=0.999)"
   ]
  },
  {
   "cell_type": "markdown",
   "id": "b4d4d46b-daa3-4617-9d7c-b4c26d19cd43",
   "metadata": {},
   "source": [
    "## Nadam"
   ]
  },
  {
   "cell_type": "markdown",
   "id": "dbc3dc58-73d8-41e9-9184-35b49bf0d41b",
   "metadata": {},
   "source": [
    "自适应。相当于在Adam优化中使用Nesterov技巧  \n",
    "通常来说总是比Adam要好，但是有时却不如RMSprop"
   ]
  },
  {
   "cell_type": "code",
   "execution_count": 56,
   "id": "bf9a079c-f7b3-4ff7-b8b7-9cd65a74d6d2",
   "metadata": {},
   "outputs": [],
   "source": [
    "optimizer = keras.optimizers.Nadam(learning_rate=0.001, beta_1=0.9, beta_2=0.999)"
   ]
  },
  {
   "cell_type": "markdown",
   "id": "f7076136-fbb0-4bbd-9d75-a3f270fe5c94",
   "metadata": {},
   "source": [
    "## 学习率调度"
   ]
  },
  {
   "cell_type": "markdown",
   "id": "130ad13b-d46b-4968-a117-30b9d491e507",
   "metadata": {},
   "source": [
    "### 幂调度"
   ]
  },
  {
   "cell_type": "markdown",
   "id": "726b48a9-fd0c-4964-8ddf-a1e3c5246abe",
   "metadata": {},
   "source": [
    "```lr = lr0 / (1 + steps / s)**c```\n",
    "* Keras uses `c=1` and `s = 1 / decay`"
   ]
  },
  {
   "cell_type": "code",
   "execution_count": 57,
   "id": "f161362c-82ae-427f-bdd0-3c17e02707ef",
   "metadata": {},
   "outputs": [],
   "source": [
    "# 每步计算，学习率都会变化\n",
    "optimizer = keras.optimizers.SGD(learning_rate=0.01, decay=1e-4)"
   ]
  },
  {
   "cell_type": "code",
   "execution_count": 58,
   "id": "f3ce1fd2-9068-4eaa-91e6-d6ca015653af",
   "metadata": {},
   "outputs": [],
   "source": [
    "model = keras.models.Sequential([\n",
    "    keras.layers.Flatten(input_shape=[28, 28]),\n",
    "    keras.layers.Dense(300, activation=\"selu\", kernel_initializer=\"lecun_normal\"),\n",
    "    keras.layers.Dense(100, activation=\"selu\", kernel_initializer=\"lecun_normal\"),\n",
    "    keras.layers.Dense(10, activation=\"softmax\")\n",
    "])\n",
    "model.compile(loss=\"sparse_categorical_crossentropy\", optimizer=optimizer, metrics=[\"accuracy\"])"
   ]
  },
  {
   "cell_type": "code",
   "execution_count": 59,
   "id": "b4850449-112f-4363-b938-190c563144ca",
   "metadata": {
    "tags": []
   },
   "outputs": [
    {
     "name": "stdout",
     "output_type": "stream",
     "text": [
      "Epoch 1/25\n",
      "1719/1719 [==============================] - 3s 2ms/step - loss: 0.5955 - accuracy: 0.7946 - val_loss: 0.4741 - val_accuracy: 0.8356\n",
      "Epoch 2/25\n",
      "1719/1719 [==============================] - 3s 1ms/step - loss: 0.4527 - accuracy: 0.8393 - val_loss: 0.4189 - val_accuracy: 0.8580\n",
      "Epoch 3/25\n",
      "1719/1719 [==============================] - 3s 1ms/step - loss: 0.4221 - accuracy: 0.8505 - val_loss: 0.4645 - val_accuracy: 0.8264\n",
      "Epoch 4/25\n",
      "1719/1719 [==============================] - 3s 2ms/step - loss: 0.4041 - accuracy: 0.8579 - val_loss: 0.3974 - val_accuracy: 0.8606\n",
      "Epoch 5/25\n",
      "1719/1719 [==============================] - 3s 1ms/step - loss: 0.3928 - accuracy: 0.8619 - val_loss: 0.3864 - val_accuracy: 0.8636\n",
      "Epoch 6/25\n",
      "1719/1719 [==============================] - 3s 1ms/step - loss: 0.3813 - accuracy: 0.8650 - val_loss: 0.3804 - val_accuracy: 0.8706\n",
      "Epoch 7/25\n",
      "1719/1719 [==============================] - 3s 1ms/step - loss: 0.3740 - accuracy: 0.8673 - val_loss: 0.3753 - val_accuracy: 0.8698\n",
      "Epoch 8/25\n",
      "1719/1719 [==============================] - 3s 1ms/step - loss: 0.3675 - accuracy: 0.8692 - val_loss: 0.3847 - val_accuracy: 0.8650\n",
      "Epoch 9/25\n",
      "1719/1719 [==============================] - 3s 1ms/step - loss: 0.3618 - accuracy: 0.8724 - val_loss: 0.3691 - val_accuracy: 0.8686\n",
      "Epoch 10/25\n",
      "1719/1719 [==============================] - 3s 1ms/step - loss: 0.3564 - accuracy: 0.8732 - val_loss: 0.3640 - val_accuracy: 0.8734\n",
      "Epoch 11/25\n",
      "1719/1719 [==============================] - 3s 2ms/step - loss: 0.3521 - accuracy: 0.8746 - val_loss: 0.3643 - val_accuracy: 0.8728\n",
      "Epoch 12/25\n",
      "1719/1719 [==============================] - 3s 2ms/step - loss: 0.3477 - accuracy: 0.8767 - val_loss: 0.3605 - val_accuracy: 0.8746\n",
      "Epoch 13/25\n",
      "1719/1719 [==============================] - 3s 1ms/step - loss: 0.3445 - accuracy: 0.8774 - val_loss: 0.3592 - val_accuracy: 0.8738\n",
      "Epoch 14/25\n",
      "1719/1719 [==============================] - 3s 1ms/step - loss: 0.3413 - accuracy: 0.8795 - val_loss: 0.3688 - val_accuracy: 0.8688\n",
      "Epoch 15/25\n",
      "1719/1719 [==============================] - 3s 1ms/step - loss: 0.3380 - accuracy: 0.8806 - val_loss: 0.3544 - val_accuracy: 0.8730\n",
      "Epoch 16/25\n",
      "1719/1719 [==============================] - 3s 1ms/step - loss: 0.3354 - accuracy: 0.8816 - val_loss: 0.3519 - val_accuracy: 0.8738\n",
      "Epoch 17/25\n",
      "1719/1719 [==============================] - 3s 1ms/step - loss: 0.3328 - accuracy: 0.8813 - val_loss: 0.3658 - val_accuracy: 0.8706\n",
      "Epoch 18/25\n",
      "1719/1719 [==============================] - 3s 1ms/step - loss: 0.3301 - accuracy: 0.8828 - val_loss: 0.3513 - val_accuracy: 0.8752\n",
      "Epoch 19/25\n",
      "1719/1719 [==============================] - 3s 1ms/step - loss: 0.3281 - accuracy: 0.8834 - val_loss: 0.3513 - val_accuracy: 0.8758\n",
      "Epoch 20/25\n",
      "1719/1719 [==============================] - 3s 2ms/step - loss: 0.3260 - accuracy: 0.8846 - val_loss: 0.3505 - val_accuracy: 0.8768\n",
      "Epoch 21/25\n",
      "1719/1719 [==============================] - 3s 1ms/step - loss: 0.3237 - accuracy: 0.8849 - val_loss: 0.3443 - val_accuracy: 0.8782\n",
      "Epoch 22/25\n",
      "1719/1719 [==============================] - 3s 1ms/step - loss: 0.3218 - accuracy: 0.8857 - val_loss: 0.3427 - val_accuracy: 0.8794\n",
      "Epoch 23/25\n",
      "1719/1719 [==============================] - 3s 1ms/step - loss: 0.3201 - accuracy: 0.8859 - val_loss: 0.3432 - val_accuracy: 0.8784\n",
      "Epoch 24/25\n",
      "1719/1719 [==============================] - 3s 1ms/step - loss: 0.3183 - accuracy: 0.8867 - val_loss: 0.3422 - val_accuracy: 0.8776\n",
      "Epoch 25/25\n",
      "1719/1719 [==============================] - 3s 1ms/step - loss: 0.3169 - accuracy: 0.8873 - val_loss: 0.3445 - val_accuracy: 0.8752\n"
     ]
    }
   ],
   "source": [
    "n_epochs = 25\n",
    "history = model.fit(X_train, y_train, epochs=n_epochs,\n",
    "                    validation_data=(X_valid, y_valid))"
   ]
  },
  {
   "cell_type": "markdown",
   "id": "a58e218e-ac1c-4b18-87f8-308ec0692b38",
   "metadata": {},
   "source": [
    "学习率的幂调度差不多就是这样的"
   ]
  },
  {
   "cell_type": "code",
   "execution_count": 60,
   "id": "39e88fd1-f598-459f-810f-02d0d9b1a61b",
   "metadata": {
    "tags": []
   },
   "outputs": [
    {
     "data": {
      "image/png": "[encoded data removed]",
      "text/plain": [
       "<Figure size 432x288 with 1 Axes>"
      ]
     },
     "metadata": {
      "needs_background": "light"
     },
     "output_type": "display_data"
    }
   ],
   "source": [
    "import math\n",
    "\n",
    "learning_rate = 0.01\n",
    "decay = 1e-4\n",
    "batch_size = 32\n",
    "n_steps_per_epoch = math.ceil(len(X_train) / batch_size)\n",
    "epochs = np.arange(n_epochs)\n",
    "lrs = learning_rate / (1 + decay * epochs * n_steps_per_epoch)\n",
    "\n",
    "plt.plot(epochs, lrs,  \"o-\")\n",
    "plt.axis([0, n_epochs - 1, 0, 0.01])\n",
    "plt.xlabel(\"Epoch\")\n",
    "plt.ylabel(\"Learning Rate\")\n",
    "plt.title(\"Power Scheduling\", fontsize=14)\n",
    "plt.grid(True)\n",
    "plt.show()"
   ]
  },
  {
   "cell_type": "markdown",
   "id": "bf313e08-219f-4b31-84fd-d6780f322d3c",
   "metadata": {},
   "source": [
    "### 指数调度"
   ]
  },
  {
   "cell_type": "markdown",
   "id": "b54d1995-043e-4396-90a1-1650ac32417c",
   "metadata": {},
   "source": [
    "```lr = lr0 * 0.1**(epoch / s)```"
   ]
  },
  {
   "cell_type": "code",
   "execution_count": 61,
   "id": "dcc771b2-ed7c-4980-a42e-138c974b9045",
   "metadata": {},
   "outputs": [],
   "source": [
    "# 可以使用回调函数来实现指数调度，每个轮次结束后就会更新学习率\n",
    "# 回调函数默认接受的第一个参数，是当前轮次的编号\n",
    "def exponential_decay_fn(epoch):\n",
    "    return 0.01 * 0.1**(epoch / 20)"
   ]
  },
  {
   "cell_type": "code",
   "execution_count": 62,
   "id": "1835dfe8-6eda-407e-b39e-b4efdd4e511f",
   "metadata": {},
   "outputs": [],
   "source": [
    "# 但是如果想要更灵活地设置lr0和s，可以这么写\n",
    "def exponential_decay(lr0, s):\n",
    "    def exponential_decay_fn(epoch):\n",
    "        return lr0 * 0.1**(epoch / s)\n",
    "    return exponential_decay_fn\n",
    "\n",
    "exponential_decay_fn = exponential_decay(lr0=0.01, s=20)"
   ]
  },
  {
   "cell_type": "code",
   "execution_count": 63,
   "id": "78f8aeae-fd16-4a5e-a327-ce3d2ecfb593",
   "metadata": {},
   "outputs": [],
   "source": [
    "model = keras.models.Sequential([\n",
    "    keras.layers.Flatten(input_shape=[28, 28]),\n",
    "    keras.layers.Dense(300, activation=\"selu\", kernel_initializer=\"lecun_normal\"),\n",
    "    keras.layers.Dense(100, activation=\"selu\", kernel_initializer=\"lecun_normal\"),\n",
    "    keras.layers.Dense(10, activation=\"softmax\")\n",
    "])\n",
    "model.compile(loss=\"sparse_categorical_crossentropy\", optimizer=\"nadam\", metrics=[\"accuracy\"])\n",
    "n_epochs = 25"
   ]
  },
  {
   "cell_type": "code",
   "execution_count": 64,
   "id": "f7fc7e22-95ec-45fa-8c91-9eff78498e65",
   "metadata": {
    "tags": []
   },
   "outputs": [
    {
     "name": "stdout",
     "output_type": "stream",
     "text": [
      "Epoch 1/25\n",
      "1719/1719 [==============================] - 5s 3ms/step - loss: 0.7258 - accuracy: 0.7628 - val_loss: 0.9545 - val_accuracy: 0.7220 - lr: 0.0100\n",
      "Epoch 2/25\n",
      "1719/1719 [==============================] - 5s 3ms/step - loss: 0.5098 - accuracy: 0.8271 - val_loss: 0.5106 - val_accuracy: 0.7974 - lr: 0.0089\n",
      "Epoch 3/25\n",
      "1719/1719 [==============================] - 5s 3ms/step - loss: 0.4465 - accuracy: 0.8482 - val_loss: 0.7700 - val_accuracy: 0.7642 - lr: 0.0079\n",
      "Epoch 4/25\n",
      "1719/1719 [==============================] - 5s 3ms/step - loss: 0.4044 - accuracy: 0.8611 - val_loss: 0.4233 - val_accuracy: 0.8638 - lr: 0.0071\n",
      "Epoch 5/25\n",
      "1719/1719 [==============================] - 5s 3ms/step - loss: 0.3815 - accuracy: 0.8711 - val_loss: 0.3568 - val_accuracy: 0.8814 - lr: 0.0063\n",
      "Epoch 6/25\n",
      "1719/1719 [==============================] - 5s 3ms/step - loss: 0.3487 - accuracy: 0.8801 - val_loss: 0.3876 - val_accuracy: 0.8768 - lr: 0.0056\n",
      "Epoch 7/25\n",
      "1719/1719 [==============================] - 5s 3ms/step - loss: 0.3327 - accuracy: 0.8857 - val_loss: 0.3856 - val_accuracy: 0.8804 - lr: 0.0050\n",
      "Epoch 8/25\n",
      "1719/1719 [==============================] - 5s 3ms/step - loss: 0.3080 - accuracy: 0.8924 - val_loss: 0.4166 - val_accuracy: 0.8620 - lr: 0.0045\n",
      "Epoch 9/25\n",
      "1719/1719 [==============================] - 5s 3ms/step - loss: 0.2969 - accuracy: 0.8965 - val_loss: 0.3591 - val_accuracy: 0.8822 - lr: 0.0040\n",
      "Epoch 10/25\n",
      "1719/1719 [==============================] - 5s 3ms/step - loss: 0.2779 - accuracy: 0.9013 - val_loss: 0.3439 - val_accuracy: 0.8872 - lr: 0.0035\n",
      "Epoch 11/25\n",
      "1719/1719 [==============================] - 5s 3ms/step - loss: 0.2654 - accuracy: 0.9061 - val_loss: 0.3538 - val_accuracy: 0.8916 - lr: 0.0032\n",
      "Epoch 12/25\n",
      "1719/1719 [==============================] - 5s 3ms/step - loss: 0.2494 - accuracy: 0.9098 - val_loss: 0.3812 - val_accuracy: 0.8842 - lr: 0.0028\n",
      "Epoch 13/25\n",
      "1719/1719 [==============================] - 5s 3ms/step - loss: 0.2389 - accuracy: 0.9151 - val_loss: 0.3437 - val_accuracy: 0.8908 - lr: 0.0025\n",
      "Epoch 14/25\n",
      "1719/1719 [==============================] - 5s 3ms/step - loss: 0.2273 - accuracy: 0.9177 - val_loss: 0.3608 - val_accuracy: 0.8874 - lr: 0.0022\n",
      "Epoch 15/25\n",
      "1719/1719 [==============================] - 5s 3ms/step - loss: 0.2168 - accuracy: 0.9213 - val_loss: 0.3600 - val_accuracy: 0.8918 - lr: 0.0020\n",
      "Epoch 16/25\n",
      "1719/1719 [==============================] - 5s 3ms/step - loss: 0.2078 - accuracy: 0.9248 - val_loss: 0.3536 - val_accuracy: 0.8938 - lr: 0.0018\n",
      "Epoch 17/25\n",
      "1719/1719 [==============================] - 5s 3ms/step - loss: 0.1977 - accuracy: 0.9285 - val_loss: 0.3881 - val_accuracy: 0.8896 - lr: 0.0016\n",
      "Epoch 18/25\n",
      "1719/1719 [==============================] - 5s 3ms/step - loss: 0.1898 - accuracy: 0.9299 - val_loss: 0.3649 - val_accuracy: 0.8942 - lr: 0.0014\n",
      "Epoch 19/25\n",
      "1719/1719 [==============================] - 5s 3ms/step - loss: 0.1821 - accuracy: 0.9343 - val_loss: 0.3597 - val_accuracy: 0.8972 - lr: 0.0013\n",
      "Epoch 20/25\n",
      "1719/1719 [==============================] - 5s 3ms/step - loss: 0.1748 - accuracy: 0.9365 - val_loss: 0.3678 - val_accuracy: 0.8970 - lr: 0.0011\n",
      "Epoch 21/25\n",
      "1719/1719 [==============================] - 5s 3ms/step - loss: 0.1676 - accuracy: 0.9395 - val_loss: 0.3788 - val_accuracy: 0.8966 - lr: 0.0010\n",
      "Epoch 22/25\n",
      "1719/1719 [==============================] - 5s 3ms/step - loss: 0.1621 - accuracy: 0.9411 - val_loss: 0.3819 - val_accuracy: 0.9004 - lr: 8.9125e-04\n",
      "Epoch 23/25\n",
      "1719/1719 [==============================] - 5s 3ms/step - loss: 0.1572 - accuracy: 0.9422 - val_loss: 0.3860 - val_accuracy: 0.8954 - lr: 7.9433e-04\n",
      "Epoch 24/25\n",
      "1719/1719 [==============================] - 5s 3ms/step - loss: 0.1510 - accuracy: 0.9455 - val_loss: 0.3877 - val_accuracy: 0.8976 - lr: 7.0795e-04\n",
      "Epoch 25/25\n",
      "1719/1719 [==============================] - 5s 3ms/step - loss: 0.1468 - accuracy: 0.9470 - val_loss: 0.4046 - val_accuracy: 0.8968 - lr: 6.3096e-04\n"
     ]
    }
   ],
   "source": [
    "# 在自定义回调函数后，要将其传递给keras.callbacks.LearningRateScheduler后才能获得可用于fit方法的回调函数\n",
    "lr_scheduler = keras.callbacks.LearningRateScheduler(exponential_decay_fn)\n",
    "history = model.fit(X_train, y_train, epochs=n_epochs,\n",
    "                    validation_data=(X_valid, y_valid),\n",
    "                    callbacks=[lr_scheduler])"
   ]
  },
  {
   "cell_type": "code",
   "execution_count": 65,
   "id": "cdf51aa2-40be-463d-9283-ff376c2a5528",
   "metadata": {},
   "outputs": [],
   "source": [
    "# 回调函数除了能传递当前轮次编号以外，默认第二个参数就是当前学习率\n",
    "# 于是指数调度的回调函数可以这么写\n",
    "def exponential_decay_fn(epoch, lr):\n",
    "    return lr * 0.1**(1 / 20)"
   ]
  },
  {
   "cell_type": "markdown",
   "id": "85e9e7a3-68cb-43d9-a5ea-e60314973f69",
   "metadata": {},
   "source": [
    "在保存模型的时候，会将模型的优化器和学习率保存下来，所以如果像上面这样写回调函数的话，就可以暂停模型的训练后保存然后之后再导入模型，就可以在中断的地方继续训练  \n",
    "但是如果回调函数中用到了`epoch`就不行了，因为模型的保存不会保存当前的轮次，如果导入模型训练的话，`epoch`就会被重置为0，但是也不是没有解决办法，那就是可以在`fit()`方法中设置`initial_epoch`"
   ]
  },
  {
   "cell_type": "markdown",
   "id": "e7f3556b-cf22-43a7-8487-d5b590ffde0e",
   "metadata": {},
   "source": [
    "每个轮次变一次学习率就像这样"
   ]
  },
  {
   "cell_type": "code",
   "execution_count": 66,
   "id": "227aabcd-2a40-4e3c-9ead-7cc04919f920",
   "metadata": {
    "tags": []
   },
   "outputs": [
    {
     "data": {
      "image/png": "[encoded data removed]",
      "text/plain": [
       "<Figure size 432x288 with 1 Axes>"
      ]
     },
     "metadata": {
      "needs_background": "light"
     },
     "output_type": "display_data"
    }
   ],
   "source": [
    "plt.plot(history.epoch, history.history[\"lr\"], \"o-\")\n",
    "plt.axis([0, n_epochs - 1, 0, 0.011])\n",
    "plt.xlabel(\"Epoch\")\n",
    "plt.ylabel(\"Learning Rate\")\n",
    "plt.title(\"Exponential Scheduling\", fontsize=14)\n",
    "plt.grid(True)\n",
    "plt.show()"
   ]
  },
  {
   "cell_type": "code",
   "execution_count": 67,
   "id": "e7e684d6-4858-437a-a029-26553e0002ee",
   "metadata": {},
   "outputs": [],
   "source": [
    "# 如果想要在每个步骤都改变学习率的话，可以自定义一个回调函数\n",
    "K = keras.backend\n",
    "\n",
    "class ExponentialDecay(keras.callbacks.Callback):\n",
    "    def __init__(self, s=40000):\n",
    "        super().__init__()\n",
    "        self.s = s\n",
    "\n",
    "    def on_batch_begin(self, batch, logs=None):\n",
    "        # 在每个轮次结束之后，batch都会重置\n",
    "        lr = K.get_value(self.model.optimizer.learning_rate)\n",
    "        K.set_value(self.model.optimizer.learning_rate, lr * 0.1**(1 / self.s))\n",
    "\n",
    "    def on_epoch_end(self, epoch, logs=None):\n",
    "        logs = logs or {}\n",
    "        logs['lr'] = K.get_value(self.model.optimizer.learning_rate)"
   ]
  },
  {
   "cell_type": "code",
   "execution_count": 68,
   "id": "f30faf1b-03a3-4c80-ac69-18541907bf78",
   "metadata": {
    "tags": []
   },
   "outputs": [
    {
     "name": "stdout",
     "output_type": "stream",
     "text": [
      "Epoch 1/25\n",
      "1719/1719 [==============================] - 6s 3ms/step - loss: 0.7043 - accuracy: 0.7665 - val_loss: 0.9198 - val_accuracy: 0.7318 - lr: 0.0089\n",
      "Epoch 2/25\n",
      "1719/1719 [==============================] - 5s 3ms/step - loss: 0.5141 - accuracy: 0.8277 - val_loss: 0.4070 - val_accuracy: 0.8658 - lr: 0.0079\n",
      "Epoch 3/25\n",
      "1719/1719 [==============================] - 5s 3ms/step - loss: 0.4450 - accuracy: 0.8513 - val_loss: 0.5482 - val_accuracy: 0.8244 - lr: 0.0071\n",
      "Epoch 4/25\n",
      "1719/1719 [==============================] - 5s 3ms/step - loss: 0.4049 - accuracy: 0.8626 - val_loss: 0.3727 - val_accuracy: 0.8772 - lr: 0.0063\n",
      "Epoch 5/25\n",
      "1719/1719 [==============================] - 5s 3ms/step - loss: 0.3755 - accuracy: 0.8714 - val_loss: 0.3657 - val_accuracy: 0.8768 - lr: 0.0056\n",
      "Epoch 6/25\n",
      "1719/1719 [==============================] - 5s 3ms/step - loss: 0.3486 - accuracy: 0.8798 - val_loss: 0.3874 - val_accuracy: 0.8764 - lr: 0.0050\n",
      "Epoch 7/25\n",
      "1719/1719 [==============================] - 5s 3ms/step - loss: 0.3286 - accuracy: 0.8864 - val_loss: 0.4000 - val_accuracy: 0.8714 - lr: 0.0045\n",
      "Epoch 8/25\n",
      "1719/1719 [==============================] - 5s 3ms/step - loss: 0.3116 - accuracy: 0.8911 - val_loss: 0.3919 - val_accuracy: 0.8738 - lr: 0.0040\n",
      "Epoch 9/25\n",
      "1719/1719 [==============================] - 5s 3ms/step - loss: 0.2918 - accuracy: 0.8963 - val_loss: 0.3378 - val_accuracy: 0.8864 - lr: 0.0035\n",
      "Epoch 10/25\n",
      "1719/1719 [==============================] - 5s 3ms/step - loss: 0.2768 - accuracy: 0.9006 - val_loss: 0.3498 - val_accuracy: 0.8920 - lr: 0.0032\n",
      "Epoch 11/25\n",
      "1719/1719 [==============================] - 5s 3ms/step - loss: 0.2650 - accuracy: 0.9045 - val_loss: 0.3560 - val_accuracy: 0.8890 - lr: 0.0028\n",
      "Epoch 12/25\n",
      "1719/1719 [==============================] - 5s 3ms/step - loss: 0.2518 - accuracy: 0.9077 - val_loss: 0.3628 - val_accuracy: 0.8802 - lr: 0.0025\n",
      "Epoch 13/25\n",
      "1719/1719 [==============================] - 5s 3ms/step - loss: 0.2373 - accuracy: 0.9141 - val_loss: 0.3479 - val_accuracy: 0.8944 - lr: 0.0022\n",
      "Epoch 14/25\n",
      "1719/1719 [==============================] - 5s 3ms/step - loss: 0.2261 - accuracy: 0.9176 - val_loss: 0.3633 - val_accuracy: 0.8838 - lr: 0.0020\n",
      "Epoch 15/25\n",
      "1719/1719 [==============================] - 5s 3ms/step - loss: 0.2168 - accuracy: 0.9213 - val_loss: 0.3471 - val_accuracy: 0.8952 - lr: 0.0018\n",
      "Epoch 16/25\n",
      "1719/1719 [==============================] - 5s 3ms/step - loss: 0.2050 - accuracy: 0.9236 - val_loss: 0.3743 - val_accuracy: 0.8924 - lr: 0.0016\n",
      "Epoch 17/25\n",
      "1719/1719 [==============================] - 5s 3ms/step - loss: 0.1974 - accuracy: 0.9273 - val_loss: 0.3843 - val_accuracy: 0.8900 - lr: 0.0014\n",
      "Epoch 18/25\n",
      "1719/1719 [==============================] - 5s 3ms/step - loss: 0.1889 - accuracy: 0.9304 - val_loss: 0.3688 - val_accuracy: 0.8968 - lr: 0.0013\n",
      "Epoch 19/25\n",
      "1719/1719 [==============================] - 5s 3ms/step - loss: 0.1809 - accuracy: 0.9330 - val_loss: 0.3696 - val_accuracy: 0.8954 - lr: 0.0011\n",
      "Epoch 20/25\n",
      "1719/1719 [==============================] - 5s 3ms/step - loss: 0.1732 - accuracy: 0.9351 - val_loss: 0.3757 - val_accuracy: 0.8924 - lr: 9.9967e-04\n",
      "Epoch 21/25\n",
      "1719/1719 [==============================] - 5s 3ms/step - loss: 0.1665 - accuracy: 0.9384 - val_loss: 0.3894 - val_accuracy: 0.8972 - lr: 8.9094e-04\n",
      "Epoch 22/25\n",
      "1719/1719 [==============================] - 5s 3ms/step - loss: 0.1625 - accuracy: 0.9398 - val_loss: 0.4069 - val_accuracy: 0.8988 - lr: 7.9404e-04\n",
      "Epoch 23/25\n",
      "1719/1719 [==============================] - 5s 3ms/step - loss: 0.1554 - accuracy: 0.9425 - val_loss: 0.4076 - val_accuracy: 0.8954 - lr: 7.0767e-04\n",
      "Epoch 24/25\n",
      "1719/1719 [==============================] - 5s 3ms/step - loss: 0.1509 - accuracy: 0.9448 - val_loss: 0.4156 - val_accuracy: 0.8976 - lr: 6.3071e-04\n",
      "Epoch 25/25\n",
      "1719/1719 [==============================] - 5s 3ms/step - loss: 0.1459 - accuracy: 0.9466 - val_loss: 0.4405 - val_accuracy: 0.8974 - lr: 5.6211e-04\n"
     ]
    }
   ],
   "source": [
    "model = keras.models.Sequential([\n",
    "    keras.layers.Flatten(input_shape=[28, 28]),\n",
    "    keras.layers.Dense(300, activation=\"selu\", kernel_initializer=\"lecun_normal\"),\n",
    "    keras.layers.Dense(100, activation=\"selu\", kernel_initializer=\"lecun_normal\"),\n",
    "    keras.layers.Dense(10, activation=\"softmax\")\n",
    "])\n",
    "lr0 = 0.01\n",
    "optimizer = keras.optimizers.Nadam(learning_rate=lr0)\n",
    "model.compile(loss=\"sparse_categorical_crossentropy\", optimizer=optimizer, metrics=[\"accuracy\"])\n",
    "n_epochs = 25\n",
    "\n",
    "s = 20 * len(X_train) // 32 # 20个轮次中计算步骤的个数 (fit方法默认batch size = 32)\n",
    "exp_decay = ExponentialDecay(s)\n",
    "history = model.fit(X_train, y_train, epochs=n_epochs,\n",
    "                    validation_data=(X_valid, y_valid),\n",
    "                    callbacks=[exp_decay])"
   ]
  },
  {
   "cell_type": "code",
   "execution_count": 69,
   "id": "2b689108-15a5-4834-a019-93e3bbd1357c",
   "metadata": {
    "tags": []
   },
   "outputs": [
    {
     "name": "stdout",
     "output_type": "stream",
     "text": [
      "Epoch 1/25\n",
      "1719/1719 [==============================] - 3s 2ms/step - loss: 0.1358 - accuracy: 0.9504 - val_loss: 0.4355 - val_accuracy: 0.8996\n",
      "Epoch 2/25\n",
      "1719/1719 [==============================] - 3s 1ms/step - loss: 0.1338 - accuracy: 0.9517 - val_loss: 0.4418 - val_accuracy: 0.9002\n",
      "Epoch 3/25\n",
      "1719/1719 [==============================] - 3s 1ms/step - loss: 0.1319 - accuracy: 0.9522 - val_loss: 0.4465 - val_accuracy: 0.8988\n",
      "Epoch 4/25\n",
      "1719/1719 [==============================] - 3s 1ms/step - loss: 0.1311 - accuracy: 0.9529 - val_loss: 0.4411 - val_accuracy: 0.8992\n",
      "Epoch 5/25\n",
      "1719/1719 [==============================] - 3s 1ms/step - loss: 0.1307 - accuracy: 0.9520 - val_loss: 0.4388 - val_accuracy: 0.8998\n",
      "Epoch 6/25\n",
      "1719/1719 [==============================] - 3s 1ms/step - loss: 0.1299 - accuracy: 0.9531 - val_loss: 0.4468 - val_accuracy: 0.8988\n",
      "Epoch 7/25\n",
      "1719/1719 [==============================] - 3s 1ms/step - loss: 0.1290 - accuracy: 0.9532 - val_loss: 0.4448 - val_accuracy: 0.8994\n",
      "Epoch 8/25\n",
      "1719/1719 [==============================] - 3s 1ms/step - loss: 0.1286 - accuracy: 0.9532 - val_loss: 0.4457 - val_accuracy: 0.8978\n",
      "Epoch 9/25\n",
      "1719/1719 [==============================] - 3s 1ms/step - loss: 0.1279 - accuracy: 0.9533 - val_loss: 0.4475 - val_accuracy: 0.8986\n",
      "Epoch 10/25\n",
      "1719/1719 [==============================] - 3s 1ms/step - loss: 0.1276 - accuracy: 0.9541 - val_loss: 0.4501 - val_accuracy: 0.8984\n",
      "Epoch 11/25\n",
      "1719/1719 [==============================] - 3s 1ms/step - loss: 0.1276 - accuracy: 0.9539 - val_loss: 0.4481 - val_accuracy: 0.8978\n",
      "Epoch 12/25\n",
      "1719/1719 [==============================] - 3s 1ms/step - loss: 0.1271 - accuracy: 0.9541 - val_loss: 0.4536 - val_accuracy: 0.8990\n",
      "Epoch 13/25\n",
      "1719/1719 [==============================] - 3s 1ms/step - loss: 0.1271 - accuracy: 0.9541 - val_loss: 0.4472 - val_accuracy: 0.8980\n",
      "Epoch 14/25\n",
      "1719/1719 [==============================] - 3s 1ms/step - loss: 0.1268 - accuracy: 0.9538 - val_loss: 0.4501 - val_accuracy: 0.8998\n",
      "Epoch 15/25\n",
      "1719/1719 [==============================] - 3s 1ms/step - loss: 0.1264 - accuracy: 0.9544 - val_loss: 0.4495 - val_accuracy: 0.8978\n",
      "Epoch 16/25\n",
      "1719/1719 [==============================] - 3s 1ms/step - loss: 0.1264 - accuracy: 0.9542 - val_loss: 0.4497 - val_accuracy: 0.8980\n",
      "Epoch 17/25\n",
      "1719/1719 [==============================] - 3s 1ms/step - loss: 0.1263 - accuracy: 0.9541 - val_loss: 0.4490 - val_accuracy: 0.8986\n",
      "Epoch 18/25\n",
      "1719/1719 [==============================] - 3s 2ms/step - loss: 0.1260 - accuracy: 0.9540 - val_loss: 0.4493 - val_accuracy: 0.8996\n",
      "Epoch 19/25\n",
      "1719/1719 [==============================] - 3s 1ms/step - loss: 0.1260 - accuracy: 0.9542 - val_loss: 0.4521 - val_accuracy: 0.8996\n",
      "Epoch 20/25\n",
      "1719/1719 [==============================] - 3s 1ms/step - loss: 0.1259 - accuracy: 0.9543 - val_loss: 0.4488 - val_accuracy: 0.8990\n",
      "Epoch 21/25\n",
      "1719/1719 [==============================] - 3s 1ms/step - loss: 0.1257 - accuracy: 0.9544 - val_loss: 0.4512 - val_accuracy: 0.8988\n",
      "Epoch 22/25\n",
      "1719/1719 [==============================] - 3s 1ms/step - loss: 0.1256 - accuracy: 0.9547 - val_loss: 0.4507 - val_accuracy: 0.8984\n",
      "Epoch 23/25\n",
      "1719/1719 [==============================] - 3s 1ms/step - loss: 0.1256 - accuracy: 0.9543 - val_loss: 0.4498 - val_accuracy: 0.8994\n",
      "Epoch 24/25\n",
      "1719/1719 [==============================] - 3s 2ms/step - loss: 0.1255 - accuracy: 0.9548 - val_loss: 0.4510 - val_accuracy: 0.8990\n",
      "Epoch 25/25\n",
      "1719/1719 [==============================] - 3s 1ms/step - loss: 0.1254 - accuracy: 0.9545 - val_loss: 0.4526 - val_accuracy: 0.8986\n"
     ]
    }
   ],
   "source": [
    "# 但是，也可以使用keras自带的Learning rate schedules API 来实现每个步骤都改变学习率\n",
    "s = 20 * len(X_train) // 32 # 20个轮次中计算步骤的个数 (fit方法默认batch size = 32)\n",
    "learning_rate = keras.optimizers.schedules.ExponentialDecay(initial_learning_rate = 0.01, decay_steps = s, decay_rate = 0.1)\n",
    "optimizer = keras.optimizers.SGD(learning_rate)\n",
    "model.compile(loss=\"sparse_categorical_crossentropy\", optimizer=optimizer, metrics=[\"accuracy\"])\n",
    "n_epochs = 25\n",
    "history = model.fit(X_train, y_train, epochs=n_epochs,\n",
    "                    validation_data=(X_valid, y_valid))"
   ]
  },
  {
   "cell_type": "markdown",
   "id": "dff44bcc-b5b9-461a-a9c3-15b4bce2c246",
   "metadata": {},
   "source": [
    "每个计算步骤变一次学习率就像这样"
   ]
  },
  {
   "cell_type": "code",
   "execution_count": 70,
   "id": "8be2e526-6852-4c3f-bb20-b471679ce027",
   "metadata": {
    "tags": []
   },
   "outputs": [
    {
     "data": {
      "image/png": "[encoded data removed]",
      "text/plain": [
       "<Figure size 432x288 with 1 Axes>"
      ]
     },
     "metadata": {
      "needs_background": "light"
     },
     "output_type": "display_data"
    }
   ],
   "source": [
    "n_steps = n_epochs * len(X_train) // 32\n",
    "steps = np.arange(n_steps)\n",
    "lrs = lr0 * 0.1**(steps / s)\n",
    "\n",
    "plt.plot(steps, lrs, \"-\", linewidth=2)\n",
    "plt.axis([0, n_steps - 1, 0, lr0 * 1.1])\n",
    "plt.xlabel(\"Batch\")\n",
    "plt.ylabel(\"Learning Rate\")\n",
    "plt.title(\"Exponential Scheduling (per batch)\", fontsize=14)\n",
    "plt.grid(True)\n",
    "plt.show()"
   ]
  },
  {
   "cell_type": "markdown",
   "id": "8fc9848a-bc3f-4406-9409-94dbc40c26fa",
   "metadata": {},
   "source": [
    "### 分段常数调度"
   ]
  },
  {
   "cell_type": "markdown",
   "id": "b560ab4c-dfed-47e8-989c-b84a71f68f6e",
   "metadata": {},
   "source": [
    "分段常数调度依然依靠回调函数来实现"
   ]
  },
  {
   "cell_type": "code",
   "execution_count": 71,
   "id": "d531113a-df96-4e7c-920f-2d2173267b35",
   "metadata": {},
   "outputs": [],
   "source": [
    "def piecewise_constant_fn(epoch):\n",
    "    if epoch < 5:\n",
    "        return 0.01\n",
    "    elif epoch < 15:\n",
    "        return 0.005\n",
    "    else:\n",
    "        return 0.001"
   ]
  },
  {
   "cell_type": "code",
   "execution_count": 72,
   "id": "8e38bed7-9770-43f6-8d11-6f8f681ac6cf",
   "metadata": {},
   "outputs": [],
   "source": [
    "def piecewise_constant(boundaries, values):\n",
    "    boundaries = np.array([0] + boundaries)\n",
    "    values = np.array(values)\n",
    "    def piecewise_constant_fn(epoch):\n",
    "        return values[np.argmax(boundaries > epoch) - 1]\n",
    "    return piecewise_constant_fn\n",
    "\n",
    "piecewise_constant_fn = piecewise_constant([5, 15], [0.01, 0.005, 0.001])"
   ]
  },
  {
   "cell_type": "code",
   "execution_count": 73,
   "id": "9cf9d783-aa17-4a35-a56f-22b2bf198da0",
   "metadata": {
    "tags": []
   },
   "outputs": [
    {
     "name": "stdout",
     "output_type": "stream",
     "text": [
      "Epoch 1/25\n",
      "1719/1719 [==============================] - 5s 3ms/step - loss: 0.7213 - accuracy: 0.7620 - val_loss: 0.9261 - val_accuracy: 0.7326 - lr: 0.0100\n",
      "Epoch 2/25\n",
      "1719/1719 [==============================] - 5s 3ms/step - loss: 0.5608 - accuracy: 0.8128 - val_loss: 0.5186 - val_accuracy: 0.8218 - lr: 0.0100\n",
      "Epoch 3/25\n",
      "1719/1719 [==============================] - 5s 3ms/step - loss: 0.4993 - accuracy: 0.8343 - val_loss: 0.7733 - val_accuracy: 0.7692 - lr: 0.0100\n",
      "Epoch 4/25\n",
      "1719/1719 [==============================] - 5s 3ms/step - loss: 0.4704 - accuracy: 0.8454 - val_loss: 0.3963 - val_accuracy: 0.8698 - lr: 0.0100\n",
      "Epoch 5/25\n",
      "1719/1719 [==============================] - 5s 3ms/step - loss: 0.4629 - accuracy: 0.8501 - val_loss: 0.4833 - val_accuracy: 0.8418 - lr: 0.0100\n",
      "Epoch 6/25\n",
      "1719/1719 [==============================] - 5s 3ms/step - loss: 0.3510 - accuracy: 0.8783 - val_loss: 0.3819 - val_accuracy: 0.8760 - lr: 0.0050\n",
      "Epoch 7/25\n",
      "1719/1719 [==============================] - 5s 3ms/step - loss: 0.3414 - accuracy: 0.8831 - val_loss: 0.3823 - val_accuracy: 0.8814 - lr: 0.0050\n",
      "Epoch 8/25\n",
      "1719/1719 [==============================] - 5s 3ms/step - loss: 0.3333 - accuracy: 0.8846 - val_loss: 0.4284 - val_accuracy: 0.8618 - lr: 0.0050\n",
      "Epoch 9/25\n",
      "1719/1719 [==============================] - 5s 3ms/step - loss: 0.3287 - accuracy: 0.8859 - val_loss: 0.4169 - val_accuracy: 0.8682 - lr: 0.0050\n",
      "Epoch 10/25\n",
      "1719/1719 [==============================] - 5s 3ms/step - loss: 0.3185 - accuracy: 0.8898 - val_loss: 0.3965 - val_accuracy: 0.8830 - lr: 0.0050\n",
      "Epoch 11/25\n",
      "1719/1719 [==============================] - 5s 3ms/step - loss: 0.3119 - accuracy: 0.8931 - val_loss: 0.3964 - val_accuracy: 0.8796 - lr: 0.0050\n",
      "Epoch 12/25\n",
      "1719/1719 [==============================] - 5s 3ms/step - loss: 0.3131 - accuracy: 0.8939 - val_loss: 0.4212 - val_accuracy: 0.8750 - lr: 0.0050\n",
      "Epoch 13/25\n",
      "1719/1719 [==============================] - 5s 3ms/step - loss: 0.3031 - accuracy: 0.8954 - val_loss: 0.4208 - val_accuracy: 0.8756 - lr: 0.0050\n",
      "Epoch 14/25\n",
      "1719/1719 [==============================] - 5s 3ms/step - loss: 0.3009 - accuracy: 0.8979 - val_loss: 0.3804 - val_accuracy: 0.8814 - lr: 0.0050\n",
      "Epoch 15/25\n",
      "1719/1719 [==============================] - 5s 3ms/step - loss: 0.2921 - accuracy: 0.9003 - val_loss: 0.4294 - val_accuracy: 0.8846 - lr: 0.0050\n",
      "Epoch 16/25\n",
      "1719/1719 [==============================] - 5s 3ms/step - loss: 0.2208 - accuracy: 0.9204 - val_loss: 0.3579 - val_accuracy: 0.8944 - lr: 0.0010\n",
      "Epoch 17/25\n",
      "1719/1719 [==============================] - 5s 3ms/step - loss: 0.2126 - accuracy: 0.9225 - val_loss: 0.3591 - val_accuracy: 0.8954 - lr: 0.0010\n",
      "Epoch 18/25\n",
      "1719/1719 [==============================] - 5s 3ms/step - loss: 0.2084 - accuracy: 0.9239 - val_loss: 0.3568 - val_accuracy: 0.8934 - lr: 0.0010\n",
      "Epoch 19/25\n",
      "1719/1719 [==============================] - 5s 3ms/step - loss: 0.2027 - accuracy: 0.9252 - val_loss: 0.3597 - val_accuracy: 0.8914 - lr: 0.0010\n",
      "Epoch 20/25\n",
      "1719/1719 [==============================] - 5s 3ms/step - loss: 0.2001 - accuracy: 0.9278 - val_loss: 0.3633 - val_accuracy: 0.8932 - lr: 0.0010\n",
      "Epoch 21/25\n",
      "1719/1719 [==============================] - 5s 3ms/step - loss: 0.1948 - accuracy: 0.9298 - val_loss: 0.3759 - val_accuracy: 0.8908 - lr: 0.0010\n",
      "Epoch 22/25\n",
      "1719/1719 [==============================] - 5s 3ms/step - loss: 0.1929 - accuracy: 0.9289 - val_loss: 0.3851 - val_accuracy: 0.8920 - lr: 0.0010\n",
      "Epoch 23/25\n",
      "1719/1719 [==============================] - 5s 3ms/step - loss: 0.1890 - accuracy: 0.9311 - val_loss: 0.3833 - val_accuracy: 0.8878 - lr: 0.0010\n",
      "Epoch 24/25\n",
      "1719/1719 [==============================] - 5s 3ms/step - loss: 0.1879 - accuracy: 0.9316 - val_loss: 0.3877 - val_accuracy: 0.8964 - lr: 0.0010\n",
      "Epoch 25/25\n",
      "1719/1719 [==============================] - 5s 3ms/step - loss: 0.1843 - accuracy: 0.9328 - val_loss: 0.4155 - val_accuracy: 0.8916 - lr: 0.0010\n"
     ]
    }
   ],
   "source": [
    "lr_scheduler = keras.callbacks.LearningRateScheduler(piecewise_constant_fn)\n",
    "\n",
    "model = keras.models.Sequential([\n",
    "    keras.layers.Flatten(input_shape=[28, 28]),\n",
    "    keras.layers.Dense(300, activation=\"selu\", kernel_initializer=\"lecun_normal\"),\n",
    "    keras.layers.Dense(100, activation=\"selu\", kernel_initializer=\"lecun_normal\"),\n",
    "    keras.layers.Dense(10, activation=\"softmax\")\n",
    "])\n",
    "model.compile(loss=\"sparse_categorical_crossentropy\", optimizer=\"nadam\", metrics=[\"accuracy\"])\n",
    "n_epochs = 25\n",
    "history = model.fit(X_train, y_train, epochs=n_epochs,\n",
    "                    validation_data=(X_valid, y_valid),\n",
    "                    callbacks=[lr_scheduler])"
   ]
  },
  {
   "cell_type": "markdown",
   "id": "6a8dd75d-fe81-469d-910b-ac7bdc492f7b",
   "metadata": {},
   "source": [
    "分段常数调度非常好理解，就像这样"
   ]
  },
  {
   "cell_type": "code",
   "execution_count": 74,
   "id": "0d6c6202-7afc-414b-a4c3-706303e2dd4f",
   "metadata": {
    "tags": []
   },
   "outputs": [
    {
     "data": {
      "image/png": "[encoded data removed]",
      "text/plain": [
       "<Figure size 432x288 with 1 Axes>"
      ]
     },
     "metadata": {
      "needs_background": "light"
     },
     "output_type": "display_data"
    }
   ],
   "source": [
    "plt.plot(history.epoch, [piecewise_constant_fn(epoch) for epoch in history.epoch], \"o-\")\n",
    "plt.axis([0, n_epochs - 1, 0, 0.011])\n",
    "plt.xlabel(\"Epoch\")\n",
    "plt.ylabel(\"Learning Rate\")\n",
    "plt.title(\"Piecewise Constant Scheduling\", fontsize=14)\n",
    "plt.grid(True)\n",
    "plt.show()"
   ]
  },
  {
   "cell_type": "markdown",
   "id": "7a51a9e0-8a00-4fb3-8275-a50ebb02a28d",
   "metadata": {},
   "source": [
    "### 性能调度"
   ]
  },
  {
   "cell_type": "markdown",
   "id": "dcc20e9f-f7f8-4d0e-8336-0f8b3d62885e",
   "metadata": {},
   "source": [
    "性能调度和其他的调度都不太一样  \n",
    "它会在每N步就验证一下误差，当误差停止下降时，就将学习率降低$\\lambda$倍，就行提前停止一样  \n",
    "使用keras自带的回调函数就可以实现"
   ]
  },
  {
   "cell_type": "code",
   "execution_count": 75,
   "id": "5501cae0-845d-43cb-b0a6-73efd58106c6",
   "metadata": {
    "tags": []
   },
   "outputs": [
    {
     "name": "stdout",
     "output_type": "stream",
     "text": [
      "Epoch 1/25\n",
      "1719/1719 [==============================] - 3s 2ms/step - loss: 0.5525 - accuracy: 0.8018 - val_loss: 0.4654 - val_accuracy: 0.8380 - lr: 0.0200\n",
      "Epoch 2/25\n",
      "1719/1719 [==============================] - 3s 1ms/step - loss: 0.4366 - accuracy: 0.8433 - val_loss: 0.4557 - val_accuracy: 0.8436 - lr: 0.0200\n",
      "Epoch 3/25\n",
      "1719/1719 [==============================] - 3s 1ms/step - loss: 0.4158 - accuracy: 0.8500 - val_loss: 0.3838 - val_accuracy: 0.8600 - lr: 0.0200\n",
      "Epoch 4/25\n",
      "1719/1719 [==============================] - 3s 1ms/step - loss: 0.3961 - accuracy: 0.8570 - val_loss: 0.3968 - val_accuracy: 0.8672 - lr: 0.0200\n",
      "Epoch 5/25\n",
      "1719/1719 [==============================] - 3s 1ms/step - loss: 0.3790 - accuracy: 0.8641 - val_loss: 0.3614 - val_accuracy: 0.8668 - lr: 0.0200\n",
      "Epoch 6/25\n",
      "1719/1719 [==============================] - 3s 2ms/step - loss: 0.3687 - accuracy: 0.8687 - val_loss: 0.3860 - val_accuracy: 0.8716 - lr: 0.0200\n",
      "Epoch 7/25\n",
      "1719/1719 [==============================] - 3s 1ms/step - loss: 0.3649 - accuracy: 0.8701 - val_loss: 0.3745 - val_accuracy: 0.8720 - lr: 0.0200\n",
      "Epoch 8/25\n",
      "1719/1719 [==============================] - 3s 1ms/step - loss: 0.3530 - accuracy: 0.8731 - val_loss: 0.4553 - val_accuracy: 0.8574 - lr: 0.0200\n",
      "Epoch 9/25\n",
      "1719/1719 [==============================] - 3s 1ms/step - loss: 0.3438 - accuracy: 0.8767 - val_loss: 0.3471 - val_accuracy: 0.8856 - lr: 0.0200\n",
      "Epoch 10/25\n",
      "1719/1719 [==============================] - 3s 1ms/step - loss: 0.3366 - accuracy: 0.8779 - val_loss: 0.4438 - val_accuracy: 0.8636 - lr: 0.0200\n",
      "Epoch 11/25\n",
      "1719/1719 [==============================] - 3s 1ms/step - loss: 0.3300 - accuracy: 0.8810 - val_loss: 0.4299 - val_accuracy: 0.8690 - lr: 0.0200\n",
      "Epoch 12/25\n",
      "1719/1719 [==============================] - 3s 2ms/step - loss: 0.3299 - accuracy: 0.8813 - val_loss: 0.4084 - val_accuracy: 0.8692 - lr: 0.0200\n",
      "Epoch 13/25\n",
      "1719/1719 [==============================] - 3s 2ms/step - loss: 0.3240 - accuracy: 0.8845 - val_loss: 0.3858 - val_accuracy: 0.8666 - lr: 0.0200\n",
      "Epoch 14/25\n",
      "1719/1719 [==============================] - 3s 1ms/step - loss: 0.3173 - accuracy: 0.8857 - val_loss: 0.3567 - val_accuracy: 0.8762 - lr: 0.0200\n",
      "Epoch 15/25\n",
      "1719/1719 [==============================] - 3s 1ms/step - loss: 0.2326 - accuracy: 0.9135 - val_loss: 0.3271 - val_accuracy: 0.8898 - lr: 0.0100\n",
      "Epoch 16/25\n",
      "1719/1719 [==============================] - 3s 2ms/step - loss: 0.2208 - accuracy: 0.9169 - val_loss: 0.3321 - val_accuracy: 0.8902 - lr: 0.0100\n",
      "Epoch 17/25\n",
      "1719/1719 [==============================] - 3s 1ms/step - loss: 0.2148 - accuracy: 0.9188 - val_loss: 0.3426 - val_accuracy: 0.8818 - lr: 0.0100\n",
      "Epoch 18/25\n",
      "1719/1719 [==============================] - 3s 2ms/step - loss: 0.2104 - accuracy: 0.9189 - val_loss: 0.3433 - val_accuracy: 0.8888 - lr: 0.0100\n",
      "Epoch 19/25\n",
      "1719/1719 [==============================] - 3s 2ms/step - loss: 0.2050 - accuracy: 0.9221 - val_loss: 0.3323 - val_accuracy: 0.8948 - lr: 0.0100\n",
      "Epoch 20/25\n",
      "1719/1719 [==============================] - 3s 1ms/step - loss: 0.2003 - accuracy: 0.9237 - val_loss: 0.3286 - val_accuracy: 0.8914 - lr: 0.0100\n",
      "Epoch 21/25\n",
      "1719/1719 [==============================] - 3s 1ms/step - loss: 0.1660 - accuracy: 0.9366 - val_loss: 0.3196 - val_accuracy: 0.8974 - lr: 0.0050\n",
      "Epoch 22/25\n",
      "1719/1719 [==============================] - 3s 2ms/step - loss: 0.1608 - accuracy: 0.9386 - val_loss: 0.3188 - val_accuracy: 0.8962 - lr: 0.0050\n",
      "Epoch 23/25\n",
      "1719/1719 [==============================] - 3s 1ms/step - loss: 0.1560 - accuracy: 0.9405 - val_loss: 0.3235 - val_accuracy: 0.8992 - lr: 0.0050\n",
      "Epoch 24/25\n",
      "1719/1719 [==============================] - 3s 1ms/step - loss: 0.1536 - accuracy: 0.9406 - val_loss: 0.3304 - val_accuracy: 0.8976 - lr: 0.0050\n",
      "Epoch 25/25\n",
      "1719/1719 [==============================] - 3s 2ms/step - loss: 0.1505 - accuracy: 0.9412 - val_loss: 0.3504 - val_accuracy: 0.8960 - lr: 0.0050\n"
     ]
    }
   ],
   "source": [
    "lr_scheduler = keras.callbacks.ReduceLROnPlateau(factor=0.5, patience=5)\n",
    "\n",
    "model = keras.models.Sequential([\n",
    "    keras.layers.Flatten(input_shape=[28, 28]),\n",
    "    keras.layers.Dense(300, activation=\"selu\", kernel_initializer=\"lecun_normal\"),\n",
    "    keras.layers.Dense(100, activation=\"selu\", kernel_initializer=\"lecun_normal\"),\n",
    "    keras.layers.Dense(10, activation=\"softmax\")\n",
    "])\n",
    "optimizer = keras.optimizers.SGD(learning_rate=0.02, momentum=0.9)\n",
    "model.compile(loss=\"sparse_categorical_crossentropy\", optimizer=optimizer, metrics=[\"accuracy\"])\n",
    "n_epochs = 25\n",
    "history = model.fit(X_train, y_train, epochs=n_epochs,\n",
    "                    validation_data=(X_valid, y_valid),\n",
    "                    callbacks=[lr_scheduler])"
   ]
  },
  {
   "cell_type": "markdown",
   "id": "f0274b7c-c670-4fe7-804d-140f3c11d4a1",
   "metadata": {},
   "source": [
    "可以看一下性能调度和分段常数调度的曲线比较"
   ]
  },
  {
   "cell_type": "code",
   "execution_count": 76,
   "id": "ac552a9f-3edd-47b2-a6e4-ba719f3b5d3b",
   "metadata": {
    "tags": []
   },
   "outputs": [
    {
     "data": {
      "image/png": "[encoded data removed]",
      "text/plain": [
       "<Figure size 432x288 with 2 Axes>"
      ]
     },
     "metadata": {
      "needs_background": "light"
     },
     "output_type": "display_data"
    }
   ],
   "source": [
    "plt.plot(history.epoch, history.history[\"lr\"], \"bo-\")\n",
    "plt.xlabel(\"Epoch\")\n",
    "plt.ylabel(\"Learning Rate\", color='b')\n",
    "plt.tick_params('y', colors='b')\n",
    "plt.gca().set_xlim(0, n_epochs - 1)\n",
    "plt.grid(True)\n",
    "\n",
    "ax2 = plt.gca().twinx()\n",
    "ax2.plot(history.epoch, history.history[\"val_loss\"], \"r^-\")\n",
    "ax2.set_ylabel('Validation Loss', color='r')\n",
    "ax2.tick_params('y', colors='r')\n",
    "\n",
    "plt.title(\"Reduce LR on Plateau\", fontsize=14)\n",
    "plt.show()"
   ]
  },
  {
   "cell_type": "markdown",
   "id": "557c7925-b671-406c-9495-c7a862461979",
   "metadata": {},
   "source": [
    "### tf.keras schedulers"
   ]
  },
  {
   "cell_type": "markdown",
   "id": "3bd071b4-0409-4af9-9d0e-d550784a82ca",
   "metadata": {},
   "source": [
    "这个很有用，可以使用它的自带的一些调度方法的实现  \n",
    "来实现对学习率进行基于计算步数，而不是轮次的调度  \n",
    "在不久前的指数调度的例子中就说过这个"
   ]
  },
  {
   "cell_type": "raw",
   "id": "8c769cf0-246f-4a43-9b79-7f31449367a7",
   "metadata": {},
   "source": [
    "model = keras.models.Sequential([\n",
    "    keras.layers.Flatten(input_shape=[28, 28]),\n",
    "    keras.layers.Dense(300, activation=\"selu\", kernel_initializer=\"lecun_normal\"),\n",
    "    keras.layers.Dense(100, activation=\"selu\", kernel_initializer=\"lecun_normal\"),\n",
    "    keras.layers.Dense(10, activation=\"softmax\")\n",
    "])\n",
    "s = 20 * len(X_train) // 32 # number of steps in 20 epochs (batch size = 32)\n",
    "learning_rate = keras.optimizers.schedules.ExponentialDecay(0.01, s, 0.1)\n",
    "optimizer = keras.optimizers.SGD(learning_rate)\n",
    "model.compile(loss=\"sparse_categorical_crossentropy\", optimizer=optimizer, metrics=[\"accuracy\"])\n",
    "n_epochs = 25\n",
    "history = model.fit(X_train_scaled, y_train, epochs=n_epochs,\n",
    "                    validation_data=(X_valid_scaled, y_valid))"
   ]
  },
  {
   "cell_type": "code",
   "execution_count": 77,
   "id": "31cb5574-58ad-4e21-9b77-32d5f93b6f28",
   "metadata": {},
   "outputs": [],
   "source": [
    "# 比如还可以来实现基于计算步数的分段常数调度\n",
    "# 之前的例子是基于计算轮次的调度\n",
    "learning_rate = keras.optimizers.schedules.PiecewiseConstantDecay(\n",
    "    boundaries=[5. * n_steps_per_epoch, 15. * n_steps_per_epoch],\n",
    "    values=[0.01, 0.005, 0.001])"
   ]
  },
  {
   "cell_type": "markdown",
   "id": "7e28ddca-88d3-444a-a922-93c543dcf853",
   "metadata": {},
   "source": [
    "### 1Cycle scheduling"
   ]
  },
  {
   "cell_type": "markdown",
   "id": "a6f2294f-1387-4768-a763-b68180e503b9",
   "metadata": {},
   "source": [
    "一周期调度  \n",
    "这是一个由经验得到的方法：从较小的学习率开始，随着计算步数的增长再增大学习率至最大学习率，然后再减小  \n",
    "首先确定一个最优的学习率（一个大致的值就行了），然后一般将最大学习率除10得到初始学习率，之后随着步数改变学习率  \n",
    "好处是可以提高模型训练的速度，减少必要的轮次数"
   ]
  },
  {
   "cell_type": "code",
   "execution_count": 78,
   "id": "950e0d50-6307-48e0-9d20-fdbbda87dbef",
   "metadata": {},
   "outputs": [],
   "source": [
    "'''\n",
    "首先来确定最大的学习率\n",
    "\n",
    "使用指数调度来大致估计一下最大学习率是多少，用很多的指数变化的学习率分别都用同一个模型的唯一一个轮次的不同batch训练一哈\n",
    "画出个所有batch的loss vs. rate图，看看rate大概在什么位置\n",
    "'''\n",
    "K = keras.backend\n",
    "\n",
    "# 指数调度回调函数\n",
    "class ExponentialLearningRate(keras.callbacks.Callback):\n",
    "    \"\"\"\n",
    "    之所以要使用回调函数来实现指数调度，就是因为方便在每次batch的训练后输出loss和rate\n",
    "    \"\"\"\n",
    "    def __init__(self, factor):\n",
    "        self.factor = factor\n",
    "        self.rates = []\n",
    "        self.losses = []\n",
    "    def on_batch_end(self, batch, logs):\n",
    "        self.rates.append(K.get_value(self.model.optimizer.learning_rate))\n",
    "        self.losses.append(logs[\"loss\"])\n",
    "        K.set_value(self.model.optimizer.learning_rate, self.model.optimizer.learning_rate * self.factor)\n",
    "\n",
    "def find_learning_rate(model, X, y, epochs=1, batch_size=32, min_rate=10**-5, max_rate=10):\n",
    "    \"\"\"\n",
    "    这里有一个重要的细节。\n",
    "    目标是仅在一个轮次内，查看不同的学习率对不同的batch数据的loss\n",
    "    那么在这个轮次结束后，就必然要还原模型的初始配置，以便使用1Cycle scheduling\n",
    "    \"\"\"\n",
    "    # 先保存初始设置，在训练完之后要还原初始设置\n",
    "    init_weights = model.get_weights()\n",
    "    init_lr = K.get_value(model.optimizer.learning_rate)\n",
    "    iterations = math.ceil(len(X) / batch_size) * epochs\n",
    "    # 首先让学习率从最小值算\n",
    "    K.set_value(model.optimizer.learning_rate, min_rate)\n",
    "    # 每个batch完成训练后的学习率变化参数\n",
    "    factor = np.exp(np.log(max_rate / min_rate) / iterations)\n",
    "    exp_lr = ExponentialLearningRate(factor)\n",
    "    history = model.fit(X, y, epochs=epochs, batch_size=batch_size,\n",
    "                        callbacks=[exp_lr])\n",
    "    # 还原初始配置\n",
    "    K.set_value(model.optimizer.learning_rate, init_lr)\n",
    "    model.set_weights(init_weights)\n",
    "    return exp_lr.rates, exp_lr.losses\n",
    "\n",
    "def plot_lr_vs_loss(rates, losses):\n",
    "    plt.plot(rates, losses)\n",
    "    plt.gca().set_xscale('log')\n",
    "    plt.hlines(min(losses), min(rates), max(rates))\n",
    "    plt.axis([min(rates), max(rates), min(losses), (losses[0] + min(losses)) / 2])\n",
    "    plt.xlabel(\"Learning rate\")\n",
    "    plt.ylabel(\"Loss\")"
   ]
  },
  {
   "cell_type": "code",
   "execution_count": 79,
   "id": "9a126b03-28b4-47ea-a9c6-fcc7de8eb504",
   "metadata": {
    "tags": []
   },
   "outputs": [],
   "source": [
    "tf.random.set_seed(42)\n",
    "np.random.seed(42)\n",
    "\n",
    "model = keras.models.Sequential([\n",
    "    keras.layers.Flatten(input_shape=[28, 28]),\n",
    "    keras.layers.Dense(300, activation=\"selu\", kernel_initializer=\"lecun_normal\"),\n",
    "    keras.layers.Dense(100, activation=\"selu\", kernel_initializer=\"lecun_normal\"),\n",
    "    keras.layers.Dense(10, activation=\"softmax\")\n",
    "])\n",
    "model.compile(loss=\"sparse_categorical_crossentropy\",\n",
    "              optimizer=keras.optimizers.SGD(learning_rate=1e-3),\n",
    "              metrics=[\"accuracy\"])"
   ]
  },
  {
   "cell_type": "markdown",
   "id": "9ab18e21-963c-463f-ba45-de95fbb7fff1",
   "metadata": {},
   "source": [
    "通过下面的图可看出，最大学习率差不多可以选0.05"
   ]
  },
  {
   "cell_type": "code",
   "execution_count": 80,
   "id": "8e94d53e-9a4d-4852-b5d3-be832ad489fc",
   "metadata": {},
   "outputs": [
    {
     "name": "stdout",
     "output_type": "stream",
     "text": [
      "430/430 [==============================] - 1s 2ms/step - loss: 11009899001248860454154718412800.0000 - accuracy: 0.3035\n"
     ]
    },
    {
     "data": {
      "image/png": "[encoded data removed]",
      "text/plain": [
       "<Figure size 432x288 with 1 Axes>"
      ]
     },
     "metadata": {
      "needs_background": "light"
     },
     "output_type": "display_data"
    }
   ],
   "source": [
    "batch_size = 128\n",
    "rates, losses = find_learning_rate(model, X_train, y_train, epochs=1, batch_size=batch_size)\n",
    "plot_lr_vs_loss(rates, losses)"
   ]
  },
  {
   "cell_type": "code",
   "execution_count": 81,
   "id": "ca2627cd-5bf2-4162-a76a-fee75cae3867",
   "metadata": {},
   "outputs": [],
   "source": [
    "# 定义1周期调度的回调函数\n",
    "class OneCycleScheduler(keras.callbacks.Callback):\n",
    "    def __init__(self, iterations, max_rate, start_rate=None,\n",
    "                 last_iterations=None, last_rate=None):\n",
    "        self.iterations = iterations\n",
    "        self.max_rate = max_rate\n",
    "        self.start_rate = start_rate or max_rate / 10\n",
    "        self.last_iterations = last_iterations or iterations // 10 + 1\n",
    "        self.half_iteration = (iterations - self.last_iterations) // 2\n",
    "        self.last_rate = last_rate or self.start_rate / 1000\n",
    "        self.iteration = 0\n",
    "    def _interpolate(self, iter1, iter2, rate1, rate2):\n",
    "        return ((rate2 - rate1) * (self.iteration - iter1)\n",
    "                / (iter2 - iter1) + rate1)\n",
    "    def on_batch_begin(self, batch, logs):\n",
    "        if self.iteration < self.half_iteration:\n",
    "            rate = self._interpolate(0, self.half_iteration, self.start_rate, self.max_rate)\n",
    "        elif self.iteration < 2 * self.half_iteration:\n",
    "            rate = self._interpolate(self.half_iteration, 2 * self.half_iteration,\n",
    "                                     self.max_rate, self.start_rate)\n",
    "        else:\n",
    "            rate = self._interpolate(2 * self.half_iteration, self.iterations,\n",
    "                                     self.start_rate, self.last_rate)\n",
    "        self.iteration += 1\n",
    "        K.set_value(self.model.optimizer.learning_rate, rate)"
   ]
  },
  {
   "cell_type": "code",
   "execution_count": 82,
   "id": "8ded663f-553f-42f5-9d84-4af247e0c757",
   "metadata": {
    "tags": []
   },
   "outputs": [
    {
     "name": "stdout",
     "output_type": "stream",
     "text": [
      "Epoch 1/25\n",
      "430/430 [==============================] - 1s 2ms/step - loss: 0.8999 - accuracy: 0.7111 - val_loss: 0.6159 - val_accuracy: 0.7988\n",
      "Epoch 2/25\n",
      "430/430 [==============================] - 1s 2ms/step - loss: 0.5613 - accuracy: 0.8108 - val_loss: 0.5026 - val_accuracy: 0.8322\n",
      "Epoch 3/25\n",
      "430/430 [==============================] - 1s 2ms/step - loss: 0.4921 - accuracy: 0.8274 - val_loss: 0.4847 - val_accuracy: 0.8256\n",
      "Epoch 4/25\n",
      "430/430 [==============================] - 1s 2ms/step - loss: 0.4595 - accuracy: 0.8368 - val_loss: 0.4545 - val_accuracy: 0.8396\n",
      "Epoch 5/25\n",
      "430/430 [==============================] - 1s 2ms/step - loss: 0.4451 - accuracy: 0.8424 - val_loss: 0.4335 - val_accuracy: 0.8512\n",
      "Epoch 6/25\n",
      "430/430 [==============================] - 1s 2ms/step - loss: 0.4291 - accuracy: 0.8464 - val_loss: 0.4138 - val_accuracy: 0.8602\n",
      "Epoch 7/25\n",
      "430/430 [==============================] - 1s 2ms/step - loss: 0.4162 - accuracy: 0.8518 - val_loss: 0.4064 - val_accuracy: 0.8594\n",
      "Epoch 8/25\n",
      "430/430 [==============================] - 1s 2ms/step - loss: 0.4052 - accuracy: 0.8550 - val_loss: 0.4378 - val_accuracy: 0.8408\n",
      "Epoch 9/25\n",
      "430/430 [==============================] - 1s 2ms/step - loss: 0.3963 - accuracy: 0.8570 - val_loss: 0.4139 - val_accuracy: 0.8532\n",
      "Epoch 10/25\n",
      "430/430 [==============================] - 1s 2ms/step - loss: 0.3895 - accuracy: 0.8585 - val_loss: 0.3935 - val_accuracy: 0.8590\n",
      "Epoch 11/25\n",
      "430/430 [==============================] - 1s 2ms/step - loss: 0.3798 - accuracy: 0.8624 - val_loss: 0.3851 - val_accuracy: 0.8630\n",
      "Epoch 12/25\n",
      "430/430 [==============================] - 1s 2ms/step - loss: 0.3673 - accuracy: 0.8665 - val_loss: 0.3831 - val_accuracy: 0.8638\n",
      "Epoch 13/25\n",
      "430/430 [==============================] - 1s 2ms/step - loss: 0.3545 - accuracy: 0.8717 - val_loss: 0.3570 - val_accuracy: 0.8754\n",
      "Epoch 14/25\n",
      "430/430 [==============================] - 1s 2ms/step - loss: 0.3434 - accuracy: 0.8754 - val_loss: 0.3787 - val_accuracy: 0.8602\n",
      "Epoch 15/25\n",
      "430/430 [==============================] - 1s 2ms/step - loss: 0.3337 - accuracy: 0.8791 - val_loss: 0.3550 - val_accuracy: 0.8718\n",
      "Epoch 16/25\n",
      "430/430 [==============================] - 1s 2ms/step - loss: 0.3251 - accuracy: 0.8823 - val_loss: 0.3365 - val_accuracy: 0.8792\n",
      "Epoch 17/25\n",
      "430/430 [==============================] - 1s 2ms/step - loss: 0.3181 - accuracy: 0.8845 - val_loss: 0.3644 - val_accuracy: 0.8674\n",
      "Epoch 18/25\n",
      "430/430 [==============================] - 1s 2ms/step - loss: 0.3118 - accuracy: 0.8881 - val_loss: 0.3399 - val_accuracy: 0.8774\n",
      "Epoch 19/25\n",
      "430/430 [==============================] - 1s 2ms/step - loss: 0.3056 - accuracy: 0.8894 - val_loss: 0.3343 - val_accuracy: 0.8808\n",
      "Epoch 20/25\n",
      "430/430 [==============================] - 1s 2ms/step - loss: 0.3008 - accuracy: 0.8920 - val_loss: 0.3343 - val_accuracy: 0.8790\n",
      "Epoch 21/25\n",
      "430/430 [==============================] - 1s 2ms/step - loss: 0.2963 - accuracy: 0.8936 - val_loss: 0.3265 - val_accuracy: 0.8820\n",
      "Epoch 22/25\n",
      "430/430 [==============================] - 1s 2ms/step - loss: 0.2931 - accuracy: 0.8942 - val_loss: 0.3242 - val_accuracy: 0.8822\n",
      "Epoch 23/25\n",
      "430/430 [==============================] - 1s 2ms/step - loss: 0.2901 - accuracy: 0.8958 - val_loss: 0.3244 - val_accuracy: 0.8798\n",
      "Epoch 24/25\n",
      "430/430 [==============================] - 1s 2ms/step - loss: 0.2881 - accuracy: 0.8970 - val_loss: 0.3246 - val_accuracy: 0.8832\n",
      "Epoch 25/25\n",
      "430/430 [==============================] - 1s 3ms/step - loss: 0.2871 - accuracy: 0.8966 - val_loss: 0.3236 - val_accuracy: 0.8830\n"
     ]
    }
   ],
   "source": [
    "n_epochs = 25\n",
    "onecycle = OneCycleScheduler(math.ceil(len(X_train) / batch_size) * n_epochs, max_rate=0.05)\n",
    "history = model.fit(X_train, y_train, epochs=n_epochs, batch_size=batch_size,\n",
    "                    validation_data=(X_valid, y_valid),\n",
    "                    callbacks=[onecycle])"
   ]
  },
  {
   "cell_type": "markdown",
   "id": "588032ce-b3f0-4d09-9bd6-45a6574c063d",
   "metadata": {},
   "source": [
    "# 使用正则化来避免过拟合"
   ]
  },
  {
   "cell_type": "markdown",
   "id": "ad54aca4-ce2c-426c-8307-ed204689e0d4",
   "metadata": {},
   "source": [
    "## $\\ell_1$ and $\\ell_2$ regularization"
   ]
  },
  {
   "cell_type": "code",
   "execution_count": 83,
   "id": "d5d8510a-8562-4f40-8b63-e97950fc9393",
   "metadata": {},
   "outputs": [],
   "source": [
    "layer = keras.layers.Dense(100, activation=\"elu\",\n",
    "                           kernel_initializer=\"he_normal\",\n",
    "                           kernel_regularizer=keras.regularizers.l2(0.01))\n",
    "# or l1(0.1) for ℓ1 regularization with a factor of 0.1\n",
    "# or l1_l2(0.1, 0.01) for both ℓ1 and ℓ2 regularization, with factors 0.1 and 0.01 respectively"
   ]
  },
  {
   "cell_type": "code",
   "execution_count": 84,
   "id": "06018097-113f-434f-b6f5-6e48079dca28",
   "metadata": {},
   "outputs": [
    {
     "name": "stdout",
     "output_type": "stream",
     "text": [
      "Epoch 1/2\n",
      "1719/1719 [==============================] - 6s 3ms/step - loss: 1.5551 - accuracy: 0.7773 - val_loss: 1.0271 - val_accuracy: 0.7568\n",
      "Epoch 2/2\n",
      "1719/1719 [==============================] - 6s 3ms/step - loss: 0.9054 - accuracy: 0.7931 - val_loss: 0.8485 - val_accuracy: 0.8178\n"
     ]
    }
   ],
   "source": [
    "model = keras.models.Sequential([\n",
    "    keras.layers.Flatten(input_shape=[28, 28]),\n",
    "    keras.layers.Dense(300, activation=\"elu\",\n",
    "                       kernel_initializer=\"he_normal\",\n",
    "                       kernel_regularizer=keras.regularizers.l2(0.01)),\n",
    "    keras.layers.Dense(100, activation=\"elu\",\n",
    "                       kernel_initializer=\"he_normal\",\n",
    "                       kernel_regularizer=keras.regularizers.l2(0.01)),\n",
    "    keras.layers.Dense(10, activation=\"softmax\",\n",
    "                       kernel_regularizer=keras.regularizers.l2(0.01))\n",
    "])\n",
    "model.compile(loss=\"sparse_categorical_crossentropy\", optimizer=\"nadam\", metrics=[\"accuracy\"])\n",
    "n_epochs = 2\n",
    "history = model.fit(X_train, y_train, epochs=n_epochs,\n",
    "                    validation_data=(X_valid, y_valid))"
   ]
  },
  {
   "cell_type": "code",
   "execution_count": 85,
   "id": "3e8a22d7-eee4-4040-b899-01496818a30c",
   "metadata": {},
   "outputs": [
    {
     "name": "stdout",
     "output_type": "stream",
     "text": [
      "Epoch 1/2\n",
      "1719/1719 [==============================] - 6s 3ms/step - loss: 1.5741 - accuracy: 0.7772 - val_loss: 1.0170 - val_accuracy: 0.7650\n",
      "Epoch 2/2\n",
      "1719/1719 [==============================] - 5s 3ms/step - loss: 0.9070 - accuracy: 0.7939 - val_loss: 0.8519 - val_accuracy: 0.8190\n"
     ]
    }
   ],
   "source": [
    "# 使用Python自带的partial可以让代码更简单\n",
    "from functools import partial\n",
    "\n",
    "RegularizedDense = partial(keras.layers.Dense,\n",
    "                           activation=\"elu\",\n",
    "                           kernel_initializer=\"he_normal\",\n",
    "                           kernel_regularizer=keras.regularizers.l2(0.01))\n",
    "\n",
    "model = keras.models.Sequential([\n",
    "    keras.layers.Flatten(input_shape=[28, 28]),\n",
    "    RegularizedDense(300),\n",
    "    RegularizedDense(100),\n",
    "    RegularizedDense(10, activation=\"softmax\")\n",
    "])\n",
    "model.compile(loss=\"sparse_categorical_crossentropy\", optimizer=\"nadam\", metrics=[\"accuracy\"])\n",
    "n_epochs = 2\n",
    "history = model.fit(X_train, y_train, epochs=n_epochs,\n",
    "                    validation_data=(X_valid, y_valid))"
   ]
  },
  {
   "cell_type": "markdown",
   "id": "fcd27f40-d2be-4f58-9cb9-29f51eaab15a",
   "metadata": {},
   "source": [
    "## Dropout"
   ]
  },
  {
   "cell_type": "markdown",
   "id": "a5b5b310-deff-4a67-a515-576d41f8a721",
   "metadata": {},
   "source": [
    "<b><font size=5 color=red face=\"华文彩云\">注意</font></b>  \n",
    "加入dropout层之后，其只会在训练的时候被激活  \n",
    "这也就是说在训练时计算的训练集的loss是不符合实际，有可能会出现虽然训练集和验证集的差距不大，但还是过拟合的现象。就像使用了如批量归一化算法一样的情况。  \n",
    "如果像了解真实的训练集的loss，只能在训练结束后重新计算训练集的Loss或准确率"
   ]
  },
  {
   "cell_type": "code",
   "execution_count": 86,
   "id": "dd2704f3-3732-4700-b45a-19ee01bf8863",
   "metadata": {},
   "outputs": [
    {
     "name": "stdout",
     "output_type": "stream",
     "text": [
      "Epoch 1/2\n",
      "1719/1719 [==============================] - 6s 3ms/step - loss: 0.5856 - accuracy: 0.7876 - val_loss: 0.4242 - val_accuracy: 0.8422\n",
      "Epoch 2/2\n",
      "1719/1719 [==============================] - 5s 3ms/step - loss: 0.4569 - accuracy: 0.8303 - val_loss: 0.3561 - val_accuracy: 0.8662\n"
     ]
    }
   ],
   "source": [
    "model = keras.models.Sequential([\n",
    "    # 可以看到，Dropout需要添加到目标层之后\n",
    "    keras.layers.Flatten(input_shape=[28, 28]),\n",
    "    keras.layers.Dropout(rate=0.2),\n",
    "    \n",
    "    keras.layers.Dense(300, activation=\"elu\", kernel_initializer=\"he_normal\"),\n",
    "    keras.layers.Dropout(rate=0.2),\n",
    "    keras.layers.Dense(100, activation=\"elu\", kernel_initializer=\"he_normal\"),\n",
    "    keras.layers.Dropout(rate=0.2),\n",
    "    keras.layers.Dense(10, activation=\"softmax\")\n",
    "])\n",
    "model.compile(loss=\"sparse_categorical_crossentropy\", optimizer=\"nadam\", metrics=[\"accuracy\"])\n",
    "n_epochs = 2\n",
    "history = model.fit(X_train, y_train, epochs=n_epochs,\n",
    "                    validation_data=(X_valid, y_valid))"
   ]
  },
  {
   "cell_type": "markdown",
   "id": "bf81f41e-5e81-47d5-9dc9-a36b1631c3f1",
   "metadata": {},
   "source": [
    "## Alpha Dropout"
   ]
  },
  {
   "cell_type": "markdown",
   "id": "2beb3b54-2deb-4580-ba47-258ed5b19e2f",
   "metadata": {},
   "source": [
    "如果当前网络的激活函数式SELU激活函数，那么dropout就会破坏归一化  \n",
    "就需要使用alpha dropout，其会保持输入的均值和标准差不变"
   ]
  },
  {
   "cell_type": "code",
   "execution_count": 87,
   "id": "8817bf48-d25f-4b6d-8e96-c9412728cd69",
   "metadata": {},
   "outputs": [
    {
     "name": "stdout",
     "output_type": "stream",
     "text": [
      "Epoch 1/2\n",
      "1719/1719 [==============================] - 4s 2ms/step - loss: 1.0630 - accuracy: 0.5999 - val_loss: 0.8987 - val_accuracy: 0.7052\n",
      "Epoch 2/2\n",
      "1719/1719 [==============================] - 3s 2ms/step - loss: 0.9116 - accuracy: 0.6548 - val_loss: 1.0029 - val_accuracy: 0.6928\n"
     ]
    }
   ],
   "source": [
    "model = keras.models.Sequential([\n",
    "    \n",
    "    keras.layers.Flatten(input_shape=[28, 28]),\n",
    "    keras.layers.AlphaDropout(rate=0.2),\n",
    "    \n",
    "    keras.layers.Dense(300, activation=\"selu\", kernel_initializer=\"lecun_normal\"),\n",
    "    keras.layers.AlphaDropout(rate=0.2),\n",
    "    keras.layers.Dense(100, activation=\"selu\", kernel_initializer=\"lecun_normal\"),\n",
    "    keras.layers.AlphaDropout(rate=0.2),\n",
    "    keras.layers.Dense(10, activation=\"softmax\")\n",
    "])\n",
    "optimizer = keras.optimizers.SGD(learning_rate=0.01, momentum=0.9, nesterov=True)\n",
    "model.compile(loss=\"sparse_categorical_crossentropy\", optimizer=optimizer, metrics=[\"accuracy\"])\n",
    "n_epochs = 2\n",
    "history = model.fit(X_train, y_train, epochs=n_epochs,\n",
    "                    validation_data=(X_valid, y_valid))"
   ]
  },
  {
   "cell_type": "code",
   "execution_count": 88,
   "id": "6289a88c-8670-43c7-8f15-f1fc82ce6a32",
   "metadata": {},
   "outputs": [
    {
     "name": "stdout",
     "output_type": "stream",
     "text": [
      "313/313 [==============================] - 0s 1ms/step - loss: 1.0530 - accuracy: 0.6745\n"
     ]
    },
    {
     "data": {
      "text/plain": [
       "[1.052962064743042, 0.6744999885559082]"
      ]
     },
     "execution_count": 88,
     "metadata": {},
     "output_type": "execute_result"
    }
   ],
   "source": [
    "model.evaluate(X_test, y_test)"
   ]
  },
  {
   "cell_type": "markdown",
   "id": "f419ac13-51dc-46ef-8306-61f1f7937536",
   "metadata": {},
   "source": [
    "## 蒙特卡罗(MC) Dropout"
   ]
  },
  {
   "cell_type": "markdown",
   "id": "4390e699-0b1e-41bf-b123-b7a865ce283e",
   "metadata": {},
   "source": [
    "实现MC Dropout的重要操作就是将training设置为True  \n",
    "然后就可以不停的边训练边预测地循环一个数据集很多次，然后求出平均值作为最终的预测值  \n",
    "是的，就像个集成模型一样  \n",
    "  \n",
    "<b><font color=red>注意:</font></b>  原本是用于提高dropout网络（即在每个权重层后面都有一个dropout层的神经网络）模型性能的方法"
   ]
  },
  {
   "cell_type": "code",
   "execution_count": 89,
   "id": "fff142a4-d7c9-4fdb-8e08-1eb819005208",
   "metadata": {},
   "outputs": [],
   "source": [
    "# 强制刚才的带alpha dropout的网络使用测试集训练100次并输出每次预测结果，相当于有100个不同的应用了dropout模型在训练的过程中输出的结果(此时dropout已被激活)\n",
    "# 因为测试集的形状是[10000, 10]，输出的y_probas形状应该是[100, 10000, 10]\n",
    "# 之所以要调用model的call()方法来实现，是因为只有call()才有\n",
    "y_probas = np.stack([model(X_test, training=True)\n",
    "                     for sample in range(100)])\n",
    "# 所有模型的预测结果平均值，整的有点像集成模型\n",
    "y_proba = y_probas.mean(axis=0)\n",
    "y_std = y_probas.std(axis=0)"
   ]
  },
  {
   "cell_type": "code",
   "execution_count": 90,
   "id": "43cdc083-ecfc-411a-a0fb-f534be846c0e",
   "metadata": {},
   "outputs": [
    {
     "data": {
      "text/plain": [
       "(10000, 10)"
      ]
     },
     "execution_count": 90,
     "metadata": {},
     "output_type": "execute_result"
    }
   ],
   "source": [
    "y_proba.shape"
   ]
  },
  {
   "cell_type": "code",
   "execution_count": 91,
   "id": "23e20d1d-e1cb-4a02-b120-eadb5452ad5c",
   "metadata": {},
   "outputs": [],
   "source": [
    "# 当然也不用非要像上面那样使用call()方法强制使模型在预测的时候也激活dropout，也可以像下面这样使用predict()方法\n",
    "# 首先要继承Dropout或AlphaDropout类改造一下，将training恒设为True。其中当原始模型中使用了如批量归一化的特殊层时那就不得不继承AlphaDropout类了\n",
    "class MCDropout(keras.layers.Dropout):\n",
    "    def call(self, inputs):\n",
    "        return super().call(inputs, training=True)\n",
    "\n",
    "class MCAlphaDropout(keras.layers.AlphaDropout):\n",
    "    def call(self, inputs):\n",
    "        return super().call(inputs, training=True)"
   ]
  },
  {
   "cell_type": "code",
   "execution_count": 92,
   "id": "031e1040-4cb7-4d76-9c25-79e9dbf21d57",
   "metadata": {},
   "outputs": [],
   "source": [
    "# 基于旧的alpha dropout模型重新整一个模型，只把alpha dropout层换成自定义的MCAlphaDropout层就行，其他的参数如学习率和权重都不需要变\n",
    "mc_model = keras.models.Sequential([\n",
    "    MCAlphaDropout(layer.rate) if isinstance(layer, keras.layers.AlphaDropout) else layer\n",
    "    for layer in model.layers\n",
    "])"
   ]
  },
  {
   "cell_type": "code",
   "execution_count": 93,
   "id": "d82ed109-f854-48e7-9803-fad2a7ba7eaf",
   "metadata": {},
   "outputs": [
    {
     "name": "stdout",
     "output_type": "stream",
     "text": [
      "Model: \"sequential_17\"\n",
      "_________________________________________________________________\n",
      " Layer (type)                Output Shape              Param #   \n",
      "=================================================================\n",
      " flatten_15 (Flatten)        (None, 784)               0         \n",
      "                                                                 \n",
      " mc_alpha_dropout (MCAlphaDr  (None, 784)              0         \n",
      " opout)                                                          \n",
      "                                                                 \n",
      " dense_57 (Dense)            (None, 300)               235500    \n",
      "                                                                 \n",
      " mc_alpha_dropout_1 (MCAlpha  (None, 300)              0         \n",
      " Dropout)                                                        \n",
      "                                                                 \n",
      " dense_58 (Dense)            (None, 100)               30100     \n",
      "                                                                 \n",
      " mc_alpha_dropout_2 (MCAlpha  (None, 100)              0         \n",
      " Dropout)                                                        \n",
      "                                                                 \n",
      " dense_59 (Dense)            (None, 10)                1010      \n",
      "                                                                 \n",
      "=================================================================\n",
      "Total params: 266,610\n",
      "Trainable params: 266,610\n",
      "Non-trainable params: 0\n",
      "_________________________________________________________________\n"
     ]
    }
   ],
   "source": [
    "# 可看见原始的模型中的alpha dropout模型中的AlphaDropout层都被替换成了MCAlphaDropout层\n",
    "mc_model.summary()"
   ]
  },
  {
   "cell_type": "code",
   "execution_count": 94,
   "id": "964779a5-3e6b-4e99-a947-f9661066acdb",
   "metadata": {},
   "outputs": [],
   "source": [
    "optimizer = keras.optimizers.SGD(learning_rate=0.01, momentum=0.9, nesterov=True)\n",
    "mc_model.compile(loss=\"sparse_categorical_crossentropy\", optimizer=optimizer, metrics=[\"accuracy\"])\n",
    "\n",
    "# 编译完了之后记得把旧模型的权重拿过来\n",
    "mc_model.set_weights(model.get_weights())"
   ]
  },
  {
   "cell_type": "markdown",
   "id": "74426fb7-9e10-49b1-836f-b694ea351165",
   "metadata": {},
   "source": [
    "现在就可以使用MC Dropout了，下面以测试集第一个样本(第一张图片，[1, 28, 28])为例输出MC Dropout模型的结果"
   ]
  },
  {
   "cell_type": "code",
   "execution_count": 95,
   "id": "e2819a1f-fb00-4d21-a976-37c59eba1b1d",
   "metadata": {},
   "outputs": [
    {
     "data": {
      "text/plain": [
       "array([[0.  , 0.  , 0.  , 0.  , 0.  , 0.31, 0.  , 0.25, 0.02, 0.42]],\n",
       "      dtype=float32)"
      ]
     },
     "execution_count": 95,
     "metadata": {},
     "output_type": "execute_result"
    }
   ],
   "source": [
    "np.round(np.mean([mc_model.predict(X_test[:1]) for sample in range(100)], axis=0), 2)"
   ]
  },
  {
   "cell_type": "markdown",
   "id": "c7295b5d-bedf-4306-babf-7fb8b2888953",
   "metadata": {},
   "source": [
    "## 最大范数正则项Max norm"
   ]
  },
  {
   "cell_type": "markdown",
   "id": "4c2b7721-5c6b-409c-a102-66bff95f19e2",
   "metadata": {},
   "source": [
    "和其他正则项不同的是，最大范数正则项并不会加入到损失函数。  \n",
    "而是会在每步计算完成后将目标层的权重向量按照预先设置的最大范数进行缩放，然后返回缩放后的权重向量  \n",
    "  \n",
    "最大范数可使用`keras.constraints.max_norm()`定义后传入层构造方法的`kernel_constraint`参数中。  \n",
    "关于最大范数还有一个参数`axis`，默认值是0，意味着最大范数约束将独立应用到每一个神经元的权重向量  \n",
    "这里要如果要将最大范数与卷积层一起使用，`axis`通常为[0, 1, 2]"
   ]
  },
  {
   "cell_type": "code",
   "execution_count": 96,
   "id": "204ac4df-f86c-487f-bce0-716fdab553b3",
   "metadata": {},
   "outputs": [],
   "source": [
    "layer = keras.layers.Dense(100, activation=\"selu\", kernel_initializer=\"lecun_normal\",\n",
    "                           kernel_constraint=keras.constraints.max_norm(1.))"
   ]
  },
  {
   "cell_type": "code",
   "execution_count": 97,
   "id": "4c26dd30-231c-4f2b-b2a6-81bdfc36fbba",
   "metadata": {},
   "outputs": [
    {
     "name": "stdout",
     "output_type": "stream",
     "text": [
      "Epoch 1/2\n",
      "1719/1719 [==============================] - 5s 3ms/step - loss: 0.5053 - accuracy: 0.8165 - val_loss: 0.4719 - val_accuracy: 0.8316\n",
      "Epoch 2/2\n",
      "1719/1719 [==============================] - 5s 3ms/step - loss: 0.4006 - accuracy: 0.8531 - val_loss: 0.3648 - val_accuracy: 0.8734\n"
     ]
    }
   ],
   "source": [
    "MaxNormDense = partial(keras.layers.Dense,\n",
    "                       activation=\"selu\", kernel_initializer=\"lecun_normal\",\n",
    "                       kernel_constraint=keras.constraints.max_norm(1.))\n",
    "\n",
    "model = keras.models.Sequential([\n",
    "    keras.layers.Flatten(input_shape=[28, 28]),\n",
    "    MaxNormDense(300),\n",
    "    MaxNormDense(100),\n",
    "    keras.layers.Dense(10, activation=\"softmax\")\n",
    "])\n",
    "model.compile(loss=\"sparse_categorical_crossentropy\", optimizer=\"nadam\", metrics=[\"accuracy\"])\n",
    "n_epochs = 2\n",
    "history = model.fit(X_train, y_train, epochs=n_epochs,\n",
    "                    validation_data=(X_valid, y_valid))"
   ]
  }
 ],
 "metadata": {
  "kernelspec": {
   "display_name": "tensorflow_venv",
   "language": "python",
   "name": "tenserflow_venv"
  },
  "language_info": {
   "codemirror_mode": {
    "name": "ipython",
    "version": 3
   },
   "file_extension": ".py",
   "mimetype": "text/x-python",
   "name": "python",
   "nbconvert_exporter": "python",
   "pygments_lexer": "ipython3",
   "version": "3.9.11"
  }
 },
 "nbformat": 4,
 "nbformat_minor": 5
}
