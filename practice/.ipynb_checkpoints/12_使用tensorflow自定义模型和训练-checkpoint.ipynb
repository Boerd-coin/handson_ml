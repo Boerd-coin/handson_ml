{
 "cells": [
  {
   "cell_type": "code",
   "execution_count": 1,
   "id": "1178ea9e-9a78-4185-83df-d253143a46fc",
   "metadata": {},
   "outputs": [],
   "source": [
    "# Python ≥3.5 is required\n",
    "import sys\n",
    "assert sys.version_info >= (3, 5)\n",
    "\n",
    "# Scikit-Learn ≥0.20 is required\n",
    "import sklearn\n",
    "assert sklearn.__version__ >= \"0.20\"\n",
    "\n",
    "try:\n",
    "    # %tensorflow_version only exists in Colab.\n",
    "    %tensorflow_version 2.x\n",
    "except Exception:\n",
    "    pass\n",
    "\n",
    "# TensorFlow ≥2.4 is required in this notebook\n",
    "# Earlier 2.x versions will mostly work the same, but with a few bugs\n",
    "import tensorflow as tf\n",
    "from tensorflow import keras\n",
    "assert tf.__version__ >= \"2.4\"\n",
    "\n",
    "# Common imports\n",
    "import numpy as np\n",
    "import os\n",
    "\n",
    "# to make this notebook's output stable across runs\n",
    "np.random.seed(42)\n",
    "tf.random.set_seed(42)\n",
    "\n",
    "# To plot pretty figures\n",
    "%matplotlib inline\n",
    "import matplotlib as mpl\n",
    "import matplotlib.pyplot as plt\n",
    "mpl.rc('axes', labelsize=14)\n",
    "mpl.rc('xtick', labelsize=12)\n",
    "mpl.rc('ytick', labelsize=12)\n",
    "\n",
    "# Where to save the figures\n",
    "PROJECT_ROOT_DIR = \".\"\n",
    "CHAPTER_ID = \"deep\"\n",
    "IMAGES_PATH = os.path.join(PROJECT_ROOT_DIR, \"images\", CHAPTER_ID)\n",
    "os.makedirs(IMAGES_PATH, exist_ok=True)\n",
    "\n",
    "def save_fig(fig_id, tight_layout=True, fig_extension=\"png\", resolution=300):\n",
    "    path = os.path.join(IMAGES_PATH, fig_id + \".\" + fig_extension)\n",
    "    print(\"Saving figure\", fig_id)\n",
    "    if tight_layout:\n",
    "        plt.tight_layout()\n",
    "    plt.savefig(path, format=fig_extension, dpi=resolution)"
   ]
  },
  {
   "cell_type": "markdown",
   "id": "68f1d9bf-c834-40a8-b6e6-89eb94a19410",
   "metadata": {
    "tags": []
   },
   "source": [
    "## 张量操作"
   ]
  },
  {
   "cell_type": "markdown",
   "id": "13d8e204-59fd-4533-9c05-f4d27f684699",
   "metadata": {},
   "source": [
    "### 张量"
   ]
  },
  {
   "cell_type": "markdown",
   "id": "4f19ddf7-6658-4768-bcba-3d10d0a93e57",
   "metadata": {},
   "source": [
    "使用`tf.constant`创建常数张量，该类型张量的元素无法更改  \n",
    "通常数学操作，如使用`tf.add`与`tf.math.add`指向的是同一个函数，这是为了简化代码，但是也有不一样的。如对数只能写`tf.math.log`  \n",
    "通常tf的张量运算函数名称与numpy的是一样的，但也有不一样的，比如`np.mean`对应的是`tf.reduce_mean`"
   ]
  },
  {
   "cell_type": "code",
   "execution_count": 2,
   "id": "df7adb75-8425-46e5-a277-19190b07afb2",
   "metadata": {},
   "outputs": [
    {
     "data": {
      "text/plain": [
       "<tf.Tensor: shape=(), dtype=int32, numpy=42>"
      ]
     },
     "execution_count": 2,
     "metadata": {},
     "output_type": "execute_result"
    }
   ],
   "source": [
    "t = tf.constant([[1., 2., 3.], [4., 5., 6.]]) # matrix\n",
    "tf.constant(42) # scalar"
   ]
  },
  {
   "cell_type": "code",
   "execution_count": 3,
   "id": "904aeff0-7684-483a-af1e-9333d80744e9",
   "metadata": {},
   "outputs": [
    {
     "data": {
      "text/plain": [
       "TensorShape([2, 3])"
      ]
     },
     "execution_count": 3,
     "metadata": {},
     "output_type": "execute_result"
    }
   ],
   "source": [
    "t.shape"
   ]
  },
  {
   "cell_type": "code",
   "execution_count": 4,
   "id": "2e598903-a7de-46ae-8f22-e96e2401e845",
   "metadata": {},
   "outputs": [
    {
     "data": {
      "text/plain": [
       "tf.float32"
      ]
     },
     "execution_count": 4,
     "metadata": {},
     "output_type": "execute_result"
    }
   ],
   "source": [
    "t.dtype"
   ]
  },
  {
   "cell_type": "markdown",
   "id": "582a0b38-63f0-4e5d-96d9-e9507030dd14",
   "metadata": {},
   "source": [
    "### 张量索引"
   ]
  },
  {
   "cell_type": "markdown",
   "id": "cdc862e2-50d2-474c-955d-8b5421bc8694",
   "metadata": {},
   "source": [
    "tf中张量的索引方式与在numpy中是十分相似的"
   ]
  },
  {
   "cell_type": "code",
   "execution_count": 5,
   "id": "b5e385ca-551f-419b-bd9e-2a98a27abb91",
   "metadata": {},
   "outputs": [
    {
     "data": {
      "text/plain": [
       "<tf.Tensor: shape=(2, 2), dtype=float32, numpy=\n",
       "array([[2., 3.],\n",
       "       [5., 6.]], dtype=float32)>"
      ]
     },
     "execution_count": 5,
     "metadata": {},
     "output_type": "execute_result"
    }
   ],
   "source": [
    "t[:, 1:]"
   ]
  },
  {
   "cell_type": "code",
   "execution_count": 6,
   "id": "f03d304b-0f00-4581-a147-9c5d23429b8c",
   "metadata": {},
   "outputs": [
    {
     "data": {
      "text/plain": [
       "<tf.Tensor: shape=(2, 1), dtype=float32, numpy=\n",
       "array([[2.],\n",
       "       [5.]], dtype=float32)>"
      ]
     },
     "execution_count": 6,
     "metadata": {},
     "output_type": "execute_result"
    }
   ],
   "source": [
    "t[..., 1, tf.newaxis]"
   ]
  },
  {
   "cell_type": "code",
   "execution_count": 7,
   "id": "a5de86ef-49a8-4082-b615-ff10278dfbe7",
   "metadata": {},
   "outputs": [
    {
     "data": {
      "text/plain": [
       "<tf.Tensor: shape=(2,), dtype=float32, numpy=array([2., 5.], dtype=float32)>"
      ]
     },
     "execution_count": 7,
     "metadata": {},
     "output_type": "execute_result"
    }
   ],
   "source": [
    "t[:, 1]"
   ]
  },
  {
   "cell_type": "markdown",
   "id": "acd52ad0-627a-4f1e-8a56-6f85a6cc7568",
   "metadata": {},
   "source": [
    "### 张量操作"
   ]
  },
  {
   "cell_type": "code",
   "execution_count": 8,
   "id": "da401330-3146-442d-b11b-3df28b9e945a",
   "metadata": {},
   "outputs": [
    {
     "data": {
      "text/plain": [
       "<tf.Tensor: shape=(2, 3), dtype=float32, numpy=\n",
       "array([[11., 12., 13.],\n",
       "       [14., 15., 16.]], dtype=float32)>"
      ]
     },
     "execution_count": 8,
     "metadata": {},
     "output_type": "execute_result"
    }
   ],
   "source": [
    "t + 10"
   ]
  },
  {
   "cell_type": "code",
   "execution_count": 9,
   "id": "8b681404-7457-42ad-8d5c-f4613b6e0aec",
   "metadata": {},
   "outputs": [
    {
     "data": {
      "text/plain": [
       "<tf.Tensor: shape=(2, 3), dtype=float32, numpy=\n",
       "array([[ 1.,  4.,  9.],\n",
       "       [16., 25., 36.]], dtype=float32)>"
      ]
     },
     "execution_count": 9,
     "metadata": {},
     "output_type": "execute_result"
    }
   ],
   "source": [
    "tf.square(t)"
   ]
  },
  {
   "cell_type": "code",
   "execution_count": 10,
   "id": "8b9ddae3-0c87-4894-bd09-9a6b4f0d4745",
   "metadata": {},
   "outputs": [
    {
     "data": {
      "text/plain": [
       "<tf.Tensor: shape=(2, 2), dtype=float32, numpy=\n",
       "array([[14., 32.],\n",
       "       [32., 77.]], dtype=float32)>"
      ]
     },
     "execution_count": 10,
     "metadata": {},
     "output_type": "execute_result"
    }
   ],
   "source": [
    "# 矩阵乘法\n",
    "t @ tf.transpose(t)"
   ]
  },
  {
   "cell_type": "markdown",
   "id": "eb6f4798-6f30-4fee-b095-c56b1da6fa2c",
   "metadata": {},
   "source": [
    "### 使用`keras.backend`"
   ]
  },
  {
   "cell_type": "markdown",
   "id": "6a6ad02b-08b3-42b0-bf5f-7e733f5657bd",
   "metadata": {},
   "source": [
    "keras.backend中也有像tf的诸如square()、exp()的函数，但是如果在tf.keras中使用这些keras的函数，那么其实还是会指向tf的函数"
   ]
  },
  {
   "cell_type": "code",
   "execution_count": 11,
   "id": "a9f4b423-c98f-4c8f-ad80-be5918c1f0b6",
   "metadata": {},
   "outputs": [
    {
     "data": {
      "text/plain": [
       "<tf.Tensor: shape=(3, 2), dtype=float32, numpy=\n",
       "array([[11., 26.],\n",
       "       [14., 35.],\n",
       "       [19., 46.]], dtype=float32)>"
      ]
     },
     "execution_count": 11,
     "metadata": {},
     "output_type": "execute_result"
    }
   ],
   "source": [
    "# 可见使用tf.keras.backend的运算函数其实还是tf的\n",
    "from tensorflow import keras\n",
    "K = keras.backend\n",
    "K.square(K.transpose(t)) + 10"
   ]
  },
  {
   "cell_type": "markdown",
   "id": "bebb037f-91b8-4b7e-a49d-bfc51a285dd6",
   "metadata": {},
   "source": [
    "### 导入\\导出为Numpy数组"
   ]
  },
  {
   "cell_type": "markdown",
   "id": "76e80d52-ae4a-495e-8dd3-cebeb47a625c",
   "metadata": {},
   "source": [
    "<b><font color=red>注意:</font></b> numpy中的数组默认使用的64位精度，但是tf的张量默认使用32位精度。  \n",
    "这是因为32位精度在神经网络训练中就已经绰绰有余了，而且还可以减少使用的内存，保障运行速度"
   ]
  },
  {
   "cell_type": "code",
   "execution_count": 12,
   "id": "e0861524-4379-4e53-9a8b-1cae28bdc519",
   "metadata": {},
   "outputs": [
    {
     "data": {
      "text/plain": [
       "<tf.Tensor: shape=(3,), dtype=float64, numpy=array([2., 4., 5.])>"
      ]
     },
     "execution_count": 12,
     "metadata": {},
     "output_type": "execute_result"
    }
   ],
   "source": [
    "a = np.array([2., 4., 5.])\n",
    "tf.constant(a)"
   ]
  },
  {
   "cell_type": "code",
   "execution_count": 13,
   "id": "13e42b71-f900-4fcb-bdb7-91820e8e59e6",
   "metadata": {},
   "outputs": [
    {
     "data": {
      "text/plain": [
       "array([[1., 2., 3.],\n",
       "       [4., 5., 6.]], dtype=float32)"
      ]
     },
     "execution_count": 13,
     "metadata": {},
     "output_type": "execute_result"
    }
   ],
   "source": [
    "# 张量转换成numpy数组\n",
    "t.numpy()"
   ]
  },
  {
   "cell_type": "code",
   "execution_count": 14,
   "id": "4d1d63a6-19be-4c26-9203-ba5b554fa69e",
   "metadata": {},
   "outputs": [
    {
     "data": {
      "text/plain": [
       "<tf.Tensor: shape=(3,), dtype=float64, numpy=array([ 4., 16., 25.])>"
      ]
     },
     "execution_count": 14,
     "metadata": {},
     "output_type": "execute_result"
    }
   ],
   "source": [
    "# tf函数可以处理numpy数组\n",
    "tf.square(a)"
   ]
  },
  {
   "cell_type": "code",
   "execution_count": 15,
   "id": "fcc87334-ae1a-4464-a75c-803738da9d4b",
   "metadata": {},
   "outputs": [
    {
     "data": {
      "text/plain": [
       "array([[ 1.,  4.,  9.],\n",
       "       [16., 25., 36.]], dtype=float32)"
      ]
     },
     "execution_count": 15,
     "metadata": {},
     "output_type": "execute_result"
    }
   ],
   "source": [
    "# numpy函数可以处理tf张量\n",
    "np.square(t)"
   ]
  },
  {
   "cell_type": "markdown",
   "id": "e075a961-f753-41cc-b5dc-47c548165fcb",
   "metadata": {},
   "source": [
    "### 类型转换"
   ]
  },
  {
   "cell_type": "markdown",
   "id": "3b79f7ee-e2dd-46cd-b844-4e14572005ff",
   "metadata": {},
   "source": [
    "在tf中，不会自动转换张量类型，有点像静态语言  \n",
    "比如不能把浮点张量与整数张量相加，甚至不能相加32位和64位浮点数  \n",
    "所以如果张量要与numpy数组进行运算，记得确保位数一致"
   ]
  },
  {
   "cell_type": "code",
   "execution_count": 16,
   "id": "34a6c982-c1cf-43de-bfd5-f6c8568c4cb6",
   "metadata": {},
   "outputs": [
    {
     "name": "stdout",
     "output_type": "stream",
     "text": [
      "cannot compute AddV2 as input #1(zero-based) was expected to be a float tensor but is a int32 tensor [Op:AddV2]\n"
     ]
    }
   ],
   "source": [
    "# 整数与浮点数张量无法运算\n",
    "try:\n",
    "    tf.constant(2.0) + tf.constant(40)\n",
    "except tf.errors.InvalidArgumentError as ex:\n",
    "    print(ex)"
   ]
  },
  {
   "cell_type": "code",
   "execution_count": 17,
   "id": "507b01e8-8b9f-469c-bcd5-4df76bdc9e53",
   "metadata": {},
   "outputs": [
    {
     "name": "stdout",
     "output_type": "stream",
     "text": [
      "cannot compute AddV2 as input #1(zero-based) was expected to be a float tensor but is a double tensor [Op:AddV2]\n"
     ]
    }
   ],
   "source": [
    "# 32位浮点数与64位浮点数无法运算\n",
    "try:\n",
    "    tf.constant(2.0) + tf.constant(40., dtype=tf.float64)\n",
    "except tf.errors.InvalidArgumentError as ex:\n",
    "    print(ex)"
   ]
  },
  {
   "cell_type": "code",
   "execution_count": 18,
   "id": "121d706d-1c25-413c-b4a1-feea2e4e0b96",
   "metadata": {},
   "outputs": [
    {
     "data": {
      "text/plain": [
       "<tf.Tensor: shape=(), dtype=float32, numpy=42.0>"
      ]
     },
     "execution_count": 18,
     "metadata": {},
     "output_type": "execute_result"
    }
   ],
   "source": [
    "# 如果需要类型转换，可以使用tf.cast()\n",
    "t2 = tf.constant(40., dtype=tf.float64)\n",
    "tf.constant(2.0) + tf.cast(t2, tf.float32)"
   ]
  },
  {
   "cell_type": "markdown",
   "id": "e0ff718e-f544-4a26-b85b-5479b04376a5",
   "metadata": {},
   "source": [
    "### 字符串张量"
   ]
  },
  {
   "cell_type": "markdown",
   "id": "a2074c76-e011-438a-bf5d-1b50577facf5",
   "metadata": {},
   "source": [
    "表示字节字符串，而不是Python的Unicode字符串  \n",
    "tf.strings是原子级的，所以不显示长度，但若将其用Unicode代码表示，就可以显示长度了"
   ]
  },
  {
   "cell_type": "code",
   "execution_count": 19,
   "id": "4fc5c258-3d12-4241-b571-7c7100cdc5c1",
   "metadata": {},
   "outputs": [
    {
     "data": {
      "text/plain": [
       "<tf.Tensor: shape=(), dtype=string, numpy=b'hello world'>"
      ]
     },
     "execution_count": 19,
     "metadata": {},
     "output_type": "execute_result"
    }
   ],
   "source": [
    "# 字节字符串\n",
    "tf.constant(\"hello world\")"
   ]
  },
  {
   "cell_type": "code",
   "execution_count": 20,
   "id": "c2d8557b-82ea-4e6b-9ef7-f1b623820067",
   "metadata": {},
   "outputs": [
    {
     "data": {
      "text/plain": [
       "<tf.Tensor: shape=(), dtype=string, numpy=b'caf\\xc3\\xa9'>"
      ]
     },
     "execution_count": 20,
     "metadata": {},
     "output_type": "execute_result"
    }
   ],
   "source": [
    "# 基于UTF-8代码保存字符串\n",
    "tf.constant(\"café\")"
   ]
  },
  {
   "cell_type": "code",
   "execution_count": 21,
   "id": "57044a41-0c8e-4656-834d-6c0d2dff2b9e",
   "metadata": {},
   "outputs": [
    {
     "data": {
      "text/plain": [
       "<tf.Tensor: shape=(4,), dtype=int32, numpy=array([ 99,  97, 102, 233])>"
      ]
     },
     "execution_count": 21,
     "metadata": {},
     "output_type": "execute_result"
    }
   ],
   "source": [
    "# 基于Ucicode代码保存字符串，可以在shape属性中显示字符串长度\n",
    "u = tf.constant([ord(c) for c in \"café\"])\n",
    "u"
   ]
  },
  {
   "cell_type": "code",
   "execution_count": 22,
   "id": "8986f0ca-3570-4124-9acc-f07cc13f28bc",
   "metadata": {},
   "outputs": [
    {
     "data": {
      "text/plain": [
       "<tf.Tensor: shape=(), dtype=int32, numpy=4>"
      ]
     },
     "execution_count": 22,
     "metadata": {},
     "output_type": "execute_result"
    }
   ],
   "source": [
    "# 使用tf.string对字符串进行编码，将Unicode字符串转换为UTF-8编码\n",
    "b = tf.strings.unicode_encode(u, \"UTF-8\")\n",
    "# 基于UTF8字符显示字符串长度\n",
    "tf.strings.length(b, unit=\"UTF8_CHAR\")"
   ]
  },
  {
   "cell_type": "code",
   "execution_count": 23,
   "id": "056fe6cb-edb9-49ae-9ad1-1d5fe200fea8",
   "metadata": {},
   "outputs": [
    {
     "data": {
      "text/plain": [
       "<tf.Tensor: shape=(4,), dtype=int32, numpy=array([ 99,  97, 102, 233])>"
      ]
     },
     "execution_count": 23,
     "metadata": {},
     "output_type": "execute_result"
    }
   ],
   "source": [
    "tf.strings.unicode_decode(b, \"UTF-8\")"
   ]
  },
  {
   "cell_type": "markdown",
   "id": "786ffd1b-5ef9-4c49-902c-2564f889704f",
   "metadata": {},
   "source": [
    "### 字符串数组"
   ]
  },
  {
   "cell_type": "code",
   "execution_count": 24,
   "id": "55e36010-5347-485b-ad9c-d33430e51c3d",
   "metadata": {},
   "outputs": [],
   "source": [
    "p = tf.constant([\"Café\", \"Coffee\", \"caffè\", \"咖啡\"])"
   ]
  },
  {
   "cell_type": "code",
   "execution_count": 25,
   "id": "5118de0b-0596-4c01-9bbf-3996a8040d8c",
   "metadata": {},
   "outputs": [
    {
     "data": {
      "text/plain": [
       "<tf.Tensor: shape=(4,), dtype=int32, numpy=array([4, 6, 5, 2])>"
      ]
     },
     "execution_count": 25,
     "metadata": {},
     "output_type": "execute_result"
    }
   ],
   "source": [
    "tf.strings.length(p, unit=\"UTF8_CHAR\")"
   ]
  },
  {
   "cell_type": "code",
   "execution_count": 26,
   "id": "07a456d4-4e13-4878-8925-3a91471729ac",
   "metadata": {},
   "outputs": [
    {
     "data": {
      "text/plain": [
       "<tf.RaggedTensor [[67, 97, 102, 233], [67, 111, 102, 102, 101, 101],\n",
       " [99, 97, 102, 102, 232], [21654, 21857]]>"
      ]
     },
     "execution_count": 26,
     "metadata": {},
     "output_type": "execute_result"
    }
   ],
   "source": [
    "r = tf.strings.unicode_decode(p, \"UTF8\")\n",
    "r"
   ]
  },
  {
   "cell_type": "code",
   "execution_count": 27,
   "id": "366d4a30-ea70-4968-b037-35032feabf4a",
   "metadata": {},
   "outputs": [
    {
     "name": "stdout",
     "output_type": "stream",
     "text": [
      "<tf.RaggedTensor [[67, 97, 102, 233], [67, 111, 102, 102, 101, 101],\n",
      " [99, 97, 102, 102, 232], [21654, 21857]]>\n"
     ]
    }
   ],
   "source": [
    "print(r)"
   ]
  },
  {
   "cell_type": "markdown",
   "id": "3efa3b4a-18f0-4d08-b033-2d93d2380ce9",
   "metadata": {},
   "source": [
    "### 不规则张量（Ragged tensors）"
   ]
  },
  {
   "cell_type": "markdown",
   "id": "50b9c47c-2766-4928-bfd0-c0edf2905f2d",
   "metadata": {},
   "source": [
    "表示张量列表的静态列表，大小不可变，其中每个向量都有相同的形状和数据类型  \n",
    "tf.ragged包含不规则张量的操作"
   ]
  },
  {
   "cell_type": "code",
   "execution_count": 28,
   "id": "244038ec-9c40-4db5-8a26-5612be64e3e1",
   "metadata": {},
   "outputs": [
    {
     "data": {
      "text/plain": [
       "<tf.Tensor: shape=(4, 6), dtype=int32, numpy=\n",
       "array([[   67,    97,   102,   233,     0,     0],\n",
       "       [   67,   111,   102,   102,   101,   101],\n",
       "       [   99,    97,   102,   102,   232,     0],\n",
       "       [21654, 21857,     0,     0,     0,     0]])>"
      ]
     },
     "execution_count": 28,
     "metadata": {},
     "output_type": "execute_result"
    }
   ],
   "source": [
    "r.to_tensor()"
   ]
  },
  {
   "cell_type": "code",
   "execution_count": 29,
   "id": "c6d494ea-3ef0-4e76-98a0-9b73efec121a",
   "metadata": {},
   "outputs": [
    {
     "data": {
      "text/plain": [
       "<tf.Tensor: shape=(7, 6), dtype=int32, numpy=\n",
       "array([[   67,    97,   102,   233,     0,     0],\n",
       "       [   67,   111,   102,   102,   101,   101],\n",
       "       [   99,    97,   102,   102,   232,     0],\n",
       "       [21654, 21857,     0,     0,     0,     0],\n",
       "       [   65,    66,     0,     0,     0,     0],\n",
       "       [    0,     0,     0,     0,     0,     0],\n",
       "       [   67,     0,     0,     0,     0,     0]])>"
      ]
     },
     "execution_count": 29,
     "metadata": {},
     "output_type": "execute_result"
    }
   ],
   "source": [
    "# 以行的形式加入三行，长度不够的地方用0填充\n",
    "r2 = tf.ragged.constant([[65, 66], [], [67]])\n",
    "tf.concat([r, r2], axis=0).to_tensor()"
   ]
  },
  {
   "cell_type": "code",
   "execution_count": 31,
   "id": "cb9e6501-c06b-4725-9bd3-ac4157787e90",
   "metadata": {},
   "outputs": [
    {
     "data": {
      "text/plain": [
       "<tf.Tensor: shape=(4, 7), dtype=int32, numpy=\n",
       "array([[   67,    97,   102,   233,    68,    69,    70],\n",
       "       [   67,   111,   102,   102,   101,   101,    71],\n",
       "       [   99,    97,   102,   102,   232,     0,     0],\n",
       "       [21654, 21857,    72,    73,     0,     0,     0]])>"
      ]
     },
     "execution_count": 31,
     "metadata": {},
     "output_type": "execute_result"
    }
   ],
   "source": [
    "# 以列的形式填充3列，优先填充目标行长度不够的位置（被0填充的位置），可以增加新的列\n",
    "r3 = tf.ragged.constant([[68, 69, 70], [71], [], [72, 73]])\n",
    "tf.concat([r, r3], axis=1).to_tensor()"
   ]
  },
  {
   "cell_type": "code",
   "execution_count": 35,
   "id": "84cccc80-72ea-4e74-a820-6e02610f1d94",
   "metadata": {},
   "outputs": [
    {
     "data": {
      "text/plain": [
       "<tf.Tensor: shape=(4,), dtype=string, numpy=array([b'DEF', b'G', b'', b'HI'], dtype=object)>"
      ]
     },
     "execution_count": 35,
     "metadata": {},
     "output_type": "execute_result"
    }
   ],
   "source": [
    "# 使用UTF-8编码\n",
    "tf.strings.unicode_encode(r3, \"UTF-8\")"
   ]
  },
  {
   "cell_type": "markdown",
   "id": "9a135349-fead-4ae1-8ee5-195a9df2ce1c",
   "metadata": {},
   "source": [
    "### 稀疏张量"
   ]
  },
  {
   "cell_type": "code",
   "execution_count": 36,
   "id": "1697d83f-032e-4d7d-bc6a-0a419d564edc",
   "metadata": {},
   "outputs": [],
   "source": [
    "s = tf.SparseTensor(indices=[[0, 1], [1, 0], [2, 3]], # 非零值的位置\n",
    "                    values=[1., 2., 3.], # 菲零值\n",
    "                    dense_shape=[3, 4]) # 形状"
   ]
  },
  {
   "cell_type": "code",
   "execution_count": 37,
   "id": "348d6cec-95a7-4714-8dab-a2773e1d8724",
   "metadata": {},
   "outputs": [
    {
     "name": "stdout",
     "output_type": "stream",
     "text": [
      "SparseTensor(indices=tf.Tensor(\n",
      "[[0 1]\n",
      " [1 0]\n",
      " [2 3]], shape=(3, 2), dtype=int64), values=tf.Tensor([1. 2. 3.], shape=(3,), dtype=float32), dense_shape=tf.Tensor([3 4], shape=(2,), dtype=int64))\n"
     ]
    }
   ],
   "source": [
    "print(s)"
   ]
  },
  {
   "cell_type": "code",
   "execution_count": 38,
   "id": "bf8a9376-9687-4c6d-992b-5982aa980263",
   "metadata": {},
   "outputs": [
    {
     "data": {
      "text/plain": [
       "<tf.Tensor: shape=(3, 4), dtype=float32, numpy=\n",
       "array([[0., 1., 0., 0.],\n",
       "       [2., 0., 0., 0.],\n",
       "       [0., 0., 0., 3.]], dtype=float32)>"
      ]
     },
     "execution_count": 38,
     "metadata": {},
     "output_type": "execute_result"
    }
   ],
   "source": [
    "tf.sparse.to_dense(s)"
   ]
  },
  {
   "cell_type": "code",
   "execution_count": 46,
   "id": "8a3e2ce0-dfd8-4249-b1c7-a4f9ad21ce17",
   "metadata": {},
   "outputs": [],
   "source": [
    "# 稀疏矩阵支持乘除法\n",
    "s2 = s * 2.0"
   ]
  },
  {
   "cell_type": "code",
   "execution_count": 47,
   "id": "8dff7bee-c97a-4658-b511-dc72d64e2916",
   "metadata": {},
   "outputs": [
    {
     "name": "stdout",
     "output_type": "stream",
     "text": [
      "unsupported operand type(s) for +: 'SparseTensor' and 'float'\n"
     ]
    }
   ],
   "source": [
    "# 稀疏矩阵不支持加减操作\n",
    "try:\n",
    "    s3 = s + 1.\n",
    "except TypeError as ex:\n",
    "    print(ex)"
   ]
  },
  {
   "cell_type": "code",
   "execution_count": 49,
   "id": "652d618d-434d-452d-87c5-59edd6f270ba",
   "metadata": {},
   "outputs": [],
   "source": [
    "# 除非先将稀疏矩阵转换成dense矩阵\n",
    "s4 = tf.sparse.to_dense(s) + 1."
   ]
  },
  {
   "cell_type": "code",
   "execution_count": 50,
   "id": "d0c07709-86d7-4388-9f13-c96be8b0bc5a",
   "metadata": {},
   "outputs": [
    {
     "data": {
      "text/plain": [
       "<tf.Tensor: shape=(3, 2), dtype=float32, numpy=\n",
       "array([[ 30.,  40.],\n",
       "       [ 20.,  40.],\n",
       "       [210., 240.]], dtype=float32)>"
      ]
     },
     "execution_count": 50,
     "metadata": {},
     "output_type": "execute_result"
    }
   ],
   "source": [
    "# 矩阵乘法需调用sparse_dense_matmul方法\n",
    "s4 = tf.constant([[10., 20.], [30., 40.], [50., 60.], [70., 80.]])\n",
    "tf.sparse.sparse_dense_matmul(s, s4)"
   ]
  },
  {
   "cell_type": "code",
   "execution_count": 56,
   "id": "a4651728-46c2-4e9c-a8ed-86bf3f145eb9",
   "metadata": {},
   "outputs": [
    {
     "name": "stdout",
     "output_type": "stream",
     "text": [
      "SparseTensor(indices=tf.Tensor(\n",
      "[[0 2]\n",
      " [0 1]], shape=(2, 2), dtype=int64), values=tf.Tensor([1. 2.], shape=(2,), dtype=float32), dense_shape=tf.Tensor([3 4], shape=(2,), dtype=int64))\n"
     ]
    }
   ],
   "source": [
    "# 在构造稀疏矩阵的时候，最好是按照行和列的顺序定义各个位置的元素，不要像下面这样\n",
    "s5 = tf.SparseTensor(indices=[[0, 2], [0, 1]],\n",
    "                     values=[1., 2.],\n",
    "                     dense_shape=[3, 4])\n",
    "print(s5)"
   ]
  },
  {
   "cell_type": "code",
   "execution_count": 57,
   "id": "363c1cc5-320c-48a3-b783-ad163cc4d116",
   "metadata": {},
   "outputs": [
    {
     "name": "stdout",
     "output_type": "stream",
     "text": [
      "indices[1] is out of order. Many sparse ops require sorted indices.\n",
      "  Use `tf.sparse.reorder` to create a correctly ordered copy.\n",
      "\n",
      " [Op:SparseToDense]\n"
     ]
    }
   ],
   "source": [
    "# 否则就没办法转换成dense矩阵了\n",
    "try:\n",
    "    tf.sparse.to_dense(s5)\n",
    "except tf.errors.InvalidArgumentError as ex:\n",
    "    print(ex)"
   ]
  },
  {
   "cell_type": "code",
   "execution_count": 58,
   "id": "4b597d02-7862-4e05-8f78-f2e2bebd318f",
   "metadata": {},
   "outputs": [
    {
     "data": {
      "text/plain": [
       "<tf.Tensor: shape=(3, 4), dtype=float32, numpy=\n",
       "array([[0., 2., 1., 0.],\n",
       "       [0., 0., 0., 0.],\n",
       "       [0., 0., 0., 0.]], dtype=float32)>"
      ]
     },
     "execution_count": 58,
     "metadata": {},
     "output_type": "execute_result"
    }
   ],
   "source": [
    "# 但是可以使用reorder方法来重新排序各元素的定义的顺序\n",
    "s6 = tf.sparse.reorder(s5)\n",
    "tf.sparse.to_dense(s6)"
   ]
  },
  {
   "cell_type": "markdown",
   "id": "32798cde-fbb9-445c-b800-81e841f94377",
   "metadata": {},
   "source": [
    "### 集合"
   ]
  },
  {
   "cell_type": "markdown",
   "id": "3801f401-8f3a-4758-8ca2-b884aaadc351",
   "metadata": {},
   "source": [
    "就像Python中集合那样，可以合并重复值"
   ]
  },
  {
   "cell_type": "code",
   "execution_count": 63,
   "id": "ca7cdbed-59f6-4b63-b805-76fbc5c20652",
   "metadata": {},
   "outputs": [
    {
     "data": {
      "text/plain": [
       "<tf.Tensor: shape=(2, 6), dtype=int32, numpy=\n",
       "array([[ 2,  3,  4,  5,  6,  7],\n",
       "       [ 0,  7,  9, 10,  0,  0]])>"
      ]
     },
     "execution_count": 63,
     "metadata": {},
     "output_type": "execute_result"
    }
   ],
   "source": [
    "set1 = tf.constant([[2, 3, 5, 7], [7, 9, 0, 0]])\n",
    "set2 = tf.constant([[4, 5, 6], [9, 10, 0]])\n",
    "# 得到最后\n",
    "tf.sparse.to_dense(tf.sets.union(set1, set2))"
   ]
  },
  {
   "cell_type": "markdown",
   "id": "55b5b75d-97eb-41b1-b776-258d8da695bf",
   "metadata": {},
   "source": [
    "### 变量"
   ]
  },
  {
   "cell_type": "markdown",
   "id": "52526991-5223-485d-8088-22555b41da93",
   "metadata": {},
   "source": [
    "前面的张量都是不能修改的，这就意味着其不能作为反向传播权重的载体  \n",
    "变量类型的张量可以担负这个任务，但是一般不用使用者亲自修改"
   ]
  },
  {
   "cell_type": "code",
   "execution_count": 64,
   "id": "ff26a884-cc61-4f75-a21c-ef329adb39f8",
   "metadata": {},
   "outputs": [],
   "source": [
    "v = tf.Variable([[1., 2., 3.], [4., 5., 6.]])"
   ]
  },
  {
   "cell_type": "code",
   "execution_count": 65,
   "id": "b88a5582-1a2d-4424-b1b6-1c9615272b94",
   "metadata": {},
   "outputs": [
    {
     "data": {
      "text/plain": [
       "<tf.Variable 'UnreadVariable' shape=(2, 3) dtype=float32, numpy=\n",
       "array([[ 2.,  4.,  6.],\n",
       "       [ 8., 10., 12.]], dtype=float32)>"
      ]
     },
     "execution_count": 65,
     "metadata": {},
     "output_type": "execute_result"
    }
   ],
   "source": [
    "# 使用assign方法对张量进行修改\n",
    "v.assign(2 * v)"
   ]
  },
  {
   "cell_type": "code",
   "execution_count": 66,
   "id": "7dee5663-1d2b-4419-87be-20b8c7f5a52d",
   "metadata": {},
   "outputs": [
    {
     "data": {
      "text/plain": [
       "<tf.Variable 'UnreadVariable' shape=(2, 3) dtype=float32, numpy=\n",
       "array([[ 2., 42.,  6.],\n",
       "       [ 8., 10., 12.]], dtype=float32)>"
      ]
     },
     "execution_count": 66,
     "metadata": {},
     "output_type": "execute_result"
    }
   ],
   "source": [
    "# 定点分配值\n",
    "v[0, 1].assign(42)"
   ]
  },
  {
   "cell_type": "code",
   "execution_count": 67,
   "id": "6b331423-1188-47c6-bc28-e58eeb422c85",
   "metadata": {},
   "outputs": [
    {
     "data": {
      "text/plain": [
       "<tf.Variable 'UnreadVariable' shape=(2, 3) dtype=float32, numpy=\n",
       "array([[ 2., 42.,  0.],\n",
       "       [ 8., 10.,  1.]], dtype=float32)>"
      ]
     },
     "execution_count": 67,
     "metadata": {},
     "output_type": "execute_result"
    }
   ],
   "source": [
    "# 在切片中分配数值\n",
    "v[:, 2].assign([0., 1.])"
   ]
  },
  {
   "cell_type": "code",
   "execution_count": 68,
   "id": "e767fd24-eb8d-4db9-953a-6ab42eb9b2f6",
   "metadata": {},
   "outputs": [
    {
     "name": "stdout",
     "output_type": "stream",
     "text": [
      "'ResourceVariable' object does not support item assignment\n"
     ]
    }
   ],
   "source": [
    "# 不能直接指定\n",
    "try:\n",
    "    v[1] = [7., 8., 9.]\n",
    "except TypeError as ex:\n",
    "    print(ex)"
   ]
  },
  {
   "cell_type": "code",
   "execution_count": 69,
   "id": "f0455fdc-6ca0-4c44-9ba4-c21cc743ea72",
   "metadata": {},
   "outputs": [
    {
     "data": {
      "text/plain": [
       "<tf.Variable 'UnreadVariable' shape=(2, 3) dtype=float32, numpy=\n",
       "array([[100.,  42.,   0.],\n",
       "       [  8.,  10., 200.]], dtype=float32)>"
      ]
     },
     "execution_count": 69,
     "metadata": {},
     "output_type": "execute_result"
    }
   ],
   "source": [
    "# 用scatter_nd_update方法也可以修改值\n",
    "v.scatter_nd_update(indices=[[0, 0], [1, 2]],\n",
    "                    updates=[100., 200.])"
   ]
  },
  {
   "cell_type": "code",
   "execution_count": 70,
   "id": "8574eca1-c099-4e7d-b5cc-0f258cee37cf",
   "metadata": {},
   "outputs": [
    {
     "data": {
      "text/plain": [
       "<tf.Variable 'UnreadVariable' shape=(2, 3) dtype=float32, numpy=\n",
       "array([[4., 5., 6.],\n",
       "       [1., 2., 3.]], dtype=float32)>"
      ]
     },
     "execution_count": 70,
     "metadata": {},
     "output_type": "execute_result"
    }
   ],
   "source": [
    "# 再或者向scatter_update方法中传入IndexedSlices实例来修改\n",
    "sparse_delta = tf.IndexedSlices(values=[[1., 2., 3.], [4., 5., 6.]],\n",
    "                                indices=[1, 0])\n",
    "v.scatter_update(sparse_delta)"
   ]
  },
  {
   "cell_type": "markdown",
   "id": "bf8544ac-ce26-4a0d-950b-2ee66dab3d55",
   "metadata": {},
   "source": [
    "### 张量数组"
   ]
  },
  {
   "cell_type": "markdown",
   "id": "fb901ae5-9564-4aa3-8fc9-f8ff5975e282",
   "metadata": {},
   "source": [
    "有点像动态数组，可以后续添加新的行"
   ]
  },
  {
   "cell_type": "code",
   "execution_count": 75,
   "id": "9b92ba59-7fb0-4d08-a5ad-b1f5dd1eaecf",
   "metadata": {},
   "outputs": [],
   "source": [
    "array = tf.TensorArray(dtype=tf.float32, size=3)\n",
    "array = array.write(0, tf.constant([1., 2.]))\n",
    "array = array.write(1, tf.constant([3., 10.]))\n",
    "array = array.write(2, tf.constant([5., 7.]))"
   ]
  },
  {
   "cell_type": "code",
   "execution_count": 77,
   "id": "69edce00-f488-4e3a-bde2-de4c16ea3771",
   "metadata": {},
   "outputs": [
    {
     "data": {
      "text/plain": [
       "<tf.Tensor: shape=(2,), dtype=float32, numpy=array([ 3., 10.], dtype=float32)>"
      ]
     },
     "execution_count": 77,
     "metadata": {},
     "output_type": "execute_result"
    }
   ],
   "source": [
    "# 从数组中取出第二行\n",
    "array.read(1)"
   ]
  },
  {
   "cell_type": "code",
   "execution_count": 81,
   "id": "394c7203-9b2a-4fb1-a563-f64f8c3bb8e4",
   "metadata": {},
   "outputs": [
    {
     "data": {
      "text/plain": [
       "<tf.Tensor: shape=(3, 2), dtype=float32, numpy=\n",
       "array([[1., 2.],\n",
       "       [0., 0.],\n",
       "       [5., 7.]], dtype=float32)>"
      ]
     },
     "execution_count": 81,
     "metadata": {},
     "output_type": "execute_result"
    }
   ],
   "source": [
    "# 第二行元素被取走，用0填充原来的位置\n",
    "# 以栈的形式展示数组\n",
    "array.stack()"
   ]
  },
  {
   "cell_type": "code",
   "execution_count": 79,
   "id": "07330825-0e9d-4059-b0d4-cec6d6e1b755",
   "metadata": {},
   "outputs": [
    {
     "data": {
      "text/plain": [
       "<tf.Tensor: shape=(2,), dtype=float32, numpy=array([2., 3.], dtype=float32)>"
      ]
     },
     "execution_count": 79,
     "metadata": {},
     "output_type": "execute_result"
    }
   ],
   "source": [
    "mean, variance = tf.nn.moments(array.stack(), axes=0)\n",
    "mean"
   ]
  },
  {
   "cell_type": "code",
   "execution_count": 80,
   "id": "15cb6dbc-d9a0-4cdc-888f-4aa0f237b085",
   "metadata": {},
   "outputs": [
    {
     "data": {
      "text/plain": [
       "<tf.Tensor: shape=(2,), dtype=float32, numpy=array([4.6666665, 8.666667 ], dtype=float32)>"
      ]
     },
     "execution_count": 80,
     "metadata": {},
     "output_type": "execute_result"
    }
   ],
   "source": [
    "variance"
   ]
  }
 ],
 "metadata": {
  "kernelspec": {
   "display_name": "tensorflow_venv",
   "language": "python",
   "name": "tenserflow_venv"
  },
  "language_info": {
   "codemirror_mode": {
    "name": "ipython",
    "version": 3
   },
   "file_extension": ".py",
   "mimetype": "text/x-python",
   "name": "python",
   "nbconvert_exporter": "python",
   "pygments_lexer": "ipython3",
   "version": "3.9.11"
  }
 },
 "nbformat": 4,
 "nbformat_minor": 5
}
