{
 "cells": [
  {
   "cell_type": "code",
   "execution_count": 1,
   "id": "ee2ef19d-f763-4971-a39e-7f47f7b927d8",
   "metadata": {
    "tags": []
   },
   "outputs": [],
   "source": [
    "# Python ≥3.5 is required\n",
    "import sys\n",
    "assert sys.version_info >= (3, 5)\n",
    "\n",
    "# Scikit-Learn ≥0.20 is required\n",
    "import sklearn\n",
    "assert sklearn.__version__ >= \"0.20\"\n",
    "\n",
    "try:\n",
    "    # %tensorflow_version only exists in Colab.\n",
    "    %tensorflow_version 2.x\n",
    "except Exception:\n",
    "    pass\n",
    "\n",
    "# TensorFlow ≥2.0 is required\n",
    "#import tensorflow as tf\n",
    "#assert tf.__version__ >= \"2.0\"\n",
    "\n",
    "# Common imports\n",
    "import numpy as np\n",
    "import os\n",
    "\n",
    "# to make this notebook's output stable across runs\n",
    "np.random.seed(42)\n",
    "\n",
    "# To plot pretty figures\n",
    "%matplotlib inline\n",
    "import matplotlib as mpl\n",
    "import matplotlib.pyplot as plt\n",
    "mpl.rc('axes', labelsize=14)\n",
    "mpl.rc('xtick', labelsize=12)\n",
    "mpl.rc('ytick', labelsize=12)\n",
    "mpl.rc('font', family = 'simhei')\n",
    "mpl.rc('font', size = 16)\n",
    "mpl.rc('axes', unicode_minus = False)\n",
    "\n",
    "# Where to save the figures\n",
    "PROJECT_ROOT_DIR = \".\"\n",
    "CHAPTER_ID = \"ann\"\n",
    "IMAGES_PATH = os.path.join(PROJECT_ROOT_DIR, \"images\", CHAPTER_ID)\n",
    "os.makedirs(IMAGES_PATH, exist_ok=True)\n",
    "\n",
    "def save_fig(fig_id, tight_layout=True, fig_extension=\"png\", resolution=300):\n",
    "    path = os.path.join(IMAGES_PATH, fig_id + \".\" + fig_extension)\n",
    "    print(\"Saving figure\", fig_id)\n",
    "    if tight_layout:\n",
    "        plt.tight_layout()\n",
    "    plt.savefig(path, format=fig_extension, dpi=resolution)"
   ]
  },
  {
   "cell_type": "markdown",
   "id": "b9fb5a7b-5bad-4a76-81fe-a88eadd50edb",
   "metadata": {},
   "source": [
    "# 感知器"
   ]
  },
  {
   "cell_type": "code",
   "execution_count": 2,
   "id": "aecd11a0-e2a3-42b6-ac1d-c55dc4a515ef",
   "metadata": {},
   "outputs": [
    {
     "data": {
      "text/plain": [
       "array([1], dtype=int64)"
      ]
     },
     "execution_count": 2,
     "metadata": {},
     "output_type": "execute_result"
    }
   ],
   "source": [
    "# 使用单一感知器分类鸢尾植物类别\n",
    "import numpy as np\n",
    "from sklearn.datasets import load_iris\n",
    "from sklearn.linear_model import Perceptron\n",
    "\n",
    "iris = load_iris()\n",
    "X = iris.data[:, (2, 3)]  # 特征：根茎长度、宽度\n",
    "y = (iris.target == 0).astype(np.int64)\n",
    "\n",
    "per_clf = Perceptron(max_iter=1000, tol=1e-3, random_state=42)\n",
    "per_clf.fit(X, y)\n",
    "\n",
    "y_pred = per_clf.predict([[2, 0.5]])\n",
    "y_pred"
   ]
  },
  {
   "cell_type": "markdown",
   "id": "1422774d-54e6-4508-b32d-6f1ac370c471",
   "metadata": {},
   "source": [
    "展示一下感知器分类的决策平面"
   ]
  },
  {
   "cell_type": "code",
   "execution_count": 3,
   "id": "7794c9cd-fccb-430b-8362-e1d3e1859188",
   "metadata": {},
   "outputs": [
    {
     "name": "stdout",
     "output_type": "stream",
     "text": [
      "Saving figure 单一感知器分类鸢尾植物\n"
     ]
    },
    {
     "data": {
      "image/png": "[encoded data removed]",
      "text/plain": [
       "<Figure size 720x288 with 1 Axes>"
      ]
     },
     "metadata": {
      "needs_background": "light"
     },
     "output_type": "display_data"
    }
   ],
   "source": [
    "a = -per_clf.coef_[0][0] / per_clf.coef_[0][1]\n",
    "b = -per_clf.intercept_ / per_clf.coef_[0][1]\n",
    "\n",
    "axes = [0, 5, 0, 2]\n",
    "\n",
    "x0, x1 = np.meshgrid(\n",
    "        np.linspace(axes[0], axes[1], 500).reshape(-1, 1),\n",
    "        np.linspace(axes[2], axes[3], 200).reshape(-1, 1),\n",
    "    )\n",
    "X_new = np.c_[x0.ravel(), x1.ravel()]\n",
    "y_predict = per_clf.predict(X_new)\n",
    "zz = y_predict.reshape(x0.shape)\n",
    "\n",
    "plt.figure(figsize=(10, 4))\n",
    "plt.plot(X[y==0, 0], X[y==0, 1], \"bs\", label=\"不是鸢尾草\")\n",
    "plt.plot(X[y==1, 0], X[y==1, 1], \"yo\", label=\"鸢尾草\")\n",
    "\n",
    "plt.plot([axes[0], axes[1]], [a * axes[0] + b, a * axes[1] + b], \"k-\", linewidth=3)\n",
    "from matplotlib.colors import ListedColormap\n",
    "custom_cmap = ListedColormap(['#9898ff', '#fafab0'])\n",
    "\n",
    "plt.contourf(x0, x1, zz, cmap=custom_cmap)\n",
    "plt.xlabel(\"根茎长度\", fontsize=14)\n",
    "plt.ylabel(\"根茎宽度\", fontsize=14)\n",
    "plt.legend(loc=\"lower right\", fontsize=14)\n",
    "plt.axis(axes)\n",
    "\n",
    "save_fig(\"单一感知器分类鸢尾植物\")\n",
    "plt.show()"
   ]
  },
  {
   "cell_type": "markdown",
   "id": "1c7402a1-e05a-4b26-ba1d-7eaae3c54878",
   "metadata": {},
   "source": [
    "简单感知器的学习算法非常类似于随机梯度下降，其实当SGDClassifier对象的损失函数是'perceptron'的时候，等同于单一感知器"
   ]
  },
  {
   "cell_type": "code",
   "execution_count": 4,
   "id": "68168ad8-259d-4f7f-9490-c485cef3c65d",
   "metadata": {},
   "outputs": [
    {
     "data": {
      "text/plain": [
       "array([1], dtype=int64)"
      ]
     },
     "execution_count": 4,
     "metadata": {},
     "output_type": "execute_result"
    }
   ],
   "source": [
    "from sklearn.linear_model import SGDClassifier\n",
    "\n",
    "per_clf = SGDClassifier(loss = 'perceptron', max_iter=1000, tol=1e-3, random_state=42, penalty = None, \n",
    "                        learning_rate = 'constant', eta0 = 1) # 设置学习率保持不变一直为1\n",
    "per_clf.fit(X, y)\n",
    "\n",
    "y_pred = per_clf.predict([[2, 0.5]])\n",
    "y_pred"
   ]
  },
  {
   "cell_type": "markdown",
   "id": "72de70d7-2191-4562-b216-5d4609b2b371",
   "metadata": {},
   "source": [
    "# 激活函数"
   ]
  },
  {
   "cell_type": "code",
   "execution_count": 5,
   "id": "c7fe0ba4-c884-414a-9916-67909e427761",
   "metadata": {},
   "outputs": [],
   "source": [
    "# 这是几种流行的激活函数\n",
    "def sigmoid(z):\n",
    "    return 1 / (1 + np.exp(-z))\n",
    "\n",
    "def relu(z):\n",
    "    return np.maximum(0, z)\n",
    "\n",
    "def derivative(f, z, eps=0.000001):\n",
    "    return (f(z + eps) - f(z - eps))/(2 * eps)"
   ]
  },
  {
   "cell_type": "code",
   "execution_count": 6,
   "id": "38b40000-c817-40f8-b21e-af92d7ec3535",
   "metadata": {
    "tags": []
   },
   "outputs": [
    {
     "name": "stdout",
     "output_type": "stream",
     "text": [
      "Saving figure 几种流行的激活函数\n"
     ]
    },
    {
     "data": {
      "image/png": "[encoded data removed]",
      "text/plain": [
       "<Figure size 792x288 with 2 Axes>"
      ]
     },
     "metadata": {
      "needs_background": "light"
     },
     "output_type": "display_data"
    }
   ],
   "source": [
    "z = np.linspace(-5, 5, 200)\n",
    "\n",
    "plt.figure(figsize=(11,4))\n",
    "\n",
    "plt.subplot(121)\n",
    "plt.plot(z, np.sign(z), \"r-\", linewidth=1, label=\"Step\")\n",
    "plt.plot(z, sigmoid(z), \"g--\", linewidth=2, label=\"Sigmoid\")\n",
    "plt.plot(z, np.tanh(z), \"b-\", linewidth=2, label=\"Tanh\")\n",
    "plt.plot(z, relu(z), \"m-.\", linewidth=2, label=\"ReLU\")\n",
    "plt.grid(True)\n",
    "plt.legend(loc=\"center right\", fontsize=14)\n",
    "plt.title(\"Activation functions\", fontsize=14)\n",
    "plt.axis([-5, 5, -1.2, 1.2])\n",
    "\n",
    "plt.subplot(122)\n",
    "plt.plot(z, derivative(np.sign, z), \"r-\", linewidth=1, label=\"Step\")\n",
    "plt.plot(0, 0, \"ro\", markersize=5)\n",
    "plt.plot(0, 0, \"rx\", markersize=10)\n",
    "plt.plot(z, derivative(sigmoid, z), \"g--\", linewidth=2, label=\"Sigmoid\")\n",
    "plt.plot(z, derivative(np.tanh, z), \"b-\", linewidth=2, label=\"Tanh\")\n",
    "plt.plot(z, derivative(relu, z), \"m-.\", linewidth=2, label=\"ReLU\")\n",
    "plt.grid(True)\n",
    "#plt.legend(loc=\"center right\", fontsize=14)\n",
    "plt.title(\"Derivatives\", fontsize=14)\n",
    "plt.axis([-5, 5, -0.2, 1.2])\n",
    "\n",
    "save_fig(\"几种流行的激活函数\")\n",
    "plt.show()"
   ]
  },
  {
   "cell_type": "markdown",
   "id": "c1c2c5ce-3544-4062-8e2e-b7c8b05c3611",
   "metadata": {},
   "source": [
    "# keras搭建一个图片分类器"
   ]
  },
  {
   "cell_type": "code",
   "execution_count": 7,
   "id": "ecb332a6-e5ff-4838-be7e-9cc59bf7f7c8",
   "metadata": {},
   "outputs": [],
   "source": [
    "import tensorflow as tf\n",
    "from tensorflow import keras"
   ]
  },
  {
   "cell_type": "code",
   "execution_count": 8,
   "id": "c2a8503d-25d1-44dd-9147-6e4549b1ade0",
   "metadata": {},
   "outputs": [],
   "source": [
    "import numpy as np"
   ]
  },
  {
   "cell_type": "code",
   "execution_count": 9,
   "id": "a4f90f33-5765-4a5c-90da-6105a86fe22d",
   "metadata": {},
   "outputs": [],
   "source": [
    "# 获取图片像素数据\n",
    "fashion_mnist = keras.datasets.fashion_mnist\n",
    "(X_train_full, y_train_full), (X_test, y_test) = fashion_mnist.load_data()"
   ]
  },
  {
   "cell_type": "code",
   "execution_count": 10,
   "id": "76b545b0-de1e-49dc-b131-fb78ea2ba203",
   "metadata": {},
   "outputs": [
    {
     "data": {
      "text/plain": [
       "(60000, 28, 28)"
      ]
     },
     "execution_count": 10,
     "metadata": {},
     "output_type": "execute_result"
    }
   ],
   "source": [
    "X_train_full.shape"
   ]
  },
  {
   "cell_type": "code",
   "execution_count": 11,
   "id": "1c1eaee7-5523-4811-8ede-7d32c065f8fb",
   "metadata": {},
   "outputs": [
    {
     "data": {
      "text/plain": [
       "dtype('uint8')"
      ]
     },
     "execution_count": 11,
     "metadata": {},
     "output_type": "execute_result"
    }
   ],
   "source": [
    "# 像素值的范围时0-255\n",
    "X_train_full.dtype"
   ]
  },
  {
   "cell_type": "code",
   "execution_count": 12,
   "id": "844766f5-92b9-48f2-b2d9-23e6b03a76de",
   "metadata": {},
   "outputs": [],
   "source": [
    "# 因为使用梯度下降来最小化误差，所以需最好先对输入数据进行归一化缩放\n",
    "# 再分出一点数据作为验证集\n",
    "X_valid, X_train = X_train_full[:5000] / 255., X_train_full[5000:] / 255.\n",
    "y_valid, y_train = y_train_full[:5000], y_train_full[5000:]\n",
    "X_test = X_test / 255."
   ]
  },
  {
   "cell_type": "code",
   "execution_count": 13,
   "id": "8217e05d-2e00-4302-9c54-8ebd02f5cafd",
   "metadata": {},
   "outputs": [
    {
     "data": {
      "image/png": "[encoded data removed]",
      "text/plain": [
       "<Figure size 432x288 with 1 Axes>"
      ]
     },
     "metadata": {
      "needs_background": "light"
     },
     "output_type": "display_data"
    }
   ],
   "source": [
    "plt.imshow(X_train[0], cmap=\"binary\")\n",
    "plt.axis('off')\n",
    "plt.show()"
   ]
  },
  {
   "cell_type": "code",
   "execution_count": 14,
   "id": "c319ce37-4289-4503-8baa-64a5efe7a129",
   "metadata": {},
   "outputs": [
    {
     "data": {
      "text/plain": [
       "array([0, 1, 2, 3, 4, 5, 6, 7, 8, 9], dtype=uint8)"
      ]
     },
     "execution_count": 14,
     "metadata": {},
     "output_type": "execute_result"
    }
   ],
   "source": [
    "# 图片共计有10个类别，使用单一数据进行指代\n",
    "np.unique(y_train)"
   ]
  },
  {
   "cell_type": "code",
   "execution_count": 15,
   "id": "8b3569d4-abf5-4b2a-b185-e47868241b7e",
   "metadata": {},
   "outputs": [
    {
     "data": {
      "text/plain": [
       "'Coat'"
      ]
     },
     "execution_count": 15,
     "metadata": {},
     "output_type": "execute_result"
    }
   ],
   "source": [
    "# 这是各个类别的实际含义，如第一个图片是Coat\n",
    "class_names = [\"T-shirt/top\", \"Trouser\", \"Pullover\", \"Dress\", \"Coat\",\n",
    "               \"Sandal\", \"Shirt\", \"Sneaker\", \"Bag\", \"Ankle boot\"]\n",
    "class_names[y_train[0]]"
   ]
  },
  {
   "cell_type": "code",
   "execution_count": 16,
   "id": "49b34001-bcd6-4d31-ae95-4250406c6276",
   "metadata": {},
   "outputs": [
    {
     "name": "stdout",
     "output_type": "stream",
     "text": [
      "Saving figure fashion_mnist_plot\n"
     ]
    },
    {
     "data": {
      "image/png": "[encoded data removed]",
      "text/plain": [
       "<Figure size 864x345.6 with 40 Axes>"
      ]
     },
     "metadata": {
      "needs_background": "light"
     },
     "output_type": "display_data"
    }
   ],
   "source": [
    "n_rows = 4\n",
    "n_cols = 10\n",
    "plt.figure(figsize=(n_cols * 1.2, n_rows * 1.2))\n",
    "for row in range(n_rows):\n",
    "    for col in range(n_cols):\n",
    "        index = n_cols * row + col\n",
    "        plt.subplot(n_rows, n_cols, index + 1)\n",
    "        plt.imshow(X_train[index], cmap=\"binary\", interpolation=\"nearest\")\n",
    "        plt.axis('off')\n",
    "        plt.title(class_names[y_train[index]], fontsize=12)\n",
    "plt.subplots_adjust(wspace=0.2, hspace=0.5)\n",
    "save_fig('fashion_mnist_plot', tight_layout=False)\n",
    "plt.show()"
   ]
  },
  {
   "cell_type": "markdown",
   "id": "92947587-4f95-45bd-8bfc-471fb91bf016",
   "metadata": {},
   "source": [
    "## 1. 初始化"
   ]
  },
  {
   "cell_type": "markdown",
   "id": "1886bc97-b34c-42b2-b423-13961c7f6f2b",
   "metadata": {},
   "source": [
    "创建一个最简单的顺序神经网络  \n",
    "这是两种初始化创建的方法"
   ]
  },
  {
   "cell_type": "code",
   "execution_count": 17,
   "id": "13a3ba34-d49f-45ee-ba23-22f4991b37f7",
   "metadata": {},
   "outputs": [],
   "source": [
    "model = keras.models.Sequential([\n",
    "    keras.layers.Flatten(input_shape=[28, 28]),\n",
    "    keras.layers.Dense(300, activation=\"relu\"),\n",
    "    keras.layers.Dense(100, activation=\"relu\"),\n",
    "    keras.layers.Dense(10, activation=\"softmax\")\n",
    "])"
   ]
  },
  {
   "cell_type": "code",
   "execution_count": 18,
   "id": "a6ff14a8-f083-4768-9565-eb14eae7ed1d",
   "metadata": {},
   "outputs": [],
   "source": [
    "from functools import partial\n",
    "\n",
    "model = keras.models.Sequential()\n",
    "# input_shape参数是keras.layers的build()方法的参数\n",
    "# 当创建一个一个layer时，自动调用build()方法，所以可以使用input_shape参数\n",
    "model.add(keras.layers.Flatten(input_shape = [28, 28], name = 'input0'))\n",
    "model.add(keras.layers.Dense(300, activation = partial(keras.activations.relu, alpha = 0.2), name = 'hidden0'))\n",
    "model.add(keras.layers.Dense(100, activation = partial(keras.activations.relu, alpha = 0.1), name = 'hidden1'))\n",
    "model.add(keras.layers.Dense(10, activation = keras.activations.softmax, name = 'output0'))"
   ]
  },
  {
   "cell_type": "code",
   "execution_count": 19,
   "id": "8e0e1a8e-53fa-4a20-8f28-53604ac9316a",
   "metadata": {},
   "outputs": [],
   "source": [
    "# 重新设置随机状态\n",
    "keras.backend.clear_session()\n",
    "np.random.seed(42)\n",
    "tf.random.set_seed(42)"
   ]
  },
  {
   "cell_type": "code",
   "execution_count": 20,
   "id": "db639a34-910b-4b3d-bab7-c7b1a901186b",
   "metadata": {},
   "outputs": [
    {
     "data": {
      "text/plain": [
       "[<keras.layers.core.flatten.Flatten at 0x238455daee0>,\n",
       " <keras.layers.core.dense.Dense at 0x238455daf10>,\n",
       " <keras.layers.core.dense.Dense at 0x238455a58b0>,\n",
       " <keras.layers.core.dense.Dense at 0x238455a5d90>]"
      ]
     },
     "execution_count": 20,
     "metadata": {},
     "output_type": "execute_result"
    }
   ],
   "source": [
    "# 查看模型的layers列表\n",
    "model.layers"
   ]
  },
  {
   "cell_type": "code",
   "execution_count": 21,
   "id": "c541c4fd-5f8d-43bd-8214-4b669397bc46",
   "metadata": {},
   "outputs": [
    {
     "name": "stdout",
     "output_type": "stream",
     "text": [
      "Model: \"sequential_1\"\n",
      "_________________________________________________________________\n",
      " Layer (type)                Output Shape              Param #   \n",
      "=================================================================\n",
      " input0 (Flatten)            (None, 784)               0         \n",
      "                                                                 \n",
      " hidden0 (Dense)             (None, 300)               235500    \n",
      "                                                                 \n",
      " hidden1 (Dense)             (None, 100)               30100     \n",
      "                                                                 \n",
      " output0 (Dense)             (None, 10)                1010      \n",
      "                                                                 \n",
      "=================================================================\n",
      "Total params: 266,610\n",
      "Trainable params: 266,610\n",
      "Non-trainable params: 0\n",
      "_________________________________________________________________\n"
     ]
    }
   ],
   "source": [
    "# 还可以看看更详细的列表\n",
    "model.summary()"
   ]
  },
  {
   "cell_type": "code",
   "execution_count": 22,
   "id": "4a80190f-8845-477b-a5ba-a74e896055e2",
   "metadata": {},
   "outputs": [
    {
     "data": {
      "image/png": "[encoded data removed]",
      "text/plain": [
       "<IPython.core.display.Image object>"
      ]
     },
     "execution_count": 22,
     "metadata": {},
     "output_type": "execute_result"
    }
   ],
   "source": [
    "# 也可以看到整个网络的流程图\n",
    "keras.utils.plot_model(model, \"my_fashion_mnist_model.png\", show_shapes=True)"
   ]
  },
  {
   "cell_type": "code",
   "execution_count": 23,
   "id": "4af6a545-4484-4fd9-92b1-7e0478ea4808",
   "metadata": {},
   "outputs": [
    {
     "data": {
      "text/plain": [
       "'hidden0'"
      ]
     },
     "execution_count": 23,
     "metadata": {},
     "output_type": "execute_result"
    }
   ],
   "source": [
    "# 可以通过新的变量单独指定某一个layer\n",
    "hidden0 = model.layers[1]\n",
    "hidden0.name"
   ]
  },
  {
   "cell_type": "code",
   "execution_count": 24,
   "id": "e90afa49-70d9-4038-8290-0432f12f6f3c",
   "metadata": {},
   "outputs": [
    {
     "data": {
      "text/plain": [
       "True"
      ]
     },
     "execution_count": 24,
     "metadata": {},
     "output_type": "execute_result"
    }
   ],
   "source": [
    "model.get_layer(hidden0.name) is hidden0"
   ]
  },
  {
   "cell_type": "code",
   "execution_count": 25,
   "id": "16f15508-bc77-4148-bd2d-0e4475d83392",
   "metadata": {},
   "outputs": [
    {
     "name": "stdout",
     "output_type": "stream",
     "text": [
      "(784, 300)\n"
     ]
    },
    {
     "data": {
      "text/plain": [
       "array([[ 0.04732689, -0.07269189,  0.0274618 , ..., -0.07435824,\n",
       "        -0.02391235,  0.03520778],\n",
       "       [-0.06640659, -0.02515322,  0.0519357 , ...,  0.02892455,\n",
       "         0.04713751,  0.0148253 ],\n",
       "       [-0.0510681 ,  0.00670317, -0.01298771, ..., -0.05443989,\n",
       "         0.06834957,  0.07369179],\n",
       "       ...,\n",
       "       [ 0.03891948,  0.06573579, -0.02498239, ...,  0.01182597,\n",
       "         0.03598537,  0.07045211],\n",
       "       [ 0.03949924,  0.05968659,  0.00389566, ...,  0.06800346,\n",
       "        -0.04864471,  0.00453461],\n",
       "       [-0.04022869, -0.07291975, -0.03452286, ..., -0.03278805,\n",
       "         0.0111456 ,  0.05383492]], dtype=float32)"
      ]
     },
     "execution_count": 25,
     "metadata": {},
     "output_type": "execute_result"
    }
   ],
   "source": [
    "# 可以分别获取某一layer的各神经元和偏置项的连接权重，注意此时的权重是随机生成的\n",
    "# 因为还没进行训练呢\n",
    "weights, biases = hidden0.get_weights()\n",
    "# 这是各神经元的连接权重\n",
    "print(weights.shape)\n",
    "weights"
   ]
  },
  {
   "cell_type": "code",
   "execution_count": 26,
   "id": "d64c19fb-a744-4dd7-b2d0-a6fc59a82590",
   "metadata": {},
   "outputs": [
    {
     "name": "stdout",
     "output_type": "stream",
     "text": [
      "(300,)\n"
     ]
    },
    {
     "data": {
      "text/plain": [
       "array([0., 0., 0., 0., 0., 0., 0., 0., 0., 0., 0., 0., 0., 0., 0., 0., 0.,\n",
       "       0., 0., 0., 0., 0., 0., 0., 0., 0., 0., 0., 0., 0., 0., 0., 0., 0.,\n",
       "       0., 0., 0., 0., 0., 0., 0., 0., 0., 0., 0., 0., 0., 0., 0., 0., 0.,\n",
       "       0., 0., 0., 0., 0., 0., 0., 0., 0., 0., 0., 0., 0., 0., 0., 0., 0.,\n",
       "       0., 0., 0., 0., 0., 0., 0., 0., 0., 0., 0., 0., 0., 0., 0., 0., 0.,\n",
       "       0., 0., 0., 0., 0., 0., 0., 0., 0., 0., 0., 0., 0., 0., 0., 0., 0.,\n",
       "       0., 0., 0., 0., 0., 0., 0., 0., 0., 0., 0., 0., 0., 0., 0., 0., 0.,\n",
       "       0., 0., 0., 0., 0., 0., 0., 0., 0., 0., 0., 0., 0., 0., 0., 0., 0.,\n",
       "       0., 0., 0., 0., 0., 0., 0., 0., 0., 0., 0., 0., 0., 0., 0., 0., 0.,\n",
       "       0., 0., 0., 0., 0., 0., 0., 0., 0., 0., 0., 0., 0., 0., 0., 0., 0.,\n",
       "       0., 0., 0., 0., 0., 0., 0., 0., 0., 0., 0., 0., 0., 0., 0., 0., 0.,\n",
       "       0., 0., 0., 0., 0., 0., 0., 0., 0., 0., 0., 0., 0., 0., 0., 0., 0.,\n",
       "       0., 0., 0., 0., 0., 0., 0., 0., 0., 0., 0., 0., 0., 0., 0., 0., 0.,\n",
       "       0., 0., 0., 0., 0., 0., 0., 0., 0., 0., 0., 0., 0., 0., 0., 0., 0.,\n",
       "       0., 0., 0., 0., 0., 0., 0., 0., 0., 0., 0., 0., 0., 0., 0., 0., 0.,\n",
       "       0., 0., 0., 0., 0., 0., 0., 0., 0., 0., 0., 0., 0., 0., 0., 0., 0.,\n",
       "       0., 0., 0., 0., 0., 0., 0., 0., 0., 0., 0., 0., 0., 0., 0., 0., 0.,\n",
       "       0., 0., 0., 0., 0., 0., 0., 0., 0., 0., 0.], dtype=float32)"
      ]
     },
     "execution_count": 26,
     "metadata": {},
     "output_type": "execute_result"
    }
   ],
   "source": [
    "# 这是偏置项的连接权重，初始化状态可以是0\n",
    "print(biases.shape)\n",
    "biases"
   ]
  },
  {
   "cell_type": "markdown",
   "id": "f09d7a08-5547-497e-b2a6-e69f8cf69e34",
   "metadata": {},
   "source": [
    "## 2. 编译模型"
   ]
  },
  {
   "cell_type": "code",
   "execution_count": 27,
   "id": "933e143a-6d91-4232-936b-a6d9b79e80d3",
   "metadata": {},
   "outputs": [],
   "source": [
    "# 在这个环节，可以指定loss函数、优化器、和metrics\n",
    "model.compile(loss = keras.losses.sparse_categorical_crossentropy,\n",
    "              optimizer = keras.optimizers.SGD(),\n",
    "              metrics = [[keras.metrics.sparse_categorical_accuracy]])"
   ]
  },
  {
   "cell_type": "markdown",
   "id": "741e7326-98d8-4934-98be-79a0d5b12824",
   "metadata": {},
   "source": [
    "## 3. 训练模型"
   ]
  },
  {
   "cell_type": "code",
   "execution_count": 28,
   "id": "1b2ab696-7cc8-44f4-b42b-76a2e94a4931",
   "metadata": {
    "tags": []
   },
   "outputs": [
    {
     "name": "stdout",
     "output_type": "stream",
     "text": [
      "Epoch 1/30\n",
      "1719/1719 [==============================] - 4s 2ms/step - loss: 0.6982 - sparse_categorical_accuracy: 0.7707 - val_loss: 0.5168 - val_sparse_categorical_accuracy: 0.8254\n",
      "Epoch 2/30\n",
      "1719/1719 [==============================] - 3s 2ms/step - loss: 0.4869 - sparse_categorical_accuracy: 0.8296 - val_loss: 0.4401 - val_sparse_categorical_accuracy: 0.8472\n",
      "Epoch 3/30\n",
      "1719/1719 [==============================] - 3s 2ms/step - loss: 0.4442 - sparse_categorical_accuracy: 0.8439 - val_loss: 0.5300 - val_sparse_categorical_accuracy: 0.8030\n",
      "Epoch 4/30\n",
      "1719/1719 [==============================] - 3s 2ms/step - loss: 0.4189 - sparse_categorical_accuracy: 0.8550 - val_loss: 0.3995 - val_sparse_categorical_accuracy: 0.8628\n",
      "Epoch 5/30\n",
      "1719/1719 [==============================] - 3s 2ms/step - loss: 0.4017 - sparse_categorical_accuracy: 0.8604 - val_loss: 0.3840 - val_sparse_categorical_accuracy: 0.8652\n",
      "Epoch 6/30\n",
      "1719/1719 [==============================] - 3s 2ms/step - loss: 0.3845 - sparse_categorical_accuracy: 0.8648 - val_loss: 0.3805 - val_sparse_categorical_accuracy: 0.8718\n",
      "Epoch 7/30\n",
      "1719/1719 [==============================] - 3s 2ms/step - loss: 0.3736 - sparse_categorical_accuracy: 0.8685 - val_loss: 0.3721 - val_sparse_categorical_accuracy: 0.8740\n",
      "Epoch 8/30\n",
      "1719/1719 [==============================] - 3s 2ms/step - loss: 0.3629 - sparse_categorical_accuracy: 0.8715 - val_loss: 0.3970 - val_sparse_categorical_accuracy: 0.8572\n",
      "Epoch 9/30\n",
      "1719/1719 [==============================] - 3s 2ms/step - loss: 0.3532 - sparse_categorical_accuracy: 0.8756 - val_loss: 0.3643 - val_sparse_categorical_accuracy: 0.8680\n",
      "Epoch 10/30\n",
      "1719/1719 [==============================] - 3s 2ms/step - loss: 0.3450 - sparse_categorical_accuracy: 0.8776 - val_loss: 0.3606 - val_sparse_categorical_accuracy: 0.8720\n",
      "Epoch 11/30\n",
      "1719/1719 [==============================] - 3s 2ms/step - loss: 0.3373 - sparse_categorical_accuracy: 0.8797 - val_loss: 0.3534 - val_sparse_categorical_accuracy: 0.8750\n",
      "Epoch 12/30\n",
      "1719/1719 [==============================] - 3s 2ms/step - loss: 0.3288 - sparse_categorical_accuracy: 0.8821 - val_loss: 0.3442 - val_sparse_categorical_accuracy: 0.8792\n",
      "Epoch 13/30\n",
      "1719/1719 [==============================] - 3s 2ms/step - loss: 0.3224 - sparse_categorical_accuracy: 0.8838 - val_loss: 0.3430 - val_sparse_categorical_accuracy: 0.8820\n",
      "Epoch 14/30\n",
      "1719/1719 [==============================] - 3s 2ms/step - loss: 0.3167 - sparse_categorical_accuracy: 0.8864 - val_loss: 0.3617 - val_sparse_categorical_accuracy: 0.8702\n",
      "Epoch 15/30\n",
      "1719/1719 [==============================] - 3s 2ms/step - loss: 0.3096 - sparse_categorical_accuracy: 0.8890 - val_loss: 0.3371 - val_sparse_categorical_accuracy: 0.8786\n",
      "Epoch 16/30\n",
      "1719/1719 [==============================] - 3s 2ms/step - loss: 0.3049 - sparse_categorical_accuracy: 0.8903 - val_loss: 0.3233 - val_sparse_categorical_accuracy: 0.8830\n",
      "Epoch 17/30\n",
      "1719/1719 [==============================] - 3s 2ms/step - loss: 0.2997 - sparse_categorical_accuracy: 0.8918 - val_loss: 0.3659 - val_sparse_categorical_accuracy: 0.8710\n",
      "Epoch 18/30\n",
      "1719/1719 [==============================] - 3s 2ms/step - loss: 0.2938 - sparse_categorical_accuracy: 0.8951 - val_loss: 0.3276 - val_sparse_categorical_accuracy: 0.8850\n",
      "Epoch 19/30\n",
      "1719/1719 [==============================] - 3s 2ms/step - loss: 0.2892 - sparse_categorical_accuracy: 0.8959 - val_loss: 0.3258 - val_sparse_categorical_accuracy: 0.8870\n",
      "Epoch 20/30\n",
      "1719/1719 [==============================] - 3s 2ms/step - loss: 0.2843 - sparse_categorical_accuracy: 0.8975 - val_loss: 0.3433 - val_sparse_categorical_accuracy: 0.8770\n",
      "Epoch 21/30\n",
      "1719/1719 [==============================] - 3s 2ms/step - loss: 0.2795 - sparse_categorical_accuracy: 0.8987 - val_loss: 0.3159 - val_sparse_categorical_accuracy: 0.8856\n",
      "Epoch 22/30\n",
      "1719/1719 [==============================] - 3s 2ms/step - loss: 0.2755 - sparse_categorical_accuracy: 0.9005 - val_loss: 0.3074 - val_sparse_categorical_accuracy: 0.8906\n",
      "Epoch 23/30\n",
      "1719/1719 [==============================] - 3s 2ms/step - loss: 0.2715 - sparse_categorical_accuracy: 0.9007 - val_loss: 0.3083 - val_sparse_categorical_accuracy: 0.8890\n",
      "Epoch 24/30\n",
      "1719/1719 [==============================] - 3s 2ms/step - loss: 0.2674 - sparse_categorical_accuracy: 0.9024 - val_loss: 0.3127 - val_sparse_categorical_accuracy: 0.8860\n",
      "Epoch 25/30\n",
      "1719/1719 [==============================] - 3s 2ms/step - loss: 0.2632 - sparse_categorical_accuracy: 0.9045 - val_loss: 0.3054 - val_sparse_categorical_accuracy: 0.8922\n",
      "Epoch 26/30\n",
      "1719/1719 [==============================] - 3s 2ms/step - loss: 0.2595 - sparse_categorical_accuracy: 0.9067 - val_loss: 0.3112 - val_sparse_categorical_accuracy: 0.8876\n",
      "Epoch 27/30\n",
      "1719/1719 [==============================] - 3s 2ms/step - loss: 0.2564 - sparse_categorical_accuracy: 0.9088 - val_loss: 0.3044 - val_sparse_categorical_accuracy: 0.8890\n",
      "Epoch 28/30\n",
      "1719/1719 [==============================] - 3s 2ms/step - loss: 0.2535 - sparse_categorical_accuracy: 0.9082 - val_loss: 0.3133 - val_sparse_categorical_accuracy: 0.8884\n",
      "Epoch 29/30\n",
      "1719/1719 [==============================] - 3s 2ms/step - loss: 0.2492 - sparse_categorical_accuracy: 0.9100 - val_loss: 0.3175 - val_sparse_categorical_accuracy: 0.8876\n",
      "Epoch 30/30\n",
      "1719/1719 [==============================] - 3s 2ms/step - loss: 0.2458 - sparse_categorical_accuracy: 0.9112 - val_loss: 0.3163 - val_sparse_categorical_accuracy: 0.8878\n"
     ]
    }
   ],
   "source": [
    "history = model.fit(X_train, y_train, epochs=30, # 进行30个轮次的训练\n",
    "                    validation_data = (X_valid, y_valid))"
   ]
  },
  {
   "cell_type": "code",
   "execution_count": 29,
   "id": "349e3b47-e164-46cb-b789-feb8bce08a2c",
   "metadata": {},
   "outputs": [
    {
     "name": "stdout",
     "output_type": "stream",
     "text": [
      "模型参数: {'verbose': 1, 'epochs': 30, 'steps': 1719}\n",
      "训练轮次编号: [0, 1, 2, 3, 4, 5, 6, 7, 8, 9, 10, 11, 12, 13, 14, 15, 16, 17, 18, 19, 20, 21, 22, 23, 24, 25, 26, 27, 28, 29]\n",
      "训练集、验证集的指标: dict_keys(['loss', 'sparse_categorical_accuracy', 'val_loss', 'val_sparse_categorical_accuracy'])\n"
     ]
    }
   ],
   "source": [
    "# 模型训练完成后返回的是History对象，其属性就是模型训练时的各种细节\n",
    "print('模型参数:', history.params)\n",
    "print('训练轮次编号:', history.epoch)\n",
    "print('训练集、验证集的指标:', history.history.keys())"
   ]
  },
  {
   "cell_type": "code",
   "execution_count": 30,
   "id": "b529425c-67d9-495a-902f-6f3a2c2d41c9",
   "metadata": {},
   "outputs": [
    {
     "name": "stdout",
     "output_type": "stream",
     "text": [
      "Saving figure keras_learning_curves_plot\n"
     ]
    },
    {
     "data": {
      "image/png": "[encoded data removed]",
      "text/plain": [
       "<Figure size 576x360 with 1 Axes>"
      ]
     },
     "metadata": {
      "needs_background": "light"
     },
     "output_type": "display_data"
    }
   ],
   "source": [
    "# 使用history.history中的每个轮次的指标，可以画出学习曲线\n",
    "import pandas as pd\n",
    "\n",
    "pd.DataFrame(history.history).plot(figsize=(8, 5))\n",
    "plt.grid(True)\n",
    "plt.gca().set_ylim(0, 1)\n",
    "save_fig(\"keras_learning_curves_plot\")\n",
    "plt.show()"
   ]
  },
  {
   "cell_type": "markdown",
   "id": "ed172651-73a9-433f-9ecd-06fbfbf7b763",
   "metadata": {},
   "source": [
    "## 3. 使用测试集对模型进行评估"
   ]
  },
  {
   "cell_type": "code",
   "execution_count": 31,
   "id": "1603e655-3057-4dae-82cb-4af40340a9c6",
   "metadata": {},
   "outputs": [
    {
     "name": "stdout",
     "output_type": "stream",
     "text": [
      "313/313 [==============================] - 0s 1ms/step - loss: 0.3457 - sparse_categorical_accuracy: 0.8791\n"
     ]
    },
    {
     "data": {
      "text/plain": [
       "[0.3456771671772003, 0.8791000247001648]"
      ]
     },
     "execution_count": 31,
     "metadata": {},
     "output_type": "execute_result"
    }
   ],
   "source": [
    "# 分别返回loss和metric的值\n",
    "model.evaluate(X_test, y_test)"
   ]
  },
  {
   "cell_type": "markdown",
   "id": "8eb0f02a-8b09-4a74-8d2a-0cfd5ed14ef6",
   "metadata": {},
   "source": [
    "## 4. 使用模型进行预测"
   ]
  },
  {
   "cell_type": "code",
   "execution_count": 32,
   "id": "1d04c8b1-4452-4a93-886e-a4b778f7d1f0",
   "metadata": {},
   "outputs": [
    {
     "data": {
      "text/plain": [
       "array([[0.  , 0.  , 0.  , 0.  , 0.  , 0.03, 0.  , 0.04, 0.  , 0.93],\n",
       "       [0.  , 0.  , 0.99, 0.  , 0.01, 0.  , 0.  , 0.  , 0.  , 0.  ],\n",
       "       [0.  , 1.  , 0.  , 0.  , 0.  , 0.  , 0.  , 0.  , 0.  , 0.  ]],\n",
       "      dtype=float32)"
      ]
     },
     "execution_count": 32,
     "metadata": {},
     "output_type": "execute_result"
    }
   ],
   "source": [
    "# 随便从训练集中取三个实例进行测试\n",
    "# 可以看到每个类别的概率\n",
    "X_new = X_test[:3]\n",
    "y_proba = model.predict(X_new)\n",
    "y_proba.round(2)"
   ]
  },
  {
   "cell_type": "code",
   "execution_count": 33,
   "id": "8f5a186b-6937-475c-80b0-093b78c33b2e",
   "metadata": {},
   "outputs": [
    {
     "data": {
      "text/plain": [
       "array([9, 2, 1], dtype=int64)"
      ]
     },
     "execution_count": 33,
     "metadata": {},
     "output_type": "execute_result"
    }
   ],
   "source": [
    "# 如果只想要概率最高的类别，可以这么写\n",
    "y_pred = np.argmax(model.predict(X_new), axis=-1)\n",
    "y_pred"
   ]
  },
  {
   "cell_type": "code",
   "execution_count": 34,
   "id": "330ba9ea-80e8-4fd1-903d-9c5289853ef9",
   "metadata": {},
   "outputs": [
    {
     "data": {
      "text/plain": [
       "array(['Ankle boot', 'Pullover', 'Trouser'], dtype='<U11')"
      ]
     },
     "execution_count": 34,
     "metadata": {},
     "output_type": "execute_result"
    }
   ],
   "source": [
    "np.array(class_names)[y_pred]"
   ]
  },
  {
   "cell_type": "code",
   "execution_count": 35,
   "id": "8a1d2d3a-6e52-4c16-b25c-e22022541813",
   "metadata": {},
   "outputs": [
    {
     "data": {
      "text/plain": [
       "array([9, 2, 1], dtype=uint8)"
      ]
     },
     "execution_count": 35,
     "metadata": {},
     "output_type": "execute_result"
    }
   ],
   "source": [
    "# 这三个分类的结果是正确的，这是实际的分类\n",
    "y_new = y_test[:3]\n",
    "y_new"
   ]
  },
  {
   "cell_type": "markdown",
   "id": "aedbbb39-05b1-477d-b04a-abf7d7d22397",
   "metadata": {},
   "source": [
    "分类结果可视化"
   ]
  },
  {
   "cell_type": "code",
   "execution_count": 36,
   "id": "39e3b1df-d039-41af-b040-244e2bacff28",
   "metadata": {
    "tags": []
   },
   "outputs": [
    {
     "name": "stdout",
     "output_type": "stream",
     "text": [
      "Saving figure fashion_mnist_images_plot\n"
     ]
    },
    {
     "data": {
      "image/png": "[encoded data removed]",
      "text/plain": [
       "<Figure size 518.4x172.8 with 3 Axes>"
      ]
     },
     "metadata": {
      "needs_background": "light"
     },
     "output_type": "display_data"
    }
   ],
   "source": [
    "plt.figure(figsize=(7.2, 2.4))\n",
    "for index, image in enumerate(X_new):\n",
    "    plt.subplot(1, 3, index + 1)\n",
    "    plt.imshow(image, cmap=\"binary\", interpolation=\"nearest\")\n",
    "    plt.axis('off')\n",
    "    plt.title(class_names[y_test[index]], fontsize=12)\n",
    "plt.subplots_adjust(wspace=0.2, hspace=0.5)\n",
    "save_fig('fashion_mnist_images_plot', tight_layout=False)\n",
    "plt.show()"
   ]
  },
  {
   "cell_type": "markdown",
   "id": "85cbfbca-1fd5-4bac-9e71-3c4cf1ab0285",
   "metadata": {
    "tags": []
   },
   "source": [
    "# 使用顺序API构建一个回归MLP"
   ]
  },
  {
   "cell_type": "markdown",
   "id": "cb6396b3-735d-4255-b816-46fe2666f3e2",
   "metadata": {},
   "source": [
    "还是使用加州住房数据进行测试，但是这次输入的住房数据只包含数字型变量"
   ]
  },
  {
   "cell_type": "code",
   "execution_count": 37,
   "id": "b06a9212-ed00-4b96-9366-c3edeb511319",
   "metadata": {},
   "outputs": [],
   "source": [
    "# 数据前处理\n",
    "from sklearn.datasets import fetch_california_housing\n",
    "from sklearn.model_selection import train_test_split\n",
    "from sklearn.preprocessing import StandardScaler\n",
    "\n",
    "housing = fetch_california_housing()\n",
    "\n",
    "X_train_full, X_test, y_train_full, y_test = train_test_split(housing.data, housing.target, random_state=42)\n",
    "X_train, X_valid, y_train, y_valid = train_test_split(X_train_full, y_train_full, random_state=42)\n",
    "\n",
    "scaler = StandardScaler()\n",
    "X_train = scaler.fit_transform(X_train)\n",
    "X_valid = scaler.transform(X_valid)\n",
    "X_test = scaler.transform(X_test)"
   ]
  },
  {
   "cell_type": "code",
   "execution_count": 38,
   "id": "a355cec5-03d5-43e6-97ff-1ad81bbe940f",
   "metadata": {},
   "outputs": [
    {
     "name": "stdout",
     "output_type": "stream",
     "text": [
      "Epoch 1/20\n",
      "363/363 [==============================] - 1s 2ms/step - loss: 1.6419 - val_loss: 0.8556\n",
      "Epoch 2/20\n",
      "363/363 [==============================] - 1s 1ms/step - loss: 0.7047 - val_loss: 0.6531\n",
      "Epoch 3/20\n",
      "363/363 [==============================] - 1s 1ms/step - loss: 0.6345 - val_loss: 0.6099\n",
      "Epoch 4/20\n",
      "363/363 [==============================] - 1s 1ms/step - loss: 0.5977 - val_loss: 0.5658\n",
      "Epoch 5/20\n",
      "363/363 [==============================] - 1s 1ms/step - loss: 0.5706 - val_loss: 0.5355\n",
      "Epoch 6/20\n",
      "363/363 [==============================] - 1s 1ms/step - loss: 0.5472 - val_loss: 0.5173\n",
      "Epoch 7/20\n",
      "363/363 [==============================] - 1s 1ms/step - loss: 0.5288 - val_loss: 0.5081\n",
      "Epoch 8/20\n",
      "363/363 [==============================] - 1s 1ms/step - loss: 0.5130 - val_loss: 0.4799\n",
      "Epoch 9/20\n",
      "363/363 [==============================] - 1s 1ms/step - loss: 0.4992 - val_loss: 0.4690\n",
      "Epoch 10/20\n",
      "363/363 [==============================] - 1s 1ms/step - loss: 0.4875 - val_loss: 0.4656\n",
      "Epoch 11/20\n",
      "363/363 [==============================] - 1s 2ms/step - loss: 0.4777 - val_loss: 0.4482\n",
      "Epoch 12/20\n",
      "363/363 [==============================] - 1s 2ms/step - loss: 0.4688 - val_loss: 0.4479\n",
      "Epoch 13/20\n",
      "363/363 [==============================] - 1s 2ms/step - loss: 0.4615 - val_loss: 0.4296\n",
      "Epoch 14/20\n",
      "363/363 [==============================] - 1s 2ms/step - loss: 0.4547 - val_loss: 0.4233\n",
      "Epoch 15/20\n",
      "363/363 [==============================] - 1s 2ms/step - loss: 0.4488 - val_loss: 0.4175\n",
      "Epoch 16/20\n",
      "363/363 [==============================] - 1s 2ms/step - loss: 0.4435 - val_loss: 0.4123\n",
      "Epoch 17/20\n",
      "363/363 [==============================] - 1s 2ms/step - loss: 0.4389 - val_loss: 0.4071\n",
      "Epoch 18/20\n",
      "363/363 [==============================] - 1s 2ms/step - loss: 0.4347 - val_loss: 0.4037\n",
      "Epoch 19/20\n",
      "363/363 [==============================] - 1s 2ms/step - loss: 0.4306 - val_loss: 0.4000\n",
      "Epoch 20/20\n",
      "363/363 [==============================] - 1s 2ms/step - loss: 0.4273 - val_loss: 0.3969\n",
      "162/162 [==============================] - 0s 876us/step - loss: 0.4212\n"
     ]
    }
   ],
   "source": [
    "# 初始化模型，这次输出层只有一个并且没有激活函数\n",
    "# 由于数据噪音较多，所以只使用一层隐含层以防止过拟合\n",
    "model = keras.models.Sequential([\n",
    "    keras.layers.Dense(30, activation=\"relu\", input_shape=X_train.shape[1:]),\n",
    "    keras.layers.Dense(1)\n",
    "])\n",
    "# 模型编译，注意这次的loss函数变为mean_squared_error\n",
    "model.compile(loss=\"mean_squared_error\", optimizer=keras.optimizers.SGD(learning_rate=1e-3))\n",
    "# 训练模型\n",
    "history = model.fit(X_train, y_train, epochs=20, validation_data=(X_valid, y_valid))\n",
    "# 评估模型\n",
    "mse_test = model.evaluate(X_test, y_test)\n",
    "X_new = X_test[:3]\n",
    "# 使用模型预测\n",
    "y_pred = model.predict(X_new)"
   ]
  },
  {
   "cell_type": "code",
   "execution_count": 39,
   "id": "a8f203b2-200f-4164-9f2a-b28a2e6cc219",
   "metadata": {
    "tags": []
   },
   "outputs": [
    {
     "data": {
      "image/png": "[encoded data removed]",
      "text/plain": [
       "<Figure size 432x288 with 1 Axes>"
      ]
     },
     "metadata": {
      "needs_background": "light"
     },
     "output_type": "display_data"
    }
   ],
   "source": [
    "# 画一下子学习曲线\n",
    "plt.plot(pd.DataFrame(history.history))\n",
    "plt.grid(True)\n",
    "plt.gca().set_ylim(0, 1)\n",
    "plt.show()"
   ]
  },
  {
   "cell_type": "markdown",
   "id": "be336587-a500-4b54-8dfb-e18958edfb06",
   "metadata": {},
   "source": [
    "# 函数式API创建神经网络"
   ]
  },
  {
   "cell_type": "code",
   "execution_count": 40,
   "id": "078c8a96-7879-4064-ad31-e7c228205f57",
   "metadata": {},
   "outputs": [],
   "source": [
    "np.random.seed(42)\n",
    "tf.random.set_seed(42)"
   ]
  },
  {
   "cell_type": "markdown",
   "id": "68e6684c-fe09-45f6-bb10-8d3c4b816b4b",
   "metadata": {},
   "source": [
    "## 单一输入宽深神经网络"
   ]
  },
  {
   "cell_type": "code",
   "execution_count": 41,
   "id": "3e17fee0-b31e-4bbd-a9ed-529f01834d38",
   "metadata": {},
   "outputs": [],
   "source": [
    "input_ = keras.layers.Input(shape=X_train.shape[1:])\n",
    "# 这既是为什么叫函数式了，直接使用函数调用的方式来连接各个layer\n",
    "# 这行的意思是input_输入层输出到hidden1隐含层中\n",
    "hidden1 = keras.layers.Dense(30, activation=\"relu\")(input_)\n",
    "hidden2 = keras.layers.Dense(30, activation=\"relu\")(hidden1)\n",
    "# 将一部分的输入层的输出直接与hidden2合并后输出\n",
    "concat = keras.layers.concatenate([input_, hidden2])\n",
    "# 合并输出后，由输出层输出，只有一个感知器\n",
    "output = keras.layers.Dense(1)(concat)\n",
    "# 然后再创建模型，只需指定输入和输出层就行，因为输入与输出层都已经与其它层连接到一起了\n",
    "model = keras.models.Model(inputs=[input_], outputs=[output])"
   ]
  },
  {
   "cell_type": "code",
   "execution_count": 42,
   "id": "f9a41e54-c285-43a6-ae07-5ff14bee5403",
   "metadata": {},
   "outputs": [
    {
     "data": {
      "image/png": "[encoded data removed]",
      "text/plain": [
       "<IPython.core.display.Image object>"
      ]
     },
     "execution_count": 42,
     "metadata": {},
     "output_type": "execute_result"
    }
   ],
   "source": [
    "keras.utils.plot_model(model, \"简单的宽深神经网络.png\", show_shapes=True)"
   ]
  },
  {
   "cell_type": "code",
   "execution_count": 43,
   "id": "e30cd259-0b55-4cc5-a7ea-021979996b92",
   "metadata": {
    "tags": []
   },
   "outputs": [
    {
     "name": "stdout",
     "output_type": "stream",
     "text": [
      "Epoch 1/20\n",
      "363/363 [==============================] - 1s 2ms/step - loss: 1.2610 - val_loss: 3.3896\n",
      "Epoch 2/20\n",
      "363/363 [==============================] - 1s 2ms/step - loss: 0.6580 - val_loss: 0.9363\n",
      "Epoch 3/20\n",
      "363/363 [==============================] - 1s 2ms/step - loss: 0.5879 - val_loss: 0.5650\n",
      "Epoch 4/20\n",
      "363/363 [==============================] - 1s 2ms/step - loss: 0.5582 - val_loss: 0.5713\n",
      "Epoch 5/20\n",
      "363/363 [==============================] - 1s 2ms/step - loss: 0.5348 - val_loss: 0.5045\n",
      "Epoch 6/20\n",
      "363/363 [==============================] - 1s 2ms/step - loss: 0.5158 - val_loss: 0.4831\n",
      "Epoch 7/20\n",
      "363/363 [==============================] - 1s 2ms/step - loss: 0.5002 - val_loss: 0.4639\n",
      "Epoch 8/20\n",
      "363/363 [==============================] - 1s 2ms/step - loss: 0.4876 - val_loss: 0.4636\n",
      "Epoch 9/20\n",
      "363/363 [==============================] - 1s 2ms/step - loss: 0.4760 - val_loss: 0.4422\n",
      "Epoch 10/20\n",
      "363/363 [==============================] - 1s 2ms/step - loss: 0.4659 - val_loss: 0.4313\n",
      "Epoch 11/20\n",
      "363/363 [==============================] - 1s 2ms/step - loss: 0.4577 - val_loss: 0.4346\n",
      "Epoch 12/20\n",
      "363/363 [==============================] - 1s 2ms/step - loss: 0.4498 - val_loss: 0.4168\n",
      "Epoch 13/20\n",
      "363/363 [==============================] - 1s 2ms/step - loss: 0.4428 - val_loss: 0.4233\n",
      "Epoch 14/20\n",
      "363/363 [==============================] - 1s 2ms/step - loss: 0.4366 - val_loss: 0.4048\n",
      "Epoch 15/20\n",
      "363/363 [==============================] - 1s 2ms/step - loss: 0.4307 - val_loss: 0.4078\n",
      "Epoch 16/20\n",
      "363/363 [==============================] - 1s 2ms/step - loss: 0.4257 - val_loss: 0.3938\n",
      "Epoch 17/20\n",
      "363/363 [==============================] - 1s 2ms/step - loss: 0.4210 - val_loss: 0.3951\n",
      "Epoch 18/20\n",
      "363/363 [==============================] - 1s 2ms/step - loss: 0.4167 - val_loss: 0.3860\n",
      "Epoch 19/20\n",
      "363/363 [==============================] - 1s 2ms/step - loss: 0.4121 - val_loss: 0.3826\n",
      "Epoch 20/20\n",
      "363/363 [==============================] - 1s 2ms/step - loss: 0.4088 - val_loss: 0.4056\n",
      "162/162 [==============================] - 0s 895us/step - loss: 0.4032\n"
     ]
    }
   ],
   "source": [
    "model.compile(loss = \"mean_squared_error\", \n",
    "              optimizer = keras.optimizers.SGD(learning_rate=1e-3)\n",
    "             )\n",
    "\n",
    "history = model.fit(X_train, y_train, epochs=20,\n",
    "                    validation_data = (X_valid, y_valid)\n",
    "                   )\n",
    "mse_test = model.evaluate(X_test, y_test)\n",
    "y_pred = model.predict(X_new)"
   ]
  },
  {
   "cell_type": "markdown",
   "id": "f9267f88-4fdf-4ffc-855a-aa657e6a66dc",
   "metadata": {},
   "source": [
    "## 多输入宽深神经网络"
   ]
  },
  {
   "cell_type": "code",
   "execution_count": 44,
   "id": "f7c13dc9-b574-42a2-8342-169cb5855a38",
   "metadata": {},
   "outputs": [],
   "source": [
    "# 宽路径输入，输入5个变量\n",
    "input_A = keras.layers.Input(shape=[5], name=\"wide_input\")\n",
    "# 深路径输入，输入6个变量\n",
    "input_B = keras.layers.Input(shape=[6], name=\"deep_input\")\n",
    "hidden1 = keras.layers.Dense(30, activation=\"relu\")(input_B)\n",
    "hidden2 = keras.layers.Dense(30, activation=\"relu\")(hidden1)\n",
    "concat = keras.layers.concatenate([input_A, hidden2])\n",
    "output = keras.layers.Dense(1, name=\"output\")(concat)\n",
    "# 这里注意在创建模型的时候要指定有两个输入\n",
    "model = keras.models.Model(inputs=[input_A, input_B], outputs=[output])"
   ]
  },
  {
   "cell_type": "code",
   "execution_count": 45,
   "id": "2c0b03b8-e15d-49ea-b699-65010d0a26a5",
   "metadata": {},
   "outputs": [
    {
     "data": {
      "image/png": "[encoded data removed]",
      "text/plain": [
       "<IPython.core.display.Image object>"
      ]
     },
     "execution_count": 45,
     "metadata": {},
     "output_type": "execute_result"
    }
   ],
   "source": [
    "keras.utils.plot_model(model, \"多输入的宽深神经网络.png\", show_shapes=True)"
   ]
  },
  {
   "cell_type": "code",
   "execution_count": 46,
   "id": "c7f70f36-27e0-48d2-be6b-ab9495d383bc",
   "metadata": {
    "tags": []
   },
   "outputs": [
    {
     "name": "stdout",
     "output_type": "stream",
     "text": [
      "Epoch 1/20\n",
      "363/363 [==============================] - 1s 2ms/step - loss: 1.7643 - val_loss: 0.8559\n",
      "Epoch 2/20\n",
      "363/363 [==============================] - 1s 2ms/step - loss: 0.7584 - val_loss: 0.6711\n",
      "Epoch 3/20\n",
      "363/363 [==============================] - 1s 2ms/step - loss: 0.6584 - val_loss: 0.6170\n",
      "Epoch 4/20\n",
      "363/363 [==============================] - 1s 2ms/step - loss: 0.6023 - val_loss: 0.5713\n",
      "Epoch 5/20\n",
      "363/363 [==============================] - 1s 2ms/step - loss: 0.5663 - val_loss: 0.5421\n",
      "Epoch 6/20\n",
      "363/363 [==============================] - 1s 2ms/step - loss: 0.5380 - val_loss: 0.5176\n",
      "Epoch 7/20\n",
      "363/363 [==============================] - 1s 2ms/step - loss: 0.5187 - val_loss: 0.5065\n",
      "Epoch 8/20\n",
      "363/363 [==============================] - 1s 2ms/step - loss: 0.5025 - val_loss: 0.4790\n",
      "Epoch 9/20\n",
      "363/363 [==============================] - 1s 2ms/step - loss: 0.4889 - val_loss: 0.4564\n",
      "Epoch 10/20\n",
      "363/363 [==============================] - 1s 2ms/step - loss: 0.4780 - val_loss: 0.4451\n",
      "Epoch 11/20\n",
      "363/363 [==============================] - 1s 2ms/step - loss: 0.4678 - val_loss: 0.4294\n",
      "Epoch 12/20\n",
      "363/363 [==============================] - 1s 2ms/step - loss: 0.4617 - val_loss: 0.4228\n",
      "Epoch 13/20\n",
      "363/363 [==============================] - 1s 2ms/step - loss: 0.4563 - val_loss: 0.4181\n",
      "Epoch 14/20\n",
      "363/363 [==============================] - 1s 2ms/step - loss: 0.4526 - val_loss: 0.4147\n",
      "Epoch 15/20\n",
      "363/363 [==============================] - 1s 2ms/step - loss: 0.4487 - val_loss: 0.4125\n",
      "Epoch 16/20\n",
      "363/363 [==============================] - 1s 2ms/step - loss: 0.4453 - val_loss: 0.4095\n",
      "Epoch 17/20\n",
      "363/363 [==============================] - 1s 2ms/step - loss: 0.4416 - val_loss: 0.4111\n",
      "Epoch 18/20\n",
      "363/363 [==============================] - 1s 2ms/step - loss: 0.4400 - val_loss: 0.4092\n",
      "Epoch 19/20\n",
      "363/363 [==============================] - 1s 2ms/step - loss: 0.4369 - val_loss: 0.4096\n",
      "Epoch 20/20\n",
      "363/363 [==============================] - 1s 2ms/step - loss: 0.4350 - val_loss: 0.4173\n",
      "162/162 [==============================] - 0s 1ms/step - loss: 0.4295\n"
     ]
    }
   ],
   "source": [
    "model.compile(loss = \"mse\", \n",
    "              optimizer = keras.optimizers.SGD(learning_rate=1e-3)\n",
    "             )\n",
    "\n",
    "# 这里要注意要将X_train分成两部分输入\n",
    "X_train_A, X_train_B = X_train[:, :5], X_train[:, 2:]\n",
    "X_valid_A, X_valid_B = X_valid[:, :5], X_valid[:, 2:]\n",
    "X_test_A, X_test_B = X_test[:, :5], X_test[:, 2:]\n",
    "X_new_A, X_new_B = X_test_A[:3], X_test_B[:3]\n",
    "\n",
    "history = model.fit((X_train_A, X_train_B), y_train, epochs=20,\n",
    "                    validation_data=((X_valid_A, X_valid_B), y_valid))\n",
    "mse_test = model.evaluate((X_test_A, X_test_B), y_test)\n",
    "y_pred = model.predict((X_new_A, X_new_B))"
   ]
  },
  {
   "cell_type": "markdown",
   "id": "ece1f9ce-d2b1-41be-a0b6-c18385074b2a",
   "metadata": {},
   "source": [
    "## 多输出宽深神经网路"
   ]
  },
  {
   "cell_type": "code",
   "execution_count": 47,
   "id": "04fead09-6046-4501-81f5-87d71039aa56",
   "metadata": {},
   "outputs": [],
   "source": [
    "input_A = keras.layers.Input(shape=[5], name=\"wide_input\")\n",
    "input_B = keras.layers.Input(shape=[6], name=\"deep_input\")\n",
    "hidden1 = keras.layers.Dense(30, activation=\"relu\")(input_B)\n",
    "hidden2 = keras.layers.Dense(30, activation=\"relu\")(hidden1)\n",
    "concat = keras.layers.concatenate([input_A, hidden2])\n",
    "output = keras.layers.Dense(1, name=\"main_output\")(concat)\n",
    "aux_output = keras.layers.Dense(1, name=\"aux_output\")(hidden2)\n",
    "# 注意指定这两个输出\n",
    "model = keras.models.Model(inputs=[input_A, input_B],\n",
    "                           outputs=[output, aux_output])"
   ]
  },
  {
   "cell_type": "code",
   "execution_count": 48,
   "id": "01bddcf3-a452-440f-bfbf-2756a1df7555",
   "metadata": {
    "tags": []
   },
   "outputs": [
    {
     "data": {
      "image/png": "[encoded data removed]",
      "text/plain": [
       "<IPython.core.display.Image object>"
      ]
     },
     "execution_count": 48,
     "metadata": {},
     "output_type": "execute_result"
    }
   ],
   "source": [
    "keras.utils.plot_model(model, \"多输出的宽深神经网络.png\", show_shapes=True)"
   ]
  },
  {
   "cell_type": "code",
   "execution_count": 49,
   "id": "e2cf773e-2701-4325-babe-988a55bc1e8e",
   "metadata": {
    "tags": []
   },
   "outputs": [
    {
     "name": "stdout",
     "output_type": "stream",
     "text": [
      "Epoch 1/10\n",
      "363/363 [==============================] - 1s 3ms/step - loss: 26.0729 - main_output_loss: 28.1638 - aux_output_loss: 7.2543 - val_loss: 22.2564 - val_main_output_loss: 24.0851 - val_aux_output_loss: 5.7980\n",
      "Epoch 2/10\n",
      "363/363 [==============================] - 1s 3ms/step - loss: 21.6623 - main_output_loss: 23.5588 - aux_output_loss: 4.5939 - val_loss: 23.7607 - val_main_output_loss: 25.9873 - val_aux_output_loss: 3.7213\n",
      "Epoch 3/10\n",
      "363/363 [==============================] - 1s 3ms/step - loss: 20.8991 - main_output_loss: 22.8610 - aux_output_loss: 3.2425 - val_loss: 20.7869 - val_main_output_loss: 22.8044 - val_aux_output_loss: 2.6289\n",
      "Epoch 4/10\n",
      "363/363 [==============================] - 1s 3ms/step - loss: 20.4949 - main_output_loss: 22.4991 - aux_output_loss: 2.4577 - val_loss: 21.2346 - val_main_output_loss: 23.3401 - val_aux_output_loss: 2.2852\n",
      "Epoch 5/10\n",
      "363/363 [==============================] - 1s 3ms/step - loss: 19.9467 - main_output_loss: 21.9479 - aux_output_loss: 1.9360 - val_loss: 20.8898 - val_main_output_loss: 22.9442 - val_aux_output_loss: 2.4003\n",
      "Epoch 6/10\n",
      "363/363 [==============================] - 1s 3ms/step - loss: 19.7344 - main_output_loss: 21.7477 - aux_output_loss: 1.6148 - val_loss: 19.9821 - val_main_output_loss: 22.0096 - val_aux_output_loss: 1.7344\n",
      "Epoch 7/10\n",
      "363/363 [==============================] - 1s 3ms/step - loss: 19.4393 - main_output_loss: 21.4443 - aux_output_loss: 1.3939 - val_loss: 19.6120 - val_main_output_loss: 21.6385 - val_aux_output_loss: 1.3733\n",
      "Epoch 8/10\n",
      "363/363 [==============================] - 1s 3ms/step - loss: 18.9876 - main_output_loss: 20.9594 - aux_output_loss: 1.2422 - val_loss: 20.8377 - val_main_output_loss: 23.0186 - val_aux_output_loss: 1.2096\n",
      "Epoch 9/10\n",
      "363/363 [==============================] - 1s 3ms/step - loss: 18.9062 - main_output_loss: 20.8824 - aux_output_loss: 1.1206 - val_loss: 18.4877 - val_main_output_loss: 20.4217 - val_aux_output_loss: 1.0817\n",
      "Epoch 10/10\n",
      "363/363 [==============================] - 1s 3ms/step - loss: 18.7022 - main_output_loss: 20.6647 - aux_output_loss: 1.0398 - val_loss: 18.5348 - val_main_output_loss: 20.4819 - val_aux_output_loss: 1.0109\n",
      "162/162 [==============================] - 0s 1ms/step - loss: 18.8688 - main_output_loss: 20.8566 - aux_output_loss: 0.9790\n",
      "WARNING:tensorflow:5 out of the last 6 calls to <function Model.make_predict_function.<locals>.predict_function at 0x000002382AB2F160> triggered tf.function retracing. Tracing is expensive and the excessive number of tracings could be due to (1) creating @tf.function repeatedly in a loop, (2) passing tensors with different shapes, (3) passing Python objects instead of tensors. For (1), please define your @tf.function outside of the loop. For (2), @tf.function has experimental_relax_shapes=True option that relaxes argument shapes that can avoid unnecessary retracing. For (3), please refer to https://www.tensorflow.org/guide/function#controlling_retracing and https://www.tensorflow.org/api_docs/python/tf/function for  more details.\n"
     ]
    }
   ],
   "source": [
    "model.compile(loss=[\"mape\", 'mse'], # 在编译的时候注意，在有多输出的时候可以指定多个损失函数，如果只有一个损失函数，则所有输出都会使用同一个loss\n",
    "              loss_weights={'main_output':0.9, 'aux_output':0.1}, # 可以指定各个输出在计算损失函数的比重\n",
    "              optimizer=keras.optimizers.SGD(learning_rate=1e-3)\n",
    "             )\n",
    "\n",
    "history = model.fit([X_train_A, X_train_B], [y_train, y_train], epochs=10,\n",
    "                    validation_data=([X_valid_A, X_valid_B], [y_valid, y_valid]))\n",
    "mse_test = model.evaluate([X_test_A, X_test_B], [y_test, y_test])\n",
    "y_pred = model.predict([X_new_A, X_new_B])"
   ]
  },
  {
   "cell_type": "code",
   "execution_count": 50,
   "id": "27efaa6f-b3dd-4b28-89e0-d3b6bc58cedb",
   "metadata": {},
   "outputs": [
    {
     "name": "stdout",
     "output_type": "stream",
     "text": [
      "162/162 [==============================] - 0s 1ms/step - loss: 18.8688 - main_output_loss: 20.8566 - aux_output_loss: 0.9790\n"
     ]
    }
   ],
   "source": [
    "# 在评估模型的时候，分别会输出总loss，和分别各个输出的loss\n",
    "total_loss, main_loss, aux_loss = model.evaluate(\n",
    "    [X_test_A, X_test_B], [y_test, y_test])\n",
    "y_pred_main, y_pred_aux = model.predict([X_new_A, X_new_B])"
   ]
  },
  {
   "cell_type": "code",
   "execution_count": 51,
   "id": "000c7d13-5611-4621-b430-591a736b9a16",
   "metadata": {
    "tags": []
   },
   "outputs": [
    {
     "name": "stdout",
     "output_type": "stream",
     "text": [
      "Saving figure keras_learning_curves_plot\n"
     ]
    },
    {
     "data": {
      "image/png": "[encoded data removed]",
      "text/plain": [
       "<Figure size 576x360 with 1 Axes>"
      ]
     },
     "metadata": {
      "needs_background": "light"
     },
     "output_type": "display_data"
    }
   ],
   "source": [
    "# 使用history.history中的每个轮次的指标，可以画出学习曲线\n",
    "import pandas as pd\n",
    "\n",
    "pd.DataFrame(history.history).plot(figsize=(8, 5))\n",
    "plt.grid(True)\n",
    "#plt.gca().set_ylim(0, 1)\n",
    "save_fig(\"keras_learning_curves_plot\")\n",
    "plt.show()"
   ]
  },
  {
   "cell_type": "markdown",
   "id": "b9e9c9c0-858e-4d23-a76d-84a57d9a59cd",
   "metadata": {},
   "source": [
    "## 使用子类API构建模型"
   ]
  },
  {
   "cell_type": "markdown",
   "id": "ef7f3d40-49d7-4b19-8cea-0caa0cb00dbe",
   "metadata": {},
   "source": [
    "这么做的好处是灵活，可以很方便地调整神经网络的结构，甚至可以在构建模型的时候使用for循环  \n",
    "但是坏处也非常明显，那就是没办法使用summary或plot_model方法直观地看到神经网络的结构，看不到层与层之间是怎么连接的"
   ]
  },
  {
   "cell_type": "code",
   "execution_count": 52,
   "id": "1ada1a0a-d6f3-4453-bdbb-77d1132a33ea",
   "metadata": {},
   "outputs": [],
   "source": [
    "# 是的，只需要继承keras.models.Model类，然后再实现call方法就能构建神经网络了\n",
    "class WideAndDeepModel(keras.models.Model):\n",
    "    def __init__(self, units=30, activation=\"relu\", **kwargs):\n",
    "        super().__init__(**kwargs)\n",
    "        # 在这里先定义好各层\n",
    "        self.hidden1 = keras.layers.Dense(units, activation=activation)\n",
    "        self.hidden2 = keras.layers.Dense(units, activation=activation)\n",
    "        self.main_output = keras.layers.Dense(1)\n",
    "        self.aux_output = keras.layers.Dense(1)\n",
    "        \n",
    "    def call(self, inputs):\n",
    "        # 在call方法中来实现各层的连接\n",
    "        input_A, input_B = inputs\n",
    "        hidden1 = self.hidden1(input_B)\n",
    "        hidden2 = self.hidden2(hidden1)\n",
    "        concat = keras.layers.concatenate([input_A, hidden2])\n",
    "        main_output = self.main_output(concat)\n",
    "        aux_output = self.aux_output(hidden2)\n",
    "        return main_output, aux_output\n",
    "\n",
    "model = WideAndDeepModel(30, activation=\"relu\")"
   ]
  },
  {
   "cell_type": "code",
   "execution_count": 53,
   "id": "213592ed-1810-479f-81e0-b05336593cc0",
   "metadata": {},
   "outputs": [
    {
     "name": "stdout",
     "output_type": "stream",
     "text": [
      "Epoch 1/10\n",
      "363/363 [==============================] - 1s 3ms/step - loss: 2.6811 - output_1_loss: 2.3824 - output_2_loss: 5.3692 - val_loss: 4.0810 - val_output_1_loss: 3.6786 - val_output_2_loss: 7.7031\n",
      "Epoch 2/10\n",
      "363/363 [==============================] - 1s 3ms/step - loss: 1.0888 - output_1_loss: 0.7882 - output_2_loss: 3.7940 - val_loss: 1.8114 - val_output_1_loss: 0.9123 - val_output_2_loss: 9.9030\n",
      "Epoch 3/10\n",
      "363/363 [==============================] - 1s 3ms/step - loss: 0.8406 - output_1_loss: 0.6446 - output_2_loss: 2.6053 - val_loss: 1.6652 - val_output_1_loss: 0.6105 - val_output_2_loss: 11.1579\n",
      "Epoch 4/10\n",
      "363/363 [==============================] - 1s 3ms/step - loss: 0.7409 - output_1_loss: 0.5967 - output_2_loss: 2.0386 - val_loss: 1.6263 - val_output_1_loss: 0.5936 - val_output_2_loss: 10.9210\n",
      "Epoch 5/10\n",
      "363/363 [==============================] - 1s 3ms/step - loss: 0.6847 - output_1_loss: 0.5645 - output_2_loss: 1.7664 - val_loss: 1.4901 - val_output_1_loss: 0.5590 - val_output_2_loss: 9.8701\n",
      "Epoch 6/10\n",
      "363/363 [==============================] - 1s 3ms/step - loss: 0.6460 - output_1_loss: 0.5383 - output_2_loss: 1.6159 - val_loss: 1.3837 - val_output_1_loss: 0.5811 - val_output_2_loss: 8.6073\n",
      "Epoch 7/10\n",
      "363/363 [==============================] - 1s 3ms/step - loss: 0.6166 - output_1_loss: 0.5165 - output_2_loss: 1.5179 - val_loss: 1.2463 - val_output_1_loss: 0.5682 - val_output_2_loss: 7.3494\n",
      "Epoch 8/10\n",
      "363/363 [==============================] - 1s 3ms/step - loss: 0.5936 - output_1_loss: 0.4991 - output_2_loss: 1.4442 - val_loss: 1.0620 - val_output_1_loss: 0.4948 - val_output_2_loss: 6.1671\n",
      "Epoch 9/10\n",
      "363/363 [==============================] - 1s 3ms/step - loss: 0.5736 - output_1_loss: 0.4835 - output_2_loss: 1.3851 - val_loss: 0.9584 - val_output_1_loss: 0.4864 - val_output_2_loss: 5.2065\n",
      "Epoch 10/10\n",
      "363/363 [==============================] - 1s 2ms/step - loss: 0.5576 - output_1_loss: 0.4712 - output_2_loss: 1.3350 - val_loss: 0.8694 - val_output_1_loss: 0.4774 - val_output_2_loss: 4.3975\n",
      "162/162 [==============================] - 0s 1ms/step - loss: 0.5382 - output_1_loss: 0.4546 - output_2_loss: 1.2904\n",
      "WARNING:tensorflow:6 out of the last 8 calls to <function Model.make_predict_function.<locals>.predict_function at 0x0000023845518280> triggered tf.function retracing. Tracing is expensive and the excessive number of tracings could be due to (1) creating @tf.function repeatedly in a loop, (2) passing tensors with different shapes, (3) passing Python objects instead of tensors. For (1), please define your @tf.function outside of the loop. For (2), @tf.function has experimental_relax_shapes=True option that relaxes argument shapes that can avoid unnecessary retracing. For (3), please refer to https://www.tensorflow.org/guide/function#controlling_retracing and https://www.tensorflow.org/api_docs/python/tf/function for  more details.\n"
     ]
    }
   ],
   "source": [
    "# 接下来就按照正常的步骤走就行了\n",
    "model.compile(loss = \"mse\", \n",
    "              loss_weights = [0.9, 0.1], \n",
    "              optimizer = keras.optimizers.SGD(learning_rate=1e-3)\n",
    "             )\n",
    "history = model.fit((X_train_A, X_train_B), (y_train, y_train), epochs=10,\n",
    "                    validation_data=((X_valid_A, X_valid_B), (y_valid, y_valid)))\n",
    "total_loss, main_loss, aux_loss = model.evaluate((X_test_A, X_test_B), (y_test, y_test))\n",
    "y_pred_main, y_pred_aux = model.predict((X_new_A, X_new_B))"
   ]
  },
  {
   "cell_type": "markdown",
   "id": "d855ec94-ed27-473f-9abd-ec77ee4c7fca",
   "metadata": {},
   "source": [
    "# 保存和加载模型"
   ]
  },
  {
   "cell_type": "markdown",
   "id": "e04f3343-53e5-4f7e-8d4d-9e88f00899f1",
   "metadata": {},
   "source": [
    "使用HDF5格式来保存神经网络的各个层和其对应的所有参数  \n",
    "但是，这个方法只能保存使用顺序API和函数式API创建的神经网络  \n",
    "如果想保存使用子类API创建的神经网络，就需要使用save_weights()和load_weights()方法来保存和加载神经网络的所有参数，然后重新构建一遍神经网络，再设置参数"
   ]
  },
  {
   "cell_type": "code",
   "execution_count": 54,
   "id": "85e993d7-17f4-4fc9-ab74-0601a2ab02fc",
   "metadata": {},
   "outputs": [
    {
     "name": "stdout",
     "output_type": "stream",
     "text": [
      "Epoch 1/10\n",
      "363/363 [==============================] - 1s 2ms/step - loss: 2.0964 - val_loss: 1.5746\n",
      "Epoch 2/10\n",
      "363/363 [==============================] - 1s 2ms/step - loss: 0.8149 - val_loss: 0.7112\n",
      "Epoch 3/10\n",
      "363/363 [==============================] - 1s 2ms/step - loss: 0.7126 - val_loss: 0.6589\n",
      "Epoch 4/10\n",
      "363/363 [==============================] - 1s 2ms/step - loss: 0.6645 - val_loss: 0.6053\n",
      "Epoch 5/10\n",
      "363/363 [==============================] - 1s 2ms/step - loss: 0.6277 - val_loss: 0.5696\n",
      "Epoch 6/10\n",
      "363/363 [==============================] - 1s 2ms/step - loss: 0.5953 - val_loss: 0.5390\n",
      "Epoch 7/10\n",
      "363/363 [==============================] - 1s 2ms/step - loss: 0.5675 - val_loss: 0.5166\n",
      "Epoch 8/10\n",
      "363/363 [==============================] - 1s 2ms/step - loss: 0.5426 - val_loss: 0.4906\n",
      "Epoch 9/10\n",
      "363/363 [==============================] - 1s 2ms/step - loss: 0.5197 - val_loss: 0.4713\n",
      "Epoch 10/10\n",
      "363/363 [==============================] - 1s 2ms/step - loss: 0.4994 - val_loss: 0.4585\n",
      "162/162 [==============================] - 0s 870us/step - loss: 0.4920\n"
     ]
    }
   ],
   "source": [
    "# 以一个简单的顺序神经网络为例\n",
    "model = keras.models.Sequential([\n",
    "    keras.layers.Dense(30, activation=\"relu\", input_shape=[8]),\n",
    "    keras.layers.Dense(30, activation=\"relu\"),\n",
    "    keras.layers.Dense(1)\n",
    "])    \n",
    "model.compile(loss=\"mse\", optimizer=keras.optimizers.SGD(learning_rate=1e-3))\n",
    "history = model.fit(X_train, y_train, epochs=10, validation_data=(X_valid, y_valid))\n",
    "mse_test = model.evaluate(X_test, y_test)"
   ]
  },
  {
   "cell_type": "code",
   "execution_count": 55,
   "id": "43abe8b4-8991-4572-9087-75450efd1172",
   "metadata": {},
   "outputs": [],
   "source": [
    "# 保存模型\n",
    "model.save(\"my_keras_model.h5\")"
   ]
  },
  {
   "cell_type": "code",
   "execution_count": 56,
   "id": "d8058b08-2ba8-4667-ac92-b4a249a442be",
   "metadata": {},
   "outputs": [],
   "source": [
    "# 加载模型\n",
    "model = keras.models.load_model(\"my_keras_model.h5\")"
   ]
  },
  {
   "cell_type": "code",
   "execution_count": 57,
   "id": "dc4e4851-05e5-423f-8d18-f002aba54af8",
   "metadata": {},
   "outputs": [
    {
     "data": {
      "text/plain": [
       "array([[0.7247049],\n",
       "       [1.4249488],\n",
       "       [2.973485 ]], dtype=float32)"
      ]
     },
     "execution_count": 57,
     "metadata": {},
     "output_type": "execute_result"
    }
   ],
   "source": [
    "model.predict(X_new)"
   ]
  },
  {
   "cell_type": "code",
   "execution_count": 58,
   "id": "9e466c56-f57d-49e5-9eed-58ab008f858b",
   "metadata": {},
   "outputs": [
    {
     "data": {
      "text/plain": [
       "<tensorflow.python.training.tracking.util.CheckpointLoadStatus at 0x2384537fe20>"
      ]
     },
     "execution_count": 58,
     "metadata": {},
     "output_type": "execute_result"
    }
   ],
   "source": [
    "# 顺便提一下save_weights()和load_weights()方法的使用\n",
    "model.save_weights(\"my_keras_weights.ckpt\")\n",
    "model.load_weights(\"my_keras_weights.ckpt\")"
   ]
  },
  {
   "cell_type": "markdown",
   "id": "086f892e-541e-4505-9a52-04da9976b155",
   "metadata": {},
   "source": [
    "# 在训练期间使用回调函数"
   ]
  },
  {
   "cell_type": "markdown",
   "id": "77733af9-e2bd-4283-86ac-00318f266bd8",
   "metadata": {},
   "source": [
    "当训练时间过长，需要时时保存模型以防止计算机崩溃导致训练失败的时；  \n",
    "当想实现earlystop时；  \n",
    "  \n",
    "就可以使用回调函数：  \n",
    "需要使用keras.callbacks下的各种类来实现各种回调功能，然后再将keras.callbacks对象列表传递给fit()的callbacks参数就得了  \n",
    "\n",
    "当然可以自定义一个回调函数\n",
    "https://keras.io/guides/writing_your_own_callbacks/"
   ]
  },
  {
   "cell_type": "code",
   "execution_count": 59,
   "id": "86d1f112-7edb-4892-9e97-adcc62f39ac8",
   "metadata": {},
   "outputs": [
    {
     "name": "stdout",
     "output_type": "stream",
     "text": [
      "Epoch 1/10\n",
      "363/363 [==============================] - 1s 2ms/step - loss: 0.4823 - val_loss: 0.4373\n",
      "Epoch 2/10\n",
      "363/363 [==============================] - 1s 2ms/step - loss: 0.4672 - val_loss: 0.4267\n",
      "Epoch 3/10\n",
      "363/363 [==============================] - 1s 2ms/step - loss: 0.4551 - val_loss: 0.4143\n",
      "Epoch 4/10\n",
      "363/363 [==============================] - 1s 2ms/step - loss: 0.4448 - val_loss: 0.4051\n",
      "Epoch 5/10\n",
      "363/363 [==============================] - 1s 2ms/step - loss: 0.4363 - val_loss: 0.3972\n",
      "Epoch 6/10\n",
      "363/363 [==============================] - 1s 2ms/step - loss: 0.4288 - val_loss: 0.3909\n",
      "Epoch 7/10\n",
      "363/363 [==============================] - 1s 2ms/step - loss: 0.4225 - val_loss: 0.3863\n",
      "Epoch 8/10\n",
      "363/363 [==============================] - 1s 2ms/step - loss: 0.4174 - val_loss: 0.3818\n",
      "Epoch 9/10\n",
      "363/363 [==============================] - 1s 2ms/step - loss: 0.4124 - val_loss: 0.3787\n",
      "Epoch 10/10\n",
      "363/363 [==============================] - 1s 2ms/step - loss: 0.4081 - val_loss: 0.3790\n",
      "162/162 [==============================] - 0s 880us/step - loss: 0.4146\n"
     ]
    }
   ],
   "source": [
    "model.compile(loss=\"mse\", \n",
    "              optimizer=keras.optimizers.SGD(learning_rate=1e-3)\n",
    "             )\n",
    "# 设置回调函数，在每个轮次epoch结束后，就将当前在验证集中表现最好的模型保存下来\n",
    "checkpoint_cb = keras.callbacks.ModelCheckpoint(\"my_keras_model.h5\", save_best_only=True)\n",
    "history = model.fit(X_train, y_train, epochs=10,\n",
    "                    validation_data=(X_valid, y_valid),\n",
    "                    callbacks=[checkpoint_cb])\n",
    "\n",
    "model = keras.models.load_model(\"my_keras_model.h5\") # 训练完成后，回滚到表现最佳的模型\n",
    "mse_test = model.evaluate(X_test, y_test)"
   ]
  },
  {
   "cell_type": "code",
   "execution_count": 60,
   "id": "82259f37-b240-40f8-b4e3-4c22593d7094",
   "metadata": {
    "tags": []
   },
   "outputs": [
    {
     "name": "stdout",
     "output_type": "stream",
     "text": [
      "Epoch 1/100\n",
      "363/363 [==============================] - 1s 2ms/step - loss: 0.4083 - val_loss: 0.3747\n",
      "Epoch 2/100\n",
      "363/363 [==============================] - 1s 2ms/step - loss: 0.4043 - val_loss: 0.3827\n",
      "Epoch 3/100\n",
      "363/363 [==============================] - 1s 2ms/step - loss: 0.4009 - val_loss: 0.3748\n",
      "Epoch 4/100\n",
      "363/363 [==============================] - 1s 2ms/step - loss: 0.3977 - val_loss: 0.3683\n",
      "Epoch 5/100\n",
      "363/363 [==============================] - 1s 2ms/step - loss: 0.3948 - val_loss: 0.3633\n",
      "Epoch 6/100\n",
      "363/363 [==============================] - 1s 2ms/step - loss: 0.3919 - val_loss: 0.3651\n",
      "Epoch 7/100\n",
      "363/363 [==============================] - 1s 2ms/step - loss: 0.3894 - val_loss: 0.3644\n",
      "Epoch 8/100\n",
      "363/363 [==============================] - 1s 2ms/step - loss: 0.3872 - val_loss: 0.3571\n",
      "Epoch 9/100\n",
      "363/363 [==============================] - 1s 2ms/step - loss: 0.3847 - val_loss: 0.3580\n",
      "Epoch 10/100\n",
      "363/363 [==============================] - 1s 2ms/step - loss: 0.3827 - val_loss: 0.3619\n",
      "Epoch 11/100\n",
      "363/363 [==============================] - 1s 2ms/step - loss: 0.3810 - val_loss: 0.3518\n",
      "Epoch 12/100\n",
      "363/363 [==============================] - 1s 2ms/step - loss: 0.3789 - val_loss: 0.3608\n",
      "Epoch 13/100\n",
      "363/363 [==============================] - 1s 2ms/step - loss: 0.3772 - val_loss: 0.3569\n",
      "Epoch 14/100\n",
      "363/363 [==============================] - 1s 2ms/step - loss: 0.3756 - val_loss: 0.3482\n",
      "Epoch 15/100\n",
      "363/363 [==============================] - 1s 2ms/step - loss: 0.3739 - val_loss: 0.3534\n",
      "Epoch 16/100\n",
      "363/363 [==============================] - 1s 2ms/step - loss: 0.3725 - val_loss: 0.3456\n",
      "Epoch 17/100\n",
      "363/363 [==============================] - 1s 2ms/step - loss: 0.3711 - val_loss: 0.3485\n",
      "Epoch 18/100\n",
      "363/363 [==============================] - 1s 2ms/step - loss: 0.3698 - val_loss: 0.3456\n",
      "Epoch 19/100\n",
      "363/363 [==============================] - 1s 2ms/step - loss: 0.3682 - val_loss: 0.3442\n",
      "Epoch 20/100\n",
      "363/363 [==============================] - 1s 2ms/step - loss: 0.3673 - val_loss: 0.3585\n",
      "Epoch 21/100\n",
      "363/363 [==============================] - 1s 2ms/step - loss: 0.3660 - val_loss: 0.3500\n",
      "Epoch 22/100\n",
      "363/363 [==============================] - 1s 2ms/step - loss: 0.3649 - val_loss: 0.3530\n",
      "Epoch 23/100\n",
      "363/363 [==============================] - 1s 2ms/step - loss: 0.3639 - val_loss: 0.3408\n",
      "Epoch 24/100\n",
      "363/363 [==============================] - 1s 2ms/step - loss: 0.3629 - val_loss: 0.3413\n",
      "Epoch 25/100\n",
      "363/363 [==============================] - 1s 2ms/step - loss: 0.3618 - val_loss: 0.3452\n",
      "Epoch 26/100\n",
      "363/363 [==============================] - 1s 2ms/step - loss: 0.3609 - val_loss: 0.3474\n",
      "Epoch 27/100\n",
      "363/363 [==============================] - 1s 2ms/step - loss: 0.3601 - val_loss: 0.3369\n",
      "Epoch 28/100\n",
      "363/363 [==============================] - 1s 2ms/step - loss: 0.3592 - val_loss: 0.3389\n",
      "Epoch 29/100\n",
      "363/363 [==============================] - 1s 2ms/step - loss: 0.3584 - val_loss: 0.3359\n",
      "Epoch 30/100\n",
      "363/363 [==============================] - 1s 2ms/step - loss: 0.3573 - val_loss: 0.3418\n",
      "Epoch 31/100\n",
      "363/363 [==============================] - 1s 2ms/step - loss: 0.3565 - val_loss: 0.3370\n",
      "Epoch 32/100\n",
      "363/363 [==============================] - 1s 2ms/step - loss: 0.3555 - val_loss: 0.3487\n",
      "Epoch 33/100\n",
      "363/363 [==============================] - 1s 2ms/step - loss: 0.3552 - val_loss: 0.3325\n",
      "Epoch 34/100\n",
      "363/363 [==============================] - 1s 2ms/step - loss: 0.3542 - val_loss: 0.3321\n",
      "Epoch 35/100\n",
      "363/363 [==============================] - 1s 2ms/step - loss: 0.3535 - val_loss: 0.3420\n",
      "Epoch 36/100\n",
      "363/363 [==============================] - 1s 2ms/step - loss: 0.3529 - val_loss: 0.3314\n",
      "Epoch 37/100\n",
      "363/363 [==============================] - 1s 2ms/step - loss: 0.3522 - val_loss: 0.3336\n",
      "Epoch 38/100\n",
      "363/363 [==============================] - 1s 2ms/step - loss: 0.3515 - val_loss: 0.3303\n",
      "Epoch 39/100\n",
      "363/363 [==============================] - 1s 2ms/step - loss: 0.3509 - val_loss: 0.3314\n",
      "Epoch 40/100\n",
      "363/363 [==============================] - 1s 2ms/step - loss: 0.3502 - val_loss: 0.3328\n",
      "Epoch 41/100\n",
      "363/363 [==============================] - 1s 2ms/step - loss: 0.3497 - val_loss: 0.3408\n",
      "Epoch 42/100\n",
      "363/363 [==============================] - 1s 2ms/step - loss: 0.3493 - val_loss: 0.3427\n",
      "Epoch 43/100\n",
      "363/363 [==============================] - 1s 2ms/step - loss: 0.3484 - val_loss: 0.3554\n",
      "Epoch 44/100\n",
      "363/363 [==============================] - 1s 2ms/step - loss: 0.3480 - val_loss: 0.3646\n",
      "Epoch 45/100\n",
      "363/363 [==============================] - 1s 2ms/step - loss: 0.3476 - val_loss: 0.3374\n",
      "Epoch 46/100\n",
      "363/363 [==============================] - 1s 2ms/step - loss: 0.3469 - val_loss: 0.3477\n",
      "Epoch 47/100\n",
      "363/363 [==============================] - 1s 2ms/step - loss: 0.3466 - val_loss: 0.3464\n",
      "Epoch 48/100\n",
      "363/363 [==============================] - 1s 2ms/step - loss: 0.3462 - val_loss: 0.3597\n",
      "162/162 [==============================] - 0s 881us/step - loss: 0.3548\n"
     ]
    }
   ],
   "source": [
    "model.compile(loss=\"mse\", \n",
    "              optimizer=keras.optimizers.SGD(learning_rate=1e-3)\n",
    "             )\n",
    "# 设置一个earlt stopping的回调功能\n",
    "early_stopping_cb = keras.callbacks.EarlyStopping(patience=10, # 如果10个轮次后在验证集中的表现都没有得到提高，就停止计算\n",
    "                                                  restore_best_weights=True # 停止训练之后直接自动回滚到最佳的模型，不用自己在手动加载\n",
    "                                                 )\n",
    "history = model.fit(X_train, y_train, epochs=100,\n",
    "                    validation_data=(X_valid, y_valid),\n",
    "                    # 是的，可以指定不止一个回调函数\n",
    "                    callbacks=[checkpoint_cb, early_stopping_cb])\n",
    "mse_test = model.evaluate(X_test, y_test)"
   ]
  },
  {
   "cell_type": "code",
   "execution_count": 61,
   "id": "7750312c-8af3-4e07-a545-076aa8e0760b",
   "metadata": {},
   "outputs": [],
   "source": [
    "# 自定义一个回调函数，每个轮次计算完成后就输出验证集与训练集的loss比值\n",
    "class PrintValTrainRatioCallback(keras.callbacks.Callback):\n",
    "    def on_epoch_end(self, epoch, logs):\n",
    "        print(\"\\n轮次:{0}\\tval/train: {1:.2f}\".format(epoch, logs[\"val_loss\"] / logs[\"loss\"]))"
   ]
  },
  {
   "cell_type": "code",
   "execution_count": 62,
   "id": "ca1bac02-5e1d-4852-96e6-da4f51021c94",
   "metadata": {},
   "outputs": [
    {
     "name": "stdout",
     "output_type": "stream",
     "text": [
      "Epoch 1/3\n",
      "358/363 [============================>.] - ETA: 0s - loss: 0.3504\n",
      "轮次:0\tval/train: 0.95\n",
      "363/363 [==============================] - 1s 2ms/step - loss: 0.3508 - val_loss: 0.3332\n",
      "Epoch 2/3\n",
      "336/363 [==========================>...] - ETA: 0s - loss: 0.3480\n",
      "轮次:1\tval/train: 1.01\n",
      "363/363 [==============================] - 1s 2ms/step - loss: 0.3502 - val_loss: 0.3523\n",
      "Epoch 3/3\n",
      "334/363 [==========================>...] - ETA: 0s - loss: 0.3534\n",
      "轮次:2\tval/train: 0.98\n",
      "363/363 [==============================] - 1s 2ms/step - loss: 0.3498 - val_loss: 0.3424\n"
     ]
    }
   ],
   "source": [
    "val_train_ratio_cb = PrintValTrainRatioCallback()\n",
    "history = model.fit(X_train, y_train, epochs=3,\n",
    "                    validation_data=(X_valid, y_valid),\n",
    "                    callbacks=[val_train_ratio_cb])"
   ]
  },
  {
   "cell_type": "markdown",
   "id": "1df76356-855c-43d7-bfb6-8fa1af9cc2fa",
   "metadata": {},
   "source": [
    "# Tensorboard"
   ]
  },
  {
   "cell_type": "code",
   "execution_count": 64,
   "id": "cad803d9-5875-48ac-9256-d738b7f3171b",
   "metadata": {},
   "outputs": [],
   "source": [
    "#指定存放所有log的目录\n",
    "root_logdir = os.path.join(os.curdir, \"my_logs\")"
   ]
  },
  {
   "cell_type": "code",
   "execution_count": 65,
   "id": "00e1c85c-7aed-4bdd-bf81-7808b7421470",
   "metadata": {},
   "outputs": [
    {
     "data": {
      "text/plain": [
       "'.\\\\my_logs\\\\run_2022_04_11-21_17_39'"
      ]
     },
     "execution_count": 65,
     "metadata": {},
     "output_type": "execute_result"
    }
   ],
   "source": [
    "# 设置每次训练完成后都会将训练log记录在时间命名的文件夹下\n",
    "def get_run_logdir():\n",
    "    import time\n",
    "    run_id = time.strftime(\"run_%Y_%m_%d-%H_%M_%S\")\n",
    "    return os.path.join(root_logdir, run_id)\n",
    "\n",
    "run_logdir = get_run_logdir()\n",
    "run_logdir"
   ]
  },
  {
   "cell_type": "code",
   "execution_count": 66,
   "id": "d45415fb-8da9-4e26-95ce-ebe8ebc875e3",
   "metadata": {},
   "outputs": [],
   "source": [
    "keras.backend.clear_session()\n",
    "np.random.seed(42)\n",
    "tf.random.set_seed(42)"
   ]
  },
  {
   "cell_type": "code",
   "execution_count": 67,
   "id": "113abe05-c5ee-403e-880a-dbee9138664f",
   "metadata": {},
   "outputs": [],
   "source": [
    "# 随便整一个模型\n",
    "model = keras.models.Sequential([\n",
    "    keras.layers.Dense(30, activation=\"relu\", input_shape=[8]),\n",
    "    keras.layers.Dense(30, activation=\"relu\"),\n",
    "    keras.layers.Dense(1)\n",
    "])    \n",
    "model.compile(loss=\"mse\", optimizer=keras.optimizers.SGD(learning_rate=1e-3))"
   ]
  },
  {
   "cell_type": "code",
   "execution_count": 68,
   "id": "3bdafbe7-2567-4d9a-9ee4-8ca98702ab1a",
   "metadata": {
    "collapsed": true,
    "jupyter": {
     "outputs_hidden": true
    },
    "tags": []
   },
   "outputs": [
    {
     "name": "stdout",
     "output_type": "stream",
     "text": [
      "Epoch 1/30\n",
      "363/363 [==============================] - 1s 2ms/step - loss: 1.8866 - val_loss: 0.7125\n",
      "Epoch 2/30\n",
      "363/363 [==============================] - 1s 2ms/step - loss: 0.6577 - val_loss: 0.6880\n",
      "Epoch 3/30\n",
      "363/363 [==============================] - 1s 2ms/step - loss: 0.5934 - val_loss: 0.5802\n",
      "Epoch 4/30\n",
      "363/363 [==============================] - 1s 2ms/step - loss: 0.5557 - val_loss: 0.5166\n",
      "Epoch 5/30\n",
      "363/363 [==============================] - 1s 2ms/step - loss: 0.5272 - val_loss: 0.4895\n",
      "Epoch 6/30\n",
      "363/363 [==============================] - 1s 2ms/step - loss: 0.5033 - val_loss: 0.4946\n",
      "Epoch 7/30\n",
      "363/363 [==============================] - 1s 2ms/step - loss: 0.4854 - val_loss: 0.4860\n",
      "Epoch 8/30\n",
      "363/363 [==============================] - 1s 2ms/step - loss: 0.4709 - val_loss: 0.4550\n",
      "Epoch 9/30\n",
      "363/363 [==============================] - 1s 2ms/step - loss: 0.4578 - val_loss: 0.4413\n",
      "Epoch 10/30\n",
      "363/363 [==============================] - 1s 2ms/step - loss: 0.4475 - val_loss: 0.4378\n",
      "Epoch 11/30\n",
      "363/363 [==============================] - 1s 2ms/step - loss: 0.4393 - val_loss: 0.4401\n",
      "Epoch 12/30\n",
      "363/363 [==============================] - 1s 2ms/step - loss: 0.4318 - val_loss: 0.4514\n",
      "Epoch 13/30\n",
      "363/363 [==============================] - 1s 2ms/step - loss: 0.4261 - val_loss: 0.3997\n",
      "Epoch 14/30\n",
      "363/363 [==============================] - 1s 2ms/step - loss: 0.4202 - val_loss: 0.3957\n",
      "Epoch 15/30\n",
      "363/363 [==============================] - 1s 2ms/step - loss: 0.4155 - val_loss: 0.3914\n",
      "Epoch 16/30\n",
      "363/363 [==============================] - 1s 2ms/step - loss: 0.4112 - val_loss: 0.3935\n",
      "Epoch 17/30\n",
      "363/363 [==============================] - 1s 2ms/step - loss: 0.4077 - val_loss: 0.3809\n",
      "Epoch 18/30\n",
      "363/363 [==============================] - 1s 2ms/step - loss: 0.4040 - val_loss: 0.3794\n",
      "Epoch 19/30\n",
      "363/363 [==============================] - 1s 2ms/step - loss: 0.4005 - val_loss: 0.3851\n",
      "Epoch 20/30\n",
      "363/363 [==============================] - 1s 2ms/step - loss: 0.3980 - val_loss: 0.3810\n",
      "Epoch 21/30\n",
      "363/363 [==============================] - 1s 2ms/step - loss: 0.3949 - val_loss: 0.3701\n",
      "Epoch 22/30\n",
      "363/363 [==============================] - 1s 2ms/step - loss: 0.3924 - val_loss: 0.3779\n",
      "Epoch 23/30\n",
      "363/363 [==============================] - 1s 2ms/step - loss: 0.3898 - val_loss: 0.3649\n",
      "Epoch 24/30\n",
      "363/363 [==============================] - 1s 2ms/step - loss: 0.3874 - val_loss: 0.3653\n",
      "Epoch 25/30\n",
      "363/363 [==============================] - 1s 2ms/step - loss: 0.3851 - val_loss: 0.3611\n",
      "Epoch 26/30\n",
      "363/363 [==============================] - 1s 2ms/step - loss: 0.3829 - val_loss: 0.3623\n",
      "Epoch 27/30\n",
      "363/363 [==============================] - 1s 2ms/step - loss: 0.3809 - val_loss: 0.3564\n",
      "Epoch 28/30\n",
      "363/363 [==============================] - 1s 2ms/step - loss: 0.3788 - val_loss: 0.3580\n",
      "Epoch 29/30\n",
      "363/363 [==============================] - 1s 2ms/step - loss: 0.3769 - val_loss: 0.3562\n",
      "Epoch 30/30\n",
      "363/363 [==============================] - 1s 2ms/step - loss: 0.3750 - val_loss: 0.3547\n"
     ]
    }
   ],
   "source": [
    "# 需要使用TensorBoard回调函数，这样才能记录训练时情况\n",
    "tensorboard_cb = keras.callbacks.TensorBoard(run_logdir)\n",
    "history = model.fit(X_train, y_train, epochs=30,\n",
    "                    validation_data=(X_valid, y_valid),\n",
    "                    callbacks=[checkpoint_cb, tensorboard_cb])"
   ]
  },
  {
   "cell_type": "markdown",
   "id": "b67e1154-a351-4be6-8e82-c9a9b2cc2ea6",
   "metadata": {},
   "source": [
    "## 使用浏览器调出Tensorboard"
   ]
  },
  {
   "cell_type": "markdown",
   "id": "d7c4009e-38b9-4c9e-88ba-a324311d78df",
   "metadata": {},
   "source": [
    "在装有Tensorflow的环境中打开控制台，在控制台中打开存放有log文件夹的根目录，输入以下命令：\n",
    "\n",
    "```bash\n",
    "$ tensorboard --logdir=./my_logs --port=6006\n",
    "```\n",
    "然后在浏览器中输入这个http://localhost:6006"
   ]
  },
  {
   "cell_type": "markdown",
   "id": "662368dd-0c99-42ff-9042-2c59ad484b7c",
   "metadata": {},
   "source": [
    "## 使用notebook调出Tensorboard"
   ]
  },
  {
   "cell_type": "code",
   "execution_count": 70,
   "id": "9ce4ff2d-f6e2-44de-9cfb-51db2a02d784",
   "metadata": {},
   "outputs": [
    {
     "name": "stdout",
     "output_type": "stream",
     "text": [
      "The tensorboard extension is already loaded. To reload it, use:\n",
      "  %reload_ext tensorboard\n"
     ]
    },
    {
     "data": {
      "text/plain": [
       "Reusing TensorBoard on port 6006 (pid 17072), started 0:01:50 ago. (Use '!kill 17072' to kill it.)"
      ]
     },
     "metadata": {},
     "output_type": "display_data"
    },
    {
     "data": {
      "text/html": [
       "\n",
       "      <iframe id=\"tensorboard-frame-17c93b42dde5f83a\" width=\"100%\" height=\"800\" frameborder=\"0\">\n",
       "      </iframe>\n",
       "      <script>\n",
       "        (function() {\n",
       "          const frame = document.getElementById(\"tensorboard-frame-17c93b42dde5f83a\");\n",
       "          const url = new URL(\"/\", window.location);\n",
       "          const port = 6006;\n",
       "          if (port) {\n",
       "            url.port = port;\n",
       "          }\n",
       "          frame.src = url;\n",
       "        })();\n",
       "      </script>\n",
       "    "
      ],
      "text/plain": [
       "<IPython.core.display.HTML object>"
      ]
     },
     "metadata": {},
     "output_type": "display_data"
    }
   ],
   "source": [
    "# 调出Tensorboard\n",
    "# 加载拓展\n",
    "%load_ext tensorboard\n",
    "# 使用6006端口连接Tensorboard\n",
    "%tensorboard --logdir=./my_logs --port=6006"
   ]
  },
  {
   "cell_type": "code",
   "execution_count": 71,
   "id": "0f4a3e28-e238-454a-9053-a985f6049ffe",
   "metadata": {},
   "outputs": [
    {
     "data": {
      "text/plain": [
       "'.\\\\my_logs\\\\run_2022_04_11-21_28_03'"
      ]
     },
     "execution_count": 71,
     "metadata": {},
     "output_type": "execute_result"
    }
   ],
   "source": [
    "# 再训练一遍，在新的文件夹中记录\n",
    "run_logdir2 = get_run_logdir()\n",
    "run_logdir2"
   ]
  },
  {
   "cell_type": "code",
   "execution_count": 72,
   "id": "26e659c2-aec2-479c-81d3-62592710020d",
   "metadata": {},
   "outputs": [],
   "source": [
    "model = keras.models.Sequential([\n",
    "    keras.layers.Dense(30, activation=\"relu\", input_shape=[8]),\n",
    "    keras.layers.Dense(30, activation=\"relu\"),\n",
    "    keras.layers.Dense(1)\n",
    "])    \n",
    "model.compile(loss=\"mse\", optimizer=keras.optimizers.SGD(learning_rate=0.05))"
   ]
  },
  {
   "cell_type": "code",
   "execution_count": 73,
   "id": "7dbd6fea-01e0-4175-a163-7a5ee777e963",
   "metadata": {},
   "outputs": [
    {
     "name": "stdout",
     "output_type": "stream",
     "text": [
      "Epoch 1/30\n",
      "363/363 [==============================] - 1s 2ms/step - loss: 0.5752 - val_loss: 3.4417\n",
      "Epoch 2/30\n",
      "363/363 [==============================] - 1s 2ms/step - loss: 0.5000 - val_loss: 2.0061\n",
      "Epoch 3/30\n",
      "363/363 [==============================] - 1s 2ms/step - loss: 0.4017 - val_loss: 0.3765\n",
      "Epoch 4/30\n",
      "363/363 [==============================] - 1s 2ms/step - loss: 0.3700 - val_loss: 0.3417\n",
      "Epoch 5/30\n",
      "363/363 [==============================] - 1s 2ms/step - loss: 0.3646 - val_loss: 0.3339\n",
      "Epoch 6/30\n",
      "363/363 [==============================] - 1s 2ms/step - loss: 0.3484 - val_loss: 0.3391\n",
      "Epoch 7/30\n",
      "363/363 [==============================] - 1s 2ms/step - loss: 0.3435 - val_loss: 0.3225\n",
      "Epoch 8/30\n",
      "363/363 [==============================] - 1s 2ms/step - loss: 0.3362 - val_loss: 0.3110\n",
      "Epoch 9/30\n",
      "363/363 [==============================] - 1s 2ms/step - loss: 0.3271 - val_loss: 0.3059\n",
      "Epoch 10/30\n",
      "363/363 [==============================] - 1s 2ms/step - loss: 0.3238 - val_loss: 0.3151\n",
      "Epoch 11/30\n",
      "363/363 [==============================] - 1s 2ms/step - loss: 0.3216 - val_loss: 0.3021\n",
      "Epoch 12/30\n",
      "363/363 [==============================] - 1s 2ms/step - loss: 0.3174 - val_loss: 0.3028\n",
      "Epoch 13/30\n",
      "363/363 [==============================] - 1s 2ms/step - loss: 0.3110 - val_loss: 0.2866\n",
      "Epoch 14/30\n",
      "363/363 [==============================] - 1s 2ms/step - loss: 0.3088 - val_loss: 0.2824\n",
      "Epoch 15/30\n",
      "363/363 [==============================] - 1s 2ms/step - loss: 0.3070 - val_loss: 0.2853\n",
      "Epoch 16/30\n",
      "363/363 [==============================] - 1s 2ms/step - loss: 0.3031 - val_loss: 0.2783\n",
      "Epoch 17/30\n",
      "363/363 [==============================] - 1s 2ms/step - loss: 0.3005 - val_loss: 0.3186\n",
      "Epoch 18/30\n",
      "363/363 [==============================] - 1s 2ms/step - loss: 0.2977 - val_loss: 0.2764\n",
      "Epoch 19/30\n",
      "363/363 [==============================] - 1s 2ms/step - loss: 0.3001 - val_loss: 0.2812\n",
      "Epoch 20/30\n",
      "363/363 [==============================] - 1s 2ms/step - loss: 0.3001 - val_loss: 0.3114\n",
      "Epoch 21/30\n",
      "363/363 [==============================] - 1s 2ms/step - loss: 0.2930 - val_loss: 0.2957\n",
      "Epoch 22/30\n",
      "363/363 [==============================] - 1s 2ms/step - loss: 0.2915 - val_loss: 0.2892\n",
      "Epoch 23/30\n",
      "363/363 [==============================] - 1s 2ms/step - loss: 0.2911 - val_loss: 0.3435\n",
      "Epoch 24/30\n",
      "363/363 [==============================] - 1s 2ms/step - loss: 0.2892 - val_loss: 0.3060\n",
      "Epoch 25/30\n",
      "363/363 [==============================] - 1s 2ms/step - loss: 0.2900 - val_loss: 0.2765\n",
      "Epoch 26/30\n",
      "363/363 [==============================] - 1s 2ms/step - loss: 0.2882 - val_loss: 0.3421\n",
      "Epoch 27/30\n",
      "363/363 [==============================] - 1s 2ms/step - loss: 0.2851 - val_loss: 0.2827\n",
      "Epoch 28/30\n",
      "363/363 [==============================] - 1s 2ms/step - loss: 0.2886 - val_loss: 0.2790\n",
      "Epoch 29/30\n",
      "363/363 [==============================] - 1s 2ms/step - loss: 0.2859 - val_loss: 0.2822\n",
      "Epoch 30/30\n",
      "363/363 [==============================] - 1s 2ms/step - loss: 0.2853 - val_loss: 0.4763\n"
     ]
    }
   ],
   "source": [
    "tensorboard_cb = keras.callbacks.TensorBoard(run_logdir2)\n",
    "history = model.fit(X_train, y_train, epochs=30,\n",
    "                    validation_data=(X_valid, y_valid),\n",
    "                    callbacks=[checkpoint_cb, tensorboard_cb])"
   ]
  },
  {
   "cell_type": "markdown",
   "id": "2c82c86e-e6f9-4a28-a55e-3791d01b8d5c",
   "metadata": {},
   "source": [
    "# 调整超参数"
   ]
  },
  {
   "cell_type": "markdown",
   "id": "0d40e144-58e7-438b-8a41-712e44c58e4e",
   "metadata": {},
   "source": [
    "可将神经网络的构造函数包装成scikit的回归器，然后使用scikit的一些调参方法来调参"
   ]
  },
  {
   "cell_type": "code",
   "execution_count": 74,
   "id": "e15060d6-f814-40c4-b258-95bda1e3464f",
   "metadata": {},
   "outputs": [],
   "source": [
    "# 创建神经网络模型的函数\n",
    "def build_model(n_hidden=1, n_neurons=30, learning_rate=3e-3, input_shape=[8]):\n",
    "    model = keras.models.Sequential()\n",
    "    model.add(keras.layers.InputLayer(input_shape=input_shape))\n",
    "    for layer in range(n_hidden):\n",
    "        model.add(keras.layers.Dense(n_neurons, activation=\"relu\"))\n",
    "    model.add(keras.layers.Dense(1))\n",
    "    optimizer = keras.optimizers.SGD(learning_rate=learning_rate)\n",
    "    model.compile(loss=\"mse\", optimizer=optimizer)\n",
    "    return model"
   ]
  },
  {
   "cell_type": "code",
   "execution_count": 76,
   "id": "a631e36b-f29c-406c-9511-0445d8fcf922",
   "metadata": {
    "collapsed": true,
    "jupyter": {
     "outputs_hidden": true
    },
    "tags": []
   },
   "outputs": [
    {
     "name": "stdout",
     "output_type": "stream",
     "text": [
      "Epoch 1/100\n",
      "363/363 [==============================] - 1s 2ms/step - loss: 1.1639 - val_loss: 6.9411\n",
      "Epoch 2/100\n",
      "363/363 [==============================] - 1s 2ms/step - loss: 0.6394 - val_loss: 6.0674\n",
      "Epoch 3/100\n",
      "363/363 [==============================] - 1s 2ms/step - loss: 0.5514 - val_loss: 4.0839\n",
      "Epoch 4/100\n",
      "363/363 [==============================] - 1s 2ms/step - loss: 0.4948 - val_loss: 2.0301\n",
      "Epoch 5/100\n",
      "363/363 [==============================] - 1s 2ms/step - loss: 0.4601 - val_loss: 1.1479\n",
      "Epoch 6/100\n",
      "363/363 [==============================] - 1s 2ms/step - loss: 0.4416 - val_loss: 0.8920\n",
      "Epoch 7/100\n",
      "363/363 [==============================] - 1s 2ms/step - loss: 0.4316 - val_loss: 0.6168\n",
      "Epoch 8/100\n",
      "363/363 [==============================] - 1s 2ms/step - loss: 0.4213 - val_loss: 0.4303\n",
      "Epoch 9/100\n",
      "363/363 [==============================] - 1s 2ms/step - loss: 0.4133 - val_loss: 0.3919\n",
      "Epoch 10/100\n",
      "363/363 [==============================] - 1s 2ms/step - loss: 0.4083 - val_loss: 0.4161\n",
      "Epoch 11/100\n",
      "363/363 [==============================] - 1s 2ms/step - loss: 0.4049 - val_loss: 0.4474\n",
      "Epoch 12/100\n",
      "363/363 [==============================] - 1s 2ms/step - loss: 0.4017 - val_loss: 0.5118\n",
      "Epoch 13/100\n",
      "363/363 [==============================] - 1s 2ms/step - loss: 0.3993 - val_loss: 0.3863\n",
      "Epoch 14/100\n",
      "363/363 [==============================] - 1s 2ms/step - loss: 0.3961 - val_loss: 0.3640\n",
      "Epoch 15/100\n",
      "363/363 [==============================] - 1s 2ms/step - loss: 0.3933 - val_loss: 0.3634\n",
      "Epoch 16/100\n",
      "363/363 [==============================] - 1s 2ms/step - loss: 0.3899 - val_loss: 0.3625\n",
      "Epoch 17/100\n",
      "363/363 [==============================] - 1s 2ms/step - loss: 0.3865 - val_loss: 0.3921\n",
      "Epoch 18/100\n",
      "363/363 [==============================] - 1s 2ms/step - loss: 0.3862 - val_loss: 0.3589\n",
      "Epoch 19/100\n",
      "363/363 [==============================] - 1s 2ms/step - loss: 0.3833 - val_loss: 0.3547\n",
      "Epoch 20/100\n",
      "363/363 [==============================] - 1s 2ms/step - loss: 0.3811 - val_loss: 0.4387\n",
      "Epoch 21/100\n",
      "363/363 [==============================] - 1s 2ms/step - loss: 0.3804 - val_loss: 0.3752\n",
      "Epoch 22/100\n",
      "363/363 [==============================] - 1s 2ms/step - loss: 0.3787 - val_loss: 0.5747\n",
      "Epoch 23/100\n",
      "363/363 [==============================] - 1s 2ms/step - loss: 0.3776 - val_loss: 0.8238\n",
      "Epoch 24/100\n",
      "363/363 [==============================] - 1s 2ms/step - loss: 0.3748 - val_loss: 0.6811\n",
      "Epoch 25/100\n",
      "363/363 [==============================] - 1s 2ms/step - loss: 0.3756 - val_loss: 0.3964\n",
      "Epoch 26/100\n",
      "363/363 [==============================] - 1s 2ms/step - loss: 0.3712 - val_loss: 0.5275\n",
      "Epoch 27/100\n",
      "363/363 [==============================] - 1s 2ms/step - loss: 0.3731 - val_loss: 0.7629\n",
      "Epoch 28/100\n",
      "363/363 [==============================] - 1s 2ms/step - loss: 0.3710 - val_loss: 0.7424\n",
      "Epoch 29/100\n",
      "363/363 [==============================] - 1s 2ms/step - loss: 0.3710 - val_loss: 0.6173\n",
      "Epoch 30/100\n",
      "363/363 [==============================] - 1s 2ms/step - loss: 0.3674 - val_loss: 0.8664\n",
      "Epoch 31/100\n",
      "363/363 [==============================] - 1s 2ms/step - loss: 0.3707 - val_loss: 0.6255\n",
      "Epoch 32/100\n",
      "363/363 [==============================] - 1s 2ms/step - loss: 0.3648 - val_loss: 0.7827\n",
      "Epoch 33/100\n",
      "363/363 [==============================] - 1s 2ms/step - loss: 0.3670 - val_loss: 0.7941\n",
      "Epoch 34/100\n",
      "363/363 [==============================] - 1s 2ms/step - loss: 0.3630 - val_loss: 0.4987\n",
      "Epoch 35/100\n",
      "363/363 [==============================] - 1s 2ms/step - loss: 0.3639 - val_loss: 0.3634\n",
      "Epoch 36/100\n",
      "363/363 [==============================] - 1s 2ms/step - loss: 0.3603 - val_loss: 0.3502\n",
      "Epoch 37/100\n",
      "363/363 [==============================] - 1s 2ms/step - loss: 0.3595 - val_loss: 0.3366\n",
      "Epoch 38/100\n",
      "363/363 [==============================] - 1s 2ms/step - loss: 0.3578 - val_loss: 0.3920\n",
      "Epoch 39/100\n",
      "363/363 [==============================] - 1s 2ms/step - loss: 0.3584 - val_loss: 0.3339\n",
      "Epoch 40/100\n",
      "363/363 [==============================] - 1s 2ms/step - loss: 0.3567 - val_loss: 0.3442\n",
      "Epoch 41/100\n",
      "363/363 [==============================] - 1s 2ms/step - loss: 0.3591 - val_loss: 0.3481\n",
      "Epoch 42/100\n",
      "363/363 [==============================] - 1s 2ms/step - loss: 0.3565 - val_loss: 0.3330\n",
      "Epoch 43/100\n",
      "363/363 [==============================] - 1s 2ms/step - loss: 0.3556 - val_loss: 0.3657\n",
      "Epoch 44/100\n",
      "363/363 [==============================] - 1s 2ms/step - loss: 0.3542 - val_loss: 0.3321\n",
      "Epoch 45/100\n",
      "363/363 [==============================] - 1s 2ms/step - loss: 0.3531 - val_loss: 0.3368\n",
      "Epoch 46/100\n",
      "363/363 [==============================] - 1s 2ms/step - loss: 0.3517 - val_loss: 0.3421\n",
      "Epoch 47/100\n",
      "363/363 [==============================] - 1s 2ms/step - loss: 0.3515 - val_loss: 0.3311\n",
      "Epoch 48/100\n",
      "363/363 [==============================] - 1s 2ms/step - loss: 0.3510 - val_loss: 0.3308\n",
      "Epoch 49/100\n",
      "363/363 [==============================] - 1s 2ms/step - loss: 0.3532 - val_loss: 0.3956\n",
      "Epoch 50/100\n",
      "363/363 [==============================] - 1s 2ms/step - loss: 0.3496 - val_loss: 0.3583\n",
      "Epoch 51/100\n",
      "363/363 [==============================] - 1s 2ms/step - loss: 0.3489 - val_loss: 0.3430\n",
      "Epoch 52/100\n",
      "363/363 [==============================] - 1s 2ms/step - loss: 0.3484 - val_loss: 0.5482\n",
      "Epoch 53/100\n",
      "363/363 [==============================] - 1s 2ms/step - loss: 0.3481 - val_loss: 0.7667\n",
      "Epoch 54/100\n",
      "363/363 [==============================] - 1s 2ms/step - loss: 0.3514 - val_loss: 1.8257\n",
      "Epoch 55/100\n",
      "363/363 [==============================] - 1s 2ms/step - loss: 0.3513 - val_loss: 2.3726\n",
      "Epoch 56/100\n",
      "363/363 [==============================] - 1s 2ms/step - loss: 0.3609 - val_loss: 5.1247\n",
      "Epoch 57/100\n",
      "363/363 [==============================] - 1s 2ms/step - loss: 0.3714 - val_loss: 4.3077\n",
      "Epoch 58/100\n",
      "363/363 [==============================] - 1s 2ms/step - loss: 0.3802 - val_loss: 3.9124\n",
      "Epoch 59/100\n",
      "363/363 [==============================] - 1s 2ms/step - loss: 0.3752 - val_loss: 3.7275\n",
      "Epoch 60/100\n",
      "363/363 [==============================] - 1s 2ms/step - loss: 0.3705 - val_loss: 2.4038\n",
      "Epoch 61/100\n",
      "363/363 [==============================] - 1s 2ms/step - loss: 0.3590 - val_loss: 1.2214\n",
      "Epoch 62/100\n",
      "363/363 [==============================] - 1s 2ms/step - loss: 0.3536 - val_loss: 0.5993\n",
      "Epoch 63/100\n",
      "363/363 [==============================] - 1s 2ms/step - loss: 0.3446 - val_loss: 0.4629\n",
      "Epoch 64/100\n",
      "363/363 [==============================] - 1s 2ms/step - loss: 0.3539 - val_loss: 0.6270\n",
      "Epoch 65/100\n",
      "363/363 [==============================] - 1s 2ms/step - loss: 0.3438 - val_loss: 0.3661\n",
      "Epoch 66/100\n",
      "363/363 [==============================] - 1s 2ms/step - loss: 0.3430 - val_loss: 0.4016\n",
      "Epoch 67/100\n",
      "363/363 [==============================] - 1s 2ms/step - loss: 0.3430 - val_loss: 0.3414\n",
      "Epoch 68/100\n",
      "363/363 [==============================] - 1s 2ms/step - loss: 0.3420 - val_loss: 0.3467\n",
      "Epoch 69/100\n",
      "363/363 [==============================] - 1s 2ms/step - loss: 0.3404 - val_loss: 0.3233\n",
      "Epoch 70/100\n",
      "363/363 [==============================] - 1s 2ms/step - loss: 0.3414 - val_loss: 0.3282\n",
      "Epoch 71/100\n",
      "363/363 [==============================] - 1s 2ms/step - loss: 0.3431 - val_loss: 0.3240\n",
      "Epoch 72/100\n",
      "363/363 [==============================] - 1s 2ms/step - loss: 0.3395 - val_loss: 0.3310\n",
      "Epoch 73/100\n",
      "363/363 [==============================] - 1s 2ms/step - loss: 0.3396 - val_loss: 0.3570\n",
      "Epoch 74/100\n",
      "363/363 [==============================] - 1s 2ms/step - loss: 0.3386 - val_loss: 0.3564\n",
      "Epoch 75/100\n",
      "363/363 [==============================] - 1s 2ms/step - loss: 0.3382 - val_loss: 0.3271\n",
      "Epoch 76/100\n",
      "363/363 [==============================] - 1s 2ms/step - loss: 0.3463 - val_loss: 0.3232\n",
      "Epoch 77/100\n",
      "363/363 [==============================] - 1s 2ms/step - loss: 0.3393 - val_loss: 0.3248\n",
      "Epoch 78/100\n",
      "363/363 [==============================] - 1s 2ms/step - loss: 0.3372 - val_loss: 0.3202\n",
      "Epoch 79/100\n",
      "363/363 [==============================] - 1s 2ms/step - loss: 0.3388 - val_loss: 0.3204\n",
      "Epoch 80/100\n",
      "363/363 [==============================] - 1s 2ms/step - loss: 0.3365 - val_loss: 0.3217\n",
      "Epoch 81/100\n",
      "363/363 [==============================] - 1s 2ms/step - loss: 0.3356 - val_loss: 0.3258\n",
      "Epoch 82/100\n",
      "363/363 [==============================] - 1s 2ms/step - loss: 0.3354 - val_loss: 0.3441\n",
      "Epoch 83/100\n",
      "363/363 [==============================] - 1s 2ms/step - loss: 0.3342 - val_loss: 0.3203\n",
      "Epoch 84/100\n",
      "363/363 [==============================] - 1s 2ms/step - loss: 0.3334 - val_loss: 0.3374\n",
      "Epoch 85/100\n",
      "363/363 [==============================] - 1s 2ms/step - loss: 0.3341 - val_loss: 0.3455\n",
      "Epoch 86/100\n",
      "363/363 [==============================] - 1s 2ms/step - loss: 0.3339 - val_loss: 0.3240\n",
      "Epoch 87/100\n",
      "363/363 [==============================] - 1s 2ms/step - loss: 0.3376 - val_loss: 0.3179\n",
      "Epoch 88/100\n",
      "363/363 [==============================] - 1s 2ms/step - loss: 0.3349 - val_loss: 0.3178\n",
      "Epoch 89/100\n",
      "363/363 [==============================] - 1s 2ms/step - loss: 0.3323 - val_loss: 0.3161\n",
      "Epoch 90/100\n",
      "363/363 [==============================] - 1s 2ms/step - loss: 0.3315 - val_loss: 0.3240\n",
      "Epoch 91/100\n",
      "363/363 [==============================] - 1s 2ms/step - loss: 0.3305 - val_loss: 0.3323\n",
      "Epoch 92/100\n",
      "363/363 [==============================] - 1s 2ms/step - loss: 0.3313 - val_loss: 0.3603\n",
      "Epoch 93/100\n",
      "363/363 [==============================] - 1s 2ms/step - loss: 0.3301 - val_loss: 0.3582\n",
      "Epoch 94/100\n",
      "363/363 [==============================] - 1s 2ms/step - loss: 0.3291 - val_loss: 0.3283\n",
      "Epoch 95/100\n",
      "363/363 [==============================] - 1s 2ms/step - loss: 0.3296 - val_loss: 0.3324\n",
      "Epoch 96/100\n",
      "363/363 [==============================] - 1s 2ms/step - loss: 0.3300 - val_loss: 0.3148\n",
      "Epoch 97/100\n",
      "363/363 [==============================] - 1s 2ms/step - loss: 0.3292 - val_loss: 0.3163\n",
      "Epoch 98/100\n",
      "363/363 [==============================] - 1s 2ms/step - loss: 0.3292 - val_loss: 0.3187\n",
      "Epoch 99/100\n",
      "363/363 [==============================] - 1s 2ms/step - loss: 0.3275 - val_loss: 0.3378\n",
      "Epoch 100/100\n",
      "363/363 [==============================] - 1s 2ms/step - loss: 0.3267 - val_loss: 0.4102\n"
     ]
    },
    {
     "data": {
      "text/plain": [
       "KerasRegressor(\n",
       "\tmodel=<function build_model at 0x000002382A9900D0>\n",
       "\tbuild_fn=None\n",
       "\twarm_start=False\n",
       "\trandom_state=None\n",
       "\toptimizer=rmsprop\n",
       "\tloss=None\n",
       "\tmetrics=None\n",
       "\tbatch_size=None\n",
       "\tvalidation_batch_size=None\n",
       "\tverbose=1\n",
       "\tcallbacks=None\n",
       "\tvalidation_split=0.0\n",
       "\tshuffle=True\n",
       "\trun_eagerly=False\n",
       "\tepochs=1\n",
       ")"
      ]
     },
     "execution_count": 76,
     "metadata": {},
     "output_type": "execute_result"
    }
   ],
   "source": [
    "from scikeras.wrappers import KerasRegressor\n",
    "# 包装成一个scikit的回归器对象\n",
    "keras_reg = KerasRegressor(build_model)\n",
    "# 然后就可以像真正的回归器一样了，使用fit、score和predict方法\n",
    "# 只不过这些方法会将参数传递给神经网络对象，score方法得到的就是scikit的分数，不是神经网络的loss\n",
    "keras_reg.fit(X_train, y_train, epochs=100,\n",
    "              validation_data=(X_valid, y_valid),\n",
    "              callbacks=[keras.callbacks.EarlyStopping(patience=10)])"
   ]
  },
  {
   "cell_type": "code",
   "execution_count": 77,
   "id": "501fd242-d936-4407-a2b3-5ad404945856",
   "metadata": {},
   "outputs": [
    {
     "name": "stdout",
     "output_type": "stream",
     "text": [
      "162/162 [==============================] - 0s 1ms/step\n",
      "1/1 [==============================] - 0s 12ms/step\n"
     ]
    }
   ],
   "source": [
    "mse_test = keras_reg.score(X_test, y_test)\n",
    "y_pred = keras_reg.predict(X_new)"
   ]
  },
  {
   "cell_type": "raw",
   "id": "85faac15-7bea-4da7-9815-db2110ea37c1",
   "metadata": {},
   "source": [
    "# 试哈随机搜索\n",
    "from scipy.stats import reciprocal\n",
    "from sklearn.model_selection import RandomizedSearchCV\n",
    "\n",
    "param_distribs = {\n",
    "    \"n_hidden\": [0, 1, 2, 3],\n",
    "    \"n_neurons\": np.arange(1, 100)\n",
    "    \"learning_rate\": reciprocal(3e-4, 3e-2)\n",
    "}\n",
    "\n",
    "rnd_search_cv = RandomizedSearchCV(keras_reg, param_distribs, n_iter=10, cv=3, verbose=2)\n",
    "rnd_search_cv.fit(X_train, y_train, epochs=100,\n",
    "                  validation_data=(X_valid, y_valid),\n",
    "                  callbacks=[keras.callbacks.EarlyStopping(patience=10)])"
   ]
  }
 ],
 "metadata": {
  "kernelspec": {
   "display_name": "tensorflow_venv",
   "language": "python",
   "name": "tenserflow_venv"
  },
  "language_info": {
   "codemirror_mode": {
    "name": "ipython",
    "version": 3
   },
   "file_extension": ".py",
   "mimetype": "text/x-python",
   "name": "python",
   "nbconvert_exporter": "python",
   "pygments_lexer": "ipython3",
   "version": "3.9.11"
  }
 },
 "nbformat": 4,
 "nbformat_minor": 5
}
