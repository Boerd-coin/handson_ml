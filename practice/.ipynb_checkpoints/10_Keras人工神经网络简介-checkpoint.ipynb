{
 "cells": [
  {
   "cell_type": "code",
   "execution_count": 1,
   "id": "ee2ef19d-f763-4971-a39e-7f47f7b927d8",
   "metadata": {
    "jupyter": {
     "source_hidden": true
    },
    "tags": []
   },
   "outputs": [],
   "source": [
    "# Python ≥3.5 is required\n",
    "import sys\n",
    "assert sys.version_info >= (3, 5)\n",
    "\n",
    "# Scikit-Learn ≥0.20 is required\n",
    "import sklearn\n",
    "assert sklearn.__version__ >= \"0.20\"\n",
    "\n",
    "try:\n",
    "    # %tensorflow_version only exists in Colab.\n",
    "    %tensorflow_version 2.x\n",
    "except Exception:\n",
    "    pass\n",
    "\n",
    "# TensorFlow ≥2.0 is required\n",
    "#import tensorflow as tf\n",
    "#assert tf.__version__ >= \"2.0\"\n",
    "\n",
    "# Common imports\n",
    "import numpy as np\n",
    "import os\n",
    "\n",
    "# to make this notebook's output stable across runs\n",
    "np.random.seed(42)\n",
    "\n",
    "# To plot pretty figures\n",
    "%matplotlib inline\n",
    "import matplotlib as mpl\n",
    "import matplotlib.pyplot as plt\n",
    "mpl.rc('axes', labelsize=14)\n",
    "mpl.rc('xtick', labelsize=12)\n",
    "mpl.rc('ytick', labelsize=12)\n",
    "mpl.rc('font', family = 'simhei')\n",
    "mpl.rc('font', size = 16)\n",
    "mpl.rc('axes', unicode_minus = False)\n",
    "\n",
    "# Where to save the figures\n",
    "PROJECT_ROOT_DIR = \".\"\n",
    "CHAPTER_ID = \"ann\"\n",
    "IMAGES_PATH = os.path.join(PROJECT_ROOT_DIR, \"images\", CHAPTER_ID)\n",
    "os.makedirs(IMAGES_PATH, exist_ok=True)\n",
    "\n",
    "def save_fig(fig_id, tight_layout=True, fig_extension=\"png\", resolution=300):\n",
    "    path = os.path.join(IMAGES_PATH, fig_id + \".\" + fig_extension)\n",
    "    print(\"Saving figure\", fig_id)\n",
    "    if tight_layout:\n",
    "        plt.tight_layout()\n",
    "    plt.savefig(path, format=fig_extension, dpi=resolution)"
   ]
  },
  {
   "cell_type": "markdown",
   "id": "b9fb5a7b-5bad-4a76-81fe-a88eadd50edb",
   "metadata": {},
   "source": [
    "# 感知器"
   ]
  },
  {
   "cell_type": "code",
   "execution_count": 2,
   "id": "aecd11a0-e2a3-42b6-ac1d-c55dc4a515ef",
   "metadata": {},
   "outputs": [
    {
     "data": {
      "text/plain": [
       "array([1], dtype=int64)"
      ]
     },
     "execution_count": 2,
     "metadata": {},
     "output_type": "execute_result"
    }
   ],
   "source": [
    "# 使用单一感知器分类鸢尾植物类别\n",
    "import numpy as np\n",
    "from sklearn.datasets import load_iris\n",
    "from sklearn.linear_model import Perceptron\n",
    "\n",
    "iris = load_iris()\n",
    "X = iris.data[:, (2, 3)]  # 特征：根茎长度、宽度\n",
    "y = (iris.target == 0).astype(np.int64)\n",
    "\n",
    "per_clf = Perceptron(max_iter=1000, tol=1e-3, random_state=42)\n",
    "per_clf.fit(X, y)\n",
    "\n",
    "y_pred = per_clf.predict([[2, 0.5]])\n",
    "y_pred"
   ]
  },
  {
   "cell_type": "markdown",
   "id": "1422774d-54e6-4508-b32d-6f1ac370c471",
   "metadata": {},
   "source": [
    "展示一下感知器分类的决策平面"
   ]
  },
  {
   "cell_type": "code",
   "execution_count": 3,
   "id": "7794c9cd-fccb-430b-8362-e1d3e1859188",
   "metadata": {},
   "outputs": [
    {
     "name": "stdout",
     "output_type": "stream",
     "text": [
      "Saving figure 单一感知器分类鸢尾植物\n"
     ]
    },
    {
     "data": {
      "image/png": "[encoded data removed]",
      "text/plain": [
       "<Figure size 720x288 with 1 Axes>"
      ]
     },
     "metadata": {
      "needs_background": "light"
     },
     "output_type": "display_data"
    }
   ],
   "source": [
    "a = -per_clf.coef_[0][0] / per_clf.coef_[0][1]\n",
    "b = -per_clf.intercept_ / per_clf.coef_[0][1]\n",
    "\n",
    "axes = [0, 5, 0, 2]\n",
    "\n",
    "x0, x1 = np.meshgrid(\n",
    "        np.linspace(axes[0], axes[1], 500).reshape(-1, 1),\n",
    "        np.linspace(axes[2], axes[3], 200).reshape(-1, 1),\n",
    "    )\n",
    "X_new = np.c_[x0.ravel(), x1.ravel()]\n",
    "y_predict = per_clf.predict(X_new)\n",
    "zz = y_predict.reshape(x0.shape)\n",
    "\n",
    "plt.figure(figsize=(10, 4))\n",
    "plt.plot(X[y==0, 0], X[y==0, 1], \"bs\", label=\"不是鸢尾草\")\n",
    "plt.plot(X[y==1, 0], X[y==1, 1], \"yo\", label=\"鸢尾草\")\n",
    "\n",
    "plt.plot([axes[0], axes[1]], [a * axes[0] + b, a * axes[1] + b], \"k-\", linewidth=3)\n",
    "from matplotlib.colors import ListedColormap\n",
    "custom_cmap = ListedColormap(['#9898ff', '#fafab0'])\n",
    "\n",
    "plt.contourf(x0, x1, zz, cmap=custom_cmap)\n",
    "plt.xlabel(\"根茎长度\", fontsize=14)\n",
    "plt.ylabel(\"根茎宽度\", fontsize=14)\n",
    "plt.legend(loc=\"lower right\", fontsize=14)\n",
    "plt.axis(axes)\n",
    "\n",
    "save_fig(\"单一感知器分类鸢尾植物\")\n",
    "plt.show()"
   ]
  },
  {
   "cell_type": "markdown",
   "id": "1c7402a1-e05a-4b26-ba1d-7eaae3c54878",
   "metadata": {},
   "source": [
    "简单感知器的学习算法非常类似于随机梯度下降，其实当SGDClassifier对象的损失函数是'perceptron'的时候，等同于单一感知器"
   ]
  },
  {
   "cell_type": "code",
   "execution_count": 4,
   "id": "68168ad8-259d-4f7f-9490-c485cef3c65d",
   "metadata": {},
   "outputs": [
    {
     "data": {
      "text/plain": [
       "array([1], dtype=int64)"
      ]
     },
     "execution_count": 4,
     "metadata": {},
     "output_type": "execute_result"
    }
   ],
   "source": [
    "from sklearn.linear_model import SGDClassifier\n",
    "\n",
    "per_clf = SGDClassifier(loss = 'perceptron', max_iter=1000, tol=1e-3, random_state=42, penalty = None, \n",
    "                        learning_rate = 'constant', eta0 = 1) # 设置学习率保持不变一直为1\n",
    "per_clf.fit(X, y)\n",
    "\n",
    "y_pred = per_clf.predict([[2, 0.5]])\n",
    "y_pred"
   ]
  },
  {
   "cell_type": "markdown",
   "id": "72de70d7-2191-4562-b216-5d4609b2b371",
   "metadata": {},
   "source": [
    "# 激活函数"
   ]
  },
  {
   "cell_type": "code",
   "execution_count": 5,
   "id": "c7fe0ba4-c884-414a-9916-67909e427761",
   "metadata": {},
   "outputs": [],
   "source": [
    "# 这是几种流行的激活函数\n",
    "def sigmoid(z):\n",
    "    return 1 / (1 + np.exp(-z))\n",
    "\n",
    "def relu(z):\n",
    "    return np.maximum(0, z)\n",
    "\n",
    "def derivative(f, z, eps=0.000001):\n",
    "    return (f(z + eps) - f(z - eps))/(2 * eps)"
   ]
  },
  {
   "cell_type": "code",
   "execution_count": 6,
   "id": "38b40000-c817-40f8-b21e-af92d7ec3535",
   "metadata": {
    "tags": []
   },
   "outputs": [
    {
     "name": "stdout",
     "output_type": "stream",
     "text": [
      "Saving figure 几种流行的激活函数\n"
     ]
    },
    {
     "data": {
      "image/png": "[encoded data removed]",
      "text/plain": [
       "<Figure size 792x288 with 2 Axes>"
      ]
     },
     "metadata": {
      "needs_background": "light"
     },
     "output_type": "display_data"
    }
   ],
   "source": [
    "z = np.linspace(-5, 5, 200)\n",
    "\n",
    "plt.figure(figsize=(11,4))\n",
    "\n",
    "plt.subplot(121)\n",
    "plt.plot(z, np.sign(z), \"r-\", linewidth=1, label=\"Step\")\n",
    "plt.plot(z, sigmoid(z), \"g--\", linewidth=2, label=\"Sigmoid\")\n",
    "plt.plot(z, np.tanh(z), \"b-\", linewidth=2, label=\"Tanh\")\n",
    "plt.plot(z, relu(z), \"m-.\", linewidth=2, label=\"ReLU\")\n",
    "plt.grid(True)\n",
    "plt.legend(loc=\"center right\", fontsize=14)\n",
    "plt.title(\"Activation functions\", fontsize=14)\n",
    "plt.axis([-5, 5, -1.2, 1.2])\n",
    "\n",
    "plt.subplot(122)\n",
    "plt.plot(z, derivative(np.sign, z), \"r-\", linewidth=1, label=\"Step\")\n",
    "plt.plot(0, 0, \"ro\", markersize=5)\n",
    "plt.plot(0, 0, \"rx\", markersize=10)\n",
    "plt.plot(z, derivative(sigmoid, z), \"g--\", linewidth=2, label=\"Sigmoid\")\n",
    "plt.plot(z, derivative(np.tanh, z), \"b-\", linewidth=2, label=\"Tanh\")\n",
    "plt.plot(z, derivative(relu, z), \"m-.\", linewidth=2, label=\"ReLU\")\n",
    "plt.grid(True)\n",
    "#plt.legend(loc=\"center right\", fontsize=14)\n",
    "plt.title(\"Derivatives\", fontsize=14)\n",
    "plt.axis([-5, 5, -0.2, 1.2])\n",
    "\n",
    "save_fig(\"几种流行的激活函数\")\n",
    "plt.show()"
   ]
  },
  {
   "cell_type": "markdown",
   "id": "c1c2c5ce-3544-4062-8e2e-b7c8b05c3611",
   "metadata": {},
   "source": [
    "# keras搭建一个图片分类器"
   ]
  },
  {
   "cell_type": "code",
   "execution_count": 7,
   "id": "ecb332a6-e5ff-4838-be7e-9cc59bf7f7c8",
   "metadata": {},
   "outputs": [],
   "source": [
    "import tensorflow as tf\n",
    "from tensorflow import keras"
   ]
  },
  {
   "cell_type": "code",
   "execution_count": 8,
   "id": "c2a8503d-25d1-44dd-9147-6e4549b1ade0",
   "metadata": {},
   "outputs": [],
   "source": [
    "import numpy as np"
   ]
  },
  {
   "cell_type": "code",
   "execution_count": 9,
   "id": "a4f90f33-5765-4a5c-90da-6105a86fe22d",
   "metadata": {},
   "outputs": [],
   "source": [
    "# 获取图片像素数据\n",
    "fashion_mnist = keras.datasets.fashion_mnist\n",
    "(X_train_full, y_train_full), (X_test, y_test) = fashion_mnist.load_data()"
   ]
  },
  {
   "cell_type": "code",
   "execution_count": 10,
   "id": "76b545b0-de1e-49dc-b131-fb78ea2ba203",
   "metadata": {},
   "outputs": [
    {
     "data": {
      "text/plain": [
       "(60000, 28, 28)"
      ]
     },
     "execution_count": 10,
     "metadata": {},
     "output_type": "execute_result"
    }
   ],
   "source": [
    "X_train_full.shape"
   ]
  },
  {
   "cell_type": "code",
   "execution_count": 11,
   "id": "1c1eaee7-5523-4811-8ede-7d32c065f8fb",
   "metadata": {},
   "outputs": [
    {
     "data": {
      "text/plain": [
       "dtype('uint8')"
      ]
     },
     "execution_count": 11,
     "metadata": {},
     "output_type": "execute_result"
    }
   ],
   "source": [
    "# 像素值的范围时0-255\n",
    "X_train_full.dtype"
   ]
  },
  {
   "cell_type": "code",
   "execution_count": 12,
   "id": "844766f5-92b9-48f2-b2d9-23e6b03a76de",
   "metadata": {},
   "outputs": [],
   "source": [
    "# 因为使用梯度下降来最小化误差，所以需最好先对输入数据进行归一化缩放\n",
    "# 再分出一点数据作为验证集\n",
    "X_valid, X_train = X_train_full[:5000] / 255., X_train_full[5000:] / 255.\n",
    "y_valid, y_train = y_train_full[:5000], y_train_full[5000:]\n",
    "X_test = X_test / 255."
   ]
  },
  {
   "cell_type": "code",
   "execution_count": 13,
   "id": "8217e05d-2e00-4302-9c54-8ebd02f5cafd",
   "metadata": {},
   "outputs": [
    {
     "data": {
      "image/png": "[encoded data removed]",
      "text/plain": [
       "<Figure size 432x288 with 1 Axes>"
      ]
     },
     "metadata": {
      "needs_background": "light"
     },
     "output_type": "display_data"
    }
   ],
   "source": [
    "plt.imshow(X_train[0], cmap=\"binary\")\n",
    "plt.axis('off')\n",
    "plt.show()"
   ]
  },
  {
   "cell_type": "code",
   "execution_count": 14,
   "id": "c319ce37-4289-4503-8baa-64a5efe7a129",
   "metadata": {},
   "outputs": [
    {
     "data": {
      "text/plain": [
       "array([0, 1, 2, 3, 4, 5, 6, 7, 8, 9], dtype=uint8)"
      ]
     },
     "execution_count": 14,
     "metadata": {},
     "output_type": "execute_result"
    }
   ],
   "source": [
    "# 图片共计有10个类别，使用单一数据进行指代\n",
    "np.unique(y_train)"
   ]
  },
  {
   "cell_type": "code",
   "execution_count": 15,
   "id": "8b3569d4-abf5-4b2a-b185-e47868241b7e",
   "metadata": {},
   "outputs": [
    {
     "data": {
      "text/plain": [
       "'Coat'"
      ]
     },
     "execution_count": 15,
     "metadata": {},
     "output_type": "execute_result"
    }
   ],
   "source": [
    "# 这是各个类别的实际含义，如第一个图片是Coat\n",
    "class_names = [\"T-shirt/top\", \"Trouser\", \"Pullover\", \"Dress\", \"Coat\",\n",
    "               \"Sandal\", \"Shirt\", \"Sneaker\", \"Bag\", \"Ankle boot\"]\n",
    "class_names[y_train[0]]"
   ]
  },
  {
   "cell_type": "code",
   "execution_count": 16,
   "id": "49b34001-bcd6-4d31-ae95-4250406c6276",
   "metadata": {},
   "outputs": [
    {
     "name": "stdout",
     "output_type": "stream",
     "text": [
      "Saving figure fashion_mnist_plot\n"
     ]
    },
    {
     "data": {
      "image/png": "[encoded data removed]",
      "text/plain": [
       "<Figure size 864x345.6 with 40 Axes>"
      ]
     },
     "metadata": {
      "needs_background": "light"
     },
     "output_type": "display_data"
    }
   ],
   "source": [
    "n_rows = 4\n",
    "n_cols = 10\n",
    "plt.figure(figsize=(n_cols * 1.2, n_rows * 1.2))\n",
    "for row in range(n_rows):\n",
    "    for col in range(n_cols):\n",
    "        index = n_cols * row + col\n",
    "        plt.subplot(n_rows, n_cols, index + 1)\n",
    "        plt.imshow(X_train[index], cmap=\"binary\", interpolation=\"nearest\")\n",
    "        plt.axis('off')\n",
    "        plt.title(class_names[y_train[index]], fontsize=12)\n",
    "plt.subplots_adjust(wspace=0.2, hspace=0.5)\n",
    "save_fig('fashion_mnist_plot', tight_layout=False)\n",
    "plt.show()"
   ]
  },
  {
   "cell_type": "markdown",
   "id": "92947587-4f95-45bd-8bfc-471fb91bf016",
   "metadata": {},
   "source": [
    "## 1. 初始化"
   ]
  },
  {
   "cell_type": "markdown",
   "id": "1886bc97-b34c-42b2-b423-13961c7f6f2b",
   "metadata": {},
   "source": [
    "创建一个最简单的顺序神经网络  \n",
    "这是两种初始化创建的方法"
   ]
  },
  {
   "cell_type": "code",
   "execution_count": 17,
   "id": "13a3ba34-d49f-45ee-ba23-22f4991b37f7",
   "metadata": {},
   "outputs": [],
   "source": [
    "model = keras.models.Sequential([\n",
    "    keras.layers.Flatten(input_shape=[28, 28]),\n",
    "    keras.layers.Dense(300, activation=\"relu\"),\n",
    "    keras.layers.Dense(100, activation=\"relu\"),\n",
    "    keras.layers.Dense(10, activation=\"softmax\")\n",
    "])"
   ]
  },
  {
   "cell_type": "code",
   "execution_count": 18,
   "id": "a6ff14a8-f083-4768-9565-eb14eae7ed1d",
   "metadata": {},
   "outputs": [],
   "source": [
    "from functools import partial\n",
    "\n",
    "model = keras.models.Sequential()\n",
    "# input_shape参数是keras.layers的build()方法的参数\n",
    "# 当创建一个一个layer时，自动调用build()方法，所以可以使用input_shape参数\n",
    "model.add(keras.layers.Flatten(input_shape = [28, 28], name = 'input0'))\n",
    "model.add(keras.layers.Dense(300, activation = partial(keras.activations.relu, alpha = 0.2), name = 'hidden0'))\n",
    "model.add(keras.layers.Dense(100, activation = partial(keras.activations.relu, alpha = 0.1), name = 'hidden1'))\n",
    "model.add(keras.layers.Dense(10, activation = keras.activations.softmax, name = 'output0'))"
   ]
  },
  {
   "cell_type": "code",
   "execution_count": 19,
   "id": "8e0e1a8e-53fa-4a20-8f28-53604ac9316a",
   "metadata": {},
   "outputs": [],
   "source": [
    "# 重新设置随机状态\n",
    "keras.backend.clear_session()\n",
    "np.random.seed(42)\n",
    "tf.random.set_seed(42)"
   ]
  },
  {
   "cell_type": "code",
   "execution_count": 20,
   "id": "db639a34-910b-4b3d-bab7-c7b1a901186b",
   "metadata": {},
   "outputs": [
    {
     "data": {
      "text/plain": [
       "[<keras.layers.core.flatten.Flatten at 0x18671d0df10>,\n",
       " <keras.layers.core.dense.Dense at 0x18671d0dd90>,\n",
       " <keras.layers.core.dense.Dense at 0x18671a5d160>,\n",
       " <keras.layers.core.dense.Dense at 0x18671ad3ee0>]"
      ]
     },
     "execution_count": 20,
     "metadata": {},
     "output_type": "execute_result"
    }
   ],
   "source": [
    "# 查看模型的layers列表\n",
    "model.layers"
   ]
  },
  {
   "cell_type": "code",
   "execution_count": 21,
   "id": "c541c4fd-5f8d-43bd-8214-4b669397bc46",
   "metadata": {},
   "outputs": [
    {
     "name": "stdout",
     "output_type": "stream",
     "text": [
      "Model: \"sequential_1\"\n",
      "_________________________________________________________________\n",
      " Layer (type)                Output Shape              Param #   \n",
      "=================================================================\n",
      " input0 (Flatten)            (None, 784)               0         \n",
      "                                                                 \n",
      " hidden0 (Dense)             (None, 300)               235500    \n",
      "                                                                 \n",
      " hidden1 (Dense)             (None, 100)               30100     \n",
      "                                                                 \n",
      " output0 (Dense)             (None, 10)                1010      \n",
      "                                                                 \n",
      "=================================================================\n",
      "Total params: 266,610\n",
      "Trainable params: 266,610\n",
      "Non-trainable params: 0\n",
      "_________________________________________________________________\n"
     ]
    }
   ],
   "source": [
    "# 还可以看看更详细的列表\n",
    "model.summary()"
   ]
  },
  {
   "cell_type": "code",
   "execution_count": 22,
   "id": "4a80190f-8845-477b-a5ba-a74e896055e2",
   "metadata": {},
   "outputs": [
    {
     "data": {
      "image/png": "[encoded data removed]",
      "text/plain": [
       "<IPython.core.display.Image object>"
      ]
     },
     "execution_count": 22,
     "metadata": {},
     "output_type": "execute_result"
    }
   ],
   "source": [
    "# 也可以看到整个网络的流程图\n",
    "keras.utils.plot_model(model, \"my_fashion_mnist_model.png\", show_shapes=True)"
   ]
  },
  {
   "cell_type": "code",
   "execution_count": 23,
   "id": "4af6a545-4484-4fd9-92b1-7e0478ea4808",
   "metadata": {},
   "outputs": [
    {
     "data": {
      "text/plain": [
       "'hidden0'"
      ]
     },
     "execution_count": 23,
     "metadata": {},
     "output_type": "execute_result"
    }
   ],
   "source": [
    "# 可以通过新的变量单独指定某一个layer\n",
    "hidden0 = model.layers[1]\n",
    "hidden0.name"
   ]
  },
  {
   "cell_type": "code",
   "execution_count": 24,
   "id": "e90afa49-70d9-4038-8290-0432f12f6f3c",
   "metadata": {},
   "outputs": [
    {
     "data": {
      "text/plain": [
       "True"
      ]
     },
     "execution_count": 24,
     "metadata": {},
     "output_type": "execute_result"
    }
   ],
   "source": [
    "model.get_layer(hidden0.name) is hidden0"
   ]
  },
  {
   "cell_type": "code",
   "execution_count": 25,
   "id": "16f15508-bc77-4148-bd2d-0e4475d83392",
   "metadata": {},
   "outputs": [
    {
     "name": "stdout",
     "output_type": "stream",
     "text": [
      "(784, 300)\n"
     ]
    },
    {
     "data": {
      "text/plain": [
       "array([[ 0.00864818,  0.00866   ,  0.06277764, ..., -0.06367455,\n",
       "         0.06115508,  0.05742359],\n",
       "       [ 0.0360974 ,  0.0555031 , -0.00253352, ..., -0.02812578,\n",
       "         0.07046451, -0.0641923 ],\n",
       "       [-0.03559544,  0.04436044, -0.0433822 , ..., -0.06232546,\n",
       "        -0.05124569,  0.04945254],\n",
       "       ...,\n",
       "       [ 0.00598887,  0.01706156, -0.03820892, ...,  0.00654906,\n",
       "        -0.06141194,  0.06620304],\n",
       "       [-0.02407452, -0.06759316, -0.03484555, ...,  0.02098012,\n",
       "         0.05039647,  0.02890825],\n",
       "       [-0.04691515,  0.07101114, -0.01180091, ..., -0.0353616 ,\n",
       "        -0.02863952, -0.03047926]], dtype=float32)"
      ]
     },
     "execution_count": 25,
     "metadata": {},
     "output_type": "execute_result"
    }
   ],
   "source": [
    "# 可以分别获取某一layer的各神经元和偏置项的连接权重，注意此时的权重是随机生成的\n",
    "# 因为还没进行训练呢\n",
    "weights, biases = hidden0.get_weights()\n",
    "# 这是各神经元的连接权重\n",
    "print(weights.shape)\n",
    "weights"
   ]
  },
  {
   "cell_type": "code",
   "execution_count": 26,
   "id": "d64c19fb-a744-4dd7-b2d0-a6fc59a82590",
   "metadata": {},
   "outputs": [
    {
     "name": "stdout",
     "output_type": "stream",
     "text": [
      "(300,)\n"
     ]
    },
    {
     "data": {
      "text/plain": [
       "array([0., 0., 0., 0., 0., 0., 0., 0., 0., 0., 0., 0., 0., 0., 0., 0., 0.,\n",
       "       0., 0., 0., 0., 0., 0., 0., 0., 0., 0., 0., 0., 0., 0., 0., 0., 0.,\n",
       "       0., 0., 0., 0., 0., 0., 0., 0., 0., 0., 0., 0., 0., 0., 0., 0., 0.,\n",
       "       0., 0., 0., 0., 0., 0., 0., 0., 0., 0., 0., 0., 0., 0., 0., 0., 0.,\n",
       "       0., 0., 0., 0., 0., 0., 0., 0., 0., 0., 0., 0., 0., 0., 0., 0., 0.,\n",
       "       0., 0., 0., 0., 0., 0., 0., 0., 0., 0., 0., 0., 0., 0., 0., 0., 0.,\n",
       "       0., 0., 0., 0., 0., 0., 0., 0., 0., 0., 0., 0., 0., 0., 0., 0., 0.,\n",
       "       0., 0., 0., 0., 0., 0., 0., 0., 0., 0., 0., 0., 0., 0., 0., 0., 0.,\n",
       "       0., 0., 0., 0., 0., 0., 0., 0., 0., 0., 0., 0., 0., 0., 0., 0., 0.,\n",
       "       0., 0., 0., 0., 0., 0., 0., 0., 0., 0., 0., 0., 0., 0., 0., 0., 0.,\n",
       "       0., 0., 0., 0., 0., 0., 0., 0., 0., 0., 0., 0., 0., 0., 0., 0., 0.,\n",
       "       0., 0., 0., 0., 0., 0., 0., 0., 0., 0., 0., 0., 0., 0., 0., 0., 0.,\n",
       "       0., 0., 0., 0., 0., 0., 0., 0., 0., 0., 0., 0., 0., 0., 0., 0., 0.,\n",
       "       0., 0., 0., 0., 0., 0., 0., 0., 0., 0., 0., 0., 0., 0., 0., 0., 0.,\n",
       "       0., 0., 0., 0., 0., 0., 0., 0., 0., 0., 0., 0., 0., 0., 0., 0., 0.,\n",
       "       0., 0., 0., 0., 0., 0., 0., 0., 0., 0., 0., 0., 0., 0., 0., 0., 0.,\n",
       "       0., 0., 0., 0., 0., 0., 0., 0., 0., 0., 0., 0., 0., 0., 0., 0., 0.,\n",
       "       0., 0., 0., 0., 0., 0., 0., 0., 0., 0., 0.], dtype=float32)"
      ]
     },
     "execution_count": 26,
     "metadata": {},
     "output_type": "execute_result"
    }
   ],
   "source": [
    "# 这是偏置项的连接权重，初始化状态可以是0\n",
    "print(biases.shape)\n",
    "biases"
   ]
  },
  {
   "cell_type": "markdown",
   "id": "f09d7a08-5547-497e-b2a6-e69f8cf69e34",
   "metadata": {},
   "source": [
    "## 2. 编译模型"
   ]
  },
  {
   "cell_type": "code",
   "execution_count": 27,
   "id": "933e143a-6d91-4232-936b-a6d9b79e80d3",
   "metadata": {},
   "outputs": [],
   "source": [
    "# 在这个环节，可以指定loss函数、优化器、和metrics\n",
    "model.compile(loss = keras.losses.sparse_categorical_crossentropy,\n",
    "              optimizer = keras.optimizers.SGD(),\n",
    "              metrics = [[keras.metrics.sparse_categorical_accuracy]])"
   ]
  },
  {
   "cell_type": "markdown",
   "id": "741e7326-98d8-4934-98be-79a0d5b12824",
   "metadata": {},
   "source": [
    "## 3. 训练模型"
   ]
  },
  {
   "cell_type": "code",
   "execution_count": 28,
   "id": "1b2ab696-7cc8-44f4-b42b-76a2e94a4931",
   "metadata": {
    "tags": []
   },
   "outputs": [
    {
     "name": "stdout",
     "output_type": "stream",
     "text": [
      "Epoch 1/30\n",
      "1719/1719 [==============================] - 3s 1ms/step - loss: 0.7081 - sparse_categorical_accuracy: 0.7645 - val_loss: 0.5174 - val_sparse_categorical_accuracy: 0.8236\n",
      "Epoch 2/30\n",
      "1719/1719 [==============================] - 3s 2ms/step - loss: 0.4878 - sparse_categorical_accuracy: 0.8283 - val_loss: 0.4414 - val_sparse_categorical_accuracy: 0.8464\n",
      "Epoch 3/30\n",
      "1719/1719 [==============================] - 3s 2ms/step - loss: 0.4454 - sparse_categorical_accuracy: 0.8422 - val_loss: 0.5508 - val_sparse_categorical_accuracy: 0.7924\n",
      "Epoch 4/30\n",
      "1719/1719 [==============================] - 3s 2ms/step - loss: 0.4192 - sparse_categorical_accuracy: 0.8540 - val_loss: 0.4003 - val_sparse_categorical_accuracy: 0.8646\n",
      "Epoch 5/30\n",
      "1719/1719 [==============================] - 3s 2ms/step - loss: 0.4017 - sparse_categorical_accuracy: 0.8601 - val_loss: 0.3838 - val_sparse_categorical_accuracy: 0.8670\n",
      "Epoch 6/30\n",
      "1719/1719 [==============================] - 3s 2ms/step - loss: 0.3835 - sparse_categorical_accuracy: 0.8651 - val_loss: 0.3817 - val_sparse_categorical_accuracy: 0.8676\n",
      "Epoch 7/30\n",
      "1719/1719 [==============================] - 3s 2ms/step - loss: 0.3717 - sparse_categorical_accuracy: 0.8688 - val_loss: 0.3709 - val_sparse_categorical_accuracy: 0.8728\n",
      "Epoch 8/30\n",
      "1719/1719 [==============================] - 3s 2ms/step - loss: 0.3607 - sparse_categorical_accuracy: 0.8715 - val_loss: 0.3942 - val_sparse_categorical_accuracy: 0.8588\n",
      "Epoch 9/30\n",
      "1719/1719 [==============================] - 3s 2ms/step - loss: 0.3508 - sparse_categorical_accuracy: 0.8769 - val_loss: 0.3611 - val_sparse_categorical_accuracy: 0.8710\n",
      "Epoch 10/30\n",
      "1719/1719 [==============================] - 3s 2ms/step - loss: 0.3422 - sparse_categorical_accuracy: 0.8789 - val_loss: 0.3608 - val_sparse_categorical_accuracy: 0.8708\n",
      "Epoch 11/30\n",
      "1719/1719 [==============================] - 3s 2ms/step - loss: 0.3348 - sparse_categorical_accuracy: 0.8804 - val_loss: 0.3546 - val_sparse_categorical_accuracy: 0.8778\n",
      "Epoch 12/30\n",
      "1719/1719 [==============================] - 3s 2ms/step - loss: 0.3266 - sparse_categorical_accuracy: 0.8825 - val_loss: 0.3407 - val_sparse_categorical_accuracy: 0.8816\n",
      "Epoch 13/30\n",
      "1719/1719 [==============================] - 3s 2ms/step - loss: 0.3202 - sparse_categorical_accuracy: 0.8851 - val_loss: 0.3388 - val_sparse_categorical_accuracy: 0.8814\n",
      "Epoch 14/30\n",
      "1719/1719 [==============================] - 3s 2ms/step - loss: 0.3148 - sparse_categorical_accuracy: 0.8873 - val_loss: 0.3592 - val_sparse_categorical_accuracy: 0.8698\n",
      "Epoch 15/30\n",
      "1719/1719 [==============================] - 3s 2ms/step - loss: 0.3076 - sparse_categorical_accuracy: 0.8898 - val_loss: 0.3368 - val_sparse_categorical_accuracy: 0.8800\n",
      "Epoch 16/30\n",
      "1719/1719 [==============================] - 3s 2ms/step - loss: 0.3030 - sparse_categorical_accuracy: 0.8923 - val_loss: 0.3259 - val_sparse_categorical_accuracy: 0.8830\n",
      "Epoch 17/30\n",
      "1719/1719 [==============================] - 3s 2ms/step - loss: 0.2980 - sparse_categorical_accuracy: 0.8922 - val_loss: 0.3600 - val_sparse_categorical_accuracy: 0.8700\n",
      "Epoch 18/30\n",
      "1719/1719 [==============================] - 3s 2ms/step - loss: 0.2924 - sparse_categorical_accuracy: 0.8949 - val_loss: 0.3277 - val_sparse_categorical_accuracy: 0.8850\n",
      "Epoch 19/30\n",
      "1719/1719 [==============================] - 3s 2ms/step - loss: 0.2881 - sparse_categorical_accuracy: 0.8967 - val_loss: 0.3227 - val_sparse_categorical_accuracy: 0.8872\n",
      "Epoch 20/30\n",
      "1719/1719 [==============================] - 3s 2ms/step - loss: 0.2831 - sparse_categorical_accuracy: 0.8974 - val_loss: 0.3376 - val_sparse_categorical_accuracy: 0.8772\n",
      "Epoch 21/30\n",
      "1719/1719 [==============================] - 3s 2ms/step - loss: 0.2787 - sparse_categorical_accuracy: 0.9004 - val_loss: 0.3136 - val_sparse_categorical_accuracy: 0.8866\n",
      "Epoch 22/30\n",
      "1719/1719 [==============================] - 3s 2ms/step - loss: 0.2742 - sparse_categorical_accuracy: 0.9008 - val_loss: 0.3084 - val_sparse_categorical_accuracy: 0.8892\n",
      "Epoch 23/30\n",
      "1719/1719 [==============================] - 3s 2ms/step - loss: 0.2708 - sparse_categorical_accuracy: 0.9020 - val_loss: 0.3091 - val_sparse_categorical_accuracy: 0.8878\n",
      "Epoch 24/30\n",
      "1719/1719 [==============================] - 3s 2ms/step - loss: 0.2666 - sparse_categorical_accuracy: 0.9028 - val_loss: 0.3158 - val_sparse_categorical_accuracy: 0.8876\n",
      "Epoch 25/30\n",
      "1719/1719 [==============================] - 3s 2ms/step - loss: 0.2627 - sparse_categorical_accuracy: 0.9053 - val_loss: 0.3143 - val_sparse_categorical_accuracy: 0.8894\n",
      "Epoch 26/30\n",
      "1719/1719 [==============================] - 3s 2ms/step - loss: 0.2589 - sparse_categorical_accuracy: 0.9073 - val_loss: 0.3091 - val_sparse_categorical_accuracy: 0.8866\n",
      "Epoch 27/30\n",
      "1719/1719 [==============================] - 3s 2ms/step - loss: 0.2556 - sparse_categorical_accuracy: 0.9080 - val_loss: 0.3123 - val_sparse_categorical_accuracy: 0.8864\n",
      "Epoch 28/30\n",
      "1719/1719 [==============================] - 3s 2ms/step - loss: 0.2529 - sparse_categorical_accuracy: 0.9089 - val_loss: 0.3144 - val_sparse_categorical_accuracy: 0.8864\n",
      "Epoch 29/30\n",
      "1719/1719 [==============================] - 3s 2ms/step - loss: 0.2487 - sparse_categorical_accuracy: 0.9109 - val_loss: 0.3271 - val_sparse_categorical_accuracy: 0.8818\n",
      "Epoch 30/30\n",
      "1719/1719 [==============================] - 3s 2ms/step - loss: 0.2456 - sparse_categorical_accuracy: 0.9118 - val_loss: 0.3279 - val_sparse_categorical_accuracy: 0.8842\n"
     ]
    }
   ],
   "source": [
    "history = model.fit(X_train, y_train, epochs=30, # 进行30个轮次的训练\n",
    "                    validation_data = (X_valid, y_valid))"
   ]
  },
  {
   "cell_type": "code",
   "execution_count": 29,
   "id": "349e3b47-e164-46cb-b789-feb8bce08a2c",
   "metadata": {},
   "outputs": [
    {
     "name": "stdout",
     "output_type": "stream",
     "text": [
      "模型参数: {'verbose': 1, 'epochs': 30, 'steps': 1719}\n",
      "训练轮次编号: [0, 1, 2, 3, 4, 5, 6, 7, 8, 9, 10, 11, 12, 13, 14, 15, 16, 17, 18, 19, 20, 21, 22, 23, 24, 25, 26, 27, 28, 29]\n",
      "训练集、验证集的指标: dict_keys(['loss', 'sparse_categorical_accuracy', 'val_loss', 'val_sparse_categorical_accuracy'])\n"
     ]
    }
   ],
   "source": [
    "# 模型训练完成后返回的是History对象，其属性就是模型训练时的各种细节\n",
    "print('模型参数:', history.params)\n",
    "print('训练轮次编号:', history.epoch)\n",
    "print('训练集、验证集的指标:', history.history.keys())"
   ]
  },
  {
   "cell_type": "code",
   "execution_count": 30,
   "id": "b529425c-67d9-495a-902f-6f3a2c2d41c9",
   "metadata": {},
   "outputs": [
    {
     "name": "stdout",
     "output_type": "stream",
     "text": [
      "Saving figure keras_learning_curves_plot\n"
     ]
    },
    {
     "data": {
      "image/png": "[encoded data removed]",
      "text/plain": [
       "<Figure size 576x360 with 1 Axes>"
      ]
     },
     "metadata": {
      "needs_background": "light"
     },
     "output_type": "display_data"
    }
   ],
   "source": [
    "# 使用history.history中的每个轮次的指标，可以画出学习曲线\n",
    "import pandas as pd\n",
    "\n",
    "pd.DataFrame(history.history).plot(figsize=(8, 5))\n",
    "plt.grid(True)\n",
    "plt.gca().set_ylim(0, 1)\n",
    "save_fig(\"keras_learning_curves_plot\")\n",
    "plt.show()"
   ]
  },
  {
   "cell_type": "markdown",
   "id": "ed172651-73a9-433f-9ecd-06fbfbf7b763",
   "metadata": {},
   "source": [
    "## 3. 使用测试集对模型进行评估"
   ]
  },
  {
   "cell_type": "code",
   "execution_count": 31,
   "id": "1603e655-3057-4dae-82cb-4af40340a9c6",
   "metadata": {},
   "outputs": [
    {
     "name": "stdout",
     "output_type": "stream",
     "text": [
      "313/313 [==============================] - 0s 1ms/step - loss: 0.3565 - sparse_categorical_accuracy: 0.8747\n"
     ]
    },
    {
     "data": {
      "text/plain": [
       "[0.35651543736457825, 0.8747000098228455]"
      ]
     },
     "execution_count": 31,
     "metadata": {},
     "output_type": "execute_result"
    }
   ],
   "source": [
    "model.evaluate(X_test, y_test)"
   ]
  },
  {
   "cell_type": "markdown",
   "id": "8eb0f02a-8b09-4a74-8d2a-0cfd5ed14ef6",
   "metadata": {},
   "source": [
    "## 4. 使用模型进行预测"
   ]
  },
  {
   "cell_type": "code",
   "execution_count": 32,
   "id": "1d04c8b1-4452-4a93-886e-a4b778f7d1f0",
   "metadata": {},
   "outputs": [
    {
     "data": {
      "text/plain": [
       "array([[0.  , 0.  , 0.  , 0.  , 0.  , 0.01, 0.  , 0.04, 0.  , 0.94],\n",
       "       [0.  , 0.  , 0.99, 0.  , 0.01, 0.  , 0.  , 0.  , 0.  , 0.  ],\n",
       "       [0.  , 1.  , 0.  , 0.  , 0.  , 0.  , 0.  , 0.  , 0.  , 0.  ]],\n",
       "      dtype=float32)"
      ]
     },
     "execution_count": 32,
     "metadata": {},
     "output_type": "execute_result"
    }
   ],
   "source": [
    "# 随便从训练集中取三个实例进行测试\n",
    "# 可以看到每个类别的概率\n",
    "X_new = X_test[:3]\n",
    "y_proba = model.predict(X_new)\n",
    "y_proba.round(2)"
   ]
  },
  {
   "cell_type": "code",
   "execution_count": 33,
   "id": "8f5a186b-6937-475c-80b0-093b78c33b2e",
   "metadata": {},
   "outputs": [
    {
     "data": {
      "text/plain": [
       "array([9, 2, 1], dtype=int64)"
      ]
     },
     "execution_count": 33,
     "metadata": {},
     "output_type": "execute_result"
    }
   ],
   "source": [
    "# 如果只想要概率最高的类别，可以这么写\n",
    "y_pred = np.argmax(model.predict(X_new), axis=-1)\n",
    "y_pred"
   ]
  },
  {
   "cell_type": "code",
   "execution_count": 34,
   "id": "330ba9ea-80e8-4fd1-903d-9c5289853ef9",
   "metadata": {},
   "outputs": [
    {
     "data": {
      "text/plain": [
       "array(['Ankle boot', 'Pullover', 'Trouser'], dtype='<U11')"
      ]
     },
     "execution_count": 34,
     "metadata": {},
     "output_type": "execute_result"
    }
   ],
   "source": [
    "np.array(class_names)[y_pred]"
   ]
  },
  {
   "cell_type": "code",
   "execution_count": 35,
   "id": "8a1d2d3a-6e52-4c16-b25c-e22022541813",
   "metadata": {},
   "outputs": [
    {
     "data": {
      "text/plain": [
       "array([9, 2, 1], dtype=uint8)"
      ]
     },
     "execution_count": 35,
     "metadata": {},
     "output_type": "execute_result"
    }
   ],
   "source": [
    "# 这三个分类的结果是正确的，这是实际的分类\n",
    "y_new = y_test[:3]\n",
    "y_new"
   ]
  },
  {
   "cell_type": "markdown",
   "id": "aedbbb39-05b1-477d-b04a-abf7d7d22397",
   "metadata": {},
   "source": [
    "分类结果可视化"
   ]
  },
  {
   "cell_type": "code",
   "execution_count": 36,
   "id": "39e3b1df-d039-41af-b040-244e2bacff28",
   "metadata": {
    "jupyter": {
     "source_hidden": true
    },
    "tags": []
   },
   "outputs": [
    {
     "name": "stdout",
     "output_type": "stream",
     "text": [
      "Saving figure fashion_mnist_images_plot\n"
     ]
    },
    {
     "data": {
      "image/png": "[encoded data removed]",
      "text/plain": [
       "<Figure size 518.4x172.8 with 3 Axes>"
      ]
     },
     "metadata": {
      "needs_background": "light"
     },
     "output_type": "display_data"
    }
   ],
   "source": [
    "plt.figure(figsize=(7.2, 2.4))\n",
    "for index, image in enumerate(X_new):\n",
    "    plt.subplot(1, 3, index + 1)\n",
    "    plt.imshow(image, cmap=\"binary\", interpolation=\"nearest\")\n",
    "    plt.axis('off')\n",
    "    plt.title(class_names[y_test[index]], fontsize=12)\n",
    "plt.subplots_adjust(wspace=0.2, hspace=0.5)\n",
    "save_fig('fashion_mnist_images_plot', tight_layout=False)\n",
    "plt.show()"
   ]
  },
  {
   "cell_type": "markdown",
   "id": "85cbfbca-1fd5-4bac-9e71-3c4cf1ab0285",
   "metadata": {
    "tags": []
   },
   "source": [
    "# 使用顺序API构建一个回归MLP"
   ]
  },
  {
   "cell_type": "markdown",
   "id": "cb6396b3-735d-4255-b816-46fe2666f3e2",
   "metadata": {},
   "source": [
    "还是使用加州住房数据进行测试，但是这次输入的住房数据只包含数字型变量"
   ]
  },
  {
   "cell_type": "code",
   "execution_count": 37,
   "id": "b06a9212-ed00-4b96-9366-c3edeb511319",
   "metadata": {},
   "outputs": [],
   "source": [
    "# 数据前处理\n",
    "from sklearn.datasets import fetch_california_housing\n",
    "from sklearn.model_selection import train_test_split\n",
    "from sklearn.preprocessing import StandardScaler\n",
    "\n",
    "housing = fetch_california_housing()\n",
    "\n",
    "X_train_full, X_test, y_train_full, y_test = train_test_split(housing.data, housing.target, random_state=42)\n",
    "X_train, X_valid, y_train, y_valid = train_test_split(X_train_full, y_train_full, random_state=42)\n",
    "\n",
    "scaler = StandardScaler()\n",
    "X_train = scaler.fit_transform(X_train)\n",
    "X_valid = scaler.transform(X_valid)\n",
    "X_test = scaler.transform(X_test)"
   ]
  },
  {
   "cell_type": "code",
   "execution_count": 38,
   "id": "a355cec5-03d5-43e6-97ff-1ad81bbe940f",
   "metadata": {},
   "outputs": [
    {
     "name": "stdout",
     "output_type": "stream",
     "text": [
      "Epoch 1/20\n",
      "363/363 [==============================] - 1s 2ms/step - loss: 1.6419 - val_loss: 0.8556\n",
      "Epoch 2/20\n",
      "363/363 [==============================] - 1s 2ms/step - loss: 0.7047 - val_loss: 0.6531\n",
      "Epoch 3/20\n",
      "363/363 [==============================] - 1s 2ms/step - loss: 0.6345 - val_loss: 0.6099\n",
      "Epoch 4/20\n",
      "363/363 [==============================] - 1s 2ms/step - loss: 0.5977 - val_loss: 0.5658\n",
      "Epoch 5/20\n",
      "363/363 [==============================] - 1s 2ms/step - loss: 0.5706 - val_loss: 0.5355\n",
      "Epoch 6/20\n",
      "363/363 [==============================] - 1s 2ms/step - loss: 0.5472 - val_loss: 0.5173\n",
      "Epoch 7/20\n",
      "363/363 [==============================] - 1s 2ms/step - loss: 0.5288 - val_loss: 0.5081\n",
      "Epoch 8/20\n",
      "363/363 [==============================] - 1s 2ms/step - loss: 0.5130 - val_loss: 0.4799\n",
      "Epoch 9/20\n",
      "363/363 [==============================] - 1s 2ms/step - loss: 0.4992 - val_loss: 0.4690\n",
      "Epoch 10/20\n",
      "363/363 [==============================] - 1s 2ms/step - loss: 0.4875 - val_loss: 0.4656\n",
      "Epoch 11/20\n",
      "363/363 [==============================] - 1s 2ms/step - loss: 0.4777 - val_loss: 0.4482\n",
      "Epoch 12/20\n",
      "363/363 [==============================] - 1s 2ms/step - loss: 0.4688 - val_loss: 0.4479\n",
      "Epoch 13/20\n",
      "363/363 [==============================] - 1s 2ms/step - loss: 0.4615 - val_loss: 0.4296\n",
      "Epoch 14/20\n",
      "363/363 [==============================] - 1s 2ms/step - loss: 0.4547 - val_loss: 0.4233\n",
      "Epoch 15/20\n",
      "363/363 [==============================] - 1s 2ms/step - loss: 0.4488 - val_loss: 0.4175\n",
      "Epoch 16/20\n",
      "363/363 [==============================] - 1s 2ms/step - loss: 0.4435 - val_loss: 0.4123\n",
      "Epoch 17/20\n",
      "363/363 [==============================] - 1s 2ms/step - loss: 0.4389 - val_loss: 0.4071\n",
      "Epoch 18/20\n",
      "363/363 [==============================] - 1s 2ms/step - loss: 0.4347 - val_loss: 0.4037\n",
      "Epoch 19/20\n",
      "363/363 [==============================] - 1s 2ms/step - loss: 0.4306 - val_loss: 0.4000\n",
      "Epoch 20/20\n",
      "363/363 [==============================] - 1s 2ms/step - loss: 0.4273 - val_loss: 0.3969\n",
      "162/162 [==============================] - 0s 901us/step - loss: 0.4212\n"
     ]
    }
   ],
   "source": [
    "# 初始化模型，这次输出层只有一个并且没有激活函数\n",
    "# 由于数据噪音较多，所以只使用一层隐含层以防止过拟合\n",
    "model = keras.models.Sequential([\n",
    "    keras.layers.Dense(30, activation=\"relu\", input_shape=X_train.shape[1:]),\n",
    "    keras.layers.Dense(1)\n",
    "])\n",
    "# 模型编译，注意这次的loss函数变为mean_squared_error\n",
    "model.compile(loss=\"mean_squared_error\", optimizer=keras.optimizers.SGD(learning_rate=1e-3))\n",
    "# 训练模型\n",
    "history = model.fit(X_train, y_train, epochs=20, validation_data=(X_valid, y_valid))\n",
    "# 评估模型\n",
    "mse_test = model.evaluate(X_test, y_test)\n",
    "X_new = X_test[:3]\n",
    "# 使用模型预测\n",
    "y_pred = model.predict(X_new)"
   ]
  },
  {
   "cell_type": "code",
   "execution_count": 39,
   "id": "a8f203b2-200f-4164-9f2a-b28a2e6cc219",
   "metadata": {
    "tags": []
   },
   "outputs": [
    {
     "data": {
      "image/png": "[encoded data removed]",
      "text/plain": [
       "<Figure size 432x288 with 1 Axes>"
      ]
     },
     "metadata": {
      "needs_background": "light"
     },
     "output_type": "display_data"
    }
   ],
   "source": [
    "# 画一下子学习曲线\n",
    "plt.plot(pd.DataFrame(history.history))\n",
    "plt.grid(True)\n",
    "plt.gca().set_ylim(0, 1)\n",
    "plt.show()"
   ]
  },
  {
   "cell_type": "markdown",
   "id": "be336587-a500-4b54-8dfb-e18958edfb06",
   "metadata": {},
   "source": [
    "# 函数式API创建神经网络"
   ]
  },
  {
   "cell_type": "code",
   "execution_count": 40,
   "id": "078c8a96-7879-4064-ad31-e7c228205f57",
   "metadata": {},
   "outputs": [],
   "source": [
    "np.random.seed(42)\n",
    "tf.random.set_seed(42)"
   ]
  },
  {
   "cell_type": "code",
   "execution_count": null,
   "id": "3e17fee0-b31e-4bbd-a9ed-529f01834d38",
   "metadata": {},
   "outputs": [],
   "source": [
    "input_ = keras.layers.Input(shape=X_train.shape[1:])\n",
    "# 这既是为什么叫函数式了，直接使用函数调用的方式来连接各个layer\n",
    "# 这行的意思是input_输入层输出到hidden1隐含层中\n",
    "hidden1 = keras.layers.Dense(30, activation=\"relu\")(input_)\n",
    "hidden2 = keras.layers.Dense(30, activation=\"relu\")(hidden1)\n",
    "concat = keras.layers.concatenate([input_, hidden2])\n",
    "output = keras.layers.Dense(1)(concat)\n",
    "model = keras.models.Model(inputs=[input_], outputs=[output])"
   ]
  }
 ],
 "metadata": {
  "kernelspec": {
   "display_name": "tensorflow_venv",
   "language": "python",
   "name": "tenserflow_venv"
  },
  "language_info": {
   "codemirror_mode": {
    "name": "ipython",
    "version": 3
   },
   "file_extension": ".py",
   "mimetype": "text/x-python",
   "name": "python",
   "nbconvert_exporter": "python",
   "pygments_lexer": "ipython3",
   "version": "3.9.11"
  }
 },
 "nbformat": 4,
 "nbformat_minor": 5
}
