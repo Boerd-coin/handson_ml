{
 "cells": [
  {
   "cell_type": "markdown",
   "id": "02304a42-5482-48b0-8583-65c8044a753b",
   "metadata": {},
   "source": [
    "# 全局设置"
   ]
  },
  {
   "cell_type": "code",
   "execution_count": 1,
   "id": "a663df8f-2844-4b9d-bd84-7a65e7a9d95f",
   "metadata": {
    "jupyter": {
     "source_hidden": true
    },
    "tags": []
   },
   "outputs": [],
   "source": [
    "# 导入包并且确保包的版本符合要求\n",
    "import sys\n",
    "import sklearn\n",
    "import numpy as np\n",
    "import os\n",
    "import matplotlib as mpl\n",
    "import matplotlib.pyplot as plt\n",
    "\n",
    "assert sys.version_info >= (3, 5)\n",
    "assert sklearn.__version__ >= \"0.20\"\n",
    "\n",
    "# 配置全局绘图设置\n",
    "%matplotlib widget\n",
    "mpl.rc('axes', labelsize=14)\n",
    "mpl.rc('xtick', labelsize=12)\n",
    "mpl.rc('ytick', labelsize=12)\n",
    "\n",
    "# 保存图片的位置\n",
    "PROJECT_ROOT_DIR = \".\"\n",
    "CHAPTER_ID = \"end_to_end_project\"\n",
    "IMAGES_PATH = os.path.join(PROJECT_ROOT_DIR, \"images\", CHAPTER_ID)\n",
    "# 如果项目文件夹不存在，就创建一个\n",
    "os.makedirs(IMAGES_PATH, exist_ok = True)\n",
    "\n",
    "# 将图片保存到指定位置\n",
    "def save_fig(fig, fig_id, tight_layout=True, fig_extension=\"png\", dpi=300):\n",
    "    '''\n",
    "    将图片保存到指定位置\n",
    "    \n",
    "    :param fig: 当前图片的Figure对象；\n",
    "    :param fig_id: 保存的文件名；\n",
    "    :param tight_layout: 是否使用tight layout，默认是True\n",
    "    :param fig_extension: 图片的扩展名，默认是'png'\n",
    "    :param resolution: 图片的像素点个数\n",
    "    :return:\n",
    "    '''\n",
    "    path = os.path.join(IMAGES_PATH, fig_id + \".\" + fig_extension)\n",
    "    fig.set_tight_layout(tight_layout)\n",
    "    fig.savefig(path, format=fig_extension, dpi=dpi)\n",
    "    print('图片已保存', fig_id)"
   ]
  },
  {
   "cell_type": "markdown",
   "id": "51bea863-845b-464a-a259-8c0e79078503",
   "metadata": {},
   "source": [
    "# 获取数据"
   ]
  },
  {
   "cell_type": "markdown",
   "id": "807d025c-d98f-48ae-a29a-0d9b81407927",
   "metadata": {},
   "source": [
    "## 下载数据"
   ]
  },
  {
   "cell_type": "code",
   "execution_count": 2,
   "id": "41ab8457-a99f-424d-b2d6-5bb37fe22eab",
   "metadata": {},
   "outputs": [
    {
     "name": "stdout",
     "output_type": "stream",
     "text": [
      "https://raw.githubusercontent.com/ageron/handson-ml2/master/datasets/housing/housing.tgz\n"
     ]
    }
   ],
   "source": [
    "import tarfile\n",
    "import urllib.request\n",
    "\n",
    "DOWNLOAD_ROOT = \"https://raw.githubusercontent.com/ageron/handson-ml2/master/\"\n",
    "HOUSING_PATH = os.path.join(\"datasets\", \"housing\")\n",
    "HOUSING_URL = DOWNLOAD_ROOT + \"datasets/housing/housing.tgz\"\n",
    "\n",
    "# 将线上数据文件保存到本地，记得连vpn\n",
    "def fetch_housing_data(housing_url=HOUSING_URL, housing_path=HOUSING_PATH):\n",
    "    '''\n",
    "    将线上数据文件保存到本地\n",
    "    在本地创建一个housing_path文件夹，其中放置了housing_url指向的housing.tgz文件\n",
    "    然后将其中内容解压到housing_path文件夹中\n",
    "    \n",
    "    :param housing_url: 线上数据压缩包地址\n",
    "    :param housing_path: 用来存放压缩包和解压后数据的本地地址；\n",
    "    :return:\n",
    "    '''\n",
    "    if not os.path.isdir(housing_path):\n",
    "        os.makedirs(housing_path)\n",
    "    \n",
    "    # 将线上数据压缩包下载到本地文件夹中\n",
    "    tgz_path = os.path.join(housing_path, \"housing.tgz\")\n",
    "    print(housing_url)\n",
    "    urllib.request.urlretrieve(housing_url, tgz_path)\n",
    "    # 将数据压缩包解压，可以获得housing.csv文件\n",
    "    housing_tgz = tarfile.open(tgz_path)\n",
    "    housing_tgz.extractall(path=housing_path)\n",
    "    housing_tgz.close()\n",
    "    \n",
    "fetch_housing_data()"
   ]
  }
 ],
 "metadata": {
  "kernelspec": {
   "display_name": "Python 3 (ipykernel)",
   "language": "python",
   "name": "python3"
  },
  "language_info": {
   "codemirror_mode": {
    "name": "ipython",
    "version": 3
   },
   "file_extension": ".py",
   "mimetype": "text/x-python",
   "name": "python",
   "nbconvert_exporter": "python",
   "pygments_lexer": "ipython3",
   "version": "3.8.12"
  }
 },
 "nbformat": 4,
 "nbformat_minor": 5
}
